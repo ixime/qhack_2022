{
 "cells": [
  {
   "cell_type": "markdown",
   "id": "cccbf22e-4122-4fbd-824e-3855b92d78d3",
   "metadata": {},
   "source": [
    "## 1st variant\n",
    "### Dynamic Bayesian Network Structure Learning with hybrid network = (classic) encoder + (quantum) circuit.\n",
    "This is a toy example with dummy generated training data of 7 variables, that means 14 vertices (7 for t and 7 for t+1).    \n",
    "input=(1,14)\n",
    "n_qubits=2 * ceil(log2(2 * nnodes)) -> for nnodes = 7, n_qubits = 8    \n",
    "where first four digits correspond to vertice where the edge begins and four last digits correspond to vertice where edge ends i.e. 00100101 corresponds to: vertice_2 ---> vertice_5  \n",
    "It was tested with two sets of test data at the end of the notebook. The last test is with real data\n"
   ]
  },
  {
   "cell_type": "code",
   "execution_count": 1,
   "id": "4fe290df-09b7-4a29-bd7e-34fa55c76265",
   "metadata": {},
   "outputs": [],
   "source": [
    "import pandas as pd\n",
    "from torch.utils.data import Dataset\n",
    "import torch\n",
    "import torchvision\n",
    "from torch import nn\n",
    "import numpy as np\n",
    "import pennylane as qml\n",
    "import random\n",
    "import networkx as nx\n",
    "from matplotlib import pyplot as plt"
   ]
  },
  {
   "cell_type": "code",
   "execution_count": 40,
   "id": "7b05bca8-d337-43cd-967c-986ced4e5106",
   "metadata": {},
   "outputs": [],
   "source": [
    "path = \"smaller_elu.csv\""
   ]
  },
  {
   "cell_type": "code",
   "execution_count": 41,
   "id": "1b7242c6-01bf-4b49-90e6-89ae769c8bd9",
   "metadata": {},
   "outputs": [
    {
     "data": {
      "text/html": [
       "<div>\n",
       "<style scoped>\n",
       "    .dataframe tbody tr th:only-of-type {\n",
       "        vertical-align: middle;\n",
       "    }\n",
       "\n",
       "    .dataframe tbody tr th {\n",
       "        vertical-align: top;\n",
       "    }\n",
       "\n",
       "    .dataframe thead th {\n",
       "        text-align: right;\n",
       "    }\n",
       "</style>\n",
       "<table border=\"1\" class=\"dataframe\">\n",
       "  <thead>\n",
       "    <tr style=\"text-align: right;\">\n",
       "      <th></th>\n",
       "      <th>NAME</th>\n",
       "      <th>T</th>\n",
       "      <th>GENE</th>\n",
       "      <th>t0</th>\n",
       "      <th>t1</th>\n",
       "    </tr>\n",
       "  </thead>\n",
       "  <tbody>\n",
       "    <tr>\n",
       "      <th>0</th>\n",
       "      <td>YER111C</td>\n",
       "      <td>0</td>\n",
       "      <td>SWI4</td>\n",
       "      <td>0.32</td>\n",
       "      <td>0.04</td>\n",
       "    </tr>\n",
       "    <tr>\n",
       "      <th>1</th>\n",
       "      <td>YBL008W</td>\n",
       "      <td>0</td>\n",
       "      <td>HIR1</td>\n",
       "      <td>0.38</td>\n",
       "      <td>-0.08</td>\n",
       "    </tr>\n",
       "    <tr>\n",
       "      <th>2</th>\n",
       "      <td>YNL068C</td>\n",
       "      <td>0</td>\n",
       "      <td>FKH2</td>\n",
       "      <td>-0.29</td>\n",
       "      <td>0.05</td>\n",
       "    </tr>\n",
       "    <tr>\n",
       "      <th>3</th>\n",
       "      <td>YLR103C</td>\n",
       "      <td>0</td>\n",
       "      <td>CDC45</td>\n",
       "      <td>0.59</td>\n",
       "      <td>0.77</td>\n",
       "    </tr>\n",
       "    <tr>\n",
       "      <th>4</th>\n",
       "      <td>YDR310C</td>\n",
       "      <td>0</td>\n",
       "      <td>SUM1</td>\n",
       "      <td>-0.09</td>\n",
       "      <td>-0.03</td>\n",
       "    </tr>\n",
       "    <tr>\n",
       "      <th>...</th>\n",
       "      <td>...</td>\n",
       "      <td>...</td>\n",
       "      <td>...</td>\n",
       "      <td>...</td>\n",
       "      <td>...</td>\n",
       "    </tr>\n",
       "    <tr>\n",
       "      <th>58</th>\n",
       "      <td>YDR310C</td>\n",
       "      <td>8</td>\n",
       "      <td>SUM1</td>\n",
       "      <td>0.25</td>\n",
       "      <td>0.23</td>\n",
       "    </tr>\n",
       "    <tr>\n",
       "      <th>59</th>\n",
       "      <td>YLR229C</td>\n",
       "      <td>8</td>\n",
       "      <td>CDC42</td>\n",
       "      <td>0.33</td>\n",
       "      <td>0.04</td>\n",
       "    </tr>\n",
       "    <tr>\n",
       "      <th>60</th>\n",
       "      <td>YNL068C</td>\n",
       "      <td>8</td>\n",
       "      <td>FKH2</td>\n",
       "      <td>0.48</td>\n",
       "      <td>0.11</td>\n",
       "    </tr>\n",
       "    <tr>\n",
       "      <th>61</th>\n",
       "      <td>YDR146C</td>\n",
       "      <td>8</td>\n",
       "      <td>SWI5</td>\n",
       "      <td>0.61</td>\n",
       "      <td>0.29</td>\n",
       "    </tr>\n",
       "    <tr>\n",
       "      <th>62</th>\n",
       "      <td>YLR103C</td>\n",
       "      <td>8</td>\n",
       "      <td>CDC45</td>\n",
       "      <td>-0.59</td>\n",
       "      <td>-0.14</td>\n",
       "    </tr>\n",
       "  </tbody>\n",
       "</table>\n",
       "<p>63 rows × 5 columns</p>\n",
       "</div>"
      ],
      "text/plain": [
       "       NAME  T   GENE    t0    t1\n",
       "0   YER111C  0   SWI4  0.32  0.04\n",
       "1   YBL008W  0   HIR1  0.38 -0.08\n",
       "2   YNL068C  0   FKH2 -0.29  0.05\n",
       "3   YLR103C  0  CDC45  0.59  0.77\n",
       "4   YDR310C  0   SUM1 -0.09 -0.03\n",
       "..      ... ..    ...   ...   ...\n",
       "58  YDR310C  8   SUM1  0.25  0.23\n",
       "59  YLR229C  8  CDC42  0.33  0.04\n",
       "60  YNL068C  8   FKH2  0.48  0.11\n",
       "61  YDR146C  8   SWI5  0.61  0.29\n",
       "62  YLR103C  8  CDC45 -0.59 -0.14\n",
       "\n",
       "[63 rows x 5 columns]"
      ]
     },
     "execution_count": 41,
     "metadata": {},
     "output_type": "execute_result"
    }
   ],
   "source": [
    "ds = pd.read_csv(path)\n",
    "ds"
   ]
  },
  {
   "cell_type": "code",
   "execution_count": 42,
   "id": "852a057b-7f1d-4ff0-905c-2226868a554f",
   "metadata": {},
   "outputs": [],
   "source": [
    "ds['t0'] = ds.apply(lambda x: x.t1 if pd.isna(x.t0) else x.t0, axis = 1)\n",
    "ds['t1'] = ds.apply(lambda x: x.t0 if pd.isna(x.t1) else x.t1, axis = 1)"
   ]
  },
  {
   "cell_type": "code",
   "execution_count": 43,
   "id": "b71561a9-572f-47f3-ac76-5d3ae2f5191b",
   "metadata": {},
   "outputs": [
    {
     "data": {
      "text/html": [
       "<div>\n",
       "<style scoped>\n",
       "    .dataframe tbody tr th:only-of-type {\n",
       "        vertical-align: middle;\n",
       "    }\n",
       "\n",
       "    .dataframe tbody tr th {\n",
       "        vertical-align: top;\n",
       "    }\n",
       "\n",
       "    .dataframe thead th {\n",
       "        text-align: right;\n",
       "    }\n",
       "</style>\n",
       "<table border=\"1\" class=\"dataframe\">\n",
       "  <thead>\n",
       "    <tr style=\"text-align: right;\">\n",
       "      <th></th>\n",
       "      <th>NAME</th>\n",
       "      <th>T</th>\n",
       "      <th>GENE</th>\n",
       "      <th>t0</th>\n",
       "      <th>t1</th>\n",
       "    </tr>\n",
       "  </thead>\n",
       "  <tbody>\n",
       "  </tbody>\n",
       "</table>\n",
       "</div>"
      ],
      "text/plain": [
       "Empty DataFrame\n",
       "Columns: [NAME, T, GENE, t0, t1]\n",
       "Index: []"
      ]
     },
     "execution_count": 43,
     "metadata": {},
     "output_type": "execute_result"
    }
   ],
   "source": [
    "ds[ds['t0'].isnull()]"
   ]
  },
  {
   "cell_type": "code",
   "execution_count": 44,
   "id": "17c1182e-f743-473d-8093-3fac01a90952",
   "metadata": {},
   "outputs": [
    {
     "data": {
      "text/html": [
       "<div>\n",
       "<style scoped>\n",
       "    .dataframe tbody tr th:only-of-type {\n",
       "        vertical-align: middle;\n",
       "    }\n",
       "\n",
       "    .dataframe tbody tr th {\n",
       "        vertical-align: top;\n",
       "    }\n",
       "\n",
       "    .dataframe thead th {\n",
       "        text-align: right;\n",
       "    }\n",
       "</style>\n",
       "<table border=\"1\" class=\"dataframe\">\n",
       "  <thead>\n",
       "    <tr style=\"text-align: right;\">\n",
       "      <th></th>\n",
       "      <th>NAME</th>\n",
       "      <th>T</th>\n",
       "      <th>GENE</th>\n",
       "      <th>t0</th>\n",
       "      <th>t1</th>\n",
       "    </tr>\n",
       "  </thead>\n",
       "  <tbody>\n",
       "  </tbody>\n",
       "</table>\n",
       "</div>"
      ],
      "text/plain": [
       "Empty DataFrame\n",
       "Columns: [NAME, T, GENE, t0, t1]\n",
       "Index: []"
      ]
     },
     "execution_count": 44,
     "metadata": {},
     "output_type": "execute_result"
    }
   ],
   "source": [
    "ds[ds['t1'].isnull()]"
   ]
  },
  {
   "cell_type": "code",
   "execution_count": null,
   "id": "28b97c4d-a5fb-4830-8150-0378bbd49993",
   "metadata": {},
   "outputs": [],
   "source": [
    "nnodes = 7\n",
    "ds = ds.sort_values(by=['T', 'NAME'])\n",
    "t01_list = [ds[['t0','t1']].iloc[f*nnodes:(f+1)*nnodes].values.T for f in range(len(ds)//nnodes)]\n",
    "dst = pd.DataFrame({'T':range(len(ds)//nnodes), 't01':t01_list})\n",
    "dst\n",
    "nodes_names = {f:ds[['NAME']].iloc[0:nnodes].values[f][0] for f in range(nnodes)}\n",
    "nodes_genes = {f:ds[['GENE']].iloc[0:nnodes].values[f][0] for f in range(nnodes)}"
   ]
  },
  {
   "cell_type": "code",
   "execution_count": 4,
   "id": "923fe197-fa4d-413f-a6c5-7be771c4c453",
   "metadata": {},
   "outputs": [],
   "source": [
    "scale = np.frompyfunc(lambda x, min, max: (x-min)/(max - min), 3, 1)\n",
    "\n",
    "def get_edges(n=4):\n",
    "    num_edges = random.randint(n, n+3)\n",
    "    e1 = [(random.randint(0, n-1),random.randint(0, (n*2)-1)) for f in range(num_edges//2)]\n",
    "    e2 = [(random.randint(0, (n*2)-1),random.randint(n, (n*2)-1)) for f in range(num_edges//2)]\n",
    "    return e1 + e2\n",
    "\n",
    "def get_t0(edges, weights, n=4):\n",
    "    t0 = np.zeros(n) + 0.01\n",
    "    edges0 = [edge for i in range(n) for edge in edges if edge[0] == i and edge[1] < n]\n",
    "    if len(edges0) > 0:\n",
    "        t0[edges0[0][0]] = random.random()\n",
    "        for edge in edges0:\n",
    "            t0[edge[1]] += weights[edge[0]] + weights[edge[1]] * t0[edge[0]]\n",
    "    return t0\n",
    "        \n",
    "def get_t1(edges, weights, t0, n=4):\n",
    "    t1 = np.zeros(n) + 0.01\n",
    "    edges1 = [edge for edge in edges if edge[1] >= n]\n",
    "    for edge in edges1:\n",
    "        if edge[0] < n:\n",
    "            t1[edge[1]-n] += weights[edge[0]] + weights[edge[1]-n] * t0[edge[0]]\n",
    "        else:\n",
    "            t1[edge[1]-n] += weights[edge[0]-n] + weights[edge[1]-n] * t1[edge[0]-n]\n",
    "    return t1"
   ]
  },
  {
   "cell_type": "code",
   "execution_count": 5,
   "id": "5bb17627-1079-48af-9fc5-82f64d00c542",
   "metadata": {},
   "outputs": [],
   "source": [
    "# generate training dataset\n",
    "exper = 1000\n",
    "n_qubits = 8\n",
    "arr_list = []\n",
    "edges_list = []\n",
    "for f in range(exper):\n",
    "    weights = [random.randint(1, 10)/10 for f in range(nnodes)]\n",
    "    edges = get_edges(n = nnodes)\n",
    "    t0 = get_t0(edges, weights, n = nnodes)\n",
    "    t1 = get_t1(edges, weights, t0, n = nnodes)\n",
    "    arr_list.append(scale(np.stack([t0,t1]),np.min(np.stack([t0,t1])), np.max(np.stack([t0,t1]))).astype(float))\n",
    "    edges_list.append(edges)\n",
    "arr = np.concatenate(arr_list, axis=1)"
   ]
  },
  {
   "cell_type": "code",
   "execution_count": null,
   "id": "4f2cd7d3-aca0-428b-9dc6-b69553130ffe",
   "metadata": {},
   "outputs": [],
   "source": []
  },
  {
   "cell_type": "code",
   "execution_count": 6,
   "id": "9021ae7a-b9de-488c-b527-066da15313fb",
   "metadata": {},
   "outputs": [
    {
     "data": {
      "text/html": [
       "<div>\n",
       "<style scoped>\n",
       "    .dataframe tbody tr th:only-of-type {\n",
       "        vertical-align: middle;\n",
       "    }\n",
       "\n",
       "    .dataframe tbody tr th {\n",
       "        vertical-align: top;\n",
       "    }\n",
       "\n",
       "    .dataframe thead th {\n",
       "        text-align: right;\n",
       "    }\n",
       "</style>\n",
       "<table border=\"1\" class=\"dataframe\">\n",
       "  <thead>\n",
       "    <tr style=\"text-align: right;\">\n",
       "      <th></th>\n",
       "      <th>t01</th>\n",
       "    </tr>\n",
       "  </thead>\n",
       "  <tbody>\n",
       "    <tr>\n",
       "      <th>0</th>\n",
       "      <td>[[0.0, 0.0, 0.44642497351592586, 0.0], [0.0, 0...</td>\n",
       "    </tr>\n",
       "    <tr>\n",
       "      <th>1</th>\n",
       "      <td>[[0.15974199112048665, 0.0, 0.0, 0.95742322252...</td>\n",
       "    </tr>\n",
       "    <tr>\n",
       "      <th>2</th>\n",
       "      <td>[[0.40794278644235415, 0.0, 0.0854039600410711...</td>\n",
       "    </tr>\n",
       "    <tr>\n",
       "      <th>3</th>\n",
       "      <td>[[0.4841977144410114, 0.0, 0.3151975656715449,...</td>\n",
       "    </tr>\n",
       "    <tr>\n",
       "      <th>4</th>\n",
       "      <td>[[1.0, 0.711241068116992, 0.0, 0.0], [0.434618...</td>\n",
       "    </tr>\n",
       "    <tr>\n",
       "      <th>...</th>\n",
       "      <td>...</td>\n",
       "    </tr>\n",
       "    <tr>\n",
       "      <th>995</th>\n",
       "      <td>[[0.0, 0.6429950836041315, 0.47288936949244004...</td>\n",
       "    </tr>\n",
       "    <tr>\n",
       "      <th>996</th>\n",
       "      <td>[[0.3089577294550258, 0.520814996503151, 0.0, ...</td>\n",
       "    </tr>\n",
       "    <tr>\n",
       "      <th>997</th>\n",
       "      <td>[[0.3685513077981199, 0.0, 0.0, 1.0], [0.0, 0....</td>\n",
       "    </tr>\n",
       "    <tr>\n",
       "      <th>998</th>\n",
       "      <td>[[0.7116410136035412, 0.6136787804158638, 0.0,...</td>\n",
       "    </tr>\n",
       "    <tr>\n",
       "      <th>999</th>\n",
       "      <td>[[0.0, 0.0, 0.0, 0.9330392023824655], [0.52848...</td>\n",
       "    </tr>\n",
       "  </tbody>\n",
       "</table>\n",
       "<p>1000 rows × 1 columns</p>\n",
       "</div>"
      ],
      "text/plain": [
       "                                                   t01\n",
       "0    [[0.0, 0.0, 0.44642497351592586, 0.0], [0.0, 0...\n",
       "1    [[0.15974199112048665, 0.0, 0.0, 0.95742322252...\n",
       "2    [[0.40794278644235415, 0.0, 0.0854039600410711...\n",
       "3    [[0.4841977144410114, 0.0, 0.3151975656715449,...\n",
       "4    [[1.0, 0.711241068116992, 0.0, 0.0], [0.434618...\n",
       "..                                                 ...\n",
       "995  [[0.0, 0.6429950836041315, 0.47288936949244004...\n",
       "996  [[0.3089577294550258, 0.520814996503151, 0.0, ...\n",
       "997  [[0.3685513077981199, 0.0, 0.0, 1.0], [0.0, 0....\n",
       "998  [[0.7116410136035412, 0.6136787804158638, 0.0,...\n",
       "999  [[0.0, 0.0, 0.0, 0.9330392023824655], [0.52848...\n",
       "\n",
       "[1000 rows x 1 columns]"
      ]
     },
     "execution_count": 6,
     "metadata": {},
     "output_type": "execute_result"
    }
   ],
   "source": [
    "dsa = pd.DataFrame({'t01':arr_list})\n",
    "dsa"
   ]
  },
  {
   "cell_type": "code",
   "execution_count": 7,
   "id": "9f69ccae-043f-4ac4-a38f-6023a33f4810",
   "metadata": {},
   "outputs": [],
   "source": [
    "#int(\"110100010\",2) = 418\n",
    "edges_bin_list = [[np.binary_repr(ed[0], width=n_qubits//2) + np.binary_repr(ed[1], width=n_qubits//2)  for ed in edges] for edges in edges_list]\n",
    "ya_list = [[int(edge,2) for edge in edges] for edges in edges_bin_list]"
   ]
  },
  {
   "cell_type": "code",
   "execution_count": 8,
   "id": "b360df17-7ea7-4bb7-873c-4a3e0ed2d112",
   "metadata": {},
   "outputs": [],
   "source": [
    "dsa['y'] = ya_list"
   ]
  },
  {
   "cell_type": "code",
   "execution_count": 9,
   "id": "e0b4c30b-0265-482e-a99f-cf3356654431",
   "metadata": {},
   "outputs": [
    {
     "data": {
      "text/html": [
       "<div>\n",
       "<style scoped>\n",
       "    .dataframe tbody tr th:only-of-type {\n",
       "        vertical-align: middle;\n",
       "    }\n",
       "\n",
       "    .dataframe tbody tr th {\n",
       "        vertical-align: top;\n",
       "    }\n",
       "\n",
       "    .dataframe thead th {\n",
       "        text-align: right;\n",
       "    }\n",
       "</style>\n",
       "<table border=\"1\" class=\"dataframe\">\n",
       "  <thead>\n",
       "    <tr style=\"text-align: right;\">\n",
       "      <th></th>\n",
       "      <th>t01</th>\n",
       "      <th>y</th>\n",
       "    </tr>\n",
       "  </thead>\n",
       "  <tbody>\n",
       "    <tr>\n",
       "      <th>0</th>\n",
       "      <td>[[0.0, 0.0, 0.44642497351592586, 0.0], [0.0, 0...</td>\n",
       "      <td>[18, 5, 7, 23, 62, 62]</td>\n",
       "    </tr>\n",
       "    <tr>\n",
       "      <th>1</th>\n",
       "      <td>[[0.15974199112048665, 0.0, 0.0, 0.95742322252...</td>\n",
       "      <td>[3, 11, 13, 21, 21, 62]</td>\n",
       "    </tr>\n",
       "    <tr>\n",
       "      <th>2</th>\n",
       "      <td>[[0.40794278644235415, 0.0, 0.0854039600410711...</td>\n",
       "      <td>[12, 16, 21, 62]</td>\n",
       "    </tr>\n",
       "    <tr>\n",
       "      <th>3</th>\n",
       "      <td>[[0.4841977144410114, 0.0, 0.3151975656715449,...</td>\n",
       "      <td>[4, 2, 11, 44, 6, 44]</td>\n",
       "    </tr>\n",
       "    <tr>\n",
       "      <th>4</th>\n",
       "      <td>[[1.0, 0.711241068116992, 0.0, 0.0], [0.434618...</td>\n",
       "      <td>[1, 8, 44, 20]</td>\n",
       "    </tr>\n",
       "    <tr>\n",
       "      <th>...</th>\n",
       "      <td>...</td>\n",
       "      <td>...</td>\n",
       "    </tr>\n",
       "    <tr>\n",
       "      <th>995</th>\n",
       "      <td>[[0.0, 0.6429950836041315, 0.47288936949244004...</td>\n",
       "      <td>[12, 20, 10, 13, 52, 54]</td>\n",
       "    </tr>\n",
       "    <tr>\n",
       "      <th>996</th>\n",
       "      <td>[[0.3089577294550258, 0.520814996503151, 0.0, ...</td>\n",
       "      <td>[11, 7, 1, 63, 44, 14]</td>\n",
       "    </tr>\n",
       "    <tr>\n",
       "      <th>997</th>\n",
       "      <td>[[0.3685513077981199, 0.0, 0.0, 1.0], [0.0, 0....</td>\n",
       "      <td>[11, 3, 29, 15]</td>\n",
       "    </tr>\n",
       "    <tr>\n",
       "      <th>998</th>\n",
       "      <td>[[0.7116410136035412, 0.6136787804158638, 0.0,...</td>\n",
       "      <td>[24, 1, 29, 45]</td>\n",
       "    </tr>\n",
       "    <tr>\n",
       "      <th>999</th>\n",
       "      <td>[[0.0, 0.0, 0.0, 0.9330392023824655], [0.52848...</td>\n",
       "      <td>[27, 15, 36, 55]</td>\n",
       "    </tr>\n",
       "  </tbody>\n",
       "</table>\n",
       "<p>1000 rows × 2 columns</p>\n",
       "</div>"
      ],
      "text/plain": [
       "                                                   t01  \\\n",
       "0    [[0.0, 0.0, 0.44642497351592586, 0.0], [0.0, 0...   \n",
       "1    [[0.15974199112048665, 0.0, 0.0, 0.95742322252...   \n",
       "2    [[0.40794278644235415, 0.0, 0.0854039600410711...   \n",
       "3    [[0.4841977144410114, 0.0, 0.3151975656715449,...   \n",
       "4    [[1.0, 0.711241068116992, 0.0, 0.0], [0.434618...   \n",
       "..                                                 ...   \n",
       "995  [[0.0, 0.6429950836041315, 0.47288936949244004...   \n",
       "996  [[0.3089577294550258, 0.520814996503151, 0.0, ...   \n",
       "997  [[0.3685513077981199, 0.0, 0.0, 1.0], [0.0, 0....   \n",
       "998  [[0.7116410136035412, 0.6136787804158638, 0.0,...   \n",
       "999  [[0.0, 0.0, 0.0, 0.9330392023824655], [0.52848...   \n",
       "\n",
       "                            y  \n",
       "0      [18, 5, 7, 23, 62, 62]  \n",
       "1     [3, 11, 13, 21, 21, 62]  \n",
       "2            [12, 16, 21, 62]  \n",
       "3       [4, 2, 11, 44, 6, 44]  \n",
       "4              [1, 8, 44, 20]  \n",
       "..                        ...  \n",
       "995  [12, 20, 10, 13, 52, 54]  \n",
       "996    [11, 7, 1, 63, 44, 14]  \n",
       "997           [11, 3, 29, 15]  \n",
       "998           [24, 1, 29, 45]  \n",
       "999          [27, 15, 36, 55]  \n",
       "\n",
       "[1000 rows x 2 columns]"
      ]
     },
     "execution_count": 9,
     "metadata": {},
     "output_type": "execute_result"
    }
   ],
   "source": [
    "dsa"
   ]
  },
  {
   "cell_type": "code",
   "execution_count": 10,
   "id": "273c7eac-db47-4309-8867-ca2d4e0c9c33",
   "metadata": {},
   "outputs": [],
   "source": [
    "dev = qml.device(\"default.qubit\", wires=n_qubits)\n",
    "\n",
    "@qml.qnode(dev)\n",
    "def qnode(inputs, weights):\n",
    "    qml.AngleEmbedding(inputs, wires=range(n_qubits))\n",
    "    qml.BasicEntanglerLayers(weights[0], wires=range(n_qubits), rotation=qml.RX)\n",
    "    qml.BasicEntanglerLayers(weights[1], wires=range(n_qubits), rotation=qml.RY)\n",
    "    qml.BasicEntanglerLayers(weights[2], wires=range(n_qubits), rotation=qml.RZ)\n",
    "    return qml.probs(wires=range(n_qubits))"
   ]
  },
  {
   "cell_type": "code",
   "execution_count": 11,
   "id": "2f47ff02-25ec-4042-9a94-14950166c1f8",
   "metadata": {},
   "outputs": [],
   "source": [
    "n_layers = 2\n",
    "weight_shapes = {\"weights\": (3, n_layers, n_qubits)}"
   ]
  },
  {
   "cell_type": "code",
   "execution_count": 12,
   "id": "d7886989-ead6-4015-ba01-5576b2515222",
   "metadata": {},
   "outputs": [],
   "source": [
    "qlayer = qml.qnn.TorchLayer(qnode, weight_shapes)"
   ]
  },
  {
   "cell_type": "code",
   "execution_count": null,
   "id": "f02b0705-528c-4376-96c8-3d2e430cd112",
   "metadata": {},
   "outputs": [],
   "source": []
  },
  {
   "cell_type": "code",
   "execution_count": 13,
   "id": "80bcde37-1753-4bb4-809e-b58a60720dbe",
   "metadata": {},
   "outputs": [],
   "source": [
    "input_size = nnodes * 2\n",
    "hidden_size = input_size - 2\n",
    "code_size = n_qubits\n",
    "encoder_hidden_layer = nn.Linear(\n",
    "            in_features=input_size, out_features=hidden_size\n",
    "        )\n",
    "encoder_output_layer = nn.Linear(\n",
    "            in_features=hidden_size, out_features=code_size\n",
    "        )"
   ]
  },
  {
   "cell_type": "code",
   "execution_count": 14,
   "id": "39e79761-2b08-44b8-acd8-d2fa01c60c8a",
   "metadata": {},
   "outputs": [],
   "source": [
    "layers = [encoder_hidden_layer, encoder_output_layer, qlayer]\n",
    "model = torch.nn.Sequential(*layers)"
   ]
  },
  {
   "cell_type": "code",
   "execution_count": 15,
   "id": "d7828ffc-5fa7-4650-8c9e-fced606562ed",
   "metadata": {},
   "outputs": [],
   "source": [
    "#optimizer = torch.optim.SGD(model.parameters(), lr=0.2)\n",
    "#criterion = torch.nn.L1Loss()\n",
    "optimizer = torch.optim.Adam(model.parameters(), lr=1e-4)\n",
    "criterion = nn.MSELoss()"
   ]
  },
  {
   "cell_type": "code",
   "execution_count": 16,
   "id": "3fc73c0d-0cfd-4c9c-9540-41aacdd522b5",
   "metadata": {},
   "outputs": [],
   "source": [
    "def error(predictions, y):\n",
    "    error = np.sum(abs(y.detach().numpy() - predictions.detach().numpy()))/len(y[0].detach().numpy())\n",
    "    return error"
   ]
  },
  {
   "cell_type": "code",
   "execution_count": 17,
   "id": "2165d66b-9e1b-4c25-bc82-263abf2b37c6",
   "metadata": {},
   "outputs": [],
   "source": [
    "def get_ranks(outputs, y, weighted = False):\n",
    "    rp = np.flip(np.argsort(outputs.detach().numpy()))\n",
    "    if weighted:\n",
    "        a = [np.argwhere(rp == x)[0][1]*outputs.detach().numpy()[0][x]*len(np.nonzero(y.detach().numpy())[1]) for x in np.nonzero(y.detach().numpy())[1]]\n",
    "    else:\n",
    "        a = [np.argwhere(rp == x)[0][1] for x in np.nonzero(y.detach().numpy())[1]]\n",
    "    return a\n",
    "\n",
    "def score(outputs, y, weighted = False):\n",
    "    ly = len(np.nonzero(y.detach().numpy())[1])\n",
    "    lo = len(y[0].detach().numpy())\n",
    "    ranks = get_ranks(outputs, y, weighted)\n",
    "    sr = sum(ranks)\n",
    "    sy = sum(range(ly))\n",
    "    sw = sum(range(lo-ly,lo))\n",
    "    return 1 - (sr - sy)/(sw - sy) "
   ]
  },
  {
   "cell_type": "code",
   "execution_count": 18,
   "id": "906717f6-a32a-44ec-92a8-01624d9e6100",
   "metadata": {},
   "outputs": [],
   "source": [
    "class CustomDataset(Dataset):\n",
    "    def __init__(self, ds, n, q, transform=None):\n",
    "        self.ds_full = ds\n",
    "        self.n = n\n",
    "        self.q = q\n",
    "        self.x_csv = self.ds_full[[\"t01\"]]\n",
    "        self.y_csv = self.ds_full[[\"y\"]]\n",
    "        self.transform = transform\n",
    "\n",
    "    def __len__(self):\n",
    "        return len(self.x_csv)\n",
    "\n",
    "    def __getitem__(self, idx):\n",
    "        x = np.array(self.x_csv.iloc[idx].tolist()[0])\n",
    "        y = np.zeros(2**self.q)\n",
    "        for i in self.y_csv.iloc[idx].tolist()[0]:\n",
    "            #011000 24\n",
    "            y[i] = 1/len(self.y_csv.iloc[idx].tolist()[0])\n",
    "        if self.transform:\n",
    "            x = self.transform(x)\n",
    "            y = self.transform(y)\n",
    "        return x, y"
   ]
  },
  {
   "cell_type": "code",
   "execution_count": 19,
   "id": "9df1b87f-5810-47c4-8dc7-b995c6837287",
   "metadata": {},
   "outputs": [],
   "source": [
    "batch_size = 1\n",
    "transform = torchvision.transforms.Lambda(lambda y: torch.from_numpy(y).float())\n",
    "\n",
    "train_dataset = CustomDataset(dsa, nnodes, n_qubits, transform)\n",
    "\n",
    "train_loader = torch.utils.data.DataLoader(\n",
    "    train_dataset, batch_size=batch_size, shuffle=True, pin_memory=True\n",
    ")\n",
    "\n",
    "test_loader = torch.utils.data.DataLoader(\n",
    "    train_dataset, batch_size=batch_size, shuffle=False\n",
    ")"
   ]
  },
  {
   "cell_type": "code",
   "execution_count": 20,
   "id": "95e2a8df-9c23-4e08-8be1-c0105524d4f4",
   "metadata": {},
   "outputs": [
    {
     "name": "stderr",
     "output_type": "stream",
     "text": [
      "/home/common_user/.local/lib/python3.8/site-packages/torch/autograd/__init__.py:154: UserWarning: Casting complex values to real discards the imaginary part (Triggered internally at  ../aten/src/ATen/native/Copy.cpp:244.)\n",
      "  Variable._execution_engine.run_backward(\n"
     ]
    },
    {
     "name": "stdout",
     "output_type": "stream",
     "text": [
      "epoch : 1/1, loss = 0.003042, error = 0.028115, score = 0.466001, weighted_score = 1.013632\n",
      "CPU times: user 1min 20s, sys: 24.4 ms, total: 1min 20s\n",
      "Wall time: 35.7 s\n"
     ]
    }
   ],
   "source": [
    "%%time\n",
    "epochs = 1\n",
    "for epoch in range(epochs):\n",
    "    loss = 0\n",
    "    err = 0\n",
    "    metr = 0\n",
    "    wmetr = 0\n",
    "    for batch_features, y_batch in train_loader:\n",
    "        batch_features = batch_features.view(-1, input_size)\n",
    "        \n",
    "        optimizer.zero_grad()\n",
    "        \n",
    "        outputs = model(batch_features)\n",
    "        \n",
    "        train_loss = criterion(outputs, y_batch)\n",
    "        \n",
    "        train_loss.backward()\n",
    "        \n",
    "        optimizer.step()\n",
    "        \n",
    "        loss += train_loss.item()\n",
    "    \n",
    "        err += error(outputs, y_batch)\n",
    "\n",
    "        metr += score(outputs, y_batch, False)\n",
    "\n",
    "        wmetr += score(outputs, y_batch, True)\n",
    "\n",
    "    loss = loss / len(train_loader)\n",
    "\n",
    "    err = err / len(train_loader)\n",
    "    \n",
    "    metr = metr / len(train_loader)\n",
    "\n",
    "    wmetr = wmetr / len(train_loader)\n",
    "\n",
    "    print(\"epoch : {}/{}, loss = {:.6f}, error = {:.6f}, score = {:.6f}, weighted_score = {:.6f}\".format(epoch + 1, \n",
    "                                                                                                        epochs, \n",
    "                                                                                                        loss, \n",
    "                                                                                                        err, \n",
    "                                                                                                        metr,\n",
    "                                                                                                        wmetr))"
   ]
  },
  {
   "cell_type": "code",
   "execution_count": null,
   "id": "74044a6b-7b22-43af-a65f-bd2e04eb4314",
   "metadata": {},
   "outputs": [],
   "source": []
  },
  {
   "cell_type": "markdown",
   "id": "411b7216-7b70-4329-9831-01e910e77c73",
   "metadata": {},
   "source": [
    "## testing with generated data"
   ]
  },
  {
   "cell_type": "code",
   "execution_count": 21,
   "id": "c0bc469e-73e7-4221-b7e3-f652be1426b8",
   "metadata": {},
   "outputs": [],
   "source": [
    "# generate Testing dataset\n",
    "exper = 12\n",
    "num_res = 12\n",
    "arr_list = []\n",
    "edges_list = []\n",
    "edges = get_edges(n = nnodes)\n",
    "for f in range(exper):\n",
    "    weights = [random.randint(1, 10)/10 for f in range(nnodes)]\n",
    "    t0 = get_t0(edges, weights, n = nnodes)\n",
    "    t1 = get_t1(edges, weights, t0, n = nnodes)\n",
    "    arr_list.append(scale(np.stack([t0,t1]),np.min(np.stack([t0,t1])), np.max(np.stack([t0,t1]))).astype(float))\n",
    "    edges_list.append(edges)\n",
    "arr = np.concatenate(arr_list, axis=1)"
   ]
  },
  {
   "cell_type": "code",
   "execution_count": 22,
   "id": "dd0c457b-a7e7-4f74-8efe-91ac800c4b4e",
   "metadata": {},
   "outputs": [
    {
     "data": {
      "text/html": [
       "<div>\n",
       "<style scoped>\n",
       "    .dataframe tbody tr th:only-of-type {\n",
       "        vertical-align: middle;\n",
       "    }\n",
       "\n",
       "    .dataframe tbody tr th {\n",
       "        vertical-align: top;\n",
       "    }\n",
       "\n",
       "    .dataframe thead th {\n",
       "        text-align: right;\n",
       "    }\n",
       "</style>\n",
       "<table border=\"1\" class=\"dataframe\">\n",
       "  <thead>\n",
       "    <tr style=\"text-align: right;\">\n",
       "      <th></th>\n",
       "      <th>t01</th>\n",
       "    </tr>\n",
       "  </thead>\n",
       "  <tbody>\n",
       "    <tr>\n",
       "      <th>0</th>\n",
       "      <td>[[0.6431575216701528, 0.052490253632743795, 0....</td>\n",
       "    </tr>\n",
       "    <tr>\n",
       "      <th>1</th>\n",
       "      <td>[[0.7390719952168676, 0.10842613043727307, 0.0...</td>\n",
       "    </tr>\n",
       "    <tr>\n",
       "      <th>2</th>\n",
       "      <td>[[0.421863613014313, 0.0, 0.001267174267697431...</td>\n",
       "    </tr>\n",
       "    <tr>\n",
       "      <th>3</th>\n",
       "      <td>[[0.6547462052924197, 0.19859826010788545, 0.0...</td>\n",
       "    </tr>\n",
       "    <tr>\n",
       "      <th>4</th>\n",
       "      <td>[[0.37838160710082913, 0.12661517585870838, 0....</td>\n",
       "    </tr>\n",
       "    <tr>\n",
       "      <th>5</th>\n",
       "      <td>[[1.0, 0.4424872179569904, 0.0, 0.0], [0.5, 0....</td>\n",
       "    </tr>\n",
       "    <tr>\n",
       "      <th>6</th>\n",
       "      <td>[[0.6301150428578723, 0.5238698405735185, 0.0,...</td>\n",
       "    </tr>\n",
       "    <tr>\n",
       "      <th>7</th>\n",
       "      <td>[[0.5654542694006977, 0.0648907196569223, 0.0,...</td>\n",
       "    </tr>\n",
       "    <tr>\n",
       "      <th>8</th>\n",
       "      <td>[[0.566541163570909, 0.05948190434611036, 0.0,...</td>\n",
       "    </tr>\n",
       "    <tr>\n",
       "      <th>9</th>\n",
       "      <td>[[0.723294788528636, 0.08902292489081969, 0.0,...</td>\n",
       "    </tr>\n",
       "    <tr>\n",
       "      <th>10</th>\n",
       "      <td>[[0.8613391292719553, 0.2557547923253442, 0.0,...</td>\n",
       "    </tr>\n",
       "    <tr>\n",
       "      <th>11</th>\n",
       "      <td>[[0.8785561249188443, 0.3683311424657443, 0.0,...</td>\n",
       "    </tr>\n",
       "  </tbody>\n",
       "</table>\n",
       "</div>"
      ],
      "text/plain": [
       "                                                  t01\n",
       "0   [[0.6431575216701528, 0.052490253632743795, 0....\n",
       "1   [[0.7390719952168676, 0.10842613043727307, 0.0...\n",
       "2   [[0.421863613014313, 0.0, 0.001267174267697431...\n",
       "3   [[0.6547462052924197, 0.19859826010788545, 0.0...\n",
       "4   [[0.37838160710082913, 0.12661517585870838, 0....\n",
       "5   [[1.0, 0.4424872179569904, 0.0, 0.0], [0.5, 0....\n",
       "6   [[0.6301150428578723, 0.5238698405735185, 0.0,...\n",
       "7   [[0.5654542694006977, 0.0648907196569223, 0.0,...\n",
       "8   [[0.566541163570909, 0.05948190434611036, 0.0,...\n",
       "9   [[0.723294788528636, 0.08902292489081969, 0.0,...\n",
       "10  [[0.8613391292719553, 0.2557547923253442, 0.0,...\n",
       "11  [[0.8785561249188443, 0.3683311424657443, 0.0,..."
      ]
     },
     "execution_count": 22,
     "metadata": {},
     "output_type": "execute_result"
    }
   ],
   "source": [
    "dstest = pd.DataFrame({'t01':arr_list})\n",
    "dstest"
   ]
  },
  {
   "cell_type": "code",
   "execution_count": 23,
   "id": "9bda0205-1d40-49e8-a777-2de61b2fac04",
   "metadata": {},
   "outputs": [],
   "source": [
    "#int(\"110100010\",2) = 418\n",
    "edges_bin_list = [[np.binary_repr(ed[0], width=n_qubits//2) + np.binary_repr(ed[1], width=n_qubits//2)  for ed in edges] for edges in edges_list]\n",
    "ya_list = [[int(edge,2) for edge in edges] for edges in edges_bin_list]"
   ]
  },
  {
   "cell_type": "code",
   "execution_count": 24,
   "id": "c46754ac-e692-48f0-ae62-67332c390930",
   "metadata": {},
   "outputs": [
    {
     "data": {
      "text/html": [
       "<div>\n",
       "<style scoped>\n",
       "    .dataframe tbody tr th:only-of-type {\n",
       "        vertical-align: middle;\n",
       "    }\n",
       "\n",
       "    .dataframe tbody tr th {\n",
       "        vertical-align: top;\n",
       "    }\n",
       "\n",
       "    .dataframe thead th {\n",
       "        text-align: right;\n",
       "    }\n",
       "</style>\n",
       "<table border=\"1\" class=\"dataframe\">\n",
       "  <thead>\n",
       "    <tr style=\"text-align: right;\">\n",
       "      <th></th>\n",
       "      <th>t01</th>\n",
       "      <th>y</th>\n",
       "    </tr>\n",
       "  </thead>\n",
       "  <tbody>\n",
       "    <tr>\n",
       "      <th>0</th>\n",
       "      <td>[[0.6431575216701528, 0.052490253632743795, 0....</td>\n",
       "      <td>[8, 8, 12, 37, 61, 13]</td>\n",
       "    </tr>\n",
       "    <tr>\n",
       "      <th>1</th>\n",
       "      <td>[[0.7390719952168676, 0.10842613043727307, 0.0...</td>\n",
       "      <td>[8, 8, 12, 37, 61, 13]</td>\n",
       "    </tr>\n",
       "    <tr>\n",
       "      <th>2</th>\n",
       "      <td>[[0.421863613014313, 0.0, 0.001267174267697431...</td>\n",
       "      <td>[8, 8, 12, 37, 61, 13]</td>\n",
       "    </tr>\n",
       "    <tr>\n",
       "      <th>3</th>\n",
       "      <td>[[0.6547462052924197, 0.19859826010788545, 0.0...</td>\n",
       "      <td>[8, 8, 12, 37, 61, 13]</td>\n",
       "    </tr>\n",
       "    <tr>\n",
       "      <th>4</th>\n",
       "      <td>[[0.37838160710082913, 0.12661517585870838, 0....</td>\n",
       "      <td>[8, 8, 12, 37, 61, 13]</td>\n",
       "    </tr>\n",
       "    <tr>\n",
       "      <th>5</th>\n",
       "      <td>[[1.0, 0.4424872179569904, 0.0, 0.0], [0.5, 0....</td>\n",
       "      <td>[8, 8, 12, 37, 61, 13]</td>\n",
       "    </tr>\n",
       "    <tr>\n",
       "      <th>6</th>\n",
       "      <td>[[0.6301150428578723, 0.5238698405735185, 0.0,...</td>\n",
       "      <td>[8, 8, 12, 37, 61, 13]</td>\n",
       "    </tr>\n",
       "    <tr>\n",
       "      <th>7</th>\n",
       "      <td>[[0.5654542694006977, 0.0648907196569223, 0.0,...</td>\n",
       "      <td>[8, 8, 12, 37, 61, 13]</td>\n",
       "    </tr>\n",
       "    <tr>\n",
       "      <th>8</th>\n",
       "      <td>[[0.566541163570909, 0.05948190434611036, 0.0,...</td>\n",
       "      <td>[8, 8, 12, 37, 61, 13]</td>\n",
       "    </tr>\n",
       "    <tr>\n",
       "      <th>9</th>\n",
       "      <td>[[0.723294788528636, 0.08902292489081969, 0.0,...</td>\n",
       "      <td>[8, 8, 12, 37, 61, 13]</td>\n",
       "    </tr>\n",
       "    <tr>\n",
       "      <th>10</th>\n",
       "      <td>[[0.8613391292719553, 0.2557547923253442, 0.0,...</td>\n",
       "      <td>[8, 8, 12, 37, 61, 13]</td>\n",
       "    </tr>\n",
       "    <tr>\n",
       "      <th>11</th>\n",
       "      <td>[[0.8785561249188443, 0.3683311424657443, 0.0,...</td>\n",
       "      <td>[8, 8, 12, 37, 61, 13]</td>\n",
       "    </tr>\n",
       "  </tbody>\n",
       "</table>\n",
       "</div>"
      ],
      "text/plain": [
       "                                                  t01                       y\n",
       "0   [[0.6431575216701528, 0.052490253632743795, 0....  [8, 8, 12, 37, 61, 13]\n",
       "1   [[0.7390719952168676, 0.10842613043727307, 0.0...  [8, 8, 12, 37, 61, 13]\n",
       "2   [[0.421863613014313, 0.0, 0.001267174267697431...  [8, 8, 12, 37, 61, 13]\n",
       "3   [[0.6547462052924197, 0.19859826010788545, 0.0...  [8, 8, 12, 37, 61, 13]\n",
       "4   [[0.37838160710082913, 0.12661517585870838, 0....  [8, 8, 12, 37, 61, 13]\n",
       "5   [[1.0, 0.4424872179569904, 0.0, 0.0], [0.5, 0....  [8, 8, 12, 37, 61, 13]\n",
       "6   [[0.6301150428578723, 0.5238698405735185, 0.0,...  [8, 8, 12, 37, 61, 13]\n",
       "7   [[0.5654542694006977, 0.0648907196569223, 0.0,...  [8, 8, 12, 37, 61, 13]\n",
       "8   [[0.566541163570909, 0.05948190434611036, 0.0,...  [8, 8, 12, 37, 61, 13]\n",
       "9   [[0.723294788528636, 0.08902292489081969, 0.0,...  [8, 8, 12, 37, 61, 13]\n",
       "10  [[0.8613391292719553, 0.2557547923253442, 0.0,...  [8, 8, 12, 37, 61, 13]\n",
       "11  [[0.8785561249188443, 0.3683311424657443, 0.0,...  [8, 8, 12, 37, 61, 13]"
      ]
     },
     "execution_count": 24,
     "metadata": {},
     "output_type": "execute_result"
    }
   ],
   "source": [
    "dstest['y'] = ya_list\n",
    "dstest"
   ]
  },
  {
   "cell_type": "code",
   "execution_count": 25,
   "id": "2ef5ccaa-fb19-45ad-9132-466dcae514a8",
   "metadata": {},
   "outputs": [],
   "source": [
    "batch_size = 1\n",
    "transform = torchvision.transforms.Lambda(lambda y: torch.from_numpy(y).float())\n",
    "\n",
    "test_dataset = CustomDataset(dstest, nnodes, n_qubits, transform)\n",
    "\n",
    "test_loader = torch.utils.data.DataLoader(\n",
    "    test_dataset, batch_size=batch_size, shuffle=False, pin_memory=True\n",
    ")\n"
   ]
  },
  {
   "cell_type": "code",
   "execution_count": 26,
   "id": "c489aa2d-a486-4e00-9734-a414af924ae2",
   "metadata": {},
   "outputs": [
    {
     "data": {
      "text/plain": [
       "[array([[15, 30, 12,  2,  1, 54, 23, 36, 46, 50, 42, 20, 49, 35, 33, 62,\n",
       "         40, 63, 24, 59, 58, 10, 52, 60, 61, 28, 32,  3, 45,  0, 56, 53,\n",
       "         34, 29, 25, 11, 57, 48, 14, 21, 18, 55, 16, 19,  4,  9, 26, 38,\n",
       "         37, 43, 41,  6, 39, 17, 47,  8,  5, 44, 31, 51, 13, 22, 27,  7]]),\n",
       " array([[15, 30,  2, 12,  1, 54, 36, 23, 46, 50, 42, 49, 20, 33, 35, 62,\n",
       "         40, 63, 24, 59, 58, 10, 52, 28, 60, 61, 32,  3, 45,  0, 56, 53,\n",
       "         29, 34, 11, 25, 57, 48, 14, 21, 18, 16, 55, 19,  4,  9, 37, 38,\n",
       "         26, 43, 41,  6, 39, 47, 17,  8,  5, 31, 44, 13, 51, 22, 27,  7]]),\n",
       " array([[15, 12, 30,  2,  1, 54, 23, 36, 46, 50, 42, 20, 49, 35, 33, 62,\n",
       "         40, 63, 24, 59, 58, 52, 10, 61, 60, 32, 28,  3, 45,  0, 34, 25,\n",
       "         53, 56, 29, 11, 57, 21, 14, 48, 55, 18, 19, 16,  4,  9, 26, 38,\n",
       "         37, 41, 43,  6, 17, 39,  8,  5, 47, 44, 51, 13, 31, 22, 27,  7]]),\n",
       " array([[15, 30, 12,  2,  1, 54, 36, 23, 46, 42, 50, 20, 49, 33, 62, 35,\n",
       "         40, 63, 24, 59, 58, 10, 52, 61, 32, 60, 28,  3, 45,  0, 53, 56,\n",
       "         34, 29, 25, 11, 57, 14, 21, 18, 48, 16, 55, 19,  4,  9, 38, 37,\n",
       "         41, 43, 26,  6, 39, 17, 47,  5,  8, 44, 31, 51, 13, 22, 27,  7]]),\n",
       " array([[15, 12, 30,  2,  1, 54, 36, 23, 46, 42, 50, 20, 35, 49, 33, 62,\n",
       "         40, 24, 63, 58, 59, 52, 10, 61, 32, 60, 28,  3,  0, 34, 45, 53,\n",
       "         25, 56, 29, 11, 57, 21, 18, 14, 55, 19, 48, 16,  4, 41, 38,  9,\n",
       "         37, 43, 26,  6, 17, 39,  8,  5, 44, 47, 51, 31, 13, 22, 27,  7]]),\n",
       " array([[15, 30,  2, 12,  1, 54, 36, 23, 42, 46, 50, 20, 49, 62, 33, 24,\n",
       "         63, 35, 40, 58, 10, 59, 52, 32, 61, 60, 28, 53,  3,  0, 56, 45,\n",
       "         34, 29, 11, 57, 25, 18, 14, 21, 16, 55, 48, 19,  4, 41, 38,  9,\n",
       "         37, 43,  6, 26, 17, 39, 47, 44,  5, 31, 51,  8, 13, 22, 27,  7]]),\n",
       " array([[15, 30, 12,  2,  1, 54, 36, 23, 42, 46, 20, 50, 62, 33, 49, 24,\n",
       "         63, 35, 40, 10, 58, 52, 59, 32, 61, 53,  3, 60,  0, 28, 56, 34,\n",
       "         45, 29, 25, 11, 18, 57, 21, 14, 16, 19,  4, 55, 41, 48, 38, 37,\n",
       "          6,  9, 43, 26, 17, 39, 47, 44,  5, 31, 51,  8, 13, 27, 22,  7]]),\n",
       " array([[15, 30, 12,  2,  1, 54, 23, 36, 46, 50, 42, 20, 49, 35, 33, 62,\n",
       "         40, 63, 24, 59, 58, 10, 52, 61, 60, 32, 28,  3, 45,  0, 34, 53,\n",
       "         56, 29, 25, 11, 57, 21, 48, 14, 18, 55, 16, 19,  4,  9, 38, 26,\n",
       "         37, 43, 41,  6, 39, 17,  8, 47,  5, 44, 51, 31, 13, 22, 27,  7]]),\n",
       " array([[15, 30, 12,  2,  1, 54, 23, 36, 46, 50, 42, 20, 49, 35, 33, 62,\n",
       "         40, 63, 24, 59, 58, 10, 52, 61, 60, 32, 28,  3, 45,  0, 34, 53,\n",
       "         56, 29, 25, 11, 57, 21, 48, 14, 18, 55, 16, 19,  4,  9, 38, 26,\n",
       "         37, 43, 41,  6, 39, 17,  8, 47,  5, 44, 51, 31, 13, 22, 27,  7]]),\n",
       " array([[15, 30,  2, 12,  1, 54, 23, 36, 46, 50, 42, 49, 20, 33, 35, 62,\n",
       "         40, 63, 24, 59, 58, 10, 52, 60, 28, 61, 32,  3, 45,  0, 56, 53,\n",
       "         29, 34, 11, 25, 57, 48, 14, 21, 18, 16, 55, 19,  4,  9, 37, 38,\n",
       "         26, 43, 41,  6, 39, 47, 17,  8,  5, 31, 44, 13, 51, 22, 27,  7]]),\n",
       " array([[15, 30,  2, 12,  1, 54, 36, 23, 46, 42, 50, 20, 49, 33, 62, 35,\n",
       "         63, 40, 24, 59, 10, 58, 52, 28, 60, 61, 32,  3, 45, 53, 56,  0,\n",
       "         29, 34, 11, 57, 25, 14, 48, 16, 18, 21, 55,  4, 19,  9, 37, 38,\n",
       "         41, 43,  6, 26, 39, 47, 17, 31,  5,  8, 44, 13, 51, 22, 27,  7]]),\n",
       " array([[15, 30,  2, 12,  1, 54, 36, 23, 42, 46, 50, 20, 49, 33, 62, 63,\n",
       "         35, 40, 24, 59, 10, 58, 52, 28, 32, 60, 61,  3, 53, 56, 45,  0,\n",
       "         29, 34, 11, 57, 25, 14, 18, 16, 21, 48, 55,  4, 19,  9, 37, 38,\n",
       "         41, 43,  6, 26, 39, 47, 17, 31,  5, 44,  8, 51, 13, 22, 27,  7]])]"
      ]
     },
     "execution_count": 26,
     "metadata": {},
     "output_type": "execute_result"
    }
   ],
   "source": [
    "experiments = []\n",
    "outputs_list = []\n",
    "for batch_features, _ in test_loader:\n",
    "    batch_features = batch_features.view(-1, input_size)\n",
    "    batch_features\n",
    "    outputs = model(batch_features)\n",
    "    outputs_list.append(outputs)\n",
    "    experiments.append(np.flip(np.argsort(outputs.detach().numpy())))\n",
    "experiments"
   ]
  },
  {
   "cell_type": "code",
   "execution_count": 27,
   "id": "36319c70-b92e-4b8e-89b7-7efa450711f0",
   "metadata": {},
   "outputs": [],
   "source": [
    "ol = [o.detach().numpy() for o in outputs_list]"
   ]
  },
  {
   "cell_type": "code",
   "execution_count": 28,
   "id": "76686185-53c6-422d-998b-21698bdf2721",
   "metadata": {},
   "outputs": [],
   "source": [
    "results_list = np.mean(np.array(ol), axis=0)\n",
    "norm_results_list = scale(results_list, np.min(results_list), np.max(results_list)).astype(float)\n",
    "results = np.flip(np.argsort(results_list))"
   ]
  },
  {
   "cell_type": "code",
   "execution_count": 29,
   "id": "5488e082-0700-40c9-9758-ec4950fa563e",
   "metadata": {},
   "outputs": [
    {
     "data": {
      "text/plain": [
       "(0.6886959, 0.008357874)"
      ]
     },
     "execution_count": 29,
     "metadata": {},
     "output_type": "execute_result"
    }
   ],
   "source": [
    "np.max(sum(outputs_list).detach().numpy()),np.min(sum(outputs_list).detach().numpy())"
   ]
  },
  {
   "cell_type": "code",
   "execution_count": 30,
   "id": "c3b04220-6bed-4f81-ab66-1213cee03663",
   "metadata": {},
   "outputs": [],
   "source": [
    "results_bin = [np.binary_repr(f, width=n_qubits) for f in results.tolist()[0]]"
   ]
  },
  {
   "cell_type": "code",
   "execution_count": 31,
   "id": "60941a76-d501-467c-8f1c-ce5f0ae7b703",
   "metadata": {},
   "outputs": [],
   "source": [
    "results_weights = [norm_results_list[0][results[0][i]] for i in range(len(results[0]))]"
   ]
  },
  {
   "cell_type": "code",
   "execution_count": 32,
   "id": "c488e98d-f1d0-4904-b95f-a9dbd3a18f5d",
   "metadata": {},
   "outputs": [
    {
     "data": {
      "text/plain": [
       "([15, 30, 12, 2, 1, 54, 36, 23, 46, 42, 50, 20], [8, 8, 12, 37, 61, 13])"
      ]
     },
     "execution_count": 32,
     "metadata": {},
     "output_type": "execute_result"
    }
   ],
   "source": [
    "results.tolist()[0][:num_res], ya_list[0]"
   ]
  },
  {
   "cell_type": "code",
   "execution_count": 33,
   "id": "768dd797-acac-48f8-b479-bc38518f68bb",
   "metadata": {},
   "outputs": [
    {
     "data": {
      "text/plain": [
       "['001111',\n",
       " '011110',\n",
       " '001100',\n",
       " '000010',\n",
       " '000001',\n",
       " '110110',\n",
       " '100100',\n",
       " '010111',\n",
       " '101110',\n",
       " '101010',\n",
       " '110010',\n",
       " '010100']"
      ]
     },
     "execution_count": 33,
     "metadata": {},
     "output_type": "execute_result"
    }
   ],
   "source": [
    "results_bin[:num_res]"
   ]
  },
  {
   "cell_type": "code",
   "execution_count": null,
   "id": "1ee34261-a841-41fb-b786-2fd176c75b22",
   "metadata": {},
   "outputs": [],
   "source": [
    "#number of parameters\n",
    "model_parameters = filter(lambda p: p.requires_grad, model.parameters())\n",
    "sum([np.prod(p.size()) for p in model_parameters])"
   ]
  },
  {
   "cell_type": "code",
   "execution_count": 34,
   "id": "83ac1c58-6d9c-4eea-b209-9a533faea06a",
   "metadata": {},
   "outputs": [],
   "source": [
    "def get_edges_array(n_qubits,y):\n",
    "    arr = [np.binary_repr(f, width=n_qubits) for f in y]\n",
    "    return [(int(f[:n_qubits//2],2), int(f[n_qubits//2:],2)) for f in arr]"
   ]
  },
  {
   "cell_type": "code",
   "execution_count": 35,
   "id": "d6973482-111e-41ce-84f6-dd464fac1e26",
   "metadata": {},
   "outputs": [],
   "source": [
    "y_edges = get_edges_array(n_qubits,ya_list[0]) \n",
    "p_edges = get_edges_array(n_qubits,results.tolist()[0][:num_res]) \n",
    "p_weights = results_weights[:num_res]"
   ]
  },
  {
   "cell_type": "code",
   "execution_count": 36,
   "id": "f5cfb381-ebdd-427c-ac85-46582620f920",
   "metadata": {},
   "outputs": [
    {
     "data": {
      "image/png": "[encoded data removed]",
      "text/plain": [
       "<Figure size 432x288 with 2 Axes>"
      ]
     },
     "metadata": {},
     "output_type": "display_data"
    }
   ],
   "source": [
    "graph_y = None\n",
    "graph_p = None\n",
    "\n",
    "graph_y = nx.DiGraph()\n",
    "graph_p = nx.DiGraph()\n",
    "\n",
    "graph_y.add_nodes_from(range(nnodes*2))\n",
    "graph_p.add_nodes_from(range(nnodes*2))\n",
    "\n",
    "graph_y.add_edges_from(y_edges)\n",
    "graph_p.add_edges_from(p_edges)\n",
    "\n",
    "mapping = {0: \"a0\", 1: \"b0\", 2: \"c0\", 3: \"d0\", 4: \"e0\", 5: \"f0\", 6: \"g0\", 7: \"a1\", 8: \"b1\", 9: \"c1\", \n",
    "           10: \"d1\", 11: \"e1\", 12: \"f1\", 13: \"g1\"}\n",
    "\n",
    "graph_y = nx.relabel_nodes(graph_y, mapping, copy=False)\n",
    "graph_p = nx.relabel_nodes(graph_p, mapping, copy=False)\n",
    "\n",
    "#pos = nx.shell_layout(graph_y, nlist=[range(nnodes),range(nnodes,nnodes*2)], rotate=0.1, center=(1,5))\n",
    "pos = nx.bipartite_layout(graph_y, nodes=['a0','b0','c0','d0', 'e0', 'f0', 'g0'])\n",
    "\n",
    "subax1 = plt.subplot(121)\n",
    "nx.draw(graph_y, pos, node_color='c', edge_color='k', width=5.0, edge_cmap=plt.cm.Blues, with_labels=True)\n",
    "\n",
    "subax2 = plt.subplot(122)\n",
    "nx.draw(graph_p, pos, node_color='c', edge_color=p_weights, width=5.0, edge_cmap=plt.cm.Blues, with_labels=True)\n",
    "plt.show()"
   ]
  },
  {
   "cell_type": "code",
   "execution_count": null,
   "id": "e1d931f2-2f35-456c-b9db-b62bfadd152d",
   "metadata": {},
   "outputs": [],
   "source": []
  },
  {
   "cell_type": "markdown",
   "id": "1acba833-ae9e-4be4-8a7d-ce5866a3c675",
   "metadata": {},
   "source": [
    "## testing with real data"
   ]
  },
  {
   "cell_type": "code",
   "execution_count": null,
   "id": "bda4a212-7d92-4e50-9c92-1828b78f513c",
   "metadata": {},
   "outputs": [],
   "source": [
    "batch_size = 1\n",
    "transform = torchvision.transforms.Lambda(lambda y: torch.from_numpy(y).float())\n",
    "\n",
    "test_dataset = CustomDataset(dst, nnodes, n_qubits, transform)\n",
    "\n",
    "test_loader = torch.utils.data.DataLoader(\n",
    "    test_dataset, batch_size=batch_size, shuffle=False, pin_memory=True\n",
    ")\n"
   ]
  },
  {
   "cell_type": "code",
   "execution_count": null,
   "id": "87c586e6-50eb-464c-a0db-ca24951c204c",
   "metadata": {},
   "outputs": [],
   "source": [
    "experiments = []\n",
    "outputs_list = []\n",
    "for batch_features, _ in test_loader:\n",
    "    batch_features = batch_features.view(-1, input_size)\n",
    "    batch_features\n",
    "    outputs = model(batch_features)\n",
    "    outputs_list.append(outputs)\n",
    "    experiments.append(np.flip(np.argsort(outputs.detach().numpy())))\n",
    "experiments"
   ]
  },
  {
   "cell_type": "code",
   "execution_count": null,
   "id": "1d7534b4-3c91-4eaa-b869-05f67919969c",
   "metadata": {},
   "outputs": [],
   "source": [
    "ol = [o.detach().numpy() for o in outputs_list]"
   ]
  },
  {
   "cell_type": "code",
   "execution_count": null,
   "id": "04a5e6b1-eb3b-4160-8f71-e45451ba55e2",
   "metadata": {},
   "outputs": [],
   "source": [
    "results_list = np.mean(np.array(ol), axis=0)\n",
    "norm_results_list = scale(results_list, np.min(results_list), np.max(results_list)).astype(float)\n",
    "results = np.flip(np.argsort(results_list))"
   ]
  },
  {
   "cell_type": "code",
   "execution_count": null,
   "id": "53958f66-a958-42dd-b7c9-a21822280e26",
   "metadata": {},
   "outputs": [],
   "source": [
    "np.max(sum(outputs_list).detach().numpy()),np.min(sum(outputs_list).detach().numpy())"
   ]
  },
  {
   "cell_type": "code",
   "execution_count": null,
   "id": "b11e3e34-b931-49d0-90b2-fcd6709e4b9a",
   "metadata": {},
   "outputs": [],
   "source": [
    "results_bin = [np.binary_repr(f, width=n_qubits) for f in results.tolist()[0]]"
   ]
  },
  {
   "cell_type": "code",
   "execution_count": null,
   "id": "ee248510-d7ec-4553-affa-d651bc6df43d",
   "metadata": {},
   "outputs": [],
   "source": [
    "results_weights = [norm_results_list[0][results[0][i]] for i in range(len(results[0]))]"
   ]
  },
  {
   "cell_type": "code",
   "execution_count": null,
   "id": "58ad87fe-a1fd-43e3-a307-43d797c7800f",
   "metadata": {},
   "outputs": [],
   "source": [
    "results.tolist()[0][:num_res]"
   ]
  },
  {
   "cell_type": "code",
   "execution_count": null,
   "id": "833563bd-11eb-4c93-8171-eff684eaa421",
   "metadata": {},
   "outputs": [],
   "source": [
    "results_bin[:num_res]"
   ]
  },
  {
   "cell_type": "code",
   "execution_count": null,
   "id": "4c7b0326-be30-4540-857d-22b19b98b89c",
   "metadata": {},
   "outputs": [],
   "source": [
    "p_edges = get_edges_array(n_qubits,results.tolist()[0][:num_res]) \n",
    "p_weights = results_weights[:num_res]"
   ]
  },
  {
   "cell_type": "code",
   "execution_count": null,
   "id": "80a31d60-d4a1-4958-b0b4-f02b997dc0a9",
   "metadata": {},
   "outputs": [],
   "source": [
    "graph_p = None\n",
    "graph_p2 = None\n",
    "\n",
    "graph_p = nx.DiGraph()\n",
    "graph_p2 = nx.DiGraph()\n",
    "\n",
    "graph_p.add_nodes_from(range(nnodes*2))\n",
    "graph_p2.add_nodes_from(range(nnodes*2))\n",
    "\n",
    "graph_p.add_edges_from(p_edges)\n",
    "graph_p2.add_edges_from(p_edges)\n",
    "\n",
    "rnodes = [v + '_t0' for _, v in nodes_names.items()]\n",
    "rgenes = [v + '_t0' for _, v in genes_names.items()]\n",
    "\n",
    "nodes_names.update({k:v + '_t0' for k, v in nodes_names.items()})\n",
    "nodes_names.update({k + len(nodes_names):v[:-1] + '1' for k, v in nodes_names.items()})\n",
    "\n",
    "genes_names.update({k:v + '_t0' for k, v in genes_names.items()})\n",
    "genes_names.update({k + len(genes_names):v[:-1] + '1' for k, v in genes_names.items()})\n",
    "\n",
    "graph_p = nx.relabel_nodes(graph_p, nodes_names, copy=False)\n",
    "graph_p2 = nx.relabel_nodes(graph_p2, genes_names, copy=False)\n",
    "\n",
    "#pos = nx.shell_layout(graph_y, nlist=[range(nnodes),range(nnodes,nnodes*2)], rotate=0.1, center=(1,5))\n",
    "pos = nx.bipartite_layout(graph_p, nodes=rnodes)\n",
    "pos2 = nx.bipartite_layout(graph_p2, nodes=rgenes)\n",
    "\n",
    "subax1 = plt.subplot(121)\n",
    "nx.draw(graph_p, pos, node_color='c', edge_color=p_weights, width=5.0, edge_cmap=plt.cm.Blues, with_labels=True)\n",
    "\n",
    "subax2 = plt.subplot(122)\n",
    "nx.draw(graph_p2, pos2, node_color='c', edge_color=p_weights, width=5.0, edge_cmap=plt.cm.Blues, with_labels=True)\n",
    "plt.show()"
   ]
  }
 ],
 "metadata": {
  "kernelspec": {
   "display_name": "Python 3 (ipykernel)",
   "language": "python",
   "name": "python3"
  },
  "language_info": {
   "codemirror_mode": {
    "name": "ipython",
    "version": 3
   },
   "file_extension": ".py",
   "mimetype": "text/x-python",
   "name": "python",
   "nbconvert_exporter": "python",
   "pygments_lexer": "ipython3",
   "version": "3.8.10"
  }
 },
 "nbformat": 4,
 "nbformat_minor": 5
}
