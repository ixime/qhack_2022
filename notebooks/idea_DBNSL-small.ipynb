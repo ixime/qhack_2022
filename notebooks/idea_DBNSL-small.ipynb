{
 "cells": [
  {
   "cell_type": "markdown",
   "id": "7390d541",
   "metadata": {},
   "source": [
    "## 1st variant\n",
    "### Dynamic Bayesian Network Structure Learning with hybrid network = (classic) encoder + (quantum) circuit.\n",
    "This is an example with real test data and dummy generated training data of 24 variables, that means 48 vertices (24 for t and 24 for t+1).    \n",
    "input=(1,48)\n",
    "n_qubits=2 * ceil(log2(2 * nnodes)) -> for nnodes = 24, n_qubits = 12    \n",
    "where first six digits correspond to vertice where the edge begins and six last digits correspond to vertice where edge ends i.e. 000010000101 corresponds to: vertice_2 ---> vertice_5  \n",
    "It was tested with two sets of test data at the end of the notebook. The last test is with real data\n"
   ]
  },
  {
   "cell_type": "code",
   "execution_count": 131,
   "id": "f92a1e03",
   "metadata": {},
   "outputs": [
    {
     "name": "stdout",
     "output_type": "stream",
     "text": [
      "Looking in links: https://download.pytorch.org/whl/cpu/torch_stable.html\n",
      "Requirement already satisfied: torch==1.10.2+cpu in /home/ec2-user/anaconda3/envs/Braket/lib/python3.7/site-packages (1.10.2+cpu)\n",
      "Requirement already satisfied: torchvision==0.11.3+cpu in /home/ec2-user/anaconda3/envs/Braket/lib/python3.7/site-packages (0.11.3+cpu)\n",
      "Requirement already satisfied: typing-extensions in /home/ec2-user/anaconda3/envs/Braket/lib/python3.7/site-packages (from torch==1.10.2+cpu) (3.7.4.3)\n",
      "Requirement already satisfied: pillow!=8.3.0,>=5.3.0 in /home/ec2-user/anaconda3/envs/Braket/lib/python3.7/site-packages (from torchvision==0.11.3+cpu) (9.0.1)\n",
      "Requirement already satisfied: numpy in /home/ec2-user/anaconda3/envs/Braket/lib/python3.7/site-packages (from torchvision==0.11.3+cpu) (1.19.2)\n"
     ]
    }
   ],
   "source": [
    "! pip3 install torch==1.10.2+cpu torchvision==0.11.3+cpu -f https://download.pytorch.org/whl/cpu/torch_stable.html\n",
    "import pandas as pd\n",
    "from torch.utils.data import Dataset\n",
    "import torch\n",
    "import torchvision\n",
    "from torch import nn\n",
    "import numpy as np\n",
    "import pennylane as qml\n",
    "import random\n",
    "import networkx as nx\n",
    "from matplotlib import pyplot as plt"
   ]
  },
  {
   "cell_type": "code",
   "execution_count": 149,
   "id": "90d88d27",
   "metadata": {},
   "outputs": [],
   "source": [
    "path = \"small_elu.csv\""
   ]
  },
  {
   "cell_type": "code",
   "execution_count": 165,
   "id": "e6ea5e35",
   "metadata": {},
   "outputs": [
    {
     "data": {
      "text/html": [
       "<div>\n",
       "<style scoped>\n",
       "    .dataframe tbody tr th:only-of-type {\n",
       "        vertical-align: middle;\n",
       "    }\n",
       "\n",
       "    .dataframe tbody tr th {\n",
       "        vertical-align: top;\n",
       "    }\n",
       "\n",
       "    .dataframe thead th {\n",
       "        text-align: right;\n",
       "    }\n",
       "</style>\n",
       "<table border=\"1\" class=\"dataframe\">\n",
       "  <thead>\n",
       "    <tr style=\"text-align: right;\">\n",
       "      <th></th>\n",
       "      <th>NAME</th>\n",
       "      <th>T</th>\n",
       "      <th>GENE</th>\n",
       "      <th>t0</th>\n",
       "      <th>t1</th>\n",
       "    </tr>\n",
       "  </thead>\n",
       "  <tbody>\n",
       "    <tr>\n",
       "      <th>0</th>\n",
       "      <td>YAL013W</td>\n",
       "      <td>0</td>\n",
       "      <td>DEP1</td>\n",
       "      <td>0.00</td>\n",
       "      <td>-0.23</td>\n",
       "    </tr>\n",
       "    <tr>\n",
       "      <th>1</th>\n",
       "      <td>YMR039C</td>\n",
       "      <td>0</td>\n",
       "      <td>SUB1</td>\n",
       "      <td>-0.10</td>\n",
       "      <td>-0.35</td>\n",
       "    </tr>\n",
       "    <tr>\n",
       "      <th>2</th>\n",
       "      <td>YDR207C</td>\n",
       "      <td>0</td>\n",
       "      <td>UME6</td>\n",
       "      <td>0.01</td>\n",
       "      <td>-0.19</td>\n",
       "    </tr>\n",
       "    <tr>\n",
       "      <th>3</th>\n",
       "      <td>YLR295C</td>\n",
       "      <td>0</td>\n",
       "      <td>ATP14</td>\n",
       "      <td>0.10</td>\n",
       "      <td>-0.05</td>\n",
       "    </tr>\n",
       "    <tr>\n",
       "      <th>4</th>\n",
       "      <td>YDR310C</td>\n",
       "      <td>0</td>\n",
       "      <td>SUM1</td>\n",
       "      <td>-0.09</td>\n",
       "      <td>-0.03</td>\n",
       "    </tr>\n",
       "    <tr>\n",
       "      <th>...</th>\n",
       "      <td>...</td>\n",
       "      <td>...</td>\n",
       "      <td>...</td>\n",
       "      <td>...</td>\n",
       "      <td>...</td>\n",
       "    </tr>\n",
       "    <tr>\n",
       "      <th>211</th>\n",
       "      <td>YLR229C</td>\n",
       "      <td>8</td>\n",
       "      <td>CDC42</td>\n",
       "      <td>0.33</td>\n",
       "      <td>0.04</td>\n",
       "    </tr>\n",
       "    <tr>\n",
       "      <th>212</th>\n",
       "      <td>YLR295C</td>\n",
       "      <td>8</td>\n",
       "      <td>ATP14</td>\n",
       "      <td>0.10</td>\n",
       "      <td>-0.10</td>\n",
       "    </tr>\n",
       "    <tr>\n",
       "      <th>213</th>\n",
       "      <td>YMR039C</td>\n",
       "      <td>8</td>\n",
       "      <td>SUB1</td>\n",
       "      <td>0.33</td>\n",
       "      <td>0.12</td>\n",
       "    </tr>\n",
       "    <tr>\n",
       "      <th>214</th>\n",
       "      <td>YGL167C</td>\n",
       "      <td>8</td>\n",
       "      <td>PMR1</td>\n",
       "      <td>-0.19</td>\n",
       "      <td>-0.13</td>\n",
       "    </tr>\n",
       "    <tr>\n",
       "      <th>215</th>\n",
       "      <td>YPL031C</td>\n",
       "      <td>8</td>\n",
       "      <td>PHO85</td>\n",
       "      <td>0.13</td>\n",
       "      <td>0.04</td>\n",
       "    </tr>\n",
       "  </tbody>\n",
       "</table>\n",
       "<p>216 rows × 5 columns</p>\n",
       "</div>"
      ],
      "text/plain": [
       "        NAME  T   GENE    t0    t1\n",
       "0    YAL013W  0   DEP1  0.00 -0.23\n",
       "1    YMR039C  0   SUB1 -0.10 -0.35\n",
       "2    YDR207C  0   UME6  0.01 -0.19\n",
       "3    YLR295C  0  ATP14  0.10 -0.05\n",
       "4    YDR310C  0   SUM1 -0.09 -0.03\n",
       "..       ... ..    ...   ...   ...\n",
       "211  YLR229C  8  CDC42  0.33  0.04\n",
       "212  YLR295C  8  ATP14  0.10 -0.10\n",
       "213  YMR039C  8   SUB1  0.33  0.12\n",
       "214  YGL167C  8   PMR1 -0.19 -0.13\n",
       "215  YPL031C  8  PHO85  0.13  0.04\n",
       "\n",
       "[216 rows x 5 columns]"
      ]
     },
     "execution_count": 165,
     "metadata": {},
     "output_type": "execute_result"
    }
   ],
   "source": [
    "ds = pd.read_csv(path)\n",
    "ds"
   ]
  },
  {
   "cell_type": "code",
   "execution_count": 166,
   "id": "c0e34285",
   "metadata": {},
   "outputs": [],
   "source": [
    "nnodes = 24\n",
    "ds = ds.sort_values(by=['T', 'NAME'])\n",
    "t01_list = [ds[['t0','t1']].iloc[f*nnodes:(f+1)*nnodes].values.T for f in range(len(ds)//nnodes)]\n",
    "dst = pd.DataFrame({'T':range(len(ds)//nnodes), 't01':t01_list})\n",
    "dst\n",
    "nodes_names = {f:ds[['NAME']].iloc[0:nnodes].values[f][0] for f in range(nnodes)}\n",
    "nodes_genes = {f:ds[['GENE']].iloc[0:nnodes].values[f][0] for f in range(nnodes)}"
   ]
  },
  {
   "cell_type": "code",
   "execution_count": 167,
   "id": "357ab11e",
   "metadata": {},
   "outputs": [
    {
     "data": {
      "text/html": [
       "<div>\n",
       "<style scoped>\n",
       "    .dataframe tbody tr th:only-of-type {\n",
       "        vertical-align: middle;\n",
       "    }\n",
       "\n",
       "    .dataframe tbody tr th {\n",
       "        vertical-align: top;\n",
       "    }\n",
       "\n",
       "    .dataframe thead th {\n",
       "        text-align: right;\n",
       "    }\n",
       "</style>\n",
       "<table border=\"1\" class=\"dataframe\">\n",
       "  <thead>\n",
       "    <tr style=\"text-align: right;\">\n",
       "      <th></th>\n",
       "      <th>T</th>\n",
       "      <th>t01</th>\n",
       "      <th>y</th>\n",
       "    </tr>\n",
       "  </thead>\n",
       "  <tbody>\n",
       "    <tr>\n",
       "      <th>0</th>\n",
       "      <td>0</td>\n",
       "      <td>[[0.0, 0.38, -0.78, 0.01, -0.09, -0.27, 0.32, ...</td>\n",
       "      <td>(0, 1, 2, 3)</td>\n",
       "    </tr>\n",
       "    <tr>\n",
       "      <th>1</th>\n",
       "      <td>1</td>\n",
       "      <td>[[-0.23, -0.08, -0.85, -0.19, -0.03, -0.1, 0.0...</td>\n",
       "      <td>(0, 1, 2, 3)</td>\n",
       "    </tr>\n",
       "    <tr>\n",
       "      <th>2</th>\n",
       "      <td>2</td>\n",
       "      <td>[[0.0, 0.05, -0.07, -0.21, 0.36, -0.02, -0.08,...</td>\n",
       "      <td>(0, 1, 2, 3)</td>\n",
       "    </tr>\n",
       "    <tr>\n",
       "      <th>3</th>\n",
       "      <td>3</td>\n",
       "      <td>[[0.21, 0.28, 0.51, -0.21, 0.3, 0.02, 0.08, 0....</td>\n",
       "      <td>(0, 1, 2, 3)</td>\n",
       "    </tr>\n",
       "    <tr>\n",
       "      <th>4</th>\n",
       "      <td>4</td>\n",
       "      <td>[[-0.02, -0.34, 0.64, 0.22, 0.19, 0.15, -0.08,...</td>\n",
       "      <td>(0, 1, 2, 3)</td>\n",
       "    </tr>\n",
       "    <tr>\n",
       "      <th>5</th>\n",
       "      <td>5</td>\n",
       "      <td>[[-0.02, -0.07, 0.6, 0.15, 0.3, 0.34, -0.15, -...</td>\n",
       "      <td>(0, 1, 2, 3)</td>\n",
       "    </tr>\n",
       "    <tr>\n",
       "      <th>6</th>\n",
       "      <td>6</td>\n",
       "      <td>[[-0.33, -0.05, 0.58, -0.13, -0.23, -0.24, -0....</td>\n",
       "      <td>(0, 1, 2, 3)</td>\n",
       "    </tr>\n",
       "    <tr>\n",
       "      <th>7</th>\n",
       "      <td>7</td>\n",
       "      <td>[[0.03, -0.25, 0.62, -0.45, 0.22, 0.07, 0.1, -...</td>\n",
       "      <td>(0, 1, 2, 3)</td>\n",
       "    </tr>\n",
       "    <tr>\n",
       "      <th>8</th>\n",
       "      <td>8</td>\n",
       "      <td>[[-0.23, -0.2, 0.61, -0.64, 0.25, 0.19, 0.1, -...</td>\n",
       "      <td>(0, 1, 2, 3)</td>\n",
       "    </tr>\n",
       "  </tbody>\n",
       "</table>\n",
       "</div>"
      ],
      "text/plain": [
       "   T                                                t01             y\n",
       "0  0  [[0.0, 0.38, -0.78, 0.01, -0.09, -0.27, 0.32, ...  (0, 1, 2, 3)\n",
       "1  1  [[-0.23, -0.08, -0.85, -0.19, -0.03, -0.1, 0.0...  (0, 1, 2, 3)\n",
       "2  2  [[0.0, 0.05, -0.07, -0.21, 0.36, -0.02, -0.08,...  (0, 1, 2, 3)\n",
       "3  3  [[0.21, 0.28, 0.51, -0.21, 0.3, 0.02, 0.08, 0....  (0, 1, 2, 3)\n",
       "4  4  [[-0.02, -0.34, 0.64, 0.22, 0.19, 0.15, -0.08,...  (0, 1, 2, 3)\n",
       "5  5  [[-0.02, -0.07, 0.6, 0.15, 0.3, 0.34, -0.15, -...  (0, 1, 2, 3)\n",
       "6  6  [[-0.33, -0.05, 0.58, -0.13, -0.23, -0.24, -0....  (0, 1, 2, 3)\n",
       "7  7  [[0.03, -0.25, 0.62, -0.45, 0.22, 0.07, 0.1, -...  (0, 1, 2, 3)\n",
       "8  8  [[-0.23, -0.2, 0.61, -0.64, 0.25, 0.19, 0.1, -...  (0, 1, 2, 3)"
      ]
     },
     "execution_count": 167,
     "metadata": {},
     "output_type": "execute_result"
    }
   ],
   "source": [
    "dst['y'] = [range(4) for i in range(9)]\n",
    "dst"
   ]
  },
  {
   "cell_type": "code",
   "execution_count": 136,
   "id": "6ecfbf0c",
   "metadata": {},
   "outputs": [],
   "source": [
    "scale = np.frompyfunc(lambda x, min, max: (x-min)/(max - min), 3, 1)\n",
    "\n",
    "def get_edges(n=4):\n",
    "    num_edges = random.randint(n, n+3)\n",
    "    e1 = [(random.randint(0, n-1),random.randint(0, (n*2)-1)) for f in range(num_edges//2)]\n",
    "    e2 = [(random.randint(0, (n*2)-1),random.randint(n, (n*2)-1)) for f in range(num_edges//2)]\n",
    "    return e1 + e2\n",
    "\n",
    "def get_t0(edges, weights, n=4):\n",
    "    t0 = np.zeros(n) + 0.01\n",
    "    edges0 = [edge for i in range(n) for edge in edges if edge[0] == i and edge[1] < n]\n",
    "    if len(edges0) > 0:\n",
    "        t0[edges0[0][0]] = random.random()\n",
    "        for edge in edges0:\n",
    "            t0[edge[1]] += weights[edge[0]] + weights[edge[1]] * t0[edge[0]]\n",
    "    return t0\n",
    "        \n",
    "def get_t1(edges, weights, t0, n=4):\n",
    "    t1 = np.zeros(n) + 0.01\n",
    "    edges1 = [edge for edge in edges if edge[1] >= n]\n",
    "    for edge in edges1:\n",
    "        if edge[0] < n:\n",
    "            t1[edge[1]-n] += weights[edge[0]] + weights[edge[1]-n] * t0[edge[0]]\n",
    "        else:\n",
    "            t1[edge[1]-n] += weights[edge[0]-n] + weights[edge[1]-n] * t1[edge[0]-n]\n",
    "    return t1"
   ]
  },
  {
   "cell_type": "code",
   "execution_count": 137,
   "id": "b1b82af1",
   "metadata": {},
   "outputs": [],
   "source": [
    "# generate training dataset\n",
    "exper = 1000\n",
    "n_qubits = 12\n",
    "arr_list = []\n",
    "edges_list = []\n",
    "for f in range(exper):\n",
    "    weights = [random.randint(1, 10)/10 for f in range(nnodes)]\n",
    "    edges = get_edges(n = nnodes)\n",
    "    t0 = get_t0(edges, weights, n = nnodes)\n",
    "    t1 = get_t1(edges, weights, t0, n = nnodes)\n",
    "    arr_list.append(scale(np.stack([t0,t1]),np.min(np.stack([t0,t1])), np.max(np.stack([t0,t1]))).astype(float))\n",
    "    edges_list.append(edges)\n",
    "arr = np.concatenate(arr_list, axis=1)"
   ]
  },
  {
   "cell_type": "code",
   "execution_count": null,
   "id": "7e96fcc4",
   "metadata": {},
   "outputs": [],
   "source": []
  },
  {
   "cell_type": "code",
   "execution_count": 60,
   "id": "6bc3f66f",
   "metadata": {},
   "outputs": [
    {
     "data": {
      "text/html": [
       "<div>\n",
       "<style scoped>\n",
       "    .dataframe tbody tr th:only-of-type {\n",
       "        vertical-align: middle;\n",
       "    }\n",
       "\n",
       "    .dataframe tbody tr th {\n",
       "        vertical-align: top;\n",
       "    }\n",
       "\n",
       "    .dataframe thead th {\n",
       "        text-align: right;\n",
       "    }\n",
       "</style>\n",
       "<table border=\"1\" class=\"dataframe\">\n",
       "  <thead>\n",
       "    <tr style=\"text-align: right;\">\n",
       "      <th></th>\n",
       "      <th>t01</th>\n",
       "    </tr>\n",
       "  </thead>\n",
       "  <tbody>\n",
       "    <tr>\n",
       "      <th>0</th>\n",
       "      <td>[[0.0, 0.34450422918632156, 0.0, 0.0, 0.297798...</td>\n",
       "    </tr>\n",
       "    <tr>\n",
       "      <th>1</th>\n",
       "      <td>[[0.09943091402540385, 0.0, 0.0, 0.0, 0.070087...</td>\n",
       "    </tr>\n",
       "    <tr>\n",
       "      <th>2</th>\n",
       "      <td>[[0.0, 0.2772392469399067, 0.7313064913722268,...</td>\n",
       "    </tr>\n",
       "    <tr>\n",
       "      <th>3</th>\n",
       "      <td>[[0.0, 0.10289710289710291, 0.0, 0.21388099179...</td>\n",
       "    </tr>\n",
       "    <tr>\n",
       "      <th>4</th>\n",
       "      <td>[[0.0, 0.0, 0.0, 0.04634040710264184, 0.0, 0.2...</td>\n",
       "    </tr>\n",
       "    <tr>\n",
       "      <th>...</th>\n",
       "      <td>...</td>\n",
       "    </tr>\n",
       "    <tr>\n",
       "      <th>995</th>\n",
       "      <td>[[0.0, 0.0, 0.0, 0.0, 0.0, 0.42881035152195973...</td>\n",
       "    </tr>\n",
       "    <tr>\n",
       "      <th>996</th>\n",
       "      <td>[[0.0, 0.0, 0.0, 0.0, 0.0, 0.0, 0.244031245281...</td>\n",
       "    </tr>\n",
       "    <tr>\n",
       "      <th>997</th>\n",
       "      <td>[[0.0, 0.0, 0.34830765907327454, 0.67769563997...</td>\n",
       "    </tr>\n",
       "    <tr>\n",
       "      <th>998</th>\n",
       "      <td>[[0.0, 0.0, 0.0, 0.34116698601607054, 0.0, 0.0...</td>\n",
       "    </tr>\n",
       "    <tr>\n",
       "      <th>999</th>\n",
       "      <td>[[0.0, 0.0, 0.0, 0.0, 0.0, 0.152508205424065, ...</td>\n",
       "    </tr>\n",
       "  </tbody>\n",
       "</table>\n",
       "<p>1000 rows × 1 columns</p>\n",
       "</div>"
      ],
      "text/plain": [
       "                                                   t01\n",
       "0    [[0.0, 0.34450422918632156, 0.0, 0.0, 0.297798...\n",
       "1    [[0.09943091402540385, 0.0, 0.0, 0.0, 0.070087...\n",
       "2    [[0.0, 0.2772392469399067, 0.7313064913722268,...\n",
       "3    [[0.0, 0.10289710289710291, 0.0, 0.21388099179...\n",
       "4    [[0.0, 0.0, 0.0, 0.04634040710264184, 0.0, 0.2...\n",
       "..                                                 ...\n",
       "995  [[0.0, 0.0, 0.0, 0.0, 0.0, 0.42881035152195973...\n",
       "996  [[0.0, 0.0, 0.0, 0.0, 0.0, 0.0, 0.244031245281...\n",
       "997  [[0.0, 0.0, 0.34830765907327454, 0.67769563997...\n",
       "998  [[0.0, 0.0, 0.0, 0.34116698601607054, 0.0, 0.0...\n",
       "999  [[0.0, 0.0, 0.0, 0.0, 0.0, 0.152508205424065, ...\n",
       "\n",
       "[1000 rows x 1 columns]"
      ]
     },
     "execution_count": 60,
     "metadata": {},
     "output_type": "execute_result"
    }
   ],
   "source": [
    "dsa = pd.DataFrame({'t01':arr_list})\n",
    "dsa"
   ]
  },
  {
   "cell_type": "code",
   "execution_count": 61,
   "id": "f662db16",
   "metadata": {},
   "outputs": [],
   "source": [
    "#int(\"110100010\",2) = 418\n",
    "edges_bin_list = [[np.binary_repr(ed[0], width=n_qubits//2) + np.binary_repr(ed[1], width=n_qubits//2)  for ed in edges] for edges in edges_list]\n",
    "ya_list = [[int(edge,2) for edge in edges] for edges in edges_bin_list]"
   ]
  },
  {
   "cell_type": "code",
   "execution_count": 62,
   "id": "3dc633ab",
   "metadata": {},
   "outputs": [],
   "source": [
    "dsa['y'] = ya_list"
   ]
  },
  {
   "cell_type": "code",
   "execution_count": 63,
   "id": "3adc0c80",
   "metadata": {},
   "outputs": [
    {
     "data": {
      "text/html": [
       "<div>\n",
       "<style scoped>\n",
       "    .dataframe tbody tr th:only-of-type {\n",
       "        vertical-align: middle;\n",
       "    }\n",
       "\n",
       "    .dataframe tbody tr th {\n",
       "        vertical-align: top;\n",
       "    }\n",
       "\n",
       "    .dataframe thead th {\n",
       "        text-align: right;\n",
       "    }\n",
       "</style>\n",
       "<table border=\"1\" class=\"dataframe\">\n",
       "  <thead>\n",
       "    <tr style=\"text-align: right;\">\n",
       "      <th></th>\n",
       "      <th>t01</th>\n",
       "      <th>y</th>\n",
       "    </tr>\n",
       "  </thead>\n",
       "  <tbody>\n",
       "    <tr>\n",
       "      <th>0</th>\n",
       "      <td>[[0.0, 0.34450422918632156, 0.0, 0.0, 0.297798...</td>\n",
       "      <td>[1196, 1316, 1496, 1426, 1368, 730, 68, 337, 1...</td>\n",
       "    </tr>\n",
       "    <tr>\n",
       "      <th>1</th>\n",
       "      <td>[[0.09943091402540385, 0.0, 0.0, 0.0, 0.070087...</td>\n",
       "      <td>[1119, 1384, 1051, 7, 969, 1259, 478, 40, 474,...</td>\n",
       "    </tr>\n",
       "    <tr>\n",
       "      <th>2</th>\n",
       "      <td>[[0.0, 0.2772392469399067, 0.7313064913722268,...</td>\n",
       "      <td>[1513, 991, 682, 1424, 514, 82, 786, 1492, 489...</td>\n",
       "    </tr>\n",
       "    <tr>\n",
       "      <th>3</th>\n",
       "      <td>[[0.0, 0.10289710289710291, 0.0, 0.21388099179...</td>\n",
       "      <td>[643, 300, 980, 517, 646, 552, 1063, 1302, 871...</td>\n",
       "    </tr>\n",
       "    <tr>\n",
       "      <th>4</th>\n",
       "      <td>[[0.0, 0.0, 0.0, 0.04634040710264184, 0.0, 0.2...</td>\n",
       "      <td>[1378, 91, 1059, 423, 1184, 297, 1432, 1383, 8...</td>\n",
       "    </tr>\n",
       "    <tr>\n",
       "      <th>...</th>\n",
       "      <td>...</td>\n",
       "      <td>...</td>\n",
       "    </tr>\n",
       "    <tr>\n",
       "      <th>995</th>\n",
       "      <td>[[0.0, 0.0, 0.0, 0.0, 0.0, 0.42881035152195973...</td>\n",
       "      <td>[863, 559, 164, 1442, 597, 222, 1173, 345, 115...</td>\n",
       "    </tr>\n",
       "    <tr>\n",
       "      <th>996</th>\n",
       "      <td>[[0.0, 0.0, 0.0, 0.0, 0.0, 0.0, 0.244031245281...</td>\n",
       "      <td>[1054, 1097, 1359, 220, 998, 1363, 393, 94, 10...</td>\n",
       "    </tr>\n",
       "    <tr>\n",
       "      <th>997</th>\n",
       "      <td>[[0.0, 0.0, 0.34830765907327454, 0.67769563997...</td>\n",
       "      <td>[210, 1358, 1455, 1386, 1387, 676, 728, 940, 1...</td>\n",
       "    </tr>\n",
       "    <tr>\n",
       "      <th>998</th>\n",
       "      <td>[[0.0, 0.0, 0.0, 0.34116698601607054, 0.0, 0.0...</td>\n",
       "      <td>[1197, 1059, 585, 1435, 1478, 457, 230, 221, 3...</td>\n",
       "    </tr>\n",
       "    <tr>\n",
       "      <th>999</th>\n",
       "      <td>[[0.0, 0.0, 0.0, 0.0, 0.0, 0.152508205424065, ...</td>\n",
       "      <td>[339, 1133, 1327, 217, 336, 1182, 1043, 1176, ...</td>\n",
       "    </tr>\n",
       "  </tbody>\n",
       "</table>\n",
       "<p>1000 rows × 2 columns</p>\n",
       "</div>"
      ],
      "text/plain": [
       "                                                   t01  \\\n",
       "0    [[0.0, 0.34450422918632156, 0.0, 0.0, 0.297798...   \n",
       "1    [[0.09943091402540385, 0.0, 0.0, 0.0, 0.070087...   \n",
       "2    [[0.0, 0.2772392469399067, 0.7313064913722268,...   \n",
       "3    [[0.0, 0.10289710289710291, 0.0, 0.21388099179...   \n",
       "4    [[0.0, 0.0, 0.0, 0.04634040710264184, 0.0, 0.2...   \n",
       "..                                                 ...   \n",
       "995  [[0.0, 0.0, 0.0, 0.0, 0.0, 0.42881035152195973...   \n",
       "996  [[0.0, 0.0, 0.0, 0.0, 0.0, 0.0, 0.244031245281...   \n",
       "997  [[0.0, 0.0, 0.34830765907327454, 0.67769563997...   \n",
       "998  [[0.0, 0.0, 0.0, 0.34116698601607054, 0.0, 0.0...   \n",
       "999  [[0.0, 0.0, 0.0, 0.0, 0.0, 0.152508205424065, ...   \n",
       "\n",
       "                                                     y  \n",
       "0    [1196, 1316, 1496, 1426, 1368, 730, 68, 337, 1...  \n",
       "1    [1119, 1384, 1051, 7, 969, 1259, 478, 40, 474,...  \n",
       "2    [1513, 991, 682, 1424, 514, 82, 786, 1492, 489...  \n",
       "3    [643, 300, 980, 517, 646, 552, 1063, 1302, 871...  \n",
       "4    [1378, 91, 1059, 423, 1184, 297, 1432, 1383, 8...  \n",
       "..                                                 ...  \n",
       "995  [863, 559, 164, 1442, 597, 222, 1173, 345, 115...  \n",
       "996  [1054, 1097, 1359, 220, 998, 1363, 393, 94, 10...  \n",
       "997  [210, 1358, 1455, 1386, 1387, 676, 728, 940, 1...  \n",
       "998  [1197, 1059, 585, 1435, 1478, 457, 230, 221, 3...  \n",
       "999  [339, 1133, 1327, 217, 336, 1182, 1043, 1176, ...  \n",
       "\n",
       "[1000 rows x 2 columns]"
      ]
     },
     "execution_count": 63,
     "metadata": {},
     "output_type": "execute_result"
    }
   ],
   "source": [
    "dsa"
   ]
  },
  {
   "cell_type": "code",
   "execution_count": 64,
   "id": "ee5e901d",
   "metadata": {},
   "outputs": [],
   "source": [
    "dev = qml.device(\"default.qubit\", wires=n_qubits)\n",
    "\n",
    "@qml.qnode(dev)\n",
    "def qnode(inputs, weights):\n",
    "    qml.AngleEmbedding(inputs, wires=range(n_qubits))\n",
    "    qml.BasicEntanglerLayers(weights[0], wires=range(n_qubits), rotation=qml.RX)\n",
    "    qml.BasicEntanglerLayers(weights[1], wires=range(n_qubits), rotation=qml.RY)\n",
    "    qml.BasicEntanglerLayers(weights[2], wires=range(n_qubits), rotation=qml.RZ)\n",
    "    return qml.probs(wires=range(n_qubits))"
   ]
  },
  {
   "cell_type": "code",
   "execution_count": 65,
   "id": "80e367e3",
   "metadata": {},
   "outputs": [],
   "source": [
    "n_layers = 1\n",
    "weight_shapes = {\"weights\": (3, n_layers, n_qubits)}"
   ]
  },
  {
   "cell_type": "code",
   "execution_count": 66,
   "id": "40bc4fdb",
   "metadata": {},
   "outputs": [],
   "source": [
    "qlayer = qml.qnn.TorchLayer(qnode, weight_shapes)"
   ]
  },
  {
   "cell_type": "code",
   "execution_count": null,
   "id": "1a423708",
   "metadata": {},
   "outputs": [],
   "source": []
  },
  {
   "cell_type": "code",
   "execution_count": 67,
   "id": "90d616da",
   "metadata": {},
   "outputs": [],
   "source": [
    "input_size = nnodes * 2\n",
    "hidden_size = input_size // 2\n",
    "code_size = n_qubits\n",
    "encoder_hidden_layer = nn.Linear(\n",
    "            in_features=input_size, out_features=hidden_size\n",
    "        )\n",
    "encoder_output_layer = nn.Linear(\n",
    "            in_features=hidden_size, out_features=code_size\n",
    "        )"
   ]
  },
  {
   "cell_type": "code",
   "execution_count": 68,
   "id": "14e5b305",
   "metadata": {},
   "outputs": [],
   "source": [
    "layers = [encoder_hidden_layer, encoder_output_layer, qlayer]\n",
    "model = torch.nn.Sequential(*layers)"
   ]
  },
  {
   "cell_type": "code",
   "execution_count": 69,
   "id": "e559734e",
   "metadata": {},
   "outputs": [],
   "source": [
    "#optimizer = torch.optim.SGD(model.parameters(), lr=0.2)\n",
    "#criterion = torch.nn.L1Loss()\n",
    "optimizer = torch.optim.Adam(model.parameters(), lr=1e-4)\n",
    "criterion = nn.MSELoss()"
   ]
  },
  {
   "cell_type": "code",
   "execution_count": 70,
   "id": "c8485a36",
   "metadata": {},
   "outputs": [],
   "source": [
    "def error(predictions, y):\n",
    "    error = np.sum(abs(y.detach().numpy() - predictions.detach().numpy()))/len(y[0].detach().numpy())\n",
    "    return error"
   ]
  },
  {
   "cell_type": "code",
   "execution_count": 71,
   "id": "a6ddc372",
   "metadata": {},
   "outputs": [],
   "source": [
    "def get_ranks(outputs, y, weighted = False):\n",
    "    rp = np.flip(np.argsort(outputs.detach().numpy()))\n",
    "    if weighted:\n",
    "        a = [np.argwhere(rp == x)[0][1]*outputs.detach().numpy()[0][x]*len(np.nonzero(y.detach().numpy())[1]) for x in np.nonzero(y.detach().numpy())[1]]\n",
    "    else:\n",
    "        a = [np.argwhere(rp == x)[0][1] for x in np.nonzero(y.detach().numpy())[1]]\n",
    "    return a\n",
    "\n",
    "def score(outputs, y, weighted = False):\n",
    "    ly = len(np.nonzero(y.detach().numpy())[1])\n",
    "    lo = len(y[0].detach().numpy())\n",
    "    ranks = get_ranks(outputs, y, weighted)\n",
    "    sr = sum(ranks)\n",
    "    sy = sum(range(ly))\n",
    "    sw = sum(range(lo-ly,lo))\n",
    "    return 1 - (sr - sy)/(sw - sy) "
   ]
  },
  {
   "cell_type": "code",
   "execution_count": 72,
   "id": "2e95560a",
   "metadata": {},
   "outputs": [],
   "source": [
    "class CustomDataset(Dataset):\n",
    "    def __init__(self, ds, n, q, transform=None):\n",
    "        self.ds_full = ds\n",
    "        self.n = n\n",
    "        self.q = q\n",
    "        self.x_csv = self.ds_full[[\"t01\"]]\n",
    "        self.y_csv = self.ds_full[[\"y\"]]\n",
    "        self.transform = transform\n",
    "\n",
    "    def __len__(self):\n",
    "        return len(self.x_csv)\n",
    "\n",
    "    def __getitem__(self, idx):\n",
    "        x = np.array(self.x_csv.iloc[idx].tolist()[0])\n",
    "        y = np.zeros(2**self.q)\n",
    "        for i in self.y_csv.iloc[idx].tolist()[0]:\n",
    "            #011000 24\n",
    "            y[i] = 1/len(self.y_csv.iloc[idx].tolist()[0])\n",
    "        if self.transform:\n",
    "            x = self.transform(x)\n",
    "            y = self.transform(y)\n",
    "        return x, y"
   ]
  },
  {
   "cell_type": "code",
   "execution_count": 73,
   "id": "02cca8c3",
   "metadata": {},
   "outputs": [],
   "source": [
    "batch_size = 1\n",
    "transform = torchvision.transforms.Lambda(lambda y: torch.from_numpy(y).float())\n",
    "\n",
    "train_dataset = CustomDataset(dsa, nnodes, n_qubits, transform)\n",
    "\n",
    "train_loader = torch.utils.data.DataLoader(\n",
    "    train_dataset, batch_size=batch_size, shuffle=True, pin_memory=True\n",
    ")\n",
    "\n",
    "test_loader = torch.utils.data.DataLoader(\n",
    "    train_dataset, batch_size=batch_size, shuffle=False\n",
    ")"
   ]
  },
  {
   "cell_type": "code",
   "execution_count": null,
   "id": "97912773",
   "metadata": {},
   "outputs": [
    {
     "name": "stdout",
     "output_type": "stream",
     "text": [
      "epoch : 1/100, loss = 0.000010, error = 0.000483, score = 0.494273, weighted_score = 1.001986\n",
      "epoch : 2/100, loss = 0.000010, error = 0.000483, score = 0.499588, weighted_score = 1.001773\n",
      "epoch : 3/100, loss = 0.000010, error = 0.000483, score = 0.500566, weighted_score = 1.001685\n",
      "epoch : 4/100, loss = 0.000010, error = 0.000483, score = 0.501028, weighted_score = 1.001592\n",
      "epoch : 5/100, loss = 0.000010, error = 0.000483, score = 0.501332, weighted_score = 1.001481\n",
      "epoch : 6/100, loss = 0.000010, error = 0.000483, score = 0.502128, weighted_score = 1.001355\n",
      "epoch : 7/100, loss = 0.000010, error = 0.000483, score = 0.502841, weighted_score = 1.001217\n",
      "epoch : 8/100, loss = 0.000010, error = 0.000483, score = 0.503694, weighted_score = 1.001076\n",
      "epoch : 9/100, loss = 0.000010, error = 0.000483, score = 0.504703, weighted_score = 1.000942\n",
      "epoch : 10/100, loss = 0.000010, error = 0.000483, score = 0.505497, weighted_score = 1.000813\n",
      "epoch : 11/100, loss = 0.000010, error = 0.000483, score = 0.506569, weighted_score = 1.000700\n",
      "epoch : 12/100, loss = 0.000010, error = 0.000483, score = 0.507363, weighted_score = 1.000601\n",
      "epoch : 13/100, loss = 0.000010, error = 0.000483, score = 0.508436, weighted_score = 1.000517\n"
     ]
    }
   ],
   "source": [
    "%%time\n",
    "epochs = 100\n",
    "for epoch in range(epochs):\n",
    "    loss = 0\n",
    "    err = 0\n",
    "    metr = 0\n",
    "    wmetr = 0\n",
    "    for batch_features, y_batch in train_loader:\n",
    "        batch_features = batch_features.view(-1, input_size)\n",
    "        \n",
    "        optimizer.zero_grad()\n",
    "        \n",
    "        outputs = model(batch_features)\n",
    "        \n",
    "        train_loss = criterion(outputs, y_batch)\n",
    "        \n",
    "        train_loss.backward()\n",
    "        \n",
    "        optimizer.step()\n",
    "        \n",
    "        loss += train_loss.item()\n",
    "    \n",
    "        err += error(outputs, y_batch)\n",
    "\n",
    "        metr += score(outputs, y_batch, False)\n",
    "\n",
    "        wmetr += score(outputs, y_batch, True)\n",
    "\n",
    "    loss = loss / len(train_loader)\n",
    "\n",
    "    err = err / len(train_loader)\n",
    "    \n",
    "    metr = metr / len(train_loader)\n",
    "\n",
    "    wmetr = wmetr / len(train_loader)\n",
    "\n",
    "    print(\"epoch : {}/{}, loss = {:.6f}, error = {:.6f}, score = {:.6f}, weighted_score = {:.6f}\".format(epoch + 1, \n",
    "                                                                                                        epochs, \n",
    "                                                                                                        loss, \n",
    "                                                                                                        err, \n",
    "                                                                                                        metr,\n",
    "                                                                                                        wmetr))"
   ]
  },
  {
   "cell_type": "code",
   "execution_count": null,
   "id": "bfe2b6df",
   "metadata": {},
   "outputs": [],
   "source": []
  },
  {
   "cell_type": "markdown",
   "id": "62a2dc72",
   "metadata": {},
   "source": [
    "## testing with generated data"
   ]
  },
  {
   "cell_type": "code",
   "execution_count": 80,
   "id": "3049a0e5",
   "metadata": {},
   "outputs": [],
   "source": [
    "# generate Testing dataset\n",
    "exper = 12\n",
    "num_res = 12\n",
    "arr_list = []\n",
    "edges_list = []\n",
    "edges = get_edges(n = nnodes)\n",
    "for f in range(exper):\n",
    "    weights = [random.randint(1, 10)/10 for f in range(nnodes)]\n",
    "    t0 = get_t0(edges, weights, n = nnodes)\n",
    "    t1 = get_t1(edges, weights, t0, n = nnodes)\n",
    "    arr_list.append(scale(np.stack([t0,t1]),np.min(np.stack([t0,t1])), np.max(np.stack([t0,t1]))).astype(float))\n",
    "    edges_list.append(edges)\n",
    "arr = np.concatenate(arr_list, axis=1)"
   ]
  },
  {
   "cell_type": "code",
   "execution_count": 81,
   "id": "c6538371",
   "metadata": {},
   "outputs": [
    {
     "data": {
      "text/html": [
       "<div>\n",
       "<style scoped>\n",
       "    .dataframe tbody tr th:only-of-type {\n",
       "        vertical-align: middle;\n",
       "    }\n",
       "\n",
       "    .dataframe tbody tr th {\n",
       "        vertical-align: top;\n",
       "    }\n",
       "\n",
       "    .dataframe thead th {\n",
       "        text-align: right;\n",
       "    }\n",
       "</style>\n",
       "<table border=\"1\" class=\"dataframe\">\n",
       "  <thead>\n",
       "    <tr style=\"text-align: right;\">\n",
       "      <th></th>\n",
       "      <th>t01</th>\n",
       "    </tr>\n",
       "  </thead>\n",
       "  <tbody>\n",
       "    <tr>\n",
       "      <th>0</th>\n",
       "      <td>[[0.0, 0.0, 0.0, 0.2951206140034521, 0.0, 0.0,...</td>\n",
       "    </tr>\n",
       "    <tr>\n",
       "      <th>1</th>\n",
       "      <td>[[0.0, 0.0, 0.0, 0.39806049519735587, 0.0, 0.0...</td>\n",
       "    </tr>\n",
       "    <tr>\n",
       "      <th>2</th>\n",
       "      <td>[[0.0, 0.0, 0.0, 0.4929947150909537, 0.0, 0.0,...</td>\n",
       "    </tr>\n",
       "    <tr>\n",
       "      <th>3</th>\n",
       "      <td>[[0.0, 0.0, 0.0, 0.18714137081584512, 0.0, 0.0...</td>\n",
       "    </tr>\n",
       "    <tr>\n",
       "      <th>4</th>\n",
       "      <td>[[0.0, 0.0, 0.0, 0.2610490351028163, 0.0, 0.0,...</td>\n",
       "    </tr>\n",
       "    <tr>\n",
       "      <th>5</th>\n",
       "      <td>[[0.0, 0.0, 0.0, 0.339575489669057, 0.0, 0.0, ...</td>\n",
       "    </tr>\n",
       "    <tr>\n",
       "      <th>6</th>\n",
       "      <td>[[0.0, 0.0, 0.0, 0.4029456940117938, 0.0, 0.0,...</td>\n",
       "    </tr>\n",
       "    <tr>\n",
       "      <th>7</th>\n",
       "      <td>[[0.0, 0.0, 0.0, 0.16738985819811064, 0.0, 0.0...</td>\n",
       "    </tr>\n",
       "    <tr>\n",
       "      <th>8</th>\n",
       "      <td>[[0.0, 0.0, 0.0, 0.13138205622025126, 0.0, 0.0...</td>\n",
       "    </tr>\n",
       "    <tr>\n",
       "      <th>9</th>\n",
       "      <td>[[0.0, 0.0, 0.0, 0.4586217405609166, 0.0, 0.0,...</td>\n",
       "    </tr>\n",
       "    <tr>\n",
       "      <th>10</th>\n",
       "      <td>[[0.0, 0.0, 0.0, 0.46166753246590314, 0.0, 0.0...</td>\n",
       "    </tr>\n",
       "    <tr>\n",
       "      <th>11</th>\n",
       "      <td>[[0.0, 0.0, 0.0, 0.24098898120846587, 0.0, 0.0...</td>\n",
       "    </tr>\n",
       "  </tbody>\n",
       "</table>\n",
       "</div>"
      ],
      "text/plain": [
       "                                                  t01\n",
       "0   [[0.0, 0.0, 0.0, 0.2951206140034521, 0.0, 0.0,...\n",
       "1   [[0.0, 0.0, 0.0, 0.39806049519735587, 0.0, 0.0...\n",
       "2   [[0.0, 0.0, 0.0, 0.4929947150909537, 0.0, 0.0,...\n",
       "3   [[0.0, 0.0, 0.0, 0.18714137081584512, 0.0, 0.0...\n",
       "4   [[0.0, 0.0, 0.0, 0.2610490351028163, 0.0, 0.0,...\n",
       "5   [[0.0, 0.0, 0.0, 0.339575489669057, 0.0, 0.0, ...\n",
       "6   [[0.0, 0.0, 0.0, 0.4029456940117938, 0.0, 0.0,...\n",
       "7   [[0.0, 0.0, 0.0, 0.16738985819811064, 0.0, 0.0...\n",
       "8   [[0.0, 0.0, 0.0, 0.13138205622025126, 0.0, 0.0...\n",
       "9   [[0.0, 0.0, 0.0, 0.4586217405609166, 0.0, 0.0,...\n",
       "10  [[0.0, 0.0, 0.0, 0.46166753246590314, 0.0, 0.0...\n",
       "11  [[0.0, 0.0, 0.0, 0.24098898120846587, 0.0, 0.0..."
      ]
     },
     "execution_count": 81,
     "metadata": {},
     "output_type": "execute_result"
    }
   ],
   "source": [
    "dstest = pd.DataFrame({'t01':arr_list})\n",
    "dstest"
   ]
  },
  {
   "cell_type": "code",
   "execution_count": 82,
   "id": "01854625",
   "metadata": {},
   "outputs": [],
   "source": [
    "#int(\"110100010\",2) = 418\n",
    "edges_bin_list = [[np.binary_repr(ed[0], width=n_qubits//2) + np.binary_repr(ed[1], width=n_qubits//2)  for ed in edges] for edges in edges_list]\n",
    "ya_list = [[int(edge,2) for edge in edges] for edges in edges_bin_list]"
   ]
  },
  {
   "cell_type": "code",
   "execution_count": 83,
   "id": "ca24af45",
   "metadata": {},
   "outputs": [
    {
     "data": {
      "text/html": [
       "<div>\n",
       "<style scoped>\n",
       "    .dataframe tbody tr th:only-of-type {\n",
       "        vertical-align: middle;\n",
       "    }\n",
       "\n",
       "    .dataframe tbody tr th {\n",
       "        vertical-align: top;\n",
       "    }\n",
       "\n",
       "    .dataframe thead th {\n",
       "        text-align: right;\n",
       "    }\n",
       "</style>\n",
       "<table border=\"1\" class=\"dataframe\">\n",
       "  <thead>\n",
       "    <tr style=\"text-align: right;\">\n",
       "      <th></th>\n",
       "      <th>t01</th>\n",
       "      <th>y</th>\n",
       "    </tr>\n",
       "  </thead>\n",
       "  <tbody>\n",
       "    <tr>\n",
       "      <th>0</th>\n",
       "      <td>[[0.0, 0.0, 0.0, 0.2951206140034521, 0.0, 0.0,...</td>\n",
       "      <td>[1121, 1032, 931, 91, 744, 862, 579, 615, 1481...</td>\n",
       "    </tr>\n",
       "    <tr>\n",
       "      <th>1</th>\n",
       "      <td>[[0.0, 0.0, 0.0, 0.39806049519735587, 0.0, 0.0...</td>\n",
       "      <td>[1121, 1032, 931, 91, 744, 862, 579, 615, 1481...</td>\n",
       "    </tr>\n",
       "    <tr>\n",
       "      <th>2</th>\n",
       "      <td>[[0.0, 0.0, 0.0, 0.4929947150909537, 0.0, 0.0,...</td>\n",
       "      <td>[1121, 1032, 931, 91, 744, 862, 579, 615, 1481...</td>\n",
       "    </tr>\n",
       "    <tr>\n",
       "      <th>3</th>\n",
       "      <td>[[0.0, 0.0, 0.0, 0.18714137081584512, 0.0, 0.0...</td>\n",
       "      <td>[1121, 1032, 931, 91, 744, 862, 579, 615, 1481...</td>\n",
       "    </tr>\n",
       "    <tr>\n",
       "      <th>4</th>\n",
       "      <td>[[0.0, 0.0, 0.0, 0.2610490351028163, 0.0, 0.0,...</td>\n",
       "      <td>[1121, 1032, 931, 91, 744, 862, 579, 615, 1481...</td>\n",
       "    </tr>\n",
       "    <tr>\n",
       "      <th>5</th>\n",
       "      <td>[[0.0, 0.0, 0.0, 0.339575489669057, 0.0, 0.0, ...</td>\n",
       "      <td>[1121, 1032, 931, 91, 744, 862, 579, 615, 1481...</td>\n",
       "    </tr>\n",
       "    <tr>\n",
       "      <th>6</th>\n",
       "      <td>[[0.0, 0.0, 0.0, 0.4029456940117938, 0.0, 0.0,...</td>\n",
       "      <td>[1121, 1032, 931, 91, 744, 862, 579, 615, 1481...</td>\n",
       "    </tr>\n",
       "    <tr>\n",
       "      <th>7</th>\n",
       "      <td>[[0.0, 0.0, 0.0, 0.16738985819811064, 0.0, 0.0...</td>\n",
       "      <td>[1121, 1032, 931, 91, 744, 862, 579, 615, 1481...</td>\n",
       "    </tr>\n",
       "    <tr>\n",
       "      <th>8</th>\n",
       "      <td>[[0.0, 0.0, 0.0, 0.13138205622025126, 0.0, 0.0...</td>\n",
       "      <td>[1121, 1032, 931, 91, 744, 862, 579, 615, 1481...</td>\n",
       "    </tr>\n",
       "    <tr>\n",
       "      <th>9</th>\n",
       "      <td>[[0.0, 0.0, 0.0, 0.4586217405609166, 0.0, 0.0,...</td>\n",
       "      <td>[1121, 1032, 931, 91, 744, 862, 579, 615, 1481...</td>\n",
       "    </tr>\n",
       "    <tr>\n",
       "      <th>10</th>\n",
       "      <td>[[0.0, 0.0, 0.0, 0.46166753246590314, 0.0, 0.0...</td>\n",
       "      <td>[1121, 1032, 931, 91, 744, 862, 579, 615, 1481...</td>\n",
       "    </tr>\n",
       "    <tr>\n",
       "      <th>11</th>\n",
       "      <td>[[0.0, 0.0, 0.0, 0.24098898120846587, 0.0, 0.0...</td>\n",
       "      <td>[1121, 1032, 931, 91, 744, 862, 579, 615, 1481...</td>\n",
       "    </tr>\n",
       "  </tbody>\n",
       "</table>\n",
       "</div>"
      ],
      "text/plain": [
       "                                                  t01  \\\n",
       "0   [[0.0, 0.0, 0.0, 0.2951206140034521, 0.0, 0.0,...   \n",
       "1   [[0.0, 0.0, 0.0, 0.39806049519735587, 0.0, 0.0...   \n",
       "2   [[0.0, 0.0, 0.0, 0.4929947150909537, 0.0, 0.0,...   \n",
       "3   [[0.0, 0.0, 0.0, 0.18714137081584512, 0.0, 0.0...   \n",
       "4   [[0.0, 0.0, 0.0, 0.2610490351028163, 0.0, 0.0,...   \n",
       "5   [[0.0, 0.0, 0.0, 0.339575489669057, 0.0, 0.0, ...   \n",
       "6   [[0.0, 0.0, 0.0, 0.4029456940117938, 0.0, 0.0,...   \n",
       "7   [[0.0, 0.0, 0.0, 0.16738985819811064, 0.0, 0.0...   \n",
       "8   [[0.0, 0.0, 0.0, 0.13138205622025126, 0.0, 0.0...   \n",
       "9   [[0.0, 0.0, 0.0, 0.4586217405609166, 0.0, 0.0,...   \n",
       "10  [[0.0, 0.0, 0.0, 0.46166753246590314, 0.0, 0.0...   \n",
       "11  [[0.0, 0.0, 0.0, 0.24098898120846587, 0.0, 0.0...   \n",
       "\n",
       "                                                    y  \n",
       "0   [1121, 1032, 931, 91, 744, 862, 579, 615, 1481...  \n",
       "1   [1121, 1032, 931, 91, 744, 862, 579, 615, 1481...  \n",
       "2   [1121, 1032, 931, 91, 744, 862, 579, 615, 1481...  \n",
       "3   [1121, 1032, 931, 91, 744, 862, 579, 615, 1481...  \n",
       "4   [1121, 1032, 931, 91, 744, 862, 579, 615, 1481...  \n",
       "5   [1121, 1032, 931, 91, 744, 862, 579, 615, 1481...  \n",
       "6   [1121, 1032, 931, 91, 744, 862, 579, 615, 1481...  \n",
       "7   [1121, 1032, 931, 91, 744, 862, 579, 615, 1481...  \n",
       "8   [1121, 1032, 931, 91, 744, 862, 579, 615, 1481...  \n",
       "9   [1121, 1032, 931, 91, 744, 862, 579, 615, 1481...  \n",
       "10  [1121, 1032, 931, 91, 744, 862, 579, 615, 1481...  \n",
       "11  [1121, 1032, 931, 91, 744, 862, 579, 615, 1481...  "
      ]
     },
     "execution_count": 83,
     "metadata": {},
     "output_type": "execute_result"
    }
   ],
   "source": [
    "dstest['y'] = ya_list\n",
    "dstest"
   ]
  },
  {
   "cell_type": "code",
   "execution_count": 84,
   "id": "563ace7b",
   "metadata": {},
   "outputs": [],
   "source": [
    "batch_size = 1\n",
    "transform = torchvision.transforms.Lambda(lambda y: torch.from_numpy(y).float())\n",
    "\n",
    "test_dataset = CustomDataset(dstest, nnodes, n_qubits, transform)\n",
    "\n",
    "test_loader = torch.utils.data.DataLoader(\n",
    "    test_dataset, batch_size=batch_size, shuffle=False, pin_memory=True\n",
    ")\n"
   ]
  },
  {
   "cell_type": "code",
   "execution_count": 85,
   "id": "64931710",
   "metadata": {},
   "outputs": [],
   "source": [
    "experiments = []\n",
    "outputs_list = []\n",
    "for batch_features, _ in test_loader:\n",
    "    batch_features = batch_features.view(-1, input_size)\n",
    "    batch_features\n",
    "    outputs = model(batch_features)\n",
    "    outputs_list.append(outputs)\n",
    "    experiments.append(np.flip(np.argsort(outputs.detach().numpy())))"
   ]
  },
  {
   "cell_type": "code",
   "execution_count": 86,
   "id": "ed2aa878",
   "metadata": {},
   "outputs": [],
   "source": [
    "ol = [o.detach().numpy() for o in outputs_list]"
   ]
  },
  {
   "cell_type": "code",
   "execution_count": 87,
   "id": "9528cca6",
   "metadata": {},
   "outputs": [],
   "source": [
    "results_list = np.mean(np.array(ol), axis=0)\n",
    "norm_results_list = scale(results_list, np.min(results_list), np.max(results_list)).astype(float)\n",
    "results = np.flip(np.argsort(results_list))"
   ]
  },
  {
   "cell_type": "code",
   "execution_count": 88,
   "id": "3165593d",
   "metadata": {},
   "outputs": [
    {
     "data": {
      "text/plain": [
       "(0.004360517, 0.0019793513)"
      ]
     },
     "execution_count": 88,
     "metadata": {},
     "output_type": "execute_result"
    }
   ],
   "source": [
    "np.max(sum(outputs_list).detach().numpy()),np.min(sum(outputs_list).detach().numpy())"
   ]
  },
  {
   "cell_type": "code",
   "execution_count": 89,
   "id": "f9054b05",
   "metadata": {},
   "outputs": [],
   "source": [
    "results_bin = [np.binary_repr(f, width=n_qubits) for f in results.tolist()[0]]"
   ]
  },
  {
   "cell_type": "code",
   "execution_count": 90,
   "id": "483f1419",
   "metadata": {},
   "outputs": [],
   "source": [
    "results_weights = [norm_results_list[0][results[0][i]] for i in range(len(results[0]))]"
   ]
  },
  {
   "cell_type": "code",
   "execution_count": 91,
   "id": "f089bfb7",
   "metadata": {},
   "outputs": [
    {
     "data": {
      "text/plain": [
       "([1539, 462, 470, 1547, 2916, 2940, 2938, 3233, 342, 3247, 3239, 1691],\n",
       " [1121,\n",
       "  1032,\n",
       "  931,\n",
       "  91,\n",
       "  744,\n",
       "  862,\n",
       "  579,\n",
       "  615,\n",
       "  1481,\n",
       "  1430,\n",
       "  1121,\n",
       "  540,\n",
       "  1567,\n",
       "  1695,\n",
       "  685,\n",
       "  618,\n",
       "  1822,\n",
       "  2200,\n",
       "  2857,\n",
       "  2841,\n",
       "  1127,\n",
       "  1120,\n",
       "  1061,\n",
       "  1188])"
      ]
     },
     "execution_count": 91,
     "metadata": {},
     "output_type": "execute_result"
    }
   ],
   "source": [
    "results.tolist()[0][:num_res], ya_list[0]"
   ]
  },
  {
   "cell_type": "code",
   "execution_count": 92,
   "id": "faf1353d",
   "metadata": {},
   "outputs": [
    {
     "data": {
      "text/plain": [
       "['011000000011',\n",
       " '000111001110',\n",
       " '000111010110',\n",
       " '011000001011',\n",
       " '101101100100',\n",
       " '101101111100',\n",
       " '101101111010',\n",
       " '110010100001',\n",
       " '000101010110',\n",
       " '110010101111',\n",
       " '110010100111',\n",
       " '011010011011']"
      ]
     },
     "execution_count": 92,
     "metadata": {},
     "output_type": "execute_result"
    }
   ],
   "source": [
    "results_bin[:num_res]"
   ]
  },
  {
   "cell_type": "code",
   "execution_count": 93,
   "id": "53484355",
   "metadata": {},
   "outputs": [
    {
     "data": {
      "text/plain": [
       "1512"
      ]
     },
     "execution_count": 93,
     "metadata": {},
     "output_type": "execute_result"
    }
   ],
   "source": [
    "#number of parameters\n",
    "model_parameters = filter(lambda p: p.requires_grad, model.parameters())\n",
    "sum([np.prod(p.size()) for p in model_parameters])"
   ]
  },
  {
   "cell_type": "code",
   "execution_count": 94,
   "id": "7f003042",
   "metadata": {},
   "outputs": [],
   "source": [
    "def get_edges_array(n_qubits,y):\n",
    "    arr = [np.binary_repr(f, width=n_qubits) for f in y]\n",
    "    return [(int(f[:n_qubits//2],2), int(f[n_qubits//2:],2)) for f in arr]"
   ]
  },
  {
   "cell_type": "code",
   "execution_count": 95,
   "id": "397dbcbe",
   "metadata": {},
   "outputs": [],
   "source": [
    "y_edges = get_edges_array(n_qubits,ya_list[0]) \n",
    "p_edges = get_edges_array(n_qubits,results.tolist()[0][:num_res]) \n",
    "p_weights = results_weights[:num_res]"
   ]
  },
  {
   "cell_type": "code",
   "execution_count": 96,
   "id": "10cb57ed",
   "metadata": {},
   "outputs": [
    {
     "ename": "NetworkXError",
     "evalue": "Node 60 has no position.",
     "output_type": "error",
     "traceback": [
      "\u001b[0;31m---------------------------------------------------------------------------\u001b[0m",
      "\u001b[0;31mKeyError\u001b[0m                                  Traceback (most recent call last)",
      "\u001b[0;32m~/anaconda3/envs/Braket/lib/python3.7/site-packages/networkx/drawing/nx_pylab.py\u001b[0m in \u001b[0;36mdraw_networkx_nodes\u001b[0;34m(G, pos, nodelist, node_size, node_color, node_shape, alpha, cmap, vmin, vmax, ax, linewidths, edgecolors, label, **kwds)\u001b[0m\n\u001b[1;32m    396\u001b[0m     \u001b[0;32mtry\u001b[0m\u001b[0;34m:\u001b[0m\u001b[0;34m\u001b[0m\u001b[0;34m\u001b[0m\u001b[0m\n\u001b[0;32m--> 397\u001b[0;31m         \u001b[0mxy\u001b[0m \u001b[0;34m=\u001b[0m \u001b[0mnp\u001b[0m\u001b[0;34m.\u001b[0m\u001b[0masarray\u001b[0m\u001b[0;34m(\u001b[0m\u001b[0;34m[\u001b[0m\u001b[0mpos\u001b[0m\u001b[0;34m[\u001b[0m\u001b[0mv\u001b[0m\u001b[0;34m]\u001b[0m \u001b[0;32mfor\u001b[0m \u001b[0mv\u001b[0m \u001b[0;32min\u001b[0m \u001b[0mnodelist\u001b[0m\u001b[0;34m]\u001b[0m\u001b[0;34m)\u001b[0m\u001b[0;34m\u001b[0m\u001b[0;34m\u001b[0m\u001b[0m\n\u001b[0m\u001b[1;32m    398\u001b[0m     \u001b[0;32mexcept\u001b[0m \u001b[0mKeyError\u001b[0m \u001b[0;32mas\u001b[0m \u001b[0me\u001b[0m\u001b[0;34m:\u001b[0m\u001b[0;34m\u001b[0m\u001b[0;34m\u001b[0m\u001b[0m\n",
      "\u001b[0;32m~/anaconda3/envs/Braket/lib/python3.7/site-packages/networkx/drawing/nx_pylab.py\u001b[0m in \u001b[0;36m<listcomp>\u001b[0;34m(.0)\u001b[0m\n\u001b[1;32m    396\u001b[0m     \u001b[0;32mtry\u001b[0m\u001b[0;34m:\u001b[0m\u001b[0;34m\u001b[0m\u001b[0;34m\u001b[0m\u001b[0m\n\u001b[0;32m--> 397\u001b[0;31m         \u001b[0mxy\u001b[0m \u001b[0;34m=\u001b[0m \u001b[0mnp\u001b[0m\u001b[0;34m.\u001b[0m\u001b[0masarray\u001b[0m\u001b[0;34m(\u001b[0m\u001b[0;34m[\u001b[0m\u001b[0mpos\u001b[0m\u001b[0;34m[\u001b[0m\u001b[0mv\u001b[0m\u001b[0;34m]\u001b[0m \u001b[0;32mfor\u001b[0m \u001b[0mv\u001b[0m \u001b[0;32min\u001b[0m \u001b[0mnodelist\u001b[0m\u001b[0;34m]\u001b[0m\u001b[0;34m)\u001b[0m\u001b[0;34m\u001b[0m\u001b[0;34m\u001b[0m\u001b[0m\n\u001b[0m\u001b[1;32m    398\u001b[0m     \u001b[0;32mexcept\u001b[0m \u001b[0mKeyError\u001b[0m \u001b[0;32mas\u001b[0m \u001b[0me\u001b[0m\u001b[0;34m:\u001b[0m\u001b[0;34m\u001b[0m\u001b[0;34m\u001b[0m\u001b[0m\n",
      "\u001b[0;31mKeyError\u001b[0m: 60",
      "\nDuring handling of the above exception, another exception occurred:\n",
      "\u001b[0;31mNetworkXError\u001b[0m                             Traceback (most recent call last)",
      "\u001b[0;32m<ipython-input-96-49f6c26f3648>\u001b[0m in \u001b[0;36m<module>\u001b[0;34m\u001b[0m\n\u001b[1;32m     27\u001b[0m \u001b[0;34m\u001b[0m\u001b[0m\n\u001b[1;32m     28\u001b[0m \u001b[0msubax2\u001b[0m \u001b[0;34m=\u001b[0m \u001b[0mplt\u001b[0m\u001b[0;34m.\u001b[0m\u001b[0msubplot\u001b[0m\u001b[0;34m(\u001b[0m\u001b[0;36m122\u001b[0m\u001b[0;34m)\u001b[0m\u001b[0;34m\u001b[0m\u001b[0;34m\u001b[0m\u001b[0m\n\u001b[0;32m---> 29\u001b[0;31m \u001b[0mnx\u001b[0m\u001b[0;34m.\u001b[0m\u001b[0mdraw\u001b[0m\u001b[0;34m(\u001b[0m\u001b[0mgraph_p\u001b[0m\u001b[0;34m,\u001b[0m \u001b[0mpos\u001b[0m\u001b[0;34m,\u001b[0m \u001b[0mnode_color\u001b[0m\u001b[0;34m=\u001b[0m\u001b[0;34m'c'\u001b[0m\u001b[0;34m,\u001b[0m \u001b[0medge_color\u001b[0m\u001b[0;34m=\u001b[0m\u001b[0mp_weights\u001b[0m\u001b[0;34m,\u001b[0m \u001b[0mwidth\u001b[0m\u001b[0;34m=\u001b[0m\u001b[0;36m5.0\u001b[0m\u001b[0;34m,\u001b[0m \u001b[0medge_cmap\u001b[0m\u001b[0;34m=\u001b[0m\u001b[0mplt\u001b[0m\u001b[0;34m.\u001b[0m\u001b[0mcm\u001b[0m\u001b[0;34m.\u001b[0m\u001b[0mBlues\u001b[0m\u001b[0;34m,\u001b[0m \u001b[0mwith_labels\u001b[0m\u001b[0;34m=\u001b[0m\u001b[0;32mTrue\u001b[0m\u001b[0;34m)\u001b[0m\u001b[0;34m\u001b[0m\u001b[0;34m\u001b[0m\u001b[0m\n\u001b[0m\u001b[1;32m     30\u001b[0m \u001b[0mplt\u001b[0m\u001b[0;34m.\u001b[0m\u001b[0mshow\u001b[0m\u001b[0;34m(\u001b[0m\u001b[0;34m)\u001b[0m\u001b[0;34m\u001b[0m\u001b[0;34m\u001b[0m\u001b[0m\n",
      "\u001b[0;32m~/anaconda3/envs/Braket/lib/python3.7/site-packages/networkx/drawing/nx_pylab.py\u001b[0m in \u001b[0;36mdraw\u001b[0;34m(G, pos, ax, **kwds)\u001b[0m\n\u001b[1;32m    123\u001b[0m         \u001b[0mkwds\u001b[0m\u001b[0;34m[\u001b[0m\u001b[0;34m'with_labels'\u001b[0m\u001b[0;34m]\u001b[0m \u001b[0;34m=\u001b[0m \u001b[0;34m'labels'\u001b[0m \u001b[0;32min\u001b[0m \u001b[0mkwds\u001b[0m\u001b[0;34m\u001b[0m\u001b[0;34m\u001b[0m\u001b[0m\n\u001b[1;32m    124\u001b[0m \u001b[0;34m\u001b[0m\u001b[0m\n\u001b[0;32m--> 125\u001b[0;31m     \u001b[0mdraw_networkx\u001b[0m\u001b[0;34m(\u001b[0m\u001b[0mG\u001b[0m\u001b[0;34m,\u001b[0m \u001b[0mpos\u001b[0m\u001b[0;34m=\u001b[0m\u001b[0mpos\u001b[0m\u001b[0;34m,\u001b[0m \u001b[0max\u001b[0m\u001b[0;34m=\u001b[0m\u001b[0max\u001b[0m\u001b[0;34m,\u001b[0m \u001b[0;34m**\u001b[0m\u001b[0mkwds\u001b[0m\u001b[0;34m)\u001b[0m\u001b[0;34m\u001b[0m\u001b[0;34m\u001b[0m\u001b[0m\n\u001b[0m\u001b[1;32m    126\u001b[0m     \u001b[0max\u001b[0m\u001b[0;34m.\u001b[0m\u001b[0mset_axis_off\u001b[0m\u001b[0;34m(\u001b[0m\u001b[0;34m)\u001b[0m\u001b[0;34m\u001b[0m\u001b[0;34m\u001b[0m\u001b[0m\n\u001b[1;32m    127\u001b[0m     \u001b[0mplt\u001b[0m\u001b[0;34m.\u001b[0m\u001b[0mdraw_if_interactive\u001b[0m\u001b[0;34m(\u001b[0m\u001b[0;34m)\u001b[0m\u001b[0;34m\u001b[0m\u001b[0;34m\u001b[0m\u001b[0m\n",
      "\u001b[0;32m~/anaconda3/envs/Braket/lib/python3.7/site-packages/networkx/drawing/nx_pylab.py\u001b[0m in \u001b[0;36mdraw_networkx\u001b[0;34m(G, pos, arrows, with_labels, **kwds)\u001b[0m\n\u001b[1;32m    272\u001b[0m         \u001b[0mpos\u001b[0m \u001b[0;34m=\u001b[0m \u001b[0mnx\u001b[0m\u001b[0;34m.\u001b[0m\u001b[0mdrawing\u001b[0m\u001b[0;34m.\u001b[0m\u001b[0mspring_layout\u001b[0m\u001b[0;34m(\u001b[0m\u001b[0mG\u001b[0m\u001b[0;34m)\u001b[0m  \u001b[0;31m# default to spring layout\u001b[0m\u001b[0;34m\u001b[0m\u001b[0;34m\u001b[0m\u001b[0m\n\u001b[1;32m    273\u001b[0m \u001b[0;34m\u001b[0m\u001b[0m\n\u001b[0;32m--> 274\u001b[0;31m     \u001b[0mnode_collection\u001b[0m \u001b[0;34m=\u001b[0m \u001b[0mdraw_networkx_nodes\u001b[0m\u001b[0;34m(\u001b[0m\u001b[0mG\u001b[0m\u001b[0;34m,\u001b[0m \u001b[0mpos\u001b[0m\u001b[0;34m,\u001b[0m \u001b[0;34m**\u001b[0m\u001b[0mkwds\u001b[0m\u001b[0;34m)\u001b[0m\u001b[0;34m\u001b[0m\u001b[0;34m\u001b[0m\u001b[0m\n\u001b[0m\u001b[1;32m    275\u001b[0m     \u001b[0medge_collection\u001b[0m \u001b[0;34m=\u001b[0m \u001b[0mdraw_networkx_edges\u001b[0m\u001b[0;34m(\u001b[0m\u001b[0mG\u001b[0m\u001b[0;34m,\u001b[0m \u001b[0mpos\u001b[0m\u001b[0;34m,\u001b[0m \u001b[0marrows\u001b[0m\u001b[0;34m=\u001b[0m\u001b[0marrows\u001b[0m\u001b[0;34m,\u001b[0m \u001b[0;34m**\u001b[0m\u001b[0mkwds\u001b[0m\u001b[0;34m)\u001b[0m\u001b[0;34m\u001b[0m\u001b[0;34m\u001b[0m\u001b[0m\n\u001b[1;32m    276\u001b[0m     \u001b[0;32mif\u001b[0m \u001b[0mwith_labels\u001b[0m\u001b[0;34m:\u001b[0m\u001b[0;34m\u001b[0m\u001b[0;34m\u001b[0m\u001b[0m\n",
      "\u001b[0;32m~/anaconda3/envs/Braket/lib/python3.7/site-packages/networkx/drawing/nx_pylab.py\u001b[0m in \u001b[0;36mdraw_networkx_nodes\u001b[0;34m(G, pos, nodelist, node_size, node_color, node_shape, alpha, cmap, vmin, vmax, ax, linewidths, edgecolors, label, **kwds)\u001b[0m\n\u001b[1;32m    397\u001b[0m         \u001b[0mxy\u001b[0m \u001b[0;34m=\u001b[0m \u001b[0mnp\u001b[0m\u001b[0;34m.\u001b[0m\u001b[0masarray\u001b[0m\u001b[0;34m(\u001b[0m\u001b[0;34m[\u001b[0m\u001b[0mpos\u001b[0m\u001b[0;34m[\u001b[0m\u001b[0mv\u001b[0m\u001b[0;34m]\u001b[0m \u001b[0;32mfor\u001b[0m \u001b[0mv\u001b[0m \u001b[0;32min\u001b[0m \u001b[0mnodelist\u001b[0m\u001b[0;34m]\u001b[0m\u001b[0;34m)\u001b[0m\u001b[0;34m\u001b[0m\u001b[0;34m\u001b[0m\u001b[0m\n\u001b[1;32m    398\u001b[0m     \u001b[0;32mexcept\u001b[0m \u001b[0mKeyError\u001b[0m \u001b[0;32mas\u001b[0m \u001b[0me\u001b[0m\u001b[0;34m:\u001b[0m\u001b[0;34m\u001b[0m\u001b[0;34m\u001b[0m\u001b[0m\n\u001b[0;32m--> 399\u001b[0;31m         \u001b[0;32mraise\u001b[0m \u001b[0mnx\u001b[0m\u001b[0;34m.\u001b[0m\u001b[0mNetworkXError\u001b[0m\u001b[0;34m(\u001b[0m\u001b[0;34m'Node %s has no position.'\u001b[0m \u001b[0;34m%\u001b[0m \u001b[0me\u001b[0m\u001b[0;34m)\u001b[0m\u001b[0;34m\u001b[0m\u001b[0;34m\u001b[0m\u001b[0m\n\u001b[0m\u001b[1;32m    400\u001b[0m     \u001b[0;32mexcept\u001b[0m \u001b[0mValueError\u001b[0m\u001b[0;34m:\u001b[0m\u001b[0;34m\u001b[0m\u001b[0;34m\u001b[0m\u001b[0m\n\u001b[1;32m    401\u001b[0m         \u001b[0;32mraise\u001b[0m \u001b[0mnx\u001b[0m\u001b[0;34m.\u001b[0m\u001b[0mNetworkXError\u001b[0m\u001b[0;34m(\u001b[0m\u001b[0;34m'Bad value in node positions.'\u001b[0m\u001b[0;34m)\u001b[0m\u001b[0;34m\u001b[0m\u001b[0;34m\u001b[0m\u001b[0m\n",
      "\u001b[0;31mNetworkXError\u001b[0m: Node 60 has no position."
     ]
    }
   ],
   "source": [
    "graph_y = None\n",
    "graph_p = None\n",
    "\n",
    "graph_y = nx.DiGraph()\n",
    "graph_p = nx.DiGraph()\n",
    "\n",
    "graph_y.add_nodes_from(range(nnodes*2))\n",
    "graph_p.add_nodes_from(range(nnodes*2))\n",
    "\n",
    "graph_y.add_edges_from(y_edges)\n",
    "graph_p.add_edges_from(p_edges)\n",
    "\n",
    "nodes_names = {f:'n' + str(f) for f in range(nnodes)}\n",
    "rnodes = [v + '_t0' for _, v in nodes_names.items()]\n",
    "\n",
    "nodes_names.update({k:v + '_t0' for k, v in nodes_names.items()})\n",
    "nodes_names.update({k + len(nodes_names):v[:-1] + '1' for k, v in nodes_names.items()})\n",
    "\n",
    "graph_y = nx.relabel_nodes(graph_y, nodes_names, copy=False)\n",
    "graph_p = nx.relabel_nodes(graph_p, nodes_names, copy=False)\n",
    "\n",
    "#pos = nx.shell_layout(graph_y, nlist=[range(nnodes),range(nnodes,nnodes*2)], rotate=0.1, center=(1,5))\n",
    "pos = nx.bipartite_layout(graph_y, nodes=rnodes)\n",
    "\n",
    "subax1 = plt.subplot(121)\n",
    "nx.draw(graph_y, pos, node_color='c', edge_color='k', width=5.0, edge_cmap=plt.cm.Blues, with_labels=True)\n",
    "\n",
    "subax2 = plt.subplot(122)\n",
    "nx.draw(graph_p, pos, node_color='c', edge_color=p_weights, width=5.0, edge_cmap=plt.cm.Blues, with_labels=True)\n",
    "plt.show()"
   ]
  },
  {
   "cell_type": "code",
   "execution_count": null,
   "id": "97320f18",
   "metadata": {},
   "outputs": [],
   "source": []
  },
  {
   "cell_type": "markdown",
   "id": "5119b618",
   "metadata": {},
   "source": [
    "## testing with real data"
   ]
  },
  {
   "cell_type": "code",
   "execution_count": 153,
   "id": "0f5d38f3",
   "metadata": {},
   "outputs": [],
   "source": [
    "batch_size = 1\n",
    "transform = torchvision.transforms.Lambda(lambda y: torch.from_numpy(y).float())\n",
    "\n",
    "test_dataset = CustomDataset(dst, nnodes, n_qubits, transform)\n",
    "\n",
    "test_loader = torch.utils.data.DataLoader(\n",
    "    test_dataset, batch_size=batch_size, shuffle=False, pin_memory=True\n",
    ")\n"
   ]
  },
  {
   "cell_type": "code",
   "execution_count": 154,
   "id": "7877b9d3",
   "metadata": {},
   "outputs": [],
   "source": [
    "experiments = []\n",
    "outputs_list = []\n",
    "for batch_features, _ in test_loader:\n",
    "    batch_features = batch_features.view(-1, input_size)\n",
    "    batch_features\n",
    "    outputs = model(batch_features)\n",
    "    outputs_list.append(outputs)\n",
    "    experiments.append(np.flip(np.argsort(outputs.detach().numpy())))"
   ]
  },
  {
   "cell_type": "code",
   "execution_count": 155,
   "id": "769defd2",
   "metadata": {},
   "outputs": [],
   "source": [
    "ol = [o.detach().numpy() for o in outputs_list]"
   ]
  },
  {
   "cell_type": "code",
   "execution_count": 156,
   "id": "5ec3bc09",
   "metadata": {},
   "outputs": [],
   "source": [
    "results_list = np.mean(np.array(ol), axis=0)\n",
    "norm_results_list = scale(results_list, np.min(results_list), np.max(results_list)).astype(float)\n",
    "results = np.flip(np.argsort(results_list))"
   ]
  },
  {
   "cell_type": "code",
   "execution_count": 157,
   "id": "ca65cf09",
   "metadata": {},
   "outputs": [
    {
     "data": {
      "text/plain": [
       "(0.012004337, 0.00058783137)"
      ]
     },
     "execution_count": 157,
     "metadata": {},
     "output_type": "execute_result"
    }
   ],
   "source": [
    "np.max(sum(outputs_list).detach().numpy()),np.min(sum(outputs_list).detach().numpy())"
   ]
  },
  {
   "cell_type": "code",
   "execution_count": 158,
   "id": "411fd59c",
   "metadata": {},
   "outputs": [],
   "source": [
    "results_bin = [np.binary_repr(f, width=n_qubits) for f in results.tolist()[0]]"
   ]
  },
  {
   "cell_type": "code",
   "execution_count": 159,
   "id": "2409ade6",
   "metadata": {},
   "outputs": [],
   "source": [
    "results_weights = [norm_results_list[0][results[0][i]] for i in range(len(results[0]))]"
   ]
  },
  {
   "cell_type": "code",
   "execution_count": 160,
   "id": "df83e44b",
   "metadata": {},
   "outputs": [
    {
     "data": {
      "text/plain": [
       "[1575, 370, 3211, 3038, 3139, 2838, 442, 1775, 3624, 3656, 2333, 793]"
      ]
     },
     "execution_count": 160,
     "metadata": {},
     "output_type": "execute_result"
    }
   ],
   "source": [
    "results.tolist()[0][:num_res]"
   ]
  },
  {
   "cell_type": "code",
   "execution_count": 161,
   "id": "053aca0c",
   "metadata": {},
   "outputs": [
    {
     "data": {
      "text/plain": [
       "['011000100111',\n",
       " '000101110010',\n",
       " '110010001011',\n",
       " '101111011110',\n",
       " '110001000011',\n",
       " '101100010110',\n",
       " '000110111010',\n",
       " '011011101111',\n",
       " '111000101000',\n",
       " '111001001000',\n",
       " '100100011101',\n",
       " '001100011001']"
      ]
     },
     "execution_count": 161,
     "metadata": {},
     "output_type": "execute_result"
    }
   ],
   "source": [
    "results_bin[:num_res]"
   ]
  },
  {
   "cell_type": "code",
   "execution_count": 162,
   "id": "f1f58cf1",
   "metadata": {},
   "outputs": [],
   "source": [
    "p_edges = get_edges_array(n_qubits,results.tolist()[0][:num_res]) \n",
    "p_weights = results_weights[:num_res]"
   ]
  },
  {
   "cell_type": "code",
   "execution_count": 168,
   "id": "07cdaf79",
   "metadata": {},
   "outputs": [
    {
     "data": {
      "image/png": "[encoded data removed]",
      "text/plain": [
       "<Figure size 640x480 with 1 Axes>"
      ]
     },
     "metadata": {},
     "output_type": "display_data"
    },
    {
     "data": {
      "text/plain": [
       "<Figure size 300x200 with 0 Axes>"
      ]
     },
     "metadata": {},
     "output_type": "display_data"
    }
   ],
   "source": [
    "graph_p = None\n",
    "graph_p2 = None\n",
    "\n",
    "graph_p = nx.DiGraph()\n",
    "graph_p2 = nx.DiGraph()\n",
    "\n",
    "graph_p.add_nodes_from(range(nnodes*2))\n",
    "graph_p2.add_nodes_from(range(nnodes*2))\n",
    "\n",
    "graph_p.add_edges_from(p_edges)\n",
    "graph_p2.add_edges_from(p_edges)\n",
    "\n",
    "rnodes = [v + '_t0' for _, v in nodes_names.items()]\n",
    "rgenes = [v + '_t0' for _, v in nodes_genes.items()]\n",
    "\n",
    "nodes_names.update({k:v + '_t0' for k, v in nodes_names.items()})\n",
    "nodes_names.update({k + len(nodes_names):v[:-1] + '1' for k, v in nodes_names.items()})\n",
    "\n",
    "nodes_genes.update({k:v + '_t0' for k, v in nodes_genes.items()})\n",
    "nodes_genes.update({k + len(nodes_genes):v[:-1] + '1' for k, v in nodes_genes.items()})\n",
    "\n",
    "graph_p = nx.relabel_nodes(graph_p, nodes_names, copy=False)\n",
    "graph_p2 = nx.relabel_nodes(graph_p2, nodes_genes, copy=False)\n",
    "\n",
    "#pos = nx.shell_layout(graph_y, nlist=[range(nnodes),range(nnodes,nnodes*2)], rotate=0.1, center=(1,5))\n",
    "pos = nx.bipartite_layout(graph_p, nodes=rnodes)\n",
    "pos2 = nx.bipartite_layout(graph_p2, nodes=rgenes)\n",
    "\n",
    "#subax1 = plt.subplot(121)\n",
    "nx.draw(graph_p, pos, node_color='c', edge_color=p_weights, width=5.0, edge_cmap=plt.cm.Blues, with_labels=True)\n",
    "\n",
    "#subax2 = plt.subplot(122)\n",
    "#nx.draw(graph_p2, pos2, node_color='c', edge_color=p_weights, width=5.0, edge_cmap=plt.cm.Blues, with_labels=True)\n",
    "plt.figure(figsize=(3,2))\n",
    "plt.show()"
   ]
  },
  {
   "cell_type": "code",
   "execution_count": 169,
   "id": "8ad1be5f",
   "metadata": {},
   "outputs": [
    {
     "data": {
      "image/png": "[encoded data removed]",
      "text/plain": [
       "<Figure size 640x480 with 1 Axes>"
      ]
     },
     "metadata": {},
     "output_type": "display_data"
    },
    {
     "data": {
      "text/plain": [
       "<Figure size 300x200 with 0 Axes>"
      ]
     },
     "metadata": {},
     "output_type": "display_data"
    }
   ],
   "source": [
    "nx.draw(graph_p2, pos2, node_color='c', edge_color=p_weights, width=5.0, edge_cmap=plt.cm.Blues, with_labels=True)\n",
    "plt.figure(figsize=(3,2))\n",
    "plt.show()"
   ]
  },
  {
   "cell_type": "code",
   "execution_count": null,
   "id": "9dcf4c6a",
   "metadata": {},
   "outputs": [],
   "source": []
  }
 ],
 "metadata": {
  "kernelspec": {
   "display_name": "Python 3 (ipykernel)",
   "language": "python",
   "name": "python3"
  },
  "language_info": {
   "codemirror_mode": {
    "name": "ipython",
    "version": 3
   },
   "file_extension": ".py",
   "mimetype": "text/x-python",
   "name": "python",
   "nbconvert_exporter": "python",
   "pygments_lexer": "ipython3",
   "version": "3.8.10"
  }
 },
 "nbformat": 4,
 "nbformat_minor": 5
}
