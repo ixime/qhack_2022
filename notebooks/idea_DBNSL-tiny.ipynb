{
 "cells": [
  {
   "cell_type": "markdown",
   "id": "cccbf22e-4122-4fbd-824e-3855b92d78d3",
   "metadata": {},
   "source": [
    "## 1st variant\n",
    "### Dynamic Bayesian Network Structure Learning with hybrid network = (classic) encoder + (quantum) circuit.\n",
    "This is a toy example with dummy generated training data of 4 variables, that means 8 vertices (4 for t and 4 for t+1).    \n",
    "n_qubits=6  \n",
    "where first three digits correspond to vertice where the edge begins and three las digits correspond to vertice qhere edge ends i.e. 010101 corresponds to: vertice_2 ---> vertice_5  \n",
    "It was tested with two sets of test data at the end of the notebook. The last test is the mean of 7 experiments of the same network, where each experiment is build with data for t and t+1  \n"
   ]
  },
  {
   "cell_type": "code",
   "execution_count": 1,
   "id": "4fe290df-09b7-4a29-bd7e-34fa55c76265",
   "metadata": {},
   "outputs": [],
   "source": [
    "import pandas as pd\n",
    "from torch.utils.data import Dataset\n",
    "import torch\n",
    "import torchvision\n",
    "from torch import nn\n",
    "import numpy as np\n",
    "import pennylane as qml\n",
    "import random"
   ]
  },
  {
   "cell_type": "code",
   "execution_count": 24,
   "id": "7b05bca8-d337-43cd-967c-986ced4e5106",
   "metadata": {},
   "outputs": [],
   "source": [
    "path = \"tiny_dummy_qhack.csv\""
   ]
  },
  {
   "cell_type": "code",
   "execution_count": 25,
   "id": "1b7242c6-01bf-4b49-90e6-89ae769c8bd9",
   "metadata": {},
   "outputs": [
    {
     "data": {
      "text/html": [
       "<div>\n",
       "<style scoped>\n",
       "    .dataframe tbody tr th:only-of-type {\n",
       "        vertical-align: middle;\n",
       "    }\n",
       "\n",
       "    .dataframe tbody tr th {\n",
       "        vertical-align: top;\n",
       "    }\n",
       "\n",
       "    .dataframe thead th {\n",
       "        text-align: right;\n",
       "    }\n",
       "</style>\n",
       "<table border=\"1\" class=\"dataframe\">\n",
       "  <thead>\n",
       "    <tr style=\"text-align: right;\">\n",
       "      <th></th>\n",
       "      <th>vertices</th>\n",
       "      <th>experiment</th>\n",
       "      <th>t0</th>\n",
       "      <th>t1</th>\n",
       "    </tr>\n",
       "  </thead>\n",
       "  <tbody>\n",
       "    <tr>\n",
       "      <th>0</th>\n",
       "      <td>v0</td>\n",
       "      <td>1</td>\n",
       "      <td>0.50</td>\n",
       "      <td>0.10</td>\n",
       "    </tr>\n",
       "    <tr>\n",
       "      <th>1</th>\n",
       "      <td>v1</td>\n",
       "      <td>1</td>\n",
       "      <td>0.03</td>\n",
       "      <td>0.45</td>\n",
       "    </tr>\n",
       "    <tr>\n",
       "      <th>2</th>\n",
       "      <td>v2</td>\n",
       "      <td>1</td>\n",
       "      <td>0.50</td>\n",
       "      <td>0.04</td>\n",
       "    </tr>\n",
       "    <tr>\n",
       "      <th>3</th>\n",
       "      <td>v3</td>\n",
       "      <td>1</td>\n",
       "      <td>0.60</td>\n",
       "      <td>0.80</td>\n",
       "    </tr>\n",
       "    <tr>\n",
       "      <th>4</th>\n",
       "      <td>v0</td>\n",
       "      <td>2</td>\n",
       "      <td>0.10</td>\n",
       "      <td>0.07</td>\n",
       "    </tr>\n",
       "    <tr>\n",
       "      <th>5</th>\n",
       "      <td>v1</td>\n",
       "      <td>2</td>\n",
       "      <td>0.45</td>\n",
       "      <td>0.10</td>\n",
       "    </tr>\n",
       "    <tr>\n",
       "      <th>6</th>\n",
       "      <td>v2</td>\n",
       "      <td>2</td>\n",
       "      <td>0.04</td>\n",
       "      <td>0.04</td>\n",
       "    </tr>\n",
       "    <tr>\n",
       "      <th>7</th>\n",
       "      <td>v3</td>\n",
       "      <td>2</td>\n",
       "      <td>0.80</td>\n",
       "      <td>0.50</td>\n",
       "    </tr>\n",
       "    <tr>\n",
       "      <th>8</th>\n",
       "      <td>v0</td>\n",
       "      <td>3</td>\n",
       "      <td>0.07</td>\n",
       "      <td>0.05</td>\n",
       "    </tr>\n",
       "    <tr>\n",
       "      <th>9</th>\n",
       "      <td>v1</td>\n",
       "      <td>3</td>\n",
       "      <td>0.10</td>\n",
       "      <td>0.06</td>\n",
       "    </tr>\n",
       "    <tr>\n",
       "      <th>10</th>\n",
       "      <td>v2</td>\n",
       "      <td>3</td>\n",
       "      <td>0.04</td>\n",
       "      <td>0.03</td>\n",
       "    </tr>\n",
       "    <tr>\n",
       "      <th>11</th>\n",
       "      <td>v3</td>\n",
       "      <td>3</td>\n",
       "      <td>0.50</td>\n",
       "      <td>0.15</td>\n",
       "    </tr>\n",
       "    <tr>\n",
       "      <th>12</th>\n",
       "      <td>v0</td>\n",
       "      <td>4</td>\n",
       "      <td>0.05</td>\n",
       "      <td>0.04</td>\n",
       "    </tr>\n",
       "    <tr>\n",
       "      <th>13</th>\n",
       "      <td>v1</td>\n",
       "      <td>4</td>\n",
       "      <td>0.06</td>\n",
       "      <td>0.04</td>\n",
       "    </tr>\n",
       "    <tr>\n",
       "      <th>14</th>\n",
       "      <td>v2</td>\n",
       "      <td>4</td>\n",
       "      <td>0.03</td>\n",
       "      <td>0.03</td>\n",
       "    </tr>\n",
       "    <tr>\n",
       "      <th>15</th>\n",
       "      <td>v3</td>\n",
       "      <td>4</td>\n",
       "      <td>0.15</td>\n",
       "      <td>0.10</td>\n",
       "    </tr>\n",
       "    <tr>\n",
       "      <th>16</th>\n",
       "      <td>v0</td>\n",
       "      <td>5</td>\n",
       "      <td>0.04</td>\n",
       "      <td>0.04</td>\n",
       "    </tr>\n",
       "    <tr>\n",
       "      <th>17</th>\n",
       "      <td>v1</td>\n",
       "      <td>5</td>\n",
       "      <td>0.04</td>\n",
       "      <td>0.04</td>\n",
       "    </tr>\n",
       "    <tr>\n",
       "      <th>18</th>\n",
       "      <td>v2</td>\n",
       "      <td>5</td>\n",
       "      <td>0.03</td>\n",
       "      <td>0.03</td>\n",
       "    </tr>\n",
       "    <tr>\n",
       "      <th>19</th>\n",
       "      <td>v3</td>\n",
       "      <td>5</td>\n",
       "      <td>0.10</td>\n",
       "      <td>0.07</td>\n",
       "    </tr>\n",
       "    <tr>\n",
       "      <th>20</th>\n",
       "      <td>v0</td>\n",
       "      <td>6</td>\n",
       "      <td>0.04</td>\n",
       "      <td>0.04</td>\n",
       "    </tr>\n",
       "    <tr>\n",
       "      <th>21</th>\n",
       "      <td>v1</td>\n",
       "      <td>6</td>\n",
       "      <td>0.04</td>\n",
       "      <td>0.04</td>\n",
       "    </tr>\n",
       "    <tr>\n",
       "      <th>22</th>\n",
       "      <td>v2</td>\n",
       "      <td>6</td>\n",
       "      <td>0.03</td>\n",
       "      <td>0.03</td>\n",
       "    </tr>\n",
       "    <tr>\n",
       "      <th>23</th>\n",
       "      <td>v3</td>\n",
       "      <td>6</td>\n",
       "      <td>0.07</td>\n",
       "      <td>0.07</td>\n",
       "    </tr>\n",
       "    <tr>\n",
       "      <th>24</th>\n",
       "      <td>v0</td>\n",
       "      <td>7</td>\n",
       "      <td>0.04</td>\n",
       "      <td>0.04</td>\n",
       "    </tr>\n",
       "    <tr>\n",
       "      <th>25</th>\n",
       "      <td>v1</td>\n",
       "      <td>7</td>\n",
       "      <td>0.04</td>\n",
       "      <td>0.04</td>\n",
       "    </tr>\n",
       "    <tr>\n",
       "      <th>26</th>\n",
       "      <td>v2</td>\n",
       "      <td>7</td>\n",
       "      <td>0.03</td>\n",
       "      <td>0.03</td>\n",
       "    </tr>\n",
       "    <tr>\n",
       "      <th>27</th>\n",
       "      <td>v3</td>\n",
       "      <td>7</td>\n",
       "      <td>0.07</td>\n",
       "      <td>0.07</td>\n",
       "    </tr>\n",
       "  </tbody>\n",
       "</table>\n",
       "</div>"
      ],
      "text/plain": [
       "   vertices  experiment    t0    t1\n",
       "0        v0           1  0.50  0.10\n",
       "1        v1           1  0.03  0.45\n",
       "2        v2           1  0.50  0.04\n",
       "3        v3           1  0.60  0.80\n",
       "4        v0           2  0.10  0.07\n",
       "5        v1           2  0.45  0.10\n",
       "6        v2           2  0.04  0.04\n",
       "7        v3           2  0.80  0.50\n",
       "8        v0           3  0.07  0.05\n",
       "9        v1           3  0.10  0.06\n",
       "10       v2           3  0.04  0.03\n",
       "11       v3           3  0.50  0.15\n",
       "12       v0           4  0.05  0.04\n",
       "13       v1           4  0.06  0.04\n",
       "14       v2           4  0.03  0.03\n",
       "15       v3           4  0.15  0.10\n",
       "16       v0           5  0.04  0.04\n",
       "17       v1           5  0.04  0.04\n",
       "18       v2           5  0.03  0.03\n",
       "19       v3           5  0.10  0.07\n",
       "20       v0           6  0.04  0.04\n",
       "21       v1           6  0.04  0.04\n",
       "22       v2           6  0.03  0.03\n",
       "23       v3           6  0.07  0.07\n",
       "24       v0           7  0.04  0.04\n",
       "25       v1           7  0.04  0.04\n",
       "26       v2           7  0.03  0.03\n",
       "27       v3           7  0.07  0.07"
      ]
     },
     "execution_count": 25,
     "metadata": {},
     "output_type": "execute_result"
    }
   ],
   "source": [
    "ds = pd.read_csv(path)\n",
    "ds"
   ]
  },
  {
   "cell_type": "code",
   "execution_count": 26,
   "id": "923fe197-fa4d-413f-a6c5-7be771c4c453",
   "metadata": {},
   "outputs": [],
   "source": [
    "def get_edges(n=4):\n",
    "    num_edges = random.randint(n, n+3)\n",
    "    e1 = [(random.randint(0, n-1),random.randint(0, (n*2)-1)) for f in range(num_edges//2)]\n",
    "    e2 = [(random.randint(0, (n*2)-1),random.randint(n, (n*2)-1)) for f in range(num_edges//2)]\n",
    "    return e1 + e2\n",
    "\n",
    "def get_t0(edges, n=4):\n",
    "    t0 = np.zeros(n) + 0.01\n",
    "    edges0 = [edge for i in range(n) for edge in edges if edge[0] == i and edge[1] < n]\n",
    "    if len(edges0) > 0:\n",
    "        t0[edges0[0][0]] = random.random()\n",
    "        for edge in edges0:\n",
    "            t0[edge[1]] += t0[edge[0]]\n",
    "    return t0\n",
    "        \n",
    "def get_t1(edges, t0, n=4):\n",
    "    t1 = np.zeros(n) + 0.01\n",
    "    edges1 = [edge for edge in edges if edge[1] >= n]\n",
    "    for edge in edges1:\n",
    "        if edge[0] < n:\n",
    "            t1[edge[1]-n] += t0[edge[0]]\n",
    "        else:\n",
    "            t1[edge[1]-n] += t1[edge[0]-n]\n",
    "    return t1"
   ]
  },
  {
   "cell_type": "code",
   "execution_count": 27,
   "id": "5bb17627-1079-48af-9fc5-82f64d00c542",
   "metadata": {},
   "outputs": [],
   "source": [
    "# generate training dataset\n",
    "exper = 300\n",
    "nnodes = 4\n",
    "n_qubits = 6\n",
    "arr_list = []\n",
    "edges_list = []\n",
    "for f in range(exper):\n",
    "    edges = get_edges(n = nnodes)\n",
    "    t0 = get_t0(edges, n = nnodes)\n",
    "    t1 = get_t1(edges, t0, n = nnodes)\n",
    "    arr_list.append(np.stack([t0,t1]))\n",
    "    edges_list.append(edges)\n",
    "arr = np.concatenate(arr_list, axis=1)"
   ]
  },
  {
   "cell_type": "code",
   "execution_count": 28,
   "id": "9021ae7a-b9de-488c-b527-066da15313fb",
   "metadata": {},
   "outputs": [
    {
     "data": {
      "text/html": [
       "<div>\n",
       "<style scoped>\n",
       "    .dataframe tbody tr th:only-of-type {\n",
       "        vertical-align: middle;\n",
       "    }\n",
       "\n",
       "    .dataframe tbody tr th {\n",
       "        vertical-align: top;\n",
       "    }\n",
       "\n",
       "    .dataframe thead th {\n",
       "        text-align: right;\n",
       "    }\n",
       "</style>\n",
       "<table border=\"1\" class=\"dataframe\">\n",
       "  <thead>\n",
       "    <tr style=\"text-align: right;\">\n",
       "      <th></th>\n",
       "      <th>t01</th>\n",
       "    </tr>\n",
       "  </thead>\n",
       "  <tbody>\n",
       "    <tr>\n",
       "      <th>0</th>\n",
       "      <td>[[0.47419259402578307, 0.01, 0.474192594025783...</td>\n",
       "    </tr>\n",
       "    <tr>\n",
       "      <th>1</th>\n",
       "      <td>[[0.01, 0.01, 0.01, 0.01], [0.02, 0.01, 0.04, ...</td>\n",
       "    </tr>\n",
       "    <tr>\n",
       "      <th>2</th>\n",
       "      <td>[[0.7650931994812707, 0.7550931994812707, 0.01...</td>\n",
       "    </tr>\n",
       "    <tr>\n",
       "      <th>3</th>\n",
       "      <td>[[0.01, 0.18999161913056528, 0.01, 0.209991619...</td>\n",
       "    </tr>\n",
       "    <tr>\n",
       "      <th>4</th>\n",
       "      <td>[[0.8235732991036843, 0.8335732991036843, 0.01...</td>\n",
       "    </tr>\n",
       "    <tr>\n",
       "      <th>...</th>\n",
       "      <td>...</td>\n",
       "    </tr>\n",
       "    <tr>\n",
       "      <th>295</th>\n",
       "      <td>[[0.01, 0.01, 0.01, 0.01], [0.03, 0.01, 0.03, ...</td>\n",
       "    </tr>\n",
       "    <tr>\n",
       "      <th>296</th>\n",
       "      <td>[[0.01, 0.01, 0.04277581285149856, 0.095551625...</td>\n",
       "    </tr>\n",
       "    <tr>\n",
       "      <th>297</th>\n",
       "      <td>[[0.20534981110932282, 0.1953498111093228, 0.0...</td>\n",
       "    </tr>\n",
       "    <tr>\n",
       "      <th>298</th>\n",
       "      <td>[[0.01, 0.01, 0.01, 0.01], [0.01, 0.03, 0.01, ...</td>\n",
       "    </tr>\n",
       "    <tr>\n",
       "      <th>299</th>\n",
       "      <td>[[0.7870758504796386, 0.7770758504796386, 0.01...</td>\n",
       "    </tr>\n",
       "  </tbody>\n",
       "</table>\n",
       "<p>300 rows × 1 columns</p>\n",
       "</div>"
      ],
      "text/plain": [
       "                                                   t01\n",
       "0    [[0.47419259402578307, 0.01, 0.474192594025783...\n",
       "1    [[0.01, 0.01, 0.01, 0.01], [0.02, 0.01, 0.04, ...\n",
       "2    [[0.7650931994812707, 0.7550931994812707, 0.01...\n",
       "3    [[0.01, 0.18999161913056528, 0.01, 0.209991619...\n",
       "4    [[0.8235732991036843, 0.8335732991036843, 0.01...\n",
       "..                                                 ...\n",
       "295  [[0.01, 0.01, 0.01, 0.01], [0.03, 0.01, 0.03, ...\n",
       "296  [[0.01, 0.01, 0.04277581285149856, 0.095551625...\n",
       "297  [[0.20534981110932282, 0.1953498111093228, 0.0...\n",
       "298  [[0.01, 0.01, 0.01, 0.01], [0.01, 0.03, 0.01, ...\n",
       "299  [[0.7870758504796386, 0.7770758504796386, 0.01...\n",
       "\n",
       "[300 rows x 1 columns]"
      ]
     },
     "execution_count": 28,
     "metadata": {},
     "output_type": "execute_result"
    }
   ],
   "source": [
    "dsa = pd.DataFrame({'t01':arr_list})\n",
    "dsa"
   ]
  },
  {
   "cell_type": "code",
   "execution_count": 29,
   "id": "9f69ccae-043f-4ac4-a38f-6023a33f4810",
   "metadata": {},
   "outputs": [],
   "source": [
    "#int(\"110100010\",2) = 418\n",
    "edges_bin_list = [[np.binary_repr(ed[0], width=n_qubits//2) + np.binary_repr(ed[1], width=n_qubits//2)  for ed in edges] for edges in edges_list]\n",
    "ya_list = [[int(edge,2) for edge in edges] for edges in edges_bin_list]"
   ]
  },
  {
   "cell_type": "code",
   "execution_count": 30,
   "id": "b360df17-7ea7-4bb7-873c-4a3e0ed2d112",
   "metadata": {},
   "outputs": [],
   "source": [
    "dsa['y'] = ya_list"
   ]
  },
  {
   "cell_type": "code",
   "execution_count": 31,
   "id": "e0b4c30b-0265-482e-a99f-cf3356654431",
   "metadata": {},
   "outputs": [
    {
     "data": {
      "text/html": [
       "<div>\n",
       "<style scoped>\n",
       "    .dataframe tbody tr th:only-of-type {\n",
       "        vertical-align: middle;\n",
       "    }\n",
       "\n",
       "    .dataframe tbody tr th {\n",
       "        vertical-align: top;\n",
       "    }\n",
       "\n",
       "    .dataframe thead th {\n",
       "        text-align: right;\n",
       "    }\n",
       "</style>\n",
       "<table border=\"1\" class=\"dataframe\">\n",
       "  <thead>\n",
       "    <tr style=\"text-align: right;\">\n",
       "      <th></th>\n",
       "      <th>t01</th>\n",
       "      <th>y</th>\n",
       "    </tr>\n",
       "  </thead>\n",
       "  <tbody>\n",
       "    <tr>\n",
       "      <th>0</th>\n",
       "      <td>[[0.47419259402578307, 0.01, 0.474192594025783...</td>\n",
       "      <td>[24, 26, 29, 31, 39, 45]</td>\n",
       "    </tr>\n",
       "    <tr>\n",
       "      <th>1</th>\n",
       "      <td>[[0.01, 0.01, 0.01, 0.01], [0.02, 0.01, 0.04, ...</td>\n",
       "      <td>[7, 12, 22, 54]</td>\n",
       "    </tr>\n",
       "    <tr>\n",
       "      <th>2</th>\n",
       "      <td>[[0.7650931994812707, 0.7550931994812707, 0.01...</td>\n",
       "      <td>[12, 8, 60, 29]</td>\n",
       "    </tr>\n",
       "    <tr>\n",
       "      <th>3</th>\n",
       "      <td>[[0.01, 0.18999161913056528, 0.01, 0.209991619...</td>\n",
       "      <td>[19, 11, 6, 20, 46, 12]</td>\n",
       "    </tr>\n",
       "    <tr>\n",
       "      <th>4</th>\n",
       "      <td>[[0.8235732991036843, 0.8335732991036843, 0.01...</td>\n",
       "      <td>[30, 1, 60, 62]</td>\n",
       "    </tr>\n",
       "    <tr>\n",
       "      <th>...</th>\n",
       "      <td>...</td>\n",
       "      <td>...</td>\n",
       "    </tr>\n",
       "    <tr>\n",
       "      <th>295</th>\n",
       "      <td>[[0.01, 0.01, 0.01, 0.01], [0.03, 0.01, 0.03, ...</td>\n",
       "      <td>[20, 15, 6, 4, 55, 30]</td>\n",
       "    </tr>\n",
       "    <tr>\n",
       "      <th>296</th>\n",
       "      <td>[[0.01, 0.01, 0.04277581285149856, 0.095551625...</td>\n",
       "      <td>[19, 19, 28, 37]</td>\n",
       "    </tr>\n",
       "    <tr>\n",
       "      <th>297</th>\n",
       "      <td>[[0.20534981110932282, 0.1953498111093228, 0.0...</td>\n",
       "      <td>[30, 31, 8, 55, 28, 29]</td>\n",
       "    </tr>\n",
       "    <tr>\n",
       "      <th>298</th>\n",
       "      <td>[[0.01, 0.01, 0.01, 0.01], [0.01, 0.03, 0.01, ...</td>\n",
       "      <td>[7, 21, 13, 55]</td>\n",
       "    </tr>\n",
       "    <tr>\n",
       "      <th>299</th>\n",
       "      <td>[[0.7870758504796386, 0.7770758504796386, 0.01...</td>\n",
       "      <td>[8, 31, 29, 52]</td>\n",
       "    </tr>\n",
       "  </tbody>\n",
       "</table>\n",
       "<p>300 rows × 2 columns</p>\n",
       "</div>"
      ],
      "text/plain": [
       "                                                   t01  \\\n",
       "0    [[0.47419259402578307, 0.01, 0.474192594025783...   \n",
       "1    [[0.01, 0.01, 0.01, 0.01], [0.02, 0.01, 0.04, ...   \n",
       "2    [[0.7650931994812707, 0.7550931994812707, 0.01...   \n",
       "3    [[0.01, 0.18999161913056528, 0.01, 0.209991619...   \n",
       "4    [[0.8235732991036843, 0.8335732991036843, 0.01...   \n",
       "..                                                 ...   \n",
       "295  [[0.01, 0.01, 0.01, 0.01], [0.03, 0.01, 0.03, ...   \n",
       "296  [[0.01, 0.01, 0.04277581285149856, 0.095551625...   \n",
       "297  [[0.20534981110932282, 0.1953498111093228, 0.0...   \n",
       "298  [[0.01, 0.01, 0.01, 0.01], [0.01, 0.03, 0.01, ...   \n",
       "299  [[0.7870758504796386, 0.7770758504796386, 0.01...   \n",
       "\n",
       "                            y  \n",
       "0    [24, 26, 29, 31, 39, 45]  \n",
       "1             [7, 12, 22, 54]  \n",
       "2             [12, 8, 60, 29]  \n",
       "3     [19, 11, 6, 20, 46, 12]  \n",
       "4             [30, 1, 60, 62]  \n",
       "..                        ...  \n",
       "295    [20, 15, 6, 4, 55, 30]  \n",
       "296          [19, 19, 28, 37]  \n",
       "297   [30, 31, 8, 55, 28, 29]  \n",
       "298           [7, 21, 13, 55]  \n",
       "299           [8, 31, 29, 52]  \n",
       "\n",
       "[300 rows x 2 columns]"
      ]
     },
     "execution_count": 31,
     "metadata": {},
     "output_type": "execute_result"
    }
   ],
   "source": [
    "dsa"
   ]
  },
  {
   "cell_type": "code",
   "execution_count": 32,
   "id": "273c7eac-db47-4309-8867-ca2d4e0c9c33",
   "metadata": {},
   "outputs": [],
   "source": [
    "dev = qml.device(\"default.qubit\", wires=n_qubits)\n",
    "\n",
    "@qml.qnode(dev)\n",
    "def qnode(inputs, weights):\n",
    "    qml.AngleEmbedding(inputs, wires=range(n_qubits))\n",
    "    qml.BasicEntanglerLayers(weights, wires=range(n_qubits))\n",
    "    return qml.probs(wires=range(n_qubits))"
   ]
  },
  {
   "cell_type": "code",
   "execution_count": 33,
   "id": "2f47ff02-25ec-4042-9a94-14950166c1f8",
   "metadata": {},
   "outputs": [],
   "source": [
    "n_layers = 6\n",
    "weight_shapes = {\"weights\": (n_layers, n_qubits)}"
   ]
  },
  {
   "cell_type": "code",
   "execution_count": 34,
   "id": "d7886989-ead6-4015-ba01-5576b2515222",
   "metadata": {},
   "outputs": [],
   "source": [
    "qlayer = qml.qnn.TorchLayer(qnode, weight_shapes)"
   ]
  },
  {
   "cell_type": "code",
   "execution_count": null,
   "id": "f02b0705-528c-4376-96c8-3d2e430cd112",
   "metadata": {},
   "outputs": [],
   "source": []
  },
  {
   "cell_type": "code",
   "execution_count": 35,
   "id": "80bcde37-1753-4bb4-809e-b58a60720dbe",
   "metadata": {},
   "outputs": [],
   "source": [
    "input_size = nnodes * 2\n",
    "hidden_size = input_size - 2\n",
    "code_size = n_qubits\n",
    "encoder_hidden_layer = nn.Linear(\n",
    "            in_features=input_size, out_features=hidden_size\n",
    "        )\n",
    "encoder_output_layer = nn.Linear(\n",
    "            in_features=hidden_size, out_features=code_size\n",
    "        )"
   ]
  },
  {
   "cell_type": "code",
   "execution_count": null,
   "id": "24fae945-1c36-4012-9461-9168cbcb2d3e",
   "metadata": {},
   "outputs": [],
   "source": []
  },
  {
   "cell_type": "code",
   "execution_count": 13,
   "id": "39e79761-2b08-44b8-acd8-d2fa01c60c8a",
   "metadata": {},
   "outputs": [],
   "source": [
    "layers = [encoder_hidden_layer, encoder_output_layer, qlayer]\n",
    "model = torch.nn.Sequential(*layers)"
   ]
  },
  {
   "cell_type": "code",
   "execution_count": 37,
   "id": "d7828ffc-5fa7-4650-8c9e-fced606562ed",
   "metadata": {},
   "outputs": [],
   "source": [
    "#optimizer = torch.optim.SGD(model.parameters(), lr=0.2)\n",
    "#criterion = torch.nn.L1Loss()\n",
    "optimizer = torch.optim.Adam(model.parameters(), lr=1e-3)\n",
    "criterion = nn.MSELoss()"
   ]
  },
  {
   "cell_type": "code",
   "execution_count": 38,
   "id": "906717f6-a32a-44ec-92a8-01624d9e6100",
   "metadata": {},
   "outputs": [],
   "source": [
    "class CustomDataset(Dataset):\n",
    "    def __init__(self, ds, n, q, transform=None):\n",
    "        self.ds_full = ds\n",
    "        self.n = n\n",
    "        self.q = q\n",
    "        self.x_csv = self.ds_full[[\"t01\"]]\n",
    "        self.y_csv = self.ds_full[[\"y\"]]\n",
    "        self.transform = transform\n",
    "\n",
    "    def __len__(self):\n",
    "        return len(self.x_csv)\n",
    "\n",
    "    def __getitem__(self, idx):\n",
    "        x = np.array(self.x_csv.iloc[idx].tolist()[0])\n",
    "        y = np.zeros(2**self.q)\n",
    "        for i in self.y_csv.iloc[idx].tolist()[0]:\n",
    "            #011000 24\n",
    "            y[i] = 1\n",
    "        if self.transform:\n",
    "            x = self.transform(x)\n",
    "            y = self.transform(y)\n",
    "        return x, y"
   ]
  },
  {
   "cell_type": "code",
   "execution_count": 39,
   "id": "9df1b87f-5810-47c4-8dc7-b995c6837287",
   "metadata": {},
   "outputs": [],
   "source": [
    "batch_size = 1\n",
    "transform = torchvision.transforms.Lambda(lambda y: torch.from_numpy(y).float())\n",
    "\n",
    "train_dataset = CustomDataset(dsa, nnodes, n_qubits, transform)\n",
    "\n",
    "train_loader = torch.utils.data.DataLoader(\n",
    "    train_dataset, batch_size=batch_size, shuffle=True, pin_memory=True\n",
    ")\n",
    "\n",
    "test_loader = torch.utils.data.DataLoader(\n",
    "    train_dataset, batch_size=batch_size, shuffle=False\n",
    ")"
   ]
  },
  {
   "cell_type": "code",
   "execution_count": 40,
   "id": "95e2a8df-9c23-4e08-8be1-c0105524d4f4",
   "metadata": {},
   "outputs": [
    {
     "name": "stdout",
     "output_type": "stream",
     "text": [
      "epoch : 1/30, loss = 0.073198\n",
      "epoch : 2/30, loss = 0.072905\n",
      "epoch : 3/30, loss = 0.072750\n",
      "epoch : 4/30, loss = 0.072641\n"
     ]
    },
    {
     "ename": "KeyboardInterrupt",
     "evalue": "",
     "output_type": "error",
     "traceback": [
      "\u001b[0;31m---------------------------------------------------------------------------\u001b[0m",
      "\u001b[0;31mKeyboardInterrupt\u001b[0m                         Traceback (most recent call last)",
      "\u001b[0;32m/tmp/ipykernel_43371/3142090221.py\u001b[0m in \u001b[0;36m<module>\u001b[0;34m\u001b[0m\n\u001b[1;32m     11\u001b[0m         \u001b[0mtrain_loss\u001b[0m \u001b[0;34m=\u001b[0m \u001b[0mcriterion\u001b[0m\u001b[0;34m(\u001b[0m\u001b[0moutputs\u001b[0m\u001b[0;34m,\u001b[0m \u001b[0my_batch\u001b[0m\u001b[0;34m)\u001b[0m\u001b[0;34m\u001b[0m\u001b[0;34m\u001b[0m\u001b[0m\n\u001b[1;32m     12\u001b[0m \u001b[0;34m\u001b[0m\u001b[0m\n\u001b[0;32m---> 13\u001b[0;31m         \u001b[0mtrain_loss\u001b[0m\u001b[0;34m.\u001b[0m\u001b[0mbackward\u001b[0m\u001b[0;34m(\u001b[0m\u001b[0;34m)\u001b[0m\u001b[0;34m\u001b[0m\u001b[0;34m\u001b[0m\u001b[0m\n\u001b[0m\u001b[1;32m     14\u001b[0m \u001b[0;34m\u001b[0m\u001b[0m\n\u001b[1;32m     15\u001b[0m         \u001b[0moptimizer\u001b[0m\u001b[0;34m.\u001b[0m\u001b[0mstep\u001b[0m\u001b[0;34m(\u001b[0m\u001b[0;34m)\u001b[0m\u001b[0;34m\u001b[0m\u001b[0;34m\u001b[0m\u001b[0m\n",
      "\u001b[0;32m~/.local/lib/python3.8/site-packages/torch/_tensor.py\u001b[0m in \u001b[0;36mbackward\u001b[0;34m(self, gradient, retain_graph, create_graph, inputs)\u001b[0m\n\u001b[1;32m    305\u001b[0m                 \u001b[0mcreate_graph\u001b[0m\u001b[0;34m=\u001b[0m\u001b[0mcreate_graph\u001b[0m\u001b[0;34m,\u001b[0m\u001b[0;34m\u001b[0m\u001b[0;34m\u001b[0m\u001b[0m\n\u001b[1;32m    306\u001b[0m                 inputs=inputs)\n\u001b[0;32m--> 307\u001b[0;31m         \u001b[0mtorch\u001b[0m\u001b[0;34m.\u001b[0m\u001b[0mautograd\u001b[0m\u001b[0;34m.\u001b[0m\u001b[0mbackward\u001b[0m\u001b[0;34m(\u001b[0m\u001b[0mself\u001b[0m\u001b[0;34m,\u001b[0m \u001b[0mgradient\u001b[0m\u001b[0;34m,\u001b[0m \u001b[0mretain_graph\u001b[0m\u001b[0;34m,\u001b[0m \u001b[0mcreate_graph\u001b[0m\u001b[0;34m,\u001b[0m \u001b[0minputs\u001b[0m\u001b[0;34m=\u001b[0m\u001b[0minputs\u001b[0m\u001b[0;34m)\u001b[0m\u001b[0;34m\u001b[0m\u001b[0;34m\u001b[0m\u001b[0m\n\u001b[0m\u001b[1;32m    308\u001b[0m \u001b[0;34m\u001b[0m\u001b[0m\n\u001b[1;32m    309\u001b[0m     \u001b[0;32mdef\u001b[0m \u001b[0mregister_hook\u001b[0m\u001b[0;34m(\u001b[0m\u001b[0mself\u001b[0m\u001b[0;34m,\u001b[0m \u001b[0mhook\u001b[0m\u001b[0;34m)\u001b[0m\u001b[0;34m:\u001b[0m\u001b[0;34m\u001b[0m\u001b[0;34m\u001b[0m\u001b[0m\n",
      "\u001b[0;32m~/.local/lib/python3.8/site-packages/torch/autograd/__init__.py\u001b[0m in \u001b[0;36mbackward\u001b[0;34m(tensors, grad_tensors, retain_graph, create_graph, grad_variables, inputs)\u001b[0m\n\u001b[1;32m    152\u001b[0m         \u001b[0mretain_graph\u001b[0m \u001b[0;34m=\u001b[0m \u001b[0mcreate_graph\u001b[0m\u001b[0;34m\u001b[0m\u001b[0;34m\u001b[0m\u001b[0m\n\u001b[1;32m    153\u001b[0m \u001b[0;34m\u001b[0m\u001b[0m\n\u001b[0;32m--> 154\u001b[0;31m     Variable._execution_engine.run_backward(\n\u001b[0m\u001b[1;32m    155\u001b[0m         \u001b[0mtensors\u001b[0m\u001b[0;34m,\u001b[0m \u001b[0mgrad_tensors_\u001b[0m\u001b[0;34m,\u001b[0m \u001b[0mretain_graph\u001b[0m\u001b[0;34m,\u001b[0m \u001b[0mcreate_graph\u001b[0m\u001b[0;34m,\u001b[0m \u001b[0minputs\u001b[0m\u001b[0;34m,\u001b[0m\u001b[0;34m\u001b[0m\u001b[0;34m\u001b[0m\u001b[0m\n\u001b[1;32m    156\u001b[0m         allow_unreachable=True, accumulate_grad=True)  # allow_unreachable flag\n",
      "\u001b[0;31mKeyboardInterrupt\u001b[0m: "
     ]
    }
   ],
   "source": [
    "epochs=30\n",
    "for epoch in range(epochs):\n",
    "    loss = 0\n",
    "    for batch_features, y_batch in train_loader:\n",
    "        batch_features = batch_features.view(-1, input_size)\n",
    "        \n",
    "        optimizer.zero_grad()\n",
    "        \n",
    "        outputs = model(batch_features)\n",
    "        \n",
    "        train_loss = criterion(outputs, y_batch)\n",
    "        \n",
    "        train_loss.backward()\n",
    "        \n",
    "        optimizer.step()\n",
    "        \n",
    "        loss += train_loss.item()\n",
    "    \n",
    "    loss = loss / len(train_loader)\n",
    "    \n",
    "    print(\"epoch : {}/{}, loss = {:.6f}\".format(epoch + 1, epochs, loss))"
   ]
  },
  {
   "cell_type": "code",
   "execution_count": null,
   "id": "74044a6b-7b22-43af-a65f-bd2e04eb4314",
   "metadata": {},
   "outputs": [],
   "source": []
  },
  {
   "cell_type": "code",
   "execution_count": null,
   "id": "9c3a5dbd-28c9-43e2-9761-a26876acb074",
   "metadata": {},
   "outputs": [],
   "source": []
  },
  {
   "cell_type": "code",
   "execution_count": 41,
   "id": "4cd48a84-21ef-45e8-aab0-4d051fac506a",
   "metadata": {},
   "outputs": [
    {
     "data": {
      "text/plain": [
       "tensor([[0.3756, 0.0100, 0.3656, 0.0200, 0.3856, 0.0100, 0.0200, 0.3956]])"
      ]
     },
     "execution_count": 41,
     "metadata": {},
     "output_type": "execute_result"
    }
   ],
   "source": [
    "batch_features"
   ]
  },
  {
   "cell_type": "code",
   "execution_count": 42,
   "id": "08584b88-d730-481f-8492-79cdb8cbff7e",
   "metadata": {},
   "outputs": [
    {
     "data": {
      "text/plain": [
       "tensor([[0.3756, 0.0100, 0.3656, 0.0200, 0.3856, 0.0100, 0.0200, 0.3956]])"
      ]
     },
     "execution_count": 42,
     "metadata": {},
     "output_type": "execute_result"
    }
   ],
   "source": [
    "batch_features"
   ]
  },
  {
   "cell_type": "code",
   "execution_count": 43,
   "id": "a3b182b7-6b88-4cd2-9550-b8550bf3577c",
   "metadata": {},
   "outputs": [],
   "source": [
    "outputs = model(batch_features)"
   ]
  },
  {
   "cell_type": "code",
   "execution_count": 44,
   "id": "1aabb253-a843-4dee-94f8-2a507b6dd620",
   "metadata": {},
   "outputs": [
    {
     "data": {
      "text/plain": [
       "tensor([[0.0007, 0.0077, 0.0177, 0.0085, 0.0438, 0.0296, 0.0092, 0.0360, 0.0071,\n",
       "         0.0093, 0.0037, 0.0042, 0.0249, 0.0526, 0.0161, 0.0430, 0.0122, 0.0211,\n",
       "         0.0011, 0.0152, 0.0077, 0.0436, 0.0259, 0.0216, 0.0072, 0.0304, 0.0112,\n",
       "         0.0021, 0.0342, 0.0463, 0.0429, 0.0146, 0.0025, 0.0123, 0.0015, 0.0018,\n",
       "         0.0110, 0.0081, 0.0157, 0.0225, 0.0077, 0.0032, 0.0117, 0.0003, 0.0133,\n",
       "         0.0083, 0.0124, 0.0372, 0.0113, 0.0049, 0.0123, 0.0057, 0.0106, 0.0164,\n",
       "         0.0098, 0.0024, 0.0203, 0.0131, 0.0197, 0.0004, 0.0058, 0.0009, 0.0054,\n",
       "         0.0399]], grad_fn=<StackBackward0>)"
      ]
     },
     "execution_count": 44,
     "metadata": {},
     "output_type": "execute_result"
    }
   ],
   "source": [
    "outputs"
   ]
  },
  {
   "cell_type": "code",
   "execution_count": 45,
   "id": "a33b18cb-f0d5-48f2-96de-ebf509ddd6ef",
   "metadata": {},
   "outputs": [
    {
     "data": {
      "text/plain": [
       "array([[13, 29,  4, 21, 15, 30, 63, 47,  7, 28, 25,  5, 22, 12, 39, 23,\n",
       "        17, 56, 58,  2, 53, 14, 38, 19, 31, 44, 57, 46, 50, 33, 16, 42,\n",
       "        48, 26, 36, 52, 54,  9,  6,  3, 45, 37,  1, 40, 20, 24,  8, 60,\n",
       "        51, 62, 49, 11, 10, 41, 32, 55, 27, 35, 34, 18, 61,  0, 59, 43]])"
      ]
     },
     "execution_count": 45,
     "metadata": {},
     "output_type": "execute_result"
    }
   ],
   "source": [
    "np.flip(np.argsort(outputs.detach().numpy()))"
   ]
  },
  {
   "cell_type": "code",
   "execution_count": 46,
   "id": "0d84eb9d-f3f5-4082-828d-d37284097df3",
   "metadata": {},
   "outputs": [
    {
     "data": {
      "text/plain": [
       "tensor([[ 0,  2],\n",
       "        [ 0,  4],\n",
       "        [ 0, 24],\n",
       "        [ 0, 27],\n",
       "        [ 0, 39],\n",
       "        [ 0, 62]])"
      ]
     },
     "execution_count": 46,
     "metadata": {},
     "output_type": "execute_result"
    }
   ],
   "source": [
    "np.nonzero(y_batch)"
   ]
  },
  {
   "cell_type": "markdown",
   "id": "411b7216-7b70-4329-9831-01e910e77c73",
   "metadata": {},
   "source": [
    "## testing"
   ]
  },
  {
   "cell_type": "code",
   "execution_count": 53,
   "id": "a459d05c-e05f-47e8-89e2-bbd34c118f5b",
   "metadata": {},
   "outputs": [],
   "source": [
    "path = \"tiny_dummy_qhack_test.csv\""
   ]
  },
  {
   "cell_type": "code",
   "execution_count": 54,
   "id": "a34fdfcc-7a58-4620-95a5-3ae4739074ba",
   "metadata": {},
   "outputs": [
    {
     "data": {
      "text/html": [
       "<div>\n",
       "<style scoped>\n",
       "    .dataframe tbody tr th:only-of-type {\n",
       "        vertical-align: middle;\n",
       "    }\n",
       "\n",
       "    .dataframe tbody tr th {\n",
       "        vertical-align: top;\n",
       "    }\n",
       "\n",
       "    .dataframe thead th {\n",
       "        text-align: right;\n",
       "    }\n",
       "</style>\n",
       "<table border=\"1\" class=\"dataframe\">\n",
       "  <thead>\n",
       "    <tr style=\"text-align: right;\">\n",
       "      <th></th>\n",
       "      <th>vertices</th>\n",
       "      <th>experiment</th>\n",
       "      <th>t0</th>\n",
       "      <th>t1</th>\n",
       "    </tr>\n",
       "  </thead>\n",
       "  <tbody>\n",
       "    <tr>\n",
       "      <th>0</th>\n",
       "      <td>v0</td>\n",
       "      <td>1</td>\n",
       "      <td>0.060</td>\n",
       "      <td>0.060</td>\n",
       "    </tr>\n",
       "    <tr>\n",
       "      <th>1</th>\n",
       "      <td>v1</td>\n",
       "      <td>1</td>\n",
       "      <td>0.070</td>\n",
       "      <td>0.070</td>\n",
       "    </tr>\n",
       "    <tr>\n",
       "      <th>2</th>\n",
       "      <td>v2</td>\n",
       "      <td>1</td>\n",
       "      <td>0.500</td>\n",
       "      <td>0.065</td>\n",
       "    </tr>\n",
       "    <tr>\n",
       "      <th>3</th>\n",
       "      <td>v3</td>\n",
       "      <td>1</td>\n",
       "      <td>0.060</td>\n",
       "      <td>0.450</td>\n",
       "    </tr>\n",
       "    <tr>\n",
       "      <th>4</th>\n",
       "      <td>v0</td>\n",
       "      <td>2</td>\n",
       "      <td>0.060</td>\n",
       "      <td>0.050</td>\n",
       "    </tr>\n",
       "    <tr>\n",
       "      <th>5</th>\n",
       "      <td>v1</td>\n",
       "      <td>2</td>\n",
       "      <td>0.070</td>\n",
       "      <td>0.060</td>\n",
       "    </tr>\n",
       "    <tr>\n",
       "      <th>6</th>\n",
       "      <td>v2</td>\n",
       "      <td>2</td>\n",
       "      <td>0.065</td>\n",
       "      <td>0.060</td>\n",
       "    </tr>\n",
       "    <tr>\n",
       "      <th>7</th>\n",
       "      <td>v3</td>\n",
       "      <td>2</td>\n",
       "      <td>0.450</td>\n",
       "      <td>0.060</td>\n",
       "    </tr>\n",
       "    <tr>\n",
       "      <th>8</th>\n",
       "      <td>v0</td>\n",
       "      <td>3</td>\n",
       "      <td>0.050</td>\n",
       "      <td>0.050</td>\n",
       "    </tr>\n",
       "    <tr>\n",
       "      <th>9</th>\n",
       "      <td>v1</td>\n",
       "      <td>3</td>\n",
       "      <td>0.060</td>\n",
       "      <td>0.060</td>\n",
       "    </tr>\n",
       "    <tr>\n",
       "      <th>10</th>\n",
       "      <td>v2</td>\n",
       "      <td>3</td>\n",
       "      <td>0.060</td>\n",
       "      <td>0.050</td>\n",
       "    </tr>\n",
       "    <tr>\n",
       "      <th>11</th>\n",
       "      <td>v3</td>\n",
       "      <td>3</td>\n",
       "      <td>0.060</td>\n",
       "      <td>0.050</td>\n",
       "    </tr>\n",
       "    <tr>\n",
       "      <th>12</th>\n",
       "      <td>v0</td>\n",
       "      <td>4</td>\n",
       "      <td>0.050</td>\n",
       "      <td>0.050</td>\n",
       "    </tr>\n",
       "    <tr>\n",
       "      <th>13</th>\n",
       "      <td>v1</td>\n",
       "      <td>4</td>\n",
       "      <td>0.060</td>\n",
       "      <td>0.060</td>\n",
       "    </tr>\n",
       "    <tr>\n",
       "      <th>14</th>\n",
       "      <td>v2</td>\n",
       "      <td>4</td>\n",
       "      <td>0.050</td>\n",
       "      <td>0.050</td>\n",
       "    </tr>\n",
       "    <tr>\n",
       "      <th>15</th>\n",
       "      <td>v3</td>\n",
       "      <td>4</td>\n",
       "      <td>0.050</td>\n",
       "      <td>0.050</td>\n",
       "    </tr>\n",
       "  </tbody>\n",
       "</table>\n",
       "</div>"
      ],
      "text/plain": [
       "   vertices  experiment     t0     t1\n",
       "0        v0           1  0.060  0.060\n",
       "1        v1           1  0.070  0.070\n",
       "2        v2           1  0.500  0.065\n",
       "3        v3           1  0.060  0.450\n",
       "4        v0           2  0.060  0.050\n",
       "5        v1           2  0.070  0.060\n",
       "6        v2           2  0.065  0.060\n",
       "7        v3           2  0.450  0.060\n",
       "8        v0           3  0.050  0.050\n",
       "9        v1           3  0.060  0.060\n",
       "10       v2           3  0.060  0.050\n",
       "11       v3           3  0.060  0.050\n",
       "12       v0           4  0.050  0.050\n",
       "13       v1           4  0.060  0.060\n",
       "14       v2           4  0.050  0.050\n",
       "15       v3           4  0.050  0.050"
      ]
     },
     "execution_count": 54,
     "metadata": {},
     "output_type": "execute_result"
    }
   ],
   "source": [
    "dstemp = pd.read_csv(path)\n",
    "dstemp"
   ]
  },
  {
   "cell_type": "code",
   "execution_count": 62,
   "id": "de887336-9652-40b2-8ac7-b0b89bba4b1c",
   "metadata": {},
   "outputs": [
    {
     "data": {
      "text/html": [
       "<div>\n",
       "<style scoped>\n",
       "    .dataframe tbody tr th:only-of-type {\n",
       "        vertical-align: middle;\n",
       "    }\n",
       "\n",
       "    .dataframe tbody tr th {\n",
       "        vertical-align: top;\n",
       "    }\n",
       "\n",
       "    .dataframe thead th {\n",
       "        text-align: right;\n",
       "    }\n",
       "</style>\n",
       "<table border=\"1\" class=\"dataframe\">\n",
       "  <thead>\n",
       "    <tr style=\"text-align: right;\">\n",
       "      <th></th>\n",
       "      <th>t01</th>\n",
       "      <th>y</th>\n",
       "    </tr>\n",
       "  </thead>\n",
       "  <tbody>\n",
       "    <tr>\n",
       "      <th>0</th>\n",
       "      <td>[[0.06, 0.07, 0.5, 0.06], [0.06, 0.07, 0.065, ...</td>\n",
       "      <td>[8, 25, 7, 6]</td>\n",
       "    </tr>\n",
       "    <tr>\n",
       "      <th>1</th>\n",
       "      <td>[[0.06, 0.07, 0.065, 0.45], [0.05, 0.06, 0.06,...</td>\n",
       "      <td>[8, 25, 7, 6]</td>\n",
       "    </tr>\n",
       "    <tr>\n",
       "      <th>2</th>\n",
       "      <td>[[0.05, 0.06, 0.06, 0.06], [0.05, 0.06, 0.05, ...</td>\n",
       "      <td>[8, 25, 7, 6]</td>\n",
       "    </tr>\n",
       "    <tr>\n",
       "      <th>3</th>\n",
       "      <td>[[0.05, 0.06, 0.05, 0.05], [0.05, 0.06, 0.05, ...</td>\n",
       "      <td>[8, 25, 7, 6]</td>\n",
       "    </tr>\n",
       "  </tbody>\n",
       "</table>\n",
       "</div>"
      ],
      "text/plain": [
       "                                                 t01              y\n",
       "0  [[0.06, 0.07, 0.5, 0.06], [0.06, 0.07, 0.065, ...  [8, 25, 7, 6]\n",
       "1  [[0.06, 0.07, 0.065, 0.45], [0.05, 0.06, 0.06,...  [8, 25, 7, 6]\n",
       "2  [[0.05, 0.06, 0.06, 0.06], [0.05, 0.06, 0.05, ...  [8, 25, 7, 6]\n",
       "3  [[0.05, 0.06, 0.05, 0.05], [0.05, 0.06, 0.05, ...  [8, 25, 7, 6]"
      ]
     },
     "execution_count": 62,
     "metadata": {},
     "output_type": "execute_result"
    }
   ],
   "source": [
    "t01_list = [dstemp[['t0','t1']].iloc[f*4:(f+1)*4].values.T for f in range(4)]\n",
    "y_list = [[8,25,7,6] for i in range(4)]\n",
    "dst = pd.DataFrame({'t01':t01_list,'y':y_list})\n",
    "dst"
   ]
  },
  {
   "cell_type": "code",
   "execution_count": 63,
   "id": "8bff36a1-5936-4b03-9303-f5754fc65dce",
   "metadata": {},
   "outputs": [],
   "source": [
    "n = 1\n",
    "transform = torchvision.transforms.Lambda(lambda y: torch.from_numpy(y).float())\n",
    "\n",
    "test_dataset = CustomDataset(dst, nnodes, n_qubits, transform)\n",
    "\n",
    "test_loader = torch.utils.data.DataLoader(\n",
    "    test_dataset, batch_size=batch_size, shuffle=False, pin_memory=True\n",
    ")\n"
   ]
  },
  {
   "cell_type": "code",
   "execution_count": 66,
   "id": "42521dfd-0c31-452d-b3e2-c73a6b6e3462",
   "metadata": {},
   "outputs": [
    {
     "data": {
      "text/plain": [
       "[array([[13, 15, 29, 21,  4, 30, 63, 47,  7, 28, 25,  5, 22, 12, 39, 23,\n",
       "         58, 17, 56,  2, 14, 38, 19, 53, 31, 44, 57, 26, 50, 42, 33, 46,\n",
       "         16, 48, 52, 36,  6,  3, 54,  9, 37, 45, 20,  1, 24, 60, 40,  8,\n",
       "         49, 10, 62, 51, 41, 11, 55, 27, 32, 35, 34, 18, 61,  0, 43, 59]]),\n",
       " array([[13, 29, 21,  4, 30, 15, 63, 25, 47, 28,  7,  5, 17, 22, 12, 39,\n",
       "         56, 53, 23, 38,  2, 19, 58, 14, 31, 16, 54, 33, 46, 48, 36, 57,\n",
       "          9,  8, 52, 44, 40, 50, 45,  6, 37, 24, 20,  1, 42, 51,  3, 11,\n",
       "         60, 26, 62, 49, 41, 32, 27, 35, 10, 34, 55,  0, 61, 59, 18, 43]]),\n",
       " array([[13, 29,  4, 21, 30, 63, 15,  7,  5, 47, 28, 25, 17, 12, 39, 22,\n",
       "         56, 23, 53, 58, 38, 14, 19,  2, 31, 54, 46, 16,  8, 57, 40, 36,\n",
       "         48, 44, 33, 45, 52, 50,  9,  6, 24, 37,  1, 42, 20,  3, 51, 11,\n",
       "         62, 26, 60, 32, 49, 41, 35,  0, 55, 61, 27, 10, 18, 34, 59, 43]]),\n",
       " array([[13, 29,  4, 21, 30, 63, 15,  7,  5, 47, 28, 25, 17, 12, 39, 56,\n",
       "         22, 23, 53, 58, 38, 14, 19,  2, 31, 54,  8, 46, 16, 57, 40, 36,\n",
       "         48, 44, 33, 45, 52,  9, 50,  6, 24, 37,  1, 42, 20, 51,  3, 11,\n",
       "         62, 26, 60, 32, 49, 41, 35,  0, 55, 61, 27, 10, 18, 34, 59, 43]])]"
      ]
     },
     "execution_count": 66,
     "metadata": {},
     "output_type": "execute_result"
    }
   ],
   "source": [
    "experiments = []\n",
    "outputs_list = []\n",
    "for batch_features, _ in test_loader:\n",
    "    batch_features = batch_features.view(-1, input_size)\n",
    "    batch_features\n",
    "    outputs = model(batch_features)\n",
    "    outputs_list.append(outputs)\n",
    "    experiments.append(np.flip(np.argsort(outputs.detach().numpy())))\n",
    "experiments"
   ]
  },
  {
   "cell_type": "code",
   "execution_count": 85,
   "id": "658d3874-823e-47d6-a5dc-8556dd93fd8c",
   "metadata": {},
   "outputs": [],
   "source": [
    "results = np.flip(np.argsort(sum(outputs_list).detach().numpy()))"
   ]
  },
  {
   "cell_type": "code",
   "execution_count": 79,
   "id": "cf3ff058-3d77-4677-a5ae-27044544b244",
   "metadata": {},
   "outputs": [
    {
     "data": {
      "text/plain": [
       "(0.21034093, 0.0015496378)"
      ]
     },
     "execution_count": 79,
     "metadata": {},
     "output_type": "execute_result"
    }
   ],
   "source": [
    "np.max(sum(outputs_list).detach().numpy()),np.min(sum(outputs_list).detach().numpy())"
   ]
  },
  {
   "cell_type": "code",
   "execution_count": 84,
   "id": "372491ee-2f4b-4207-b29e-27e7aee9feeb",
   "metadata": {},
   "outputs": [
    {
     "data": {
      "text/plain": [
       "tensor(0.1255, grad_fn=<SelectBackward0>)"
      ]
     },
     "execution_count": 84,
     "metadata": {},
     "output_type": "execute_result"
    }
   ],
   "source": [
    "sum(outputs_list)[0][25]"
   ]
  },
  {
   "cell_type": "code",
   "execution_count": 91,
   "id": "3ebd1a8a-d676-45f9-8e8d-ba8310b44b99",
   "metadata": {},
   "outputs": [],
   "source": [
    "results_bin = [np.binary_repr(f, width=n_qubits) for f in results.tolist()[0]]"
   ]
  },
  {
   "cell_type": "code",
   "execution_count": 97,
   "id": "155c91d7-9bd2-4fab-a286-e8bd88343dbb",
   "metadata": {},
   "outputs": [
    {
     "data": {
      "text/plain": [
       "['001101',\n",
       " '011101',\n",
       " '000100',\n",
       " '010101',\n",
       " '011110',\n",
       " '001111',\n",
       " '111111',\n",
       " '101111',\n",
       " '000111',\n",
       " '011100',\n",
       " '000101',\n",
       " '011001']"
      ]
     },
     "execution_count": 97,
     "metadata": {},
     "output_type": "execute_result"
    }
   ],
   "source": [
    "results_bin[:12]"
   ]
  },
  {
   "cell_type": "code",
   "execution_count": 96,
   "id": "59d13cef-023d-4bf8-9677-a4dd924baa84",
   "metadata": {},
   "outputs": [
    {
     "data": {
      "text/plain": [
       "[13, 29, 4, 21, 30, 15, 63, 47, 7, 28, 5, 25]"
      ]
     },
     "execution_count": 96,
     "metadata": {},
     "output_type": "execute_result"
    }
   ],
   "source": [
    "results.tolist()[0][:12]"
   ]
  },
  {
   "cell_type": "markdown",
   "id": "4523a7a4-cea0-4e71-8227-3e4addf4e669",
   "metadata": {},
   "source": [
    "## testing2"
   ]
  },
  {
   "cell_type": "code",
   "execution_count": 98,
   "id": "e500cc0b-0602-4828-8a7a-6c3ebea2efb4",
   "metadata": {},
   "outputs": [
    {
     "data": {
      "text/html": [
       "<div>\n",
       "<style scoped>\n",
       "    .dataframe tbody tr th:only-of-type {\n",
       "        vertical-align: middle;\n",
       "    }\n",
       "\n",
       "    .dataframe tbody tr th {\n",
       "        vertical-align: top;\n",
       "    }\n",
       "\n",
       "    .dataframe thead th {\n",
       "        text-align: right;\n",
       "    }\n",
       "</style>\n",
       "<table border=\"1\" class=\"dataframe\">\n",
       "  <thead>\n",
       "    <tr style=\"text-align: right;\">\n",
       "      <th></th>\n",
       "      <th>vertices</th>\n",
       "      <th>experiment</th>\n",
       "      <th>t0</th>\n",
       "      <th>t1</th>\n",
       "    </tr>\n",
       "  </thead>\n",
       "  <tbody>\n",
       "    <tr>\n",
       "      <th>0</th>\n",
       "      <td>v0</td>\n",
       "      <td>1</td>\n",
       "      <td>0.50</td>\n",
       "      <td>0.10</td>\n",
       "    </tr>\n",
       "    <tr>\n",
       "      <th>1</th>\n",
       "      <td>v1</td>\n",
       "      <td>1</td>\n",
       "      <td>0.03</td>\n",
       "      <td>0.45</td>\n",
       "    </tr>\n",
       "    <tr>\n",
       "      <th>2</th>\n",
       "      <td>v2</td>\n",
       "      <td>1</td>\n",
       "      <td>0.50</td>\n",
       "      <td>0.04</td>\n",
       "    </tr>\n",
       "    <tr>\n",
       "      <th>3</th>\n",
       "      <td>v3</td>\n",
       "      <td>1</td>\n",
       "      <td>0.60</td>\n",
       "      <td>0.80</td>\n",
       "    </tr>\n",
       "    <tr>\n",
       "      <th>4</th>\n",
       "      <td>v0</td>\n",
       "      <td>2</td>\n",
       "      <td>0.10</td>\n",
       "      <td>0.07</td>\n",
       "    </tr>\n",
       "    <tr>\n",
       "      <th>5</th>\n",
       "      <td>v1</td>\n",
       "      <td>2</td>\n",
       "      <td>0.45</td>\n",
       "      <td>0.10</td>\n",
       "    </tr>\n",
       "    <tr>\n",
       "      <th>6</th>\n",
       "      <td>v2</td>\n",
       "      <td>2</td>\n",
       "      <td>0.04</td>\n",
       "      <td>0.04</td>\n",
       "    </tr>\n",
       "    <tr>\n",
       "      <th>7</th>\n",
       "      <td>v3</td>\n",
       "      <td>2</td>\n",
       "      <td>0.80</td>\n",
       "      <td>0.50</td>\n",
       "    </tr>\n",
       "    <tr>\n",
       "      <th>8</th>\n",
       "      <td>v0</td>\n",
       "      <td>3</td>\n",
       "      <td>0.07</td>\n",
       "      <td>0.05</td>\n",
       "    </tr>\n",
       "    <tr>\n",
       "      <th>9</th>\n",
       "      <td>v1</td>\n",
       "      <td>3</td>\n",
       "      <td>0.10</td>\n",
       "      <td>0.06</td>\n",
       "    </tr>\n",
       "    <tr>\n",
       "      <th>10</th>\n",
       "      <td>v2</td>\n",
       "      <td>3</td>\n",
       "      <td>0.04</td>\n",
       "      <td>0.03</td>\n",
       "    </tr>\n",
       "    <tr>\n",
       "      <th>11</th>\n",
       "      <td>v3</td>\n",
       "      <td>3</td>\n",
       "      <td>0.50</td>\n",
       "      <td>0.15</td>\n",
       "    </tr>\n",
       "    <tr>\n",
       "      <th>12</th>\n",
       "      <td>v0</td>\n",
       "      <td>4</td>\n",
       "      <td>0.05</td>\n",
       "      <td>0.04</td>\n",
       "    </tr>\n",
       "    <tr>\n",
       "      <th>13</th>\n",
       "      <td>v1</td>\n",
       "      <td>4</td>\n",
       "      <td>0.06</td>\n",
       "      <td>0.04</td>\n",
       "    </tr>\n",
       "    <tr>\n",
       "      <th>14</th>\n",
       "      <td>v2</td>\n",
       "      <td>4</td>\n",
       "      <td>0.03</td>\n",
       "      <td>0.03</td>\n",
       "    </tr>\n",
       "    <tr>\n",
       "      <th>15</th>\n",
       "      <td>v3</td>\n",
       "      <td>4</td>\n",
       "      <td>0.15</td>\n",
       "      <td>0.10</td>\n",
       "    </tr>\n",
       "    <tr>\n",
       "      <th>16</th>\n",
       "      <td>v0</td>\n",
       "      <td>5</td>\n",
       "      <td>0.04</td>\n",
       "      <td>0.04</td>\n",
       "    </tr>\n",
       "    <tr>\n",
       "      <th>17</th>\n",
       "      <td>v1</td>\n",
       "      <td>5</td>\n",
       "      <td>0.04</td>\n",
       "      <td>0.04</td>\n",
       "    </tr>\n",
       "    <tr>\n",
       "      <th>18</th>\n",
       "      <td>v2</td>\n",
       "      <td>5</td>\n",
       "      <td>0.03</td>\n",
       "      <td>0.03</td>\n",
       "    </tr>\n",
       "    <tr>\n",
       "      <th>19</th>\n",
       "      <td>v3</td>\n",
       "      <td>5</td>\n",
       "      <td>0.10</td>\n",
       "      <td>0.07</td>\n",
       "    </tr>\n",
       "    <tr>\n",
       "      <th>20</th>\n",
       "      <td>v0</td>\n",
       "      <td>6</td>\n",
       "      <td>0.04</td>\n",
       "      <td>0.04</td>\n",
       "    </tr>\n",
       "    <tr>\n",
       "      <th>21</th>\n",
       "      <td>v1</td>\n",
       "      <td>6</td>\n",
       "      <td>0.04</td>\n",
       "      <td>0.04</td>\n",
       "    </tr>\n",
       "    <tr>\n",
       "      <th>22</th>\n",
       "      <td>v2</td>\n",
       "      <td>6</td>\n",
       "      <td>0.03</td>\n",
       "      <td>0.03</td>\n",
       "    </tr>\n",
       "    <tr>\n",
       "      <th>23</th>\n",
       "      <td>v3</td>\n",
       "      <td>6</td>\n",
       "      <td>0.07</td>\n",
       "      <td>0.07</td>\n",
       "    </tr>\n",
       "    <tr>\n",
       "      <th>24</th>\n",
       "      <td>v0</td>\n",
       "      <td>7</td>\n",
       "      <td>0.04</td>\n",
       "      <td>0.04</td>\n",
       "    </tr>\n",
       "    <tr>\n",
       "      <th>25</th>\n",
       "      <td>v1</td>\n",
       "      <td>7</td>\n",
       "      <td>0.04</td>\n",
       "      <td>0.04</td>\n",
       "    </tr>\n",
       "    <tr>\n",
       "      <th>26</th>\n",
       "      <td>v2</td>\n",
       "      <td>7</td>\n",
       "      <td>0.03</td>\n",
       "      <td>0.03</td>\n",
       "    </tr>\n",
       "    <tr>\n",
       "      <th>27</th>\n",
       "      <td>v3</td>\n",
       "      <td>7</td>\n",
       "      <td>0.07</td>\n",
       "      <td>0.07</td>\n",
       "    </tr>\n",
       "  </tbody>\n",
       "</table>\n",
       "</div>"
      ],
      "text/plain": [
       "   vertices  experiment    t0    t1\n",
       "0        v0           1  0.50  0.10\n",
       "1        v1           1  0.03  0.45\n",
       "2        v2           1  0.50  0.04\n",
       "3        v3           1  0.60  0.80\n",
       "4        v0           2  0.10  0.07\n",
       "5        v1           2  0.45  0.10\n",
       "6        v2           2  0.04  0.04\n",
       "7        v3           2  0.80  0.50\n",
       "8        v0           3  0.07  0.05\n",
       "9        v1           3  0.10  0.06\n",
       "10       v2           3  0.04  0.03\n",
       "11       v3           3  0.50  0.15\n",
       "12       v0           4  0.05  0.04\n",
       "13       v1           4  0.06  0.04\n",
       "14       v2           4  0.03  0.03\n",
       "15       v3           4  0.15  0.10\n",
       "16       v0           5  0.04  0.04\n",
       "17       v1           5  0.04  0.04\n",
       "18       v2           5  0.03  0.03\n",
       "19       v3           5  0.10  0.07\n",
       "20       v0           6  0.04  0.04\n",
       "21       v1           6  0.04  0.04\n",
       "22       v2           6  0.03  0.03\n",
       "23       v3           6  0.07  0.07\n",
       "24       v0           7  0.04  0.04\n",
       "25       v1           7  0.04  0.04\n",
       "26       v2           7  0.03  0.03\n",
       "27       v3           7  0.07  0.07"
      ]
     },
     "execution_count": 98,
     "metadata": {},
     "output_type": "execute_result"
    }
   ],
   "source": [
    "ds"
   ]
  },
  {
   "cell_type": "code",
   "execution_count": 100,
   "id": "81aeabcb-4de5-4646-a629-979d4fa7e0da",
   "metadata": {},
   "outputs": [
    {
     "data": {
      "text/html": [
       "<div>\n",
       "<style scoped>\n",
       "    .dataframe tbody tr th:only-of-type {\n",
       "        vertical-align: middle;\n",
       "    }\n",
       "\n",
       "    .dataframe tbody tr th {\n",
       "        vertical-align: top;\n",
       "    }\n",
       "\n",
       "    .dataframe thead th {\n",
       "        text-align: right;\n",
       "    }\n",
       "</style>\n",
       "<table border=\"1\" class=\"dataframe\">\n",
       "  <thead>\n",
       "    <tr style=\"text-align: right;\">\n",
       "      <th></th>\n",
       "      <th>t01</th>\n",
       "      <th>y</th>\n",
       "    </tr>\n",
       "  </thead>\n",
       "  <tbody>\n",
       "    <tr>\n",
       "      <th>0</th>\n",
       "      <td>[[0.5, 0.03, 0.5, 0.6], [0.1, 0.45, 0.04, 0.8]]</td>\n",
       "      <td>[24, 19, 5, 15, 23]</td>\n",
       "    </tr>\n",
       "    <tr>\n",
       "      <th>1</th>\n",
       "      <td>[[0.1, 0.45, 0.04, 0.8], [0.07, 0.1, 0.04, 0.5]]</td>\n",
       "      <td>[24, 19, 5, 15, 23]</td>\n",
       "    </tr>\n",
       "    <tr>\n",
       "      <th>2</th>\n",
       "      <td>[[0.07, 0.1, 0.04, 0.5], [0.05, 0.06, 0.03, 0....</td>\n",
       "      <td>[24, 19, 5, 15, 23]</td>\n",
       "    </tr>\n",
       "    <tr>\n",
       "      <th>3</th>\n",
       "      <td>[[0.05, 0.06, 0.03, 0.15], [0.04, 0.04, 0.03, ...</td>\n",
       "      <td>[24, 19, 5, 15, 23]</td>\n",
       "    </tr>\n",
       "    <tr>\n",
       "      <th>4</th>\n",
       "      <td>[[0.04, 0.04, 0.03, 0.1], [0.04, 0.04, 0.03, 0...</td>\n",
       "      <td>[24, 19, 5, 15, 23]</td>\n",
       "    </tr>\n",
       "    <tr>\n",
       "      <th>5</th>\n",
       "      <td>[[0.04, 0.04, 0.03, 0.07], [0.04, 0.04, 0.03, ...</td>\n",
       "      <td>[24, 19, 5, 15, 23]</td>\n",
       "    </tr>\n",
       "    <tr>\n",
       "      <th>6</th>\n",
       "      <td>[[0.04, 0.04, 0.03, 0.07], [0.04, 0.04, 0.03, ...</td>\n",
       "      <td>[24, 19, 5, 15, 23]</td>\n",
       "    </tr>\n",
       "  </tbody>\n",
       "</table>\n",
       "</div>"
      ],
      "text/plain": [
       "                                                 t01                    y\n",
       "0    [[0.5, 0.03, 0.5, 0.6], [0.1, 0.45, 0.04, 0.8]]  [24, 19, 5, 15, 23]\n",
       "1   [[0.1, 0.45, 0.04, 0.8], [0.07, 0.1, 0.04, 0.5]]  [24, 19, 5, 15, 23]\n",
       "2  [[0.07, 0.1, 0.04, 0.5], [0.05, 0.06, 0.03, 0....  [24, 19, 5, 15, 23]\n",
       "3  [[0.05, 0.06, 0.03, 0.15], [0.04, 0.04, 0.03, ...  [24, 19, 5, 15, 23]\n",
       "4  [[0.04, 0.04, 0.03, 0.1], [0.04, 0.04, 0.03, 0...  [24, 19, 5, 15, 23]\n",
       "5  [[0.04, 0.04, 0.03, 0.07], [0.04, 0.04, 0.03, ...  [24, 19, 5, 15, 23]\n",
       "6  [[0.04, 0.04, 0.03, 0.07], [0.04, 0.04, 0.03, ...  [24, 19, 5, 15, 23]"
      ]
     },
     "execution_count": 100,
     "metadata": {},
     "output_type": "execute_result"
    }
   ],
   "source": [
    "t01_list = [ds[['t0','t1']].iloc[f*4:(f+1)*4].values.T for f in range(7)]\n",
    "y_list = [[24,19,5,15,23] for i in range(7)]\n",
    "dst2 = pd.DataFrame({'t01':t01_list,'y':y_list})\n",
    "dst2"
   ]
  },
  {
   "cell_type": "code",
   "execution_count": 103,
   "id": "80accedc-3630-4339-bc2d-8306bbe2d4b5",
   "metadata": {},
   "outputs": [],
   "source": [
    "n = 1\n",
    "transform = torchvision.transforms.Lambda(lambda y: torch.from_numpy(y).float())\n",
    "\n",
    "test_dataset = CustomDataset(dst2, nnodes, n_qubits, transform)\n",
    "\n",
    "test_loader = torch.utils.data.DataLoader(\n",
    "    test_dataset, batch_size=batch_size, shuffle=False, pin_memory=True\n",
    ")\n"
   ]
  },
  {
   "cell_type": "code",
   "execution_count": 104,
   "id": "034f2cbf-f2b7-487d-a22b-e1f7e2f6d619",
   "metadata": {},
   "outputs": [
    {
     "data": {
      "text/plain": [
       "[array([[13, 15, 29, 21,  4, 63, 30, 47, 28,  7, 25, 22,  5, 12, 39,  2,\n",
       "         58, 23, 31, 56, 14, 33, 16, 19, 38, 17, 57, 44, 26, 42, 46, 53,\n",
       "         50, 52,  9, 48, 36, 54,  6, 20,  3, 10, 45, 60, 37, 49,  1, 24,\n",
       "         51, 40,  8, 62, 27, 34, 11, 55, 41, 18, 35, 61, 43, 32, 59,  0]]),\n",
       " array([[13, 21, 29,  4, 25, 15, 63, 30,  5, 47, 28, 22,  7, 39, 12, 17,\n",
       "         19,  2, 56, 38, 31, 53, 16, 33, 54,  9, 14, 52, 36, 48, 46, 23,\n",
       "          8, 57, 58, 50,  6, 45, 24, 40, 37,  1, 20, 44, 11, 60, 51, 42,\n",
       "          3, 26, 62, 49, 27, 10, 34, 41, 59, 32, 35, 55, 18, 61,  0, 43]]),\n",
       " array([[13, 29, 21,  4, 30, 15, 63, 25, 47, 28,  7,  5, 17, 22, 12, 39,\n",
       "         56, 53,  2, 19, 38, 23, 31, 14, 58, 16, 33, 54, 46,  9, 48, 36,\n",
       "         57, 52,  8, 44, 40, 50, 45,  6, 24, 37, 20,  1, 42, 11, 51,  3,\n",
       "         60, 26, 62, 49, 41, 32, 27, 10, 34, 35, 55, 59,  0, 61, 18, 43]]),\n",
       " array([[13, 29,  4, 21, 30, 63, 15,  7, 47,  5, 28, 25, 17, 12, 39, 22,\n",
       "         56, 53, 23, 58, 38, 19,  2, 14, 31, 16, 54, 46,  8, 40, 57, 33,\n",
       "         36, 48, 44,  9, 52, 45, 50,  6, 24,  1, 37, 20, 42, 51,  3, 11,\n",
       "         62, 26, 60, 49, 32, 41, 35,  0, 55, 27, 10, 61, 34, 18, 59, 43]]),\n",
       " array([[13, 29,  4, 21, 30, 63, 15,  7,  5, 47, 28, 25, 17, 12, 39, 56,\n",
       "         22, 53, 23, 58, 38, 14, 19,  2, 31, 16, 54, 46,  8, 40, 57, 36,\n",
       "         48, 44, 33, 45, 52,  9, 50,  6, 24,  1, 37, 42, 20, 51,  3, 11,\n",
       "         62, 26, 60, 32, 49, 41, 35,  0, 55, 27, 61, 10, 18, 34, 59, 43]]),\n",
       " array([[13, 29,  4, 21, 30, 63, 15,  7,  5, 47, 28, 25, 17, 12, 39, 56,\n",
       "         22, 53, 23, 58, 38, 14, 19,  2, 31, 16, 54, 46,  8, 40, 57, 36,\n",
       "         44, 48, 33, 45, 52, 50,  9, 24,  6,  1, 37, 42, 20, 51,  3, 11,\n",
       "         62, 26, 60, 32, 49, 41, 35,  0, 55, 61, 27, 10, 18, 34, 59, 43]]),\n",
       " array([[13, 29,  4, 21, 30, 63, 15,  7,  5, 47, 28, 25, 17, 12, 39, 56,\n",
       "         22, 53, 23, 58, 38, 14, 19,  2, 31, 16, 54, 46,  8, 40, 57, 36,\n",
       "         44, 48, 33, 45, 52, 50,  9, 24,  6,  1, 37, 42, 20, 51,  3, 11,\n",
       "         62, 26, 60, 32, 49, 41, 35,  0, 55, 61, 27, 10, 18, 34, 59, 43]])]"
      ]
     },
     "execution_count": 104,
     "metadata": {},
     "output_type": "execute_result"
    }
   ],
   "source": [
    "experiments = []\n",
    "outputs_list = []\n",
    "for batch_features, _ in test_loader:\n",
    "    batch_features = batch_features.view(-1, input_size)\n",
    "    batch_features\n",
    "    outputs = model(batch_features)\n",
    "    outputs_list.append(outputs)\n",
    "    experiments.append(np.flip(np.argsort(outputs.detach().numpy())))\n",
    "experiments"
   ]
  },
  {
   "cell_type": "code",
   "execution_count": 105,
   "id": "eb29d164-d103-470a-9f58-1043e281a353",
   "metadata": {},
   "outputs": [],
   "source": [
    "results = np.flip(np.argsort(sum(outputs_list).detach().numpy()))"
   ]
  },
  {
   "cell_type": "code",
   "execution_count": 106,
   "id": "96f8ca2a-acc5-4f37-99d7-9fb961eccd65",
   "metadata": {},
   "outputs": [
    {
     "data": {
      "text/plain": [
       "(0.36945578, 0.002905326)"
      ]
     },
     "execution_count": 106,
     "metadata": {},
     "output_type": "execute_result"
    }
   ],
   "source": [
    "np.max(sum(outputs_list).detach().numpy()),np.min(sum(outputs_list).detach().numpy())"
   ]
  },
  {
   "cell_type": "code",
   "execution_count": 107,
   "id": "68057a39-3705-4fe0-83e3-2a12351fc873",
   "metadata": {},
   "outputs": [],
   "source": [
    "results_bin = [np.binary_repr(f, width=n_qubits) for f in results.tolist()[0]]"
   ]
  },
  {
   "cell_type": "code",
   "execution_count": 116,
   "id": "88e42eeb-393f-4780-b9ab-c35708c9f7f2",
   "metadata": {},
   "outputs": [
    {
     "data": {
      "text/plain": [
       "tensor(0.2230, grad_fn=<SelectBackward0>)"
      ]
     },
     "execution_count": 116,
     "metadata": {},
     "output_type": "execute_result"
    }
   ],
   "source": [
    "sum(outputs_list)[0][5]"
   ]
  },
  {
   "cell_type": "code",
   "execution_count": 114,
   "id": "e73d2e74-3a79-47a0-a562-74543d690381",
   "metadata": {},
   "outputs": [
    {
     "data": {
      "text/plain": [
       "[13, 29, 4, 21, 30, 15, 63, 25, 47, 7, 28, 5]"
      ]
     },
     "execution_count": 114,
     "metadata": {},
     "output_type": "execute_result"
    }
   ],
   "source": [
    "results.tolist()[0][:12]"
   ]
  },
  {
   "cell_type": "code",
   "execution_count": null,
   "id": "392fe5bc-c2cf-46fb-9523-9f6ce46f02d5",
   "metadata": {},
   "outputs": [],
   "source": [
    "[24,19,5,15,23]"
   ]
  },
  {
   "cell_type": "code",
   "execution_count": 115,
   "id": "93093739-d5c0-49fc-9fa8-e62e7048734e",
   "metadata": {},
   "outputs": [
    {
     "data": {
      "text/plain": [
       "['001101',\n",
       " '011101',\n",
       " '000100',\n",
       " '010101',\n",
       " '011110',\n",
       " '001111',\n",
       " '111111',\n",
       " '011001',\n",
       " '101111',\n",
       " '000111',\n",
       " '011100',\n",
       " '000101']"
      ]
     },
     "execution_count": 115,
     "metadata": {},
     "output_type": "execute_result"
    }
   ],
   "source": [
    "results_bin[:12]"
   ]
  },
  {
   "cell_type": "code",
   "execution_count": null,
   "id": "a938399f-fdc2-447e-8916-a5037346b78a",
   "metadata": {},
   "outputs": [],
   "source": []
  }
 ],
 "metadata": {
  "kernelspec": {
   "display_name": "Python 3 (ipykernel)",
   "language": "python",
   "name": "python3"
  },
  "language_info": {
   "codemirror_mode": {
    "name": "ipython",
    "version": 3
   },
   "file_extension": ".py",
   "mimetype": "text/x-python",
   "name": "python",
   "nbconvert_exporter": "python",
   "pygments_lexer": "ipython3",
   "version": "3.8.10"
  }
 },
 "nbformat": 4,
 "nbformat_minor": 5
}
