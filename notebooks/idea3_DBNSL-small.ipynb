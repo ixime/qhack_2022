{
 "cells": [
  {
   "cell_type": "markdown",
   "id": "aba3e955",
   "metadata": {},
   "source": [
    "## 3rd variant\n",
    "### Dynamic Bayesian Network Structure Learning with quantum circuit structure learning.\n",
    "This is an example with real test data and dummy generated training data of 24 variables, that means 48 vertices (24 for t and 24 for t+1).    \n",
    "n_qubits=2 * ceil(log2(2 * nnodes)) -> for nnodes = 24, n_qubits = 12    \n",
    "where first six digits correspond to vertice where the edge begins and six last digits correspond to vertice where edge ends i.e. 000010000101 corresponds to: vertice_2 ---> vertice_5  \n",
    "\n",
    "It was tested with two sets of test data at the end of the notebook. The last test is with real data\n"
   ]
  },
  {
   "cell_type": "code",
   "execution_count": 1,
   "id": "25a1f619",
   "metadata": {},
   "outputs": [
    {
     "name": "stdout",
     "output_type": "stream",
     "text": [
      "Looking in links: https://download.pytorch.org/whl/cpu/torch_stable.html\n",
      "Requirement already satisfied: torch==1.10.2+cpu in /home/ec2-user/anaconda3/envs/Braket/lib/python3.7/site-packages (1.10.2+cpu)\n",
      "Requirement already satisfied: torchvision==0.11.3+cpu in /home/ec2-user/anaconda3/envs/Braket/lib/python3.7/site-packages (0.11.3+cpu)\n",
      "Requirement already satisfied: typing-extensions in /home/ec2-user/anaconda3/envs/Braket/lib/python3.7/site-packages (from torch==1.10.2+cpu) (3.7.4.3)\n",
      "Requirement already satisfied: pillow!=8.3.0,>=5.3.0 in /home/ec2-user/anaconda3/envs/Braket/lib/python3.7/site-packages (from torchvision==0.11.3+cpu) (9.0.1)\n",
      "Requirement already satisfied: numpy in /home/ec2-user/anaconda3/envs/Braket/lib/python3.7/site-packages (from torchvision==0.11.3+cpu) (1.19.2)\n"
     ]
    }
   ],
   "source": [
    "! pip3 install torch==1.10.2+cpu torchvision==0.11.3+cpu -f https://download.pytorch.org/whl/cpu/torch_stable.html\n",
    "import pandas as pd\n",
    "from torch.utils.data import Dataset\n",
    "import torch\n",
    "import torchvision\n",
    "from torch import nn\n",
    "from pennylane import numpy as np\n",
    "import pennylane as qml\n",
    "import random\n",
    "import networkx as nx\n",
    "from matplotlib import pyplot as plt"
   ]
  },
  {
   "cell_type": "code",
   "execution_count": 2,
   "id": "d6d68766",
   "metadata": {},
   "outputs": [],
   "source": [
    "path = \"small_elu.csv\""
   ]
  },
  {
   "cell_type": "code",
   "execution_count": 3,
   "id": "1af0b976",
   "metadata": {},
   "outputs": [
    {
     "data": {
      "text/html": [
       "<div>\n",
       "<style scoped>\n",
       "    .dataframe tbody tr th:only-of-type {\n",
       "        vertical-align: middle;\n",
       "    }\n",
       "\n",
       "    .dataframe tbody tr th {\n",
       "        vertical-align: top;\n",
       "    }\n",
       "\n",
       "    .dataframe thead th {\n",
       "        text-align: right;\n",
       "    }\n",
       "</style>\n",
       "<table border=\"1\" class=\"dataframe\">\n",
       "  <thead>\n",
       "    <tr style=\"text-align: right;\">\n",
       "      <th></th>\n",
       "      <th>NAME</th>\n",
       "      <th>T</th>\n",
       "      <th>GENE</th>\n",
       "      <th>t0</th>\n",
       "      <th>t1</th>\n",
       "    </tr>\n",
       "  </thead>\n",
       "  <tbody>\n",
       "    <tr>\n",
       "      <th>0</th>\n",
       "      <td>YAL013W</td>\n",
       "      <td>0</td>\n",
       "      <td>DEP1</td>\n",
       "      <td>0.00</td>\n",
       "      <td>-0.23</td>\n",
       "    </tr>\n",
       "    <tr>\n",
       "      <th>1</th>\n",
       "      <td>YMR039C</td>\n",
       "      <td>0</td>\n",
       "      <td>SUB1</td>\n",
       "      <td>-0.10</td>\n",
       "      <td>-0.35</td>\n",
       "    </tr>\n",
       "    <tr>\n",
       "      <th>2</th>\n",
       "      <td>YDR207C</td>\n",
       "      <td>0</td>\n",
       "      <td>UME6</td>\n",
       "      <td>0.01</td>\n",
       "      <td>-0.19</td>\n",
       "    </tr>\n",
       "    <tr>\n",
       "      <th>3</th>\n",
       "      <td>YLR295C</td>\n",
       "      <td>0</td>\n",
       "      <td>ATP14</td>\n",
       "      <td>0.10</td>\n",
       "      <td>-0.05</td>\n",
       "    </tr>\n",
       "    <tr>\n",
       "      <th>4</th>\n",
       "      <td>YDR310C</td>\n",
       "      <td>0</td>\n",
       "      <td>SUM1</td>\n",
       "      <td>-0.09</td>\n",
       "      <td>-0.03</td>\n",
       "    </tr>\n",
       "    <tr>\n",
       "      <th>...</th>\n",
       "      <td>...</td>\n",
       "      <td>...</td>\n",
       "      <td>...</td>\n",
       "      <td>...</td>\n",
       "      <td>...</td>\n",
       "    </tr>\n",
       "    <tr>\n",
       "      <th>211</th>\n",
       "      <td>YLR229C</td>\n",
       "      <td>8</td>\n",
       "      <td>CDC42</td>\n",
       "      <td>0.33</td>\n",
       "      <td>0.04</td>\n",
       "    </tr>\n",
       "    <tr>\n",
       "      <th>212</th>\n",
       "      <td>YLR295C</td>\n",
       "      <td>8</td>\n",
       "      <td>ATP14</td>\n",
       "      <td>0.10</td>\n",
       "      <td>-0.10</td>\n",
       "    </tr>\n",
       "    <tr>\n",
       "      <th>213</th>\n",
       "      <td>YMR039C</td>\n",
       "      <td>8</td>\n",
       "      <td>SUB1</td>\n",
       "      <td>0.33</td>\n",
       "      <td>0.12</td>\n",
       "    </tr>\n",
       "    <tr>\n",
       "      <th>214</th>\n",
       "      <td>YGL167C</td>\n",
       "      <td>8</td>\n",
       "      <td>PMR1</td>\n",
       "      <td>-0.19</td>\n",
       "      <td>-0.13</td>\n",
       "    </tr>\n",
       "    <tr>\n",
       "      <th>215</th>\n",
       "      <td>YPL031C</td>\n",
       "      <td>8</td>\n",
       "      <td>PHO85</td>\n",
       "      <td>0.13</td>\n",
       "      <td>0.04</td>\n",
       "    </tr>\n",
       "  </tbody>\n",
       "</table>\n",
       "<p>216 rows × 5 columns</p>\n",
       "</div>"
      ],
      "text/plain": [
       "        NAME  T   GENE    t0    t1\n",
       "0    YAL013W  0   DEP1  0.00 -0.23\n",
       "1    YMR039C  0   SUB1 -0.10 -0.35\n",
       "2    YDR207C  0   UME6  0.01 -0.19\n",
       "3    YLR295C  0  ATP14  0.10 -0.05\n",
       "4    YDR310C  0   SUM1 -0.09 -0.03\n",
       "..       ... ..    ...   ...   ...\n",
       "211  YLR229C  8  CDC42  0.33  0.04\n",
       "212  YLR295C  8  ATP14  0.10 -0.10\n",
       "213  YMR039C  8   SUB1  0.33  0.12\n",
       "214  YGL167C  8   PMR1 -0.19 -0.13\n",
       "215  YPL031C  8  PHO85  0.13  0.04\n",
       "\n",
       "[216 rows x 5 columns]"
      ]
     },
     "execution_count": 3,
     "metadata": {},
     "output_type": "execute_result"
    }
   ],
   "source": [
    "ds = pd.read_csv(path)\n",
    "ds"
   ]
  },
  {
   "cell_type": "code",
   "execution_count": 52,
   "id": "22606279",
   "metadata": {},
   "outputs": [],
   "source": [
    "nnodes = 24\n",
    "ds = ds.sort_values(by=['T', 'NAME'])\n",
    "t01_list = [ds[['t0','t1']].iloc[f*nnodes:(f+1)*nnodes].values.T for f in range(len(ds)//nnodes)]\n",
    "dst = pd.DataFrame({'T':range(len(ds)//nnodes), 't01':t01_list})\n",
    "dst['y'] = [range(4) for i in range(9)]\n",
    "\n",
    "nodes_names = {f:ds[['NAME']].iloc[0:nnodes].values[f][0] for f in range(nnodes)}\n",
    "nodes_genes = {f:ds[['GENE']].iloc[0:nnodes].values[f][0] for f in range(nnodes)}"
   ]
  },
  {
   "cell_type": "code",
   "execution_count": 5,
   "id": "f7b31167",
   "metadata": {},
   "outputs": [],
   "source": [
    "scale = np.frompyfunc(lambda x, min, max: (x-min)/(max - min), 3, 1)\n",
    "\n",
    "def get_edges(n=4):\n",
    "    num_edges = random.randint(n, n+3)\n",
    "    e1 = [(random.randint(0, n-1),random.randint(0, (n*2)-1)) for f in range(num_edges//2)]\n",
    "    e2 = [(random.randint(0, (n*2)-1),random.randint(n, (n*2)-1)) for f in range(num_edges//2)]\n",
    "    return e1 + e2\n",
    "\n",
    "def get_t0(edges, weights, n=4):\n",
    "    t0 = np.zeros(n) + 0.01\n",
    "    edges0 = [edge for i in range(n) for edge in edges if edge[0] == i and edge[1] < n]\n",
    "    if len(edges0) > 0:\n",
    "        t0[edges0[0][0]] = random.random()\n",
    "        for edge in edges0:\n",
    "            t0[edge[1]] += weights[edge[0]] + weights[edge[1]] * t0[edge[0]]\n",
    "    return t0\n",
    "        \n",
    "def get_t1(edges, weights, t0, n=4):\n",
    "    t1 = np.zeros(n) + 0.01\n",
    "    edges1 = [edge for edge in edges if edge[1] >= n]\n",
    "    for edge in edges1:\n",
    "        if edge[0] < n:\n",
    "            t1[edge[1]-n] += weights[edge[0]] + weights[edge[1]-n] * t0[edge[0]]\n",
    "        else:\n",
    "            t1[edge[1]-n] += weights[edge[0]-n] + weights[edge[1]-n] * t1[edge[0]-n]\n",
    "    return t1"
   ]
  },
  {
   "cell_type": "code",
   "execution_count": 6,
   "id": "20374d91",
   "metadata": {},
   "outputs": [],
   "source": [
    "# generate training dataset\n",
    "exper = 1000\n",
    "n_qubits = 12\n",
    "arr_list = []\n",
    "edges_list = []\n",
    "for f in range(exper):\n",
    "    weights = [random.randint(1, 10)/10 for f in range(nnodes)]\n",
    "    edges = get_edges(n = nnodes)\n",
    "    t0 = get_t0(edges, weights, n = nnodes)\n",
    "    t1 = get_t1(edges, weights, t0, n = nnodes)\n",
    "    arr_list.append(scale(np.stack([t0,t1]),np.min(np.stack([t0,t1])), np.max(np.stack([t0,t1]))).astype(float))\n",
    "    edges_list.append(edges)\n",
    "arr = np.concatenate(arr_list, axis=1)"
   ]
  },
  {
   "cell_type": "code",
   "execution_count": 7,
   "id": "9013b360",
   "metadata": {},
   "outputs": [
    {
     "data": {
      "text/html": [
       "<div>\n",
       "<style scoped>\n",
       "    .dataframe tbody tr th:only-of-type {\n",
       "        vertical-align: middle;\n",
       "    }\n",
       "\n",
       "    .dataframe tbody tr th {\n",
       "        vertical-align: top;\n",
       "    }\n",
       "\n",
       "    .dataframe thead th {\n",
       "        text-align: right;\n",
       "    }\n",
       "</style>\n",
       "<table border=\"1\" class=\"dataframe\">\n",
       "  <thead>\n",
       "    <tr style=\"text-align: right;\">\n",
       "      <th></th>\n",
       "      <th>t01</th>\n",
       "    </tr>\n",
       "  </thead>\n",
       "  <tbody>\n",
       "    <tr>\n",
       "      <th>0</th>\n",
       "      <td>[[0.4501569750563418, 0.0, 0.48347083607219954...</td>\n",
       "    </tr>\n",
       "    <tr>\n",
       "      <th>1</th>\n",
       "      <td>[[0.5663022579008296, 0.3205531112507857, 0.0,...</td>\n",
       "    </tr>\n",
       "    <tr>\n",
       "      <th>2</th>\n",
       "      <td>[[0.0, 0.3137254901960785, 0.0, 0.0, 0.0, 0.37...</td>\n",
       "    </tr>\n",
       "    <tr>\n",
       "      <th>3</th>\n",
       "      <td>[[0.0, 0.3491913501692465, 0.0, 0.0, 0.0, 0.0,...</td>\n",
       "    </tr>\n",
       "    <tr>\n",
       "      <th>4</th>\n",
       "      <td>[[0.47087321475047395, 0.44445318492005736, 0....</td>\n",
       "    </tr>\n",
       "    <tr>\n",
       "      <th>...</th>\n",
       "      <td>...</td>\n",
       "    </tr>\n",
       "    <tr>\n",
       "      <th>995</th>\n",
       "      <td>[[0.0, 0.0, 0.031098514705232436, 0.0, 0.0, 0....</td>\n",
       "    </tr>\n",
       "    <tr>\n",
       "      <th>996</th>\n",
       "      <td>[[0.3141680401969776, 0.0, 0.0, 0.337894393270...</td>\n",
       "    </tr>\n",
       "    <tr>\n",
       "      <th>997</th>\n",
       "      <td>[[0.0, 0.0, 0.12675521957692537, 0.0, 0.0, 0.3...</td>\n",
       "    </tr>\n",
       "    <tr>\n",
       "      <th>998</th>\n",
       "      <td>[[0.4822413140228412, 0.0, 0.0, 0.223210315695...</td>\n",
       "    </tr>\n",
       "    <tr>\n",
       "      <th>999</th>\n",
       "      <td>[[0.0, 0.5954660305928885, 0.0, 0.0, 0.2563697...</td>\n",
       "    </tr>\n",
       "  </tbody>\n",
       "</table>\n",
       "<p>1000 rows × 1 columns</p>\n",
       "</div>"
      ],
      "text/plain": [
       "                                                   t01\n",
       "0    [[0.4501569750563418, 0.0, 0.48347083607219954...\n",
       "1    [[0.5663022579008296, 0.3205531112507857, 0.0,...\n",
       "2    [[0.0, 0.3137254901960785, 0.0, 0.0, 0.0, 0.37...\n",
       "3    [[0.0, 0.3491913501692465, 0.0, 0.0, 0.0, 0.0,...\n",
       "4    [[0.47087321475047395, 0.44445318492005736, 0....\n",
       "..                                                 ...\n",
       "995  [[0.0, 0.0, 0.031098514705232436, 0.0, 0.0, 0....\n",
       "996  [[0.3141680401969776, 0.0, 0.0, 0.337894393270...\n",
       "997  [[0.0, 0.0, 0.12675521957692537, 0.0, 0.0, 0.3...\n",
       "998  [[0.4822413140228412, 0.0, 0.0, 0.223210315695...\n",
       "999  [[0.0, 0.5954660305928885, 0.0, 0.0, 0.2563697...\n",
       "\n",
       "[1000 rows x 1 columns]"
      ]
     },
     "execution_count": 7,
     "metadata": {},
     "output_type": "execute_result"
    }
   ],
   "source": [
    "dsa = pd.DataFrame({'t01':arr_list})\n",
    "dsa"
   ]
  },
  {
   "cell_type": "code",
   "execution_count": 8,
   "id": "6949f4f6",
   "metadata": {},
   "outputs": [],
   "source": [
    "#int(\"110100010\",2) = 418\n",
    "edges_bin_list = [[np.binary_repr(ed[0], width=n_qubits//2) + np.binary_repr(ed[1], width=n_qubits//2)  for ed in edges] for edges in edges_list]\n",
    "ya_list = [[int(edge,2) for edge in edges] for edges in edges_bin_list]"
   ]
  },
  {
   "cell_type": "code",
   "execution_count": 9,
   "id": "c75ce392",
   "metadata": {},
   "outputs": [],
   "source": [
    "dsa['y'] = ya_list"
   ]
  },
  {
   "cell_type": "code",
   "execution_count": 10,
   "id": "7223044a",
   "metadata": {},
   "outputs": [
    {
     "data": {
      "text/html": [
       "<div>\n",
       "<style scoped>\n",
       "    .dataframe tbody tr th:only-of-type {\n",
       "        vertical-align: middle;\n",
       "    }\n",
       "\n",
       "    .dataframe tbody tr th {\n",
       "        vertical-align: top;\n",
       "    }\n",
       "\n",
       "    .dataframe thead th {\n",
       "        text-align: right;\n",
       "    }\n",
       "</style>\n",
       "<table border=\"1\" class=\"dataframe\">\n",
       "  <thead>\n",
       "    <tr style=\"text-align: right;\">\n",
       "      <th></th>\n",
       "      <th>t01</th>\n",
       "      <th>y</th>\n",
       "    </tr>\n",
       "  </thead>\n",
       "  <tbody>\n",
       "    <tr>\n",
       "      <th>0</th>\n",
       "      <td>[[0.4501569750563418, 0.0, 0.48347083607219954...</td>\n",
       "      <td>[128, 775, 1114, 417, 1052, 1243, 922, 268, 92...</td>\n",
       "    </tr>\n",
       "    <tr>\n",
       "      <th>1</th>\n",
       "      <td>[[0.5663022579008296, 0.3205531112507857, 0.0,...</td>\n",
       "      <td>[1308, 333, 769, 1485, 1390, 987, 1451, 1174, ...</td>\n",
       "    </tr>\n",
       "    <tr>\n",
       "      <th>2</th>\n",
       "      <td>[[0.0, 0.3137254901960785, 0.0, 0.0, 0.0, 0.37...</td>\n",
       "      <td>[879, 1508, 344, 903, 1089, 1293, 1263, 841, 1...</td>\n",
       "    </tr>\n",
       "    <tr>\n",
       "      <th>3</th>\n",
       "      <td>[[0.0, 0.3491913501692465, 0.0, 0.0, 0.0, 0.0,...</td>\n",
       "      <td>[865, 1171, 879, 988, 747, 206, 851, 1451, 263...</td>\n",
       "    </tr>\n",
       "    <tr>\n",
       "      <th>4</th>\n",
       "      <td>[[0.47087321475047395, 0.44445318492005736, 0....</td>\n",
       "      <td>[4, 1413, 966, 464, 321, 1353, 990, 1294, 685,...</td>\n",
       "    </tr>\n",
       "    <tr>\n",
       "      <th>...</th>\n",
       "      <td>...</td>\n",
       "      <td>...</td>\n",
       "    </tr>\n",
       "    <tr>\n",
       "      <th>995</th>\n",
       "      <td>[[0.0, 0.0, 0.031098514705232436, 0.0, 0.0, 0....</td>\n",
       "      <td>[238, 281, 857, 972, 483, 237, 146, 152, 1003,...</td>\n",
       "    </tr>\n",
       "    <tr>\n",
       "      <th>996</th>\n",
       "      <td>[[0.3141680401969776, 0.0, 0.0, 0.337894393270...</td>\n",
       "      <td>[482, 396, 1428, 548, 161, 1005, 652, 877, 920...</td>\n",
       "    </tr>\n",
       "    <tr>\n",
       "      <th>997</th>\n",
       "      <td>[[0.0, 0.0, 0.12675521957692537, 0.0, 0.0, 0.3...</td>\n",
       "      <td>[1390, 297, 554, 779, 46, 1304, 133, 1495, 853...</td>\n",
       "    </tr>\n",
       "    <tr>\n",
       "      <th>998</th>\n",
       "      <td>[[0.4822413140228412, 0.0, 0.0, 0.223210315695...</td>\n",
       "      <td>[1192, 843, 1408, 1060, 520, 926, 391, 517, 13...</td>\n",
       "    </tr>\n",
       "    <tr>\n",
       "      <th>999</th>\n",
       "      <td>[[0.0, 0.5954660305928885, 0.0, 0.0, 0.2563697...</td>\n",
       "      <td>[708, 1093, 289, 1002, 84, 488, 1433, 449, 204...</td>\n",
       "    </tr>\n",
       "  </tbody>\n",
       "</table>\n",
       "<p>1000 rows × 2 columns</p>\n",
       "</div>"
      ],
      "text/plain": [
       "                                                   t01  \\\n",
       "0    [[0.4501569750563418, 0.0, 0.48347083607219954...   \n",
       "1    [[0.5663022579008296, 0.3205531112507857, 0.0,...   \n",
       "2    [[0.0, 0.3137254901960785, 0.0, 0.0, 0.0, 0.37...   \n",
       "3    [[0.0, 0.3491913501692465, 0.0, 0.0, 0.0, 0.0,...   \n",
       "4    [[0.47087321475047395, 0.44445318492005736, 0....   \n",
       "..                                                 ...   \n",
       "995  [[0.0, 0.0, 0.031098514705232436, 0.0, 0.0, 0....   \n",
       "996  [[0.3141680401969776, 0.0, 0.0, 0.337894393270...   \n",
       "997  [[0.0, 0.0, 0.12675521957692537, 0.0, 0.0, 0.3...   \n",
       "998  [[0.4822413140228412, 0.0, 0.0, 0.223210315695...   \n",
       "999  [[0.0, 0.5954660305928885, 0.0, 0.0, 0.2563697...   \n",
       "\n",
       "                                                     y  \n",
       "0    [128, 775, 1114, 417, 1052, 1243, 922, 268, 92...  \n",
       "1    [1308, 333, 769, 1485, 1390, 987, 1451, 1174, ...  \n",
       "2    [879, 1508, 344, 903, 1089, 1293, 1263, 841, 1...  \n",
       "3    [865, 1171, 879, 988, 747, 206, 851, 1451, 263...  \n",
       "4    [4, 1413, 966, 464, 321, 1353, 990, 1294, 685,...  \n",
       "..                                                 ...  \n",
       "995  [238, 281, 857, 972, 483, 237, 146, 152, 1003,...  \n",
       "996  [482, 396, 1428, 548, 161, 1005, 652, 877, 920...  \n",
       "997  [1390, 297, 554, 779, 46, 1304, 133, 1495, 853...  \n",
       "998  [1192, 843, 1408, 1060, 520, 926, 391, 517, 13...  \n",
       "999  [708, 1093, 289, 1002, 84, 488, 1433, 449, 204...  \n",
       "\n",
       "[1000 rows x 2 columns]"
      ]
     },
     "execution_count": 10,
     "metadata": {},
     "output_type": "execute_result"
    }
   ],
   "source": [
    "dsa"
   ]
  },
  {
   "cell_type": "code",
   "execution_count": 11,
   "id": "710c7a60",
   "metadata": {},
   "outputs": [],
   "source": [
    "dev = qml.device(\"default.qubit\", wires=n_qubits)\n",
    "\n",
    "def RGen(param, generator, wires):\n",
    "    if generator == \"X\":\n",
    "        qml.RX(param, wires=wires)\n",
    "    elif generator == \"Y\":\n",
    "        qml.RY(param, wires=wires)\n",
    "    elif generator == \"Z\":\n",
    "        qml.RZ(param, wires=wires)\n",
    "\n",
    "\n",
    "def ansatz_rsel(params, generators, wires):\n",
    "    for i in range(wires):\n",
    "        RGen(params[i], generators[i], wires=i)\n",
    "    for i in range(wires-1):\n",
    "        qml.CNOT(wires=[i,i+1])\n",
    "    qml.CNOT(wires=[wires-1,0])\n",
    "\n",
    "@qml.qnode(dev)\n",
    "def qnode(inputs, weights, generators):\n",
    "    for i in range(nnodes):\n",
    "        qml.Rot(inputs[0,i], inputs[1,i], inputs[1,i]-inputs[0,i], wires=i%n_qubits)\n",
    "    for j in range(n_layers):\n",
    "        ansatz_rsel(weights[j*n_qubits:(j+1)*n_qubits], generators[j*n_qubits:(j+1)*n_qubits], n_qubits)\n",
    "    return qml.probs(wires=range(n_qubits))"
   ]
  },
  {
   "cell_type": "code",
   "execution_count": 12,
   "id": "c0d92c66",
   "metadata": {},
   "outputs": [],
   "source": [
    "def cost_rsel(params, generators, inputs, y):\n",
    "    probs = qnode(inputs, params, generators)\n",
    "    return np.mean((probs - np.array(y, requires_grad=False))**2)"
   ]
  },
  {
   "cell_type": "code",
   "execution_count": 13,
   "id": "2eecb319",
   "metadata": {},
   "outputs": [],
   "source": [
    "def error(predictions, y):\n",
    "    error = np.sum(abs(y.detach().numpy() - predictions))/len(y[0].detach().numpy())\n",
    "    return error"
   ]
  },
  {
   "cell_type": "code",
   "execution_count": 14,
   "id": "e4b9fb27",
   "metadata": {},
   "outputs": [],
   "source": [
    "def get_ranks(outputs, y, weighted = False):\n",
    "    rp = np.flip(np.argsort(outputs))\n",
    "    if weighted:\n",
    "        a = [np.argwhere(rp == x)[0][0]*outputs[x]*len(np.nonzero(y.detach().numpy())[1]) for x in np.nonzero(y.detach().numpy())[1]]\n",
    "    else:\n",
    "        a = [np.argwhere(rp == x)[0][0] for x in np.nonzero(y.detach().numpy())[1]]\n",
    "    return a\n",
    "\n",
    "def score(outputs, y, weighted = False):\n",
    "    ly = len(np.nonzero(y.detach().numpy())[1])\n",
    "    lo = len(y[0].detach().numpy())\n",
    "    ranks = get_ranks(outputs, y, weighted)\n",
    "    sr = sum(ranks)\n",
    "    sy = sum(range(ly))\n",
    "    sw = sum(range(lo-ly,lo))\n",
    "    return 1 - (sr - sy)/(sw - sy) "
   ]
  },
  {
   "cell_type": "code",
   "execution_count": 15,
   "id": "54fdc773",
   "metadata": {},
   "outputs": [],
   "source": [
    "class CustomDataset(Dataset):\n",
    "    def __init__(self, ds, n, q, transform=None):\n",
    "        self.ds_full = ds\n",
    "        self.n = n\n",
    "        self.q = q\n",
    "        self.x_csv = self.ds_full[[\"t01\"]]\n",
    "        self.y_csv = self.ds_full[[\"y\"]]\n",
    "        self.transform = transform\n",
    "\n",
    "    def __len__(self):\n",
    "        return len(self.x_csv)\n",
    "\n",
    "    def __getitem__(self, idx):\n",
    "        x = np.array(self.x_csv.iloc[idx].tolist())\n",
    "        y = np.zeros(2**self.q)\n",
    "        for i in self.y_csv.iloc[idx].tolist():\n",
    "            #011000 24\n",
    "            y[i] = 1/len(self.y_csv.iloc[idx].tolist()[0])\n",
    "        if self.transform:\n",
    "            x = self.transform(x)\n",
    "            y = self.transform(y)\n",
    "        return x, y"
   ]
  },
  {
   "cell_type": "code",
   "execution_count": 16,
   "id": "eafd8f51",
   "metadata": {},
   "outputs": [],
   "source": [
    "batch_size = 1\n",
    "transform = torchvision.transforms.Lambda(lambda y: torch.from_numpy(y).float())\n",
    "\n",
    "train_dataset = CustomDataset(dsa, nnodes, n_qubits, transform)\n",
    "\n",
    "train_loader = torch.utils.data.DataLoader(\n",
    "    train_dataset, batch_size=batch_size, shuffle=True, pin_memory=True\n",
    ")\n",
    "\n",
    "test_loader = torch.utils.data.DataLoader(\n",
    "    train_dataset, batch_size=batch_size, shuffle=False\n",
    ")"
   ]
  },
  {
   "cell_type": "code",
   "execution_count": 17,
   "id": "e56aa641",
   "metadata": {},
   "outputs": [],
   "source": [
    "opt = qml.optimize.RotoselectOptimizer()\n",
    "epochs=1\n",
    "n_layers = 1\n",
    "costs_rsel = []\n",
    "rng = np.random.default_rng(seed=432852)\n",
    "params_rsel = rng.random(size=n_layers * n_qubits, requires_grad=False) - 0.5\n",
    "generators = np.random.choice([\"X\", \"Y\", \"Z\"], n_layers * n_qubits, requires_grad=False)\n",
    "n_steps = 30"
   ]
  },
  {
   "cell_type": "code",
   "execution_count": null,
   "id": "613e192f",
   "metadata": {},
   "outputs": [
    {
     "name": "stderr",
     "output_type": "stream",
     "text": [
      "/home/ec2-user/anaconda3/envs/Braket/lib/python3.7/site-packages/pennylane/math/multi_dispatch.py:66: UserWarning: Contains tensors of types {'torch', 'autograd'}; dispatch will prioritize TensorFlow and PyTorch over autograd. Consider replacing Autograd with vanilla NumPy.\n",
      "  UserWarning,\n"
     ]
    },
    {
     "name": "stdout",
     "output_type": "stream",
     "text": [
      "epoch : 1/1, loss = 0.000054, error = 0.000486, score = 0.553186, weighted_score = 1.002914\n",
      "CPU times: user 1h 8min 12s, sys: 18.8 s, total: 1h 8min 31s\n",
      "Wall time: 1h 9min 12s\n"
     ]
    }
   ],
   "source": [
    "%%time\n",
    "cost_rotosel = []\n",
    "for epoch in range(epochs):\n",
    "    loss = 0\n",
    "    err = 0\n",
    "    metr = 0\n",
    "    wmetr = 0\n",
    "    for batch_features, y_batch in train_loader:\n",
    "        cost_rotosel.append(cost_rsel(params_rsel, generators, batch_features[0][0], y_batch[0]))\n",
    "        kwargs = {'inputs': np.array(batch_features[0][0]), 'y': np.array(y_batch[0])}\n",
    "        params_rsel, generators = opt.step(cost_rsel, params_rsel, generators, **kwargs)\n",
    "        outputs = qnode(batch_features[0][0], params_rsel, generators)\n",
    "        loss += cost_rotosel[-1]\n",
    "    \n",
    "        err += error(outputs, y_batch)\n",
    "\n",
    "        metr += score(outputs, y_batch, False)\n",
    "\n",
    "        wmetr += score(outputs, y_batch, True)\n",
    "\n",
    "    loss = loss / len(train_loader)\n",
    "\n",
    "    \n",
    "    err = err / len(train_loader)\n",
    "    \n",
    "    metr = metr / len(train_loader)\n",
    "\n",
    "    wmetr = wmetr / len(train_loader)\n",
    "\n",
    "    print(\"epoch : {}/{}, loss = {:.6f}, error = {:.6f}, score = {:.6f}, weighted_score = {:.6f}\".format(epoch + 1, \n",
    "                                                                                                        epochs, \n",
    "                                                                                                        loss, \n",
    "                                                                                                        err, \n",
    "                                                                                                        metr,\n",
    "                                                                                                        wmetr))"
   ]
  },
  {
   "cell_type": "code",
   "execution_count": null,
   "id": "e7d409ec",
   "metadata": {},
   "outputs": [],
   "source": []
  },
  {
   "cell_type": "markdown",
   "id": "78250f5f",
   "metadata": {},
   "source": [
    "## testing with generated data"
   ]
  },
  {
   "cell_type": "code",
   "execution_count": 19,
   "id": "26baf891",
   "metadata": {},
   "outputs": [],
   "source": [
    "# generate Testing dataset\n",
    "exper = 12\n",
    "num_res = 12\n",
    "arr_list = []\n",
    "edges_list = []\n",
    "edges = get_edges(n = nnodes)\n",
    "for f in range(exper):\n",
    "    weights = [random.randint(1, 10)/10 for f in range(nnodes)]\n",
    "    t0 = get_t0(edges, weights, n = nnodes)\n",
    "    t1 = get_t1(edges, weights, t0, n = nnodes)\n",
    "    arr_list.append(scale(np.stack([t0,t1]),np.min(np.stack([t0,t1])), np.max(np.stack([t0,t1]))).astype(float))\n",
    "    edges_list.append(edges)\n",
    "arr = np.concatenate(arr_list, axis=1)"
   ]
  },
  {
   "cell_type": "code",
   "execution_count": 20,
   "id": "b60557fa",
   "metadata": {},
   "outputs": [
    {
     "data": {
      "text/html": [
       "<div>\n",
       "<style scoped>\n",
       "    .dataframe tbody tr th:only-of-type {\n",
       "        vertical-align: middle;\n",
       "    }\n",
       "\n",
       "    .dataframe tbody tr th {\n",
       "        vertical-align: top;\n",
       "    }\n",
       "\n",
       "    .dataframe thead th {\n",
       "        text-align: right;\n",
       "    }\n",
       "</style>\n",
       "<table border=\"1\" class=\"dataframe\">\n",
       "  <thead>\n",
       "    <tr style=\"text-align: right;\">\n",
       "      <th></th>\n",
       "      <th>t01</th>\n",
       "    </tr>\n",
       "  </thead>\n",
       "  <tbody>\n",
       "    <tr>\n",
       "      <th>0</th>\n",
       "      <td>[[0.24292347358483268, 0.23389357943856584, 0....</td>\n",
       "    </tr>\n",
       "    <tr>\n",
       "      <th>1</th>\n",
       "      <td>[[0.31854984698320415, 0.2879873584280153, 0.0...</td>\n",
       "    </tr>\n",
       "    <tr>\n",
       "      <th>2</th>\n",
       "      <td>[[0.0659323242729218, 0.15736004056880679, 0.0...</td>\n",
       "    </tr>\n",
       "    <tr>\n",
       "      <th>3</th>\n",
       "      <td>[[0.20121466963226606, 0.2757415158406785, 0.0...</td>\n",
       "    </tr>\n",
       "    <tr>\n",
       "      <th>4</th>\n",
       "      <td>[[0.12603587272829841, 0.003995461655266278, 0...</td>\n",
       "    </tr>\n",
       "    <tr>\n",
       "      <th>5</th>\n",
       "      <td>[[0.18820530403541988, 0.13139060359429844, 0....</td>\n",
       "    </tr>\n",
       "    <tr>\n",
       "      <th>6</th>\n",
       "      <td>[[0.17854622441778403, 0.34618586731115486, 0....</td>\n",
       "    </tr>\n",
       "    <tr>\n",
       "      <th>7</th>\n",
       "      <td>[[0.17347286998066203, 0.24789527322213395, 0....</td>\n",
       "    </tr>\n",
       "    <tr>\n",
       "      <th>8</th>\n",
       "      <td>[[0.2937858265457177, 0.08700154190055322, 0.0...</td>\n",
       "    </tr>\n",
       "    <tr>\n",
       "      <th>9</th>\n",
       "      <td>[[0.18624304349106327, 0.04408903218031611, 0....</td>\n",
       "    </tr>\n",
       "    <tr>\n",
       "      <th>10</th>\n",
       "      <td>[[0.08083786064979374, 0.1809488903998266, 0.0...</td>\n",
       "    </tr>\n",
       "    <tr>\n",
       "      <th>11</th>\n",
       "      <td>[[0.17859684075707985, 0.2831675566063979, 0.0...</td>\n",
       "    </tr>\n",
       "  </tbody>\n",
       "</table>\n",
       "</div>"
      ],
      "text/plain": [
       "                                                  t01\n",
       "0   [[0.24292347358483268, 0.23389357943856584, 0....\n",
       "1   [[0.31854984698320415, 0.2879873584280153, 0.0...\n",
       "2   [[0.0659323242729218, 0.15736004056880679, 0.0...\n",
       "3   [[0.20121466963226606, 0.2757415158406785, 0.0...\n",
       "4   [[0.12603587272829841, 0.003995461655266278, 0...\n",
       "5   [[0.18820530403541988, 0.13139060359429844, 0....\n",
       "6   [[0.17854622441778403, 0.34618586731115486, 0....\n",
       "7   [[0.17347286998066203, 0.24789527322213395, 0....\n",
       "8   [[0.2937858265457177, 0.08700154190055322, 0.0...\n",
       "9   [[0.18624304349106327, 0.04408903218031611, 0....\n",
       "10  [[0.08083786064979374, 0.1809488903998266, 0.0...\n",
       "11  [[0.17859684075707985, 0.2831675566063979, 0.0..."
      ]
     },
     "execution_count": 20,
     "metadata": {},
     "output_type": "execute_result"
    }
   ],
   "source": [
    "dstest = pd.DataFrame({'t01':arr_list})\n",
    "dstest"
   ]
  },
  {
   "cell_type": "code",
   "execution_count": 21,
   "id": "74eba3ae",
   "metadata": {},
   "outputs": [],
   "source": [
    "#int(\"110100010\",2) = 418\n",
    "edges_bin_list = [[np.binary_repr(ed[0], width=n_qubits//2) + np.binary_repr(ed[1], width=n_qubits//2)  for ed in edges] for edges in edges_list]\n",
    "ya_list = [[int(edge,2) for edge in edges] for edges in edges_bin_list]"
   ]
  },
  {
   "cell_type": "code",
   "execution_count": 22,
   "id": "f7f0c61d",
   "metadata": {},
   "outputs": [
    {
     "data": {
      "text/html": [
       "<div>\n",
       "<style scoped>\n",
       "    .dataframe tbody tr th:only-of-type {\n",
       "        vertical-align: middle;\n",
       "    }\n",
       "\n",
       "    .dataframe tbody tr th {\n",
       "        vertical-align: top;\n",
       "    }\n",
       "\n",
       "    .dataframe thead th {\n",
       "        text-align: right;\n",
       "    }\n",
       "</style>\n",
       "<table border=\"1\" class=\"dataframe\">\n",
       "  <thead>\n",
       "    <tr style=\"text-align: right;\">\n",
       "      <th></th>\n",
       "      <th>t01</th>\n",
       "      <th>y</th>\n",
       "    </tr>\n",
       "  </thead>\n",
       "  <tbody>\n",
       "    <tr>\n",
       "      <th>0</th>\n",
       "      <td>[[0.24292347358483268, 0.23389357943856584, 0....</td>\n",
       "      <td>[1128, 102, 104, 542, 458, 1166, 40, 413, 201,...</td>\n",
       "    </tr>\n",
       "    <tr>\n",
       "      <th>1</th>\n",
       "      <td>[[0.31854984698320415, 0.2879873584280153, 0.0...</td>\n",
       "      <td>[1128, 102, 104, 542, 458, 1166, 40, 413, 201,...</td>\n",
       "    </tr>\n",
       "    <tr>\n",
       "      <th>2</th>\n",
       "      <td>[[0.0659323242729218, 0.15736004056880679, 0.0...</td>\n",
       "      <td>[1128, 102, 104, 542, 458, 1166, 40, 413, 201,...</td>\n",
       "    </tr>\n",
       "    <tr>\n",
       "      <th>3</th>\n",
       "      <td>[[0.20121466963226606, 0.2757415158406785, 0.0...</td>\n",
       "      <td>[1128, 102, 104, 542, 458, 1166, 40, 413, 201,...</td>\n",
       "    </tr>\n",
       "    <tr>\n",
       "      <th>4</th>\n",
       "      <td>[[0.12603587272829841, 0.003995461655266278, 0...</td>\n",
       "      <td>[1128, 102, 104, 542, 458, 1166, 40, 413, 201,...</td>\n",
       "    </tr>\n",
       "    <tr>\n",
       "      <th>5</th>\n",
       "      <td>[[0.18820530403541988, 0.13139060359429844, 0....</td>\n",
       "      <td>[1128, 102, 104, 542, 458, 1166, 40, 413, 201,...</td>\n",
       "    </tr>\n",
       "    <tr>\n",
       "      <th>6</th>\n",
       "      <td>[[0.17854622441778403, 0.34618586731115486, 0....</td>\n",
       "      <td>[1128, 102, 104, 542, 458, 1166, 40, 413, 201,...</td>\n",
       "    </tr>\n",
       "    <tr>\n",
       "      <th>7</th>\n",
       "      <td>[[0.17347286998066203, 0.24789527322213395, 0....</td>\n",
       "      <td>[1128, 102, 104, 542, 458, 1166, 40, 413, 201,...</td>\n",
       "    </tr>\n",
       "    <tr>\n",
       "      <th>8</th>\n",
       "      <td>[[0.2937858265457177, 0.08700154190055322, 0.0...</td>\n",
       "      <td>[1128, 102, 104, 542, 458, 1166, 40, 413, 201,...</td>\n",
       "    </tr>\n",
       "    <tr>\n",
       "      <th>9</th>\n",
       "      <td>[[0.18624304349106327, 0.04408903218031611, 0....</td>\n",
       "      <td>[1128, 102, 104, 542, 458, 1166, 40, 413, 201,...</td>\n",
       "    </tr>\n",
       "    <tr>\n",
       "      <th>10</th>\n",
       "      <td>[[0.08083786064979374, 0.1809488903998266, 0.0...</td>\n",
       "      <td>[1128, 102, 104, 542, 458, 1166, 40, 413, 201,...</td>\n",
       "    </tr>\n",
       "    <tr>\n",
       "      <th>11</th>\n",
       "      <td>[[0.17859684075707985, 0.2831675566063979, 0.0...</td>\n",
       "      <td>[1128, 102, 104, 542, 458, 1166, 40, 413, 201,...</td>\n",
       "    </tr>\n",
       "  </tbody>\n",
       "</table>\n",
       "</div>"
      ],
      "text/plain": [
       "                                                  t01  \\\n",
       "0   [[0.24292347358483268, 0.23389357943856584, 0....   \n",
       "1   [[0.31854984698320415, 0.2879873584280153, 0.0...   \n",
       "2   [[0.0659323242729218, 0.15736004056880679, 0.0...   \n",
       "3   [[0.20121466963226606, 0.2757415158406785, 0.0...   \n",
       "4   [[0.12603587272829841, 0.003995461655266278, 0...   \n",
       "5   [[0.18820530403541988, 0.13139060359429844, 0....   \n",
       "6   [[0.17854622441778403, 0.34618586731115486, 0....   \n",
       "7   [[0.17347286998066203, 0.24789527322213395, 0....   \n",
       "8   [[0.2937858265457177, 0.08700154190055322, 0.0...   \n",
       "9   [[0.18624304349106327, 0.04408903218031611, 0....   \n",
       "10  [[0.08083786064979374, 0.1809488903998266, 0.0...   \n",
       "11  [[0.17859684075707985, 0.2831675566063979, 0.0...   \n",
       "\n",
       "                                                    y  \n",
       "0   [1128, 102, 104, 542, 458, 1166, 40, 413, 201,...  \n",
       "1   [1128, 102, 104, 542, 458, 1166, 40, 413, 201,...  \n",
       "2   [1128, 102, 104, 542, 458, 1166, 40, 413, 201,...  \n",
       "3   [1128, 102, 104, 542, 458, 1166, 40, 413, 201,...  \n",
       "4   [1128, 102, 104, 542, 458, 1166, 40, 413, 201,...  \n",
       "5   [1128, 102, 104, 542, 458, 1166, 40, 413, 201,...  \n",
       "6   [1128, 102, 104, 542, 458, 1166, 40, 413, 201,...  \n",
       "7   [1128, 102, 104, 542, 458, 1166, 40, 413, 201,...  \n",
       "8   [1128, 102, 104, 542, 458, 1166, 40, 413, 201,...  \n",
       "9   [1128, 102, 104, 542, 458, 1166, 40, 413, 201,...  \n",
       "10  [1128, 102, 104, 542, 458, 1166, 40, 413, 201,...  \n",
       "11  [1128, 102, 104, 542, 458, 1166, 40, 413, 201,...  "
      ]
     },
     "execution_count": 22,
     "metadata": {},
     "output_type": "execute_result"
    }
   ],
   "source": [
    "dstest['y'] = ya_list\n",
    "dstest"
   ]
  },
  {
   "cell_type": "code",
   "execution_count": 23,
   "id": "2e60e179",
   "metadata": {},
   "outputs": [],
   "source": [
    "batch_size = 1\n",
    "transform = torchvision.transforms.Lambda(lambda y: torch.from_numpy(y).float())\n",
    "\n",
    "test_dataset = CustomDataset(dstest, nnodes, n_qubits, transform)\n",
    "\n",
    "test_loader = torch.utils.data.DataLoader(\n",
    "    test_dataset, batch_size=batch_size, shuffle=False, pin_memory=True\n",
    ")\n"
   ]
  },
  {
   "cell_type": "code",
   "execution_count": 24,
   "id": "33a4fbf9",
   "metadata": {},
   "outputs": [],
   "source": [
    "experiments = []\n",
    "outputs_list = []\n",
    "for batch_features, _ in test_loader:\n",
    "    outputs = qnode(batch_features[0][0], params_rsel, generators)\n",
    "    outputs_list.append(outputs)\n",
    "    experiments.append(np.flip(np.argsort(outputs)))"
   ]
  },
  {
   "cell_type": "code",
   "execution_count": 25,
   "id": "6dab3a7f",
   "metadata": {},
   "outputs": [],
   "source": [
    "ol = outputs_list"
   ]
  },
  {
   "cell_type": "code",
   "execution_count": 26,
   "id": "f1f42731",
   "metadata": {},
   "outputs": [],
   "source": [
    "results_list = np.mean(np.array(ol), axis=0)\n",
    "norm_results_list = [float(f) for f in scale(results_list, np.min(results_list), np.max(results_list)).astype(float)]\n",
    "results = [int(f) for f in np.flip(np.argsort(results_list))]"
   ]
  },
  {
   "cell_type": "code",
   "execution_count": 27,
   "id": "630928c9",
   "metadata": {},
   "outputs": [
    {
     "data": {
      "text/plain": [
       "(tensor(4.96076543, requires_grad=True), tensor(0., requires_grad=True))"
      ]
     },
     "execution_count": 27,
     "metadata": {},
     "output_type": "execute_result"
    }
   ],
   "source": [
    "np.max(sum(outputs_list)),np.min(sum(outputs_list))"
   ]
  },
  {
   "cell_type": "code",
   "execution_count": 28,
   "id": "f8948fdf",
   "metadata": {},
   "outputs": [],
   "source": [
    "results_bin = [np.binary_repr(f, width=n_qubits) for f in results]"
   ]
  },
  {
   "cell_type": "code",
   "execution_count": 29,
   "id": "632003c0",
   "metadata": {},
   "outputs": [],
   "source": [
    "results_weights = [norm_results_list[results[i]] for i in range(len(results))]"
   ]
  },
  {
   "cell_type": "code",
   "execution_count": 30,
   "id": "78673ae2",
   "metadata": {},
   "outputs": [
    {
     "data": {
      "text/plain": [
       "([0, 2111, 2051, 2303, 2175, 2049, 3071, 60, 64, 192, 62, 124],\n",
       " [1128,\n",
       "  102,\n",
       "  104,\n",
       "  542,\n",
       "  458,\n",
       "  1166,\n",
       "  40,\n",
       "  413,\n",
       "  201,\n",
       "  857,\n",
       "  84,\n",
       "  1088,\n",
       "  1830,\n",
       "  746,\n",
       "  2217,\n",
       "  1954,\n",
       "  1444,\n",
       "  35,\n",
       "  295,\n",
       "  1309,\n",
       "  931,\n",
       "  2274,\n",
       "  2668,\n",
       "  2206])"
      ]
     },
     "execution_count": 30,
     "metadata": {},
     "output_type": "execute_result"
    }
   ],
   "source": [
    "results[:num_res], ya_list[0]"
   ]
  },
  {
   "cell_type": "code",
   "execution_count": 31,
   "id": "eee18c5f",
   "metadata": {},
   "outputs": [
    {
     "data": {
      "text/plain": [
       "['000000000000',\n",
       " '100000111111',\n",
       " '100000000011',\n",
       " '100011111111',\n",
       " '100001111111',\n",
       " '100000000001',\n",
       " '101111111111',\n",
       " '000000111100',\n",
       " '000001000000',\n",
       " '000011000000',\n",
       " '000000111110',\n",
       " '000001111100']"
      ]
     },
     "execution_count": 31,
     "metadata": {},
     "output_type": "execute_result"
    }
   ],
   "source": [
    "results_bin[:num_res]"
   ]
  },
  {
   "cell_type": "code",
   "execution_count": 32,
   "id": "565bdf50",
   "metadata": {},
   "outputs": [
    {
     "data": {
      "text/plain": [
       "24"
      ]
     },
     "execution_count": 32,
     "metadata": {},
     "output_type": "execute_result"
    }
   ],
   "source": [
    "#number of parameters\n",
    "sum([np.prod(params_rsel.shape), np.prod(generators.shape)])"
   ]
  },
  {
   "cell_type": "code",
   "execution_count": 33,
   "id": "d86e0427",
   "metadata": {},
   "outputs": [],
   "source": [
    "def get_edges_array(n_qubits,y):\n",
    "    arr = [np.binary_repr(f, width=n_qubits) for f in y]\n",
    "    return [(int(f[:n_qubits//2],2), int(f[n_qubits//2:],2)) for f in arr]"
   ]
  },
  {
   "cell_type": "code",
   "execution_count": 34,
   "id": "93c3219d",
   "metadata": {},
   "outputs": [],
   "source": [
    "y_edges = get_edges_array(n_qubits,ya_list[0]) \n",
    "p_edges = get_edges_array(n_qubits,results[:num_res]) \n",
    "p_weights = results_weights[:num_res]"
   ]
  },
  {
   "cell_type": "code",
   "execution_count": 35,
   "id": "1008c513",
   "metadata": {},
   "outputs": [
    {
     "ename": "NetworkXError",
     "evalue": "Node 63 has no position.",
     "output_type": "error",
     "traceback": [
      "\u001b[0;31m---------------------------------------------------------------------------\u001b[0m",
      "\u001b[0;31mKeyError\u001b[0m                                  Traceback (most recent call last)",
      "\u001b[0;32m~/anaconda3/envs/Braket/lib/python3.7/site-packages/networkx/drawing/nx_pylab.py\u001b[0m in \u001b[0;36mdraw_networkx_nodes\u001b[0;34m(G, pos, nodelist, node_size, node_color, node_shape, alpha, cmap, vmin, vmax, ax, linewidths, edgecolors, label, **kwds)\u001b[0m\n\u001b[1;32m    396\u001b[0m     \u001b[0;32mtry\u001b[0m\u001b[0;34m:\u001b[0m\u001b[0;34m\u001b[0m\u001b[0;34m\u001b[0m\u001b[0m\n\u001b[0;32m--> 397\u001b[0;31m         \u001b[0mxy\u001b[0m \u001b[0;34m=\u001b[0m \u001b[0mnp\u001b[0m\u001b[0;34m.\u001b[0m\u001b[0masarray\u001b[0m\u001b[0;34m(\u001b[0m\u001b[0;34m[\u001b[0m\u001b[0mpos\u001b[0m\u001b[0;34m[\u001b[0m\u001b[0mv\u001b[0m\u001b[0;34m]\u001b[0m \u001b[0;32mfor\u001b[0m \u001b[0mv\u001b[0m \u001b[0;32min\u001b[0m \u001b[0mnodelist\u001b[0m\u001b[0;34m]\u001b[0m\u001b[0;34m)\u001b[0m\u001b[0;34m\u001b[0m\u001b[0;34m\u001b[0m\u001b[0m\n\u001b[0m\u001b[1;32m    398\u001b[0m     \u001b[0;32mexcept\u001b[0m \u001b[0mKeyError\u001b[0m \u001b[0;32mas\u001b[0m \u001b[0me\u001b[0m\u001b[0;34m:\u001b[0m\u001b[0;34m\u001b[0m\u001b[0;34m\u001b[0m\u001b[0m\n",
      "\u001b[0;32m~/anaconda3/envs/Braket/lib/python3.7/site-packages/networkx/drawing/nx_pylab.py\u001b[0m in \u001b[0;36m<listcomp>\u001b[0;34m(.0)\u001b[0m\n\u001b[1;32m    396\u001b[0m     \u001b[0;32mtry\u001b[0m\u001b[0;34m:\u001b[0m\u001b[0;34m\u001b[0m\u001b[0;34m\u001b[0m\u001b[0m\n\u001b[0;32m--> 397\u001b[0;31m         \u001b[0mxy\u001b[0m \u001b[0;34m=\u001b[0m \u001b[0mnp\u001b[0m\u001b[0;34m.\u001b[0m\u001b[0masarray\u001b[0m\u001b[0;34m(\u001b[0m\u001b[0;34m[\u001b[0m\u001b[0mpos\u001b[0m\u001b[0;34m[\u001b[0m\u001b[0mv\u001b[0m\u001b[0;34m]\u001b[0m \u001b[0;32mfor\u001b[0m \u001b[0mv\u001b[0m \u001b[0;32min\u001b[0m \u001b[0mnodelist\u001b[0m\u001b[0;34m]\u001b[0m\u001b[0;34m)\u001b[0m\u001b[0;34m\u001b[0m\u001b[0;34m\u001b[0m\u001b[0m\n\u001b[0m\u001b[1;32m    398\u001b[0m     \u001b[0;32mexcept\u001b[0m \u001b[0mKeyError\u001b[0m \u001b[0;32mas\u001b[0m \u001b[0me\u001b[0m\u001b[0;34m:\u001b[0m\u001b[0;34m\u001b[0m\u001b[0;34m\u001b[0m\u001b[0m\n",
      "\u001b[0;31mKeyError\u001b[0m: 63",
      "\nDuring handling of the above exception, another exception occurred:\n",
      "\u001b[0;31mNetworkXError\u001b[0m                             Traceback (most recent call last)",
      "\u001b[0;32m<ipython-input-35-49f6c26f3648>\u001b[0m in \u001b[0;36m<module>\u001b[0;34m\u001b[0m\n\u001b[1;32m     27\u001b[0m \u001b[0;34m\u001b[0m\u001b[0m\n\u001b[1;32m     28\u001b[0m \u001b[0msubax2\u001b[0m \u001b[0;34m=\u001b[0m \u001b[0mplt\u001b[0m\u001b[0;34m.\u001b[0m\u001b[0msubplot\u001b[0m\u001b[0;34m(\u001b[0m\u001b[0;36m122\u001b[0m\u001b[0;34m)\u001b[0m\u001b[0;34m\u001b[0m\u001b[0;34m\u001b[0m\u001b[0m\n\u001b[0;32m---> 29\u001b[0;31m \u001b[0mnx\u001b[0m\u001b[0;34m.\u001b[0m\u001b[0mdraw\u001b[0m\u001b[0;34m(\u001b[0m\u001b[0mgraph_p\u001b[0m\u001b[0;34m,\u001b[0m \u001b[0mpos\u001b[0m\u001b[0;34m,\u001b[0m \u001b[0mnode_color\u001b[0m\u001b[0;34m=\u001b[0m\u001b[0;34m'c'\u001b[0m\u001b[0;34m,\u001b[0m \u001b[0medge_color\u001b[0m\u001b[0;34m=\u001b[0m\u001b[0mp_weights\u001b[0m\u001b[0;34m,\u001b[0m \u001b[0mwidth\u001b[0m\u001b[0;34m=\u001b[0m\u001b[0;36m5.0\u001b[0m\u001b[0;34m,\u001b[0m \u001b[0medge_cmap\u001b[0m\u001b[0;34m=\u001b[0m\u001b[0mplt\u001b[0m\u001b[0;34m.\u001b[0m\u001b[0mcm\u001b[0m\u001b[0;34m.\u001b[0m\u001b[0mBlues\u001b[0m\u001b[0;34m,\u001b[0m \u001b[0mwith_labels\u001b[0m\u001b[0;34m=\u001b[0m\u001b[0;32mTrue\u001b[0m\u001b[0;34m)\u001b[0m\u001b[0;34m\u001b[0m\u001b[0;34m\u001b[0m\u001b[0m\n\u001b[0m\u001b[1;32m     30\u001b[0m \u001b[0mplt\u001b[0m\u001b[0;34m.\u001b[0m\u001b[0mshow\u001b[0m\u001b[0;34m(\u001b[0m\u001b[0;34m)\u001b[0m\u001b[0;34m\u001b[0m\u001b[0;34m\u001b[0m\u001b[0m\n",
      "\u001b[0;32m~/anaconda3/envs/Braket/lib/python3.7/site-packages/networkx/drawing/nx_pylab.py\u001b[0m in \u001b[0;36mdraw\u001b[0;34m(G, pos, ax, **kwds)\u001b[0m\n\u001b[1;32m    123\u001b[0m         \u001b[0mkwds\u001b[0m\u001b[0;34m[\u001b[0m\u001b[0;34m'with_labels'\u001b[0m\u001b[0;34m]\u001b[0m \u001b[0;34m=\u001b[0m \u001b[0;34m'labels'\u001b[0m \u001b[0;32min\u001b[0m \u001b[0mkwds\u001b[0m\u001b[0;34m\u001b[0m\u001b[0;34m\u001b[0m\u001b[0m\n\u001b[1;32m    124\u001b[0m \u001b[0;34m\u001b[0m\u001b[0m\n\u001b[0;32m--> 125\u001b[0;31m     \u001b[0mdraw_networkx\u001b[0m\u001b[0;34m(\u001b[0m\u001b[0mG\u001b[0m\u001b[0;34m,\u001b[0m \u001b[0mpos\u001b[0m\u001b[0;34m=\u001b[0m\u001b[0mpos\u001b[0m\u001b[0;34m,\u001b[0m \u001b[0max\u001b[0m\u001b[0;34m=\u001b[0m\u001b[0max\u001b[0m\u001b[0;34m,\u001b[0m \u001b[0;34m**\u001b[0m\u001b[0mkwds\u001b[0m\u001b[0;34m)\u001b[0m\u001b[0;34m\u001b[0m\u001b[0;34m\u001b[0m\u001b[0m\n\u001b[0m\u001b[1;32m    126\u001b[0m     \u001b[0max\u001b[0m\u001b[0;34m.\u001b[0m\u001b[0mset_axis_off\u001b[0m\u001b[0;34m(\u001b[0m\u001b[0;34m)\u001b[0m\u001b[0;34m\u001b[0m\u001b[0;34m\u001b[0m\u001b[0m\n\u001b[1;32m    127\u001b[0m     \u001b[0mplt\u001b[0m\u001b[0;34m.\u001b[0m\u001b[0mdraw_if_interactive\u001b[0m\u001b[0;34m(\u001b[0m\u001b[0;34m)\u001b[0m\u001b[0;34m\u001b[0m\u001b[0;34m\u001b[0m\u001b[0m\n",
      "\u001b[0;32m~/anaconda3/envs/Braket/lib/python3.7/site-packages/networkx/drawing/nx_pylab.py\u001b[0m in \u001b[0;36mdraw_networkx\u001b[0;34m(G, pos, arrows, with_labels, **kwds)\u001b[0m\n\u001b[1;32m    272\u001b[0m         \u001b[0mpos\u001b[0m \u001b[0;34m=\u001b[0m \u001b[0mnx\u001b[0m\u001b[0;34m.\u001b[0m\u001b[0mdrawing\u001b[0m\u001b[0;34m.\u001b[0m\u001b[0mspring_layout\u001b[0m\u001b[0;34m(\u001b[0m\u001b[0mG\u001b[0m\u001b[0;34m)\u001b[0m  \u001b[0;31m# default to spring layout\u001b[0m\u001b[0;34m\u001b[0m\u001b[0;34m\u001b[0m\u001b[0m\n\u001b[1;32m    273\u001b[0m \u001b[0;34m\u001b[0m\u001b[0m\n\u001b[0;32m--> 274\u001b[0;31m     \u001b[0mnode_collection\u001b[0m \u001b[0;34m=\u001b[0m \u001b[0mdraw_networkx_nodes\u001b[0m\u001b[0;34m(\u001b[0m\u001b[0mG\u001b[0m\u001b[0;34m,\u001b[0m \u001b[0mpos\u001b[0m\u001b[0;34m,\u001b[0m \u001b[0;34m**\u001b[0m\u001b[0mkwds\u001b[0m\u001b[0;34m)\u001b[0m\u001b[0;34m\u001b[0m\u001b[0;34m\u001b[0m\u001b[0m\n\u001b[0m\u001b[1;32m    275\u001b[0m     \u001b[0medge_collection\u001b[0m \u001b[0;34m=\u001b[0m \u001b[0mdraw_networkx_edges\u001b[0m\u001b[0;34m(\u001b[0m\u001b[0mG\u001b[0m\u001b[0;34m,\u001b[0m \u001b[0mpos\u001b[0m\u001b[0;34m,\u001b[0m \u001b[0marrows\u001b[0m\u001b[0;34m=\u001b[0m\u001b[0marrows\u001b[0m\u001b[0;34m,\u001b[0m \u001b[0;34m**\u001b[0m\u001b[0mkwds\u001b[0m\u001b[0;34m)\u001b[0m\u001b[0;34m\u001b[0m\u001b[0;34m\u001b[0m\u001b[0m\n\u001b[1;32m    276\u001b[0m     \u001b[0;32mif\u001b[0m \u001b[0mwith_labels\u001b[0m\u001b[0;34m:\u001b[0m\u001b[0;34m\u001b[0m\u001b[0;34m\u001b[0m\u001b[0m\n",
      "\u001b[0;32m~/anaconda3/envs/Braket/lib/python3.7/site-packages/networkx/drawing/nx_pylab.py\u001b[0m in \u001b[0;36mdraw_networkx_nodes\u001b[0;34m(G, pos, nodelist, node_size, node_color, node_shape, alpha, cmap, vmin, vmax, ax, linewidths, edgecolors, label, **kwds)\u001b[0m\n\u001b[1;32m    397\u001b[0m         \u001b[0mxy\u001b[0m \u001b[0;34m=\u001b[0m \u001b[0mnp\u001b[0m\u001b[0;34m.\u001b[0m\u001b[0masarray\u001b[0m\u001b[0;34m(\u001b[0m\u001b[0;34m[\u001b[0m\u001b[0mpos\u001b[0m\u001b[0;34m[\u001b[0m\u001b[0mv\u001b[0m\u001b[0;34m]\u001b[0m \u001b[0;32mfor\u001b[0m \u001b[0mv\u001b[0m \u001b[0;32min\u001b[0m \u001b[0mnodelist\u001b[0m\u001b[0;34m]\u001b[0m\u001b[0;34m)\u001b[0m\u001b[0;34m\u001b[0m\u001b[0;34m\u001b[0m\u001b[0m\n\u001b[1;32m    398\u001b[0m     \u001b[0;32mexcept\u001b[0m \u001b[0mKeyError\u001b[0m \u001b[0;32mas\u001b[0m \u001b[0me\u001b[0m\u001b[0;34m:\u001b[0m\u001b[0;34m\u001b[0m\u001b[0;34m\u001b[0m\u001b[0m\n\u001b[0;32m--> 399\u001b[0;31m         \u001b[0;32mraise\u001b[0m \u001b[0mnx\u001b[0m\u001b[0;34m.\u001b[0m\u001b[0mNetworkXError\u001b[0m\u001b[0;34m(\u001b[0m\u001b[0;34m'Node %s has no position.'\u001b[0m \u001b[0;34m%\u001b[0m \u001b[0me\u001b[0m\u001b[0;34m)\u001b[0m\u001b[0;34m\u001b[0m\u001b[0;34m\u001b[0m\u001b[0m\n\u001b[0m\u001b[1;32m    400\u001b[0m     \u001b[0;32mexcept\u001b[0m \u001b[0mValueError\u001b[0m\u001b[0;34m:\u001b[0m\u001b[0;34m\u001b[0m\u001b[0;34m\u001b[0m\u001b[0m\n\u001b[1;32m    401\u001b[0m         \u001b[0;32mraise\u001b[0m \u001b[0mnx\u001b[0m\u001b[0;34m.\u001b[0m\u001b[0mNetworkXError\u001b[0m\u001b[0;34m(\u001b[0m\u001b[0;34m'Bad value in node positions.'\u001b[0m\u001b[0;34m)\u001b[0m\u001b[0;34m\u001b[0m\u001b[0;34m\u001b[0m\u001b[0m\n",
      "\u001b[0;31mNetworkXError\u001b[0m: Node 63 has no position."
     ]
    }
   ],
   "source": [
    "graph_y = None\n",
    "graph_p = None\n",
    "\n",
    "graph_y = nx.DiGraph()\n",
    "graph_p = nx.DiGraph()\n",
    "\n",
    "graph_y.add_nodes_from(range(nnodes*2))\n",
    "graph_p.add_nodes_from(range(nnodes*2))\n",
    "\n",
    "graph_y.add_edges_from(y_edges)\n",
    "graph_p.add_edges_from(p_edges)\n",
    "\n",
    "nodes_names = {f:'n' + str(f) for f in range(nnodes)}\n",
    "rnodes = [v + '_t0' for _, v in nodes_names.items()]\n",
    "\n",
    "nodes_names.update({k:v + '_t0' for k, v in nodes_names.items()})\n",
    "nodes_names.update({k + len(nodes_names):v[:-1] + '1' for k, v in nodes_names.items()})\n",
    "\n",
    "graph_y = nx.relabel_nodes(graph_y, nodes_names, copy=False)\n",
    "graph_p = nx.relabel_nodes(graph_p, nodes_names, copy=False)\n",
    "\n",
    "#pos = nx.shell_layout(graph_y, nlist=[range(nnodes),range(nnodes,nnodes*2)], rotate=0.1, center=(1,5))\n",
    "pos = nx.bipartite_layout(graph_y, nodes=rnodes)\n",
    "\n",
    "subax1 = plt.subplot(121)\n",
    "nx.draw(graph_y, pos, node_color='c', edge_color='k', width=5.0, edge_cmap=plt.cm.Blues, with_labels=True)\n",
    "\n",
    "subax2 = plt.subplot(122)\n",
    "nx.draw(graph_p, pos, node_color='c', edge_color=p_weights, width=5.0, edge_cmap=plt.cm.Blues, with_labels=True)\n",
    "plt.show()"
   ]
  },
  {
   "cell_type": "markdown",
   "id": "2f802c47",
   "metadata": {},
   "source": [
    "## testing with real data"
   ]
  },
  {
   "cell_type": "code",
   "execution_count": 39,
   "id": "005ca3cf",
   "metadata": {},
   "outputs": [],
   "source": [
    "batch_size = 1\n",
    "transform = torchvision.transforms.Lambda(lambda y: torch.from_numpy(y).float())\n",
    "\n",
    "test_dataset = CustomDataset(dst, nnodes, n_qubits, transform)\n",
    "\n",
    "test_loader = torch.utils.data.DataLoader(\n",
    "    test_dataset, batch_size=batch_size, shuffle=False, pin_memory=True\n",
    ")"
   ]
  },
  {
   "cell_type": "code",
   "execution_count": 40,
   "id": "5d03655f",
   "metadata": {},
   "outputs": [],
   "source": [
    "experiments = []\n",
    "outputs_list = []\n",
    "for batch_features, _ in test_loader:\n",
    "    outputs = qnode(batch_features[0][0], params_rsel, generators)\n",
    "    outputs_list.append(outputs)\n",
    "    experiments.append(np.flip(np.argsort(outputs)))"
   ]
  },
  {
   "cell_type": "code",
   "execution_count": 41,
   "id": "e949ed08",
   "metadata": {},
   "outputs": [],
   "source": [
    "ol = outputs_list"
   ]
  },
  {
   "cell_type": "code",
   "execution_count": 42,
   "id": "b84569b5",
   "metadata": {},
   "outputs": [],
   "source": [
    "results_list = np.mean(np.array(ol), axis=0)\n",
    "norm_results_list = [float(f) for f in scale(results_list, np.min(results_list), np.max(results_list)).astype(float)]\n",
    "results = [int(f) for f in np.flip(np.argsort(results_list))]"
   ]
  },
  {
   "cell_type": "code",
   "execution_count": 43,
   "id": "4644ad42",
   "metadata": {},
   "outputs": [
    {
     "data": {
      "text/plain": [
       "(tensor(4.82380287, requires_grad=True),\n",
       " tensor(1.01289011e-16, requires_grad=True))"
      ]
     },
     "execution_count": 43,
     "metadata": {},
     "output_type": "execute_result"
    }
   ],
   "source": [
    "np.max(sum(outputs_list)),np.min(sum(outputs_list))"
   ]
  },
  {
   "cell_type": "code",
   "execution_count": 44,
   "id": "82d4e28f",
   "metadata": {},
   "outputs": [],
   "source": [
    "results_bin = [np.binary_repr(f, width=n_qubits) for f in results]"
   ]
  },
  {
   "cell_type": "code",
   "execution_count": 45,
   "id": "5214a0c7",
   "metadata": {},
   "outputs": [],
   "source": [
    "results_weights = [norm_results_list[results[i]] for i in range(len(results))]"
   ]
  },
  {
   "cell_type": "code",
   "execution_count": 46,
   "id": "68e94be8",
   "metadata": {},
   "outputs": [
    {
     "data": {
      "text/plain": [
       "[0, 3071, 2055, 4095, 2047, 2051, 2559, 2063, 2049, 1024, 2175, 2079]"
      ]
     },
     "execution_count": 46,
     "metadata": {},
     "output_type": "execute_result"
    }
   ],
   "source": [
    "results[:num_res]"
   ]
  },
  {
   "cell_type": "code",
   "execution_count": 47,
   "id": "06125c9e",
   "metadata": {},
   "outputs": [
    {
     "data": {
      "text/plain": [
       "['000000000000',\n",
       " '101111111111',\n",
       " '100000000111',\n",
       " '111111111111',\n",
       " '011111111111',\n",
       " '100000000011',\n",
       " '100111111111',\n",
       " '100000001111',\n",
       " '100000000001',\n",
       " '010000000000',\n",
       " '100001111111',\n",
       " '100000011111']"
      ]
     },
     "execution_count": 47,
     "metadata": {},
     "output_type": "execute_result"
    }
   ],
   "source": [
    "results_bin[:num_res]"
   ]
  },
  {
   "cell_type": "code",
   "execution_count": 48,
   "id": "d4825909",
   "metadata": {},
   "outputs": [],
   "source": [
    "p_edges = get_edges_array(n_qubits,results[:num_res]) \n",
    "p_weights = results_weights[:num_res]"
   ]
  },
  {
   "cell_type": "code",
   "execution_count": 49,
   "id": "100f93cc",
   "metadata": {},
   "outputs": [
    {
     "ename": "NameError",
     "evalue": "name 'genes_names' is not defined",
     "output_type": "error",
     "traceback": [
      "\u001b[0;31m---------------------------------------------------------------------------\u001b[0m",
      "\u001b[0;31mNameError\u001b[0m                                 Traceback (most recent call last)",
      "\u001b[0;32m<ipython-input-49-a4c3db7c8cde>\u001b[0m in \u001b[0;36m<module>\u001b[0;34m\u001b[0m\n\u001b[1;32m     12\u001b[0m \u001b[0;34m\u001b[0m\u001b[0m\n\u001b[1;32m     13\u001b[0m \u001b[0mrnodes\u001b[0m \u001b[0;34m=\u001b[0m \u001b[0;34m[\u001b[0m\u001b[0mv\u001b[0m \u001b[0;34m+\u001b[0m \u001b[0;34m'_t0'\u001b[0m \u001b[0;32mfor\u001b[0m \u001b[0m_\u001b[0m\u001b[0;34m,\u001b[0m \u001b[0mv\u001b[0m \u001b[0;32min\u001b[0m \u001b[0mnodes_names\u001b[0m\u001b[0;34m.\u001b[0m\u001b[0mitems\u001b[0m\u001b[0;34m(\u001b[0m\u001b[0;34m)\u001b[0m\u001b[0;34m]\u001b[0m\u001b[0;34m\u001b[0m\u001b[0;34m\u001b[0m\u001b[0m\n\u001b[0;32m---> 14\u001b[0;31m \u001b[0mrgenes\u001b[0m \u001b[0;34m=\u001b[0m \u001b[0;34m[\u001b[0m\u001b[0mv\u001b[0m \u001b[0;34m+\u001b[0m \u001b[0;34m'_t0'\u001b[0m \u001b[0;32mfor\u001b[0m \u001b[0m_\u001b[0m\u001b[0;34m,\u001b[0m \u001b[0mv\u001b[0m \u001b[0;32min\u001b[0m \u001b[0mgenes_names\u001b[0m\u001b[0;34m.\u001b[0m\u001b[0mitems\u001b[0m\u001b[0;34m(\u001b[0m\u001b[0;34m)\u001b[0m\u001b[0;34m]\u001b[0m\u001b[0;34m\u001b[0m\u001b[0;34m\u001b[0m\u001b[0m\n\u001b[0m\u001b[1;32m     15\u001b[0m \u001b[0;34m\u001b[0m\u001b[0m\n\u001b[1;32m     16\u001b[0m \u001b[0mnodes_names\u001b[0m\u001b[0;34m.\u001b[0m\u001b[0mupdate\u001b[0m\u001b[0;34m(\u001b[0m\u001b[0;34m{\u001b[0m\u001b[0mk\u001b[0m\u001b[0;34m:\u001b[0m\u001b[0mv\u001b[0m \u001b[0;34m+\u001b[0m \u001b[0;34m'_t0'\u001b[0m \u001b[0;32mfor\u001b[0m \u001b[0mk\u001b[0m\u001b[0;34m,\u001b[0m \u001b[0mv\u001b[0m \u001b[0;32min\u001b[0m \u001b[0mnodes_names\u001b[0m\u001b[0;34m.\u001b[0m\u001b[0mitems\u001b[0m\u001b[0;34m(\u001b[0m\u001b[0;34m)\u001b[0m\u001b[0;34m}\u001b[0m\u001b[0;34m)\u001b[0m\u001b[0;34m\u001b[0m\u001b[0;34m\u001b[0m\u001b[0m\n",
      "\u001b[0;31mNameError\u001b[0m: name 'genes_names' is not defined"
     ]
    }
   ],
   "source": [
    "graph_p = None\n",
    "graph_p2 = None\n",
    "\n",
    "graph_p = nx.DiGraph()\n",
    "graph_p2 = nx.DiGraph()\n",
    "\n",
    "graph_p.add_nodes_from(range(nnodes*2))\n",
    "graph_p2.add_nodes_from(range(nnodes*2))\n",
    "\n",
    "graph_p.add_edges_from(p_edges)\n",
    "graph_p2.add_edges_from(p_edges)\n",
    "\n",
    "rnodes = [v + '_t0' for _, v in nodes_names.items()]\n",
    "rgenes = [v + '_t0' for _, v in genes_names.items()]\n",
    "\n",
    "nodes_names.update({k:v + '_t0' for k, v in nodes_names.items()})\n",
    "nodes_names.update({k + len(nodes_names):v[:-1] + '1' for k, v in nodes_names.items()})\n",
    "\n",
    "genes_names.update({k:v + '_t0' for k, v in genes_names.items()})\n",
    "genes_names.update({k + len(genes_names):v[:-1] + '1' for k, v in genes_names.items()})\n",
    "\n",
    "graph_p = nx.relabel_nodes(graph_p, nodes_names, copy=False)\n",
    "graph_p2 = nx.relabel_nodes(graph_p2, genes_names, copy=False)\n",
    "\n",
    "#pos = nx.shell_layout(graph_y, nlist=[range(nnodes),range(nnodes,nnodes*2)], rotate=0.1, center=(1,5))\n",
    "pos = nx.bipartite_layout(graph_p, nodes=rnodes)\n",
    "pos2 = nx.bipartite_layout(graph_p2, nodes=rgenes)\n",
    "\n",
    "subax1 = plt.subplot(121)\n",
    "nx.draw(graph_p, pos, node_color='c', edge_color=p_weights, width=5.0, edge_cmap=plt.cm.Blues, with_labels=True)\n",
    "\n",
    "subax2 = plt.subplot(122)\n",
    "nx.draw(graph_p2, pos2, node_color='c', edge_color=p_weights, width=5.0, edge_cmap=plt.cm.Blues, with_labels=True)\n",
    "plt.show()"
   ]
  },
  {
   "cell_type": "code",
   "execution_count": 53,
   "id": "23dbabcd",
   "metadata": {},
   "outputs": [
    {
     "data": {
      "image/png": "[encoded data removed]",
      "text/plain": [
       "<Figure size 640x480 with 1 Axes>"
      ]
     },
     "metadata": {},
     "output_type": "display_data"
    },
    {
     "data": {
      "text/plain": [
       "<Figure size 300x200 with 0 Axes>"
      ]
     },
     "metadata": {},
     "output_type": "display_data"
    }
   ],
   "source": [
    "graph_p = None\n",
    "graph_p2 = None\n",
    "\n",
    "graph_p = nx.DiGraph()\n",
    "graph_p2 = nx.DiGraph()\n",
    "\n",
    "graph_p.add_nodes_from(range(nnodes*2))\n",
    "graph_p2.add_nodes_from(range(nnodes*2))\n",
    "\n",
    "graph_p.add_edges_from(p_edges)\n",
    "graph_p2.add_edges_from(p_edges)\n",
    "\n",
    "rnodes = [v + '_t0' for _, v in nodes_names.items()]\n",
    "rgenes = [v + '_t0' for _, v in nodes_genes.items()]\n",
    "\n",
    "nodes_names.update({k:v + '_t0' for k, v in nodes_names.items()})\n",
    "nodes_names.update({k + len(nodes_names):v[:-1] + '1' for k, v in nodes_names.items()})\n",
    "\n",
    "nodes_genes.update({k:v + '_t0' for k, v in nodes_genes.items()})\n",
    "nodes_genes.update({k + len(nodes_genes):v[:-1] + '1' for k, v in nodes_genes.items()})\n",
    "\n",
    "graph_p = nx.relabel_nodes(graph_p, nodes_names, copy=False)\n",
    "graph_p2 = nx.relabel_nodes(graph_p2, nodes_genes, copy=False)\n",
    "\n",
    "#pos = nx.shell_layout(graph_y, nlist=[range(nnodes),range(nnodes,nnodes*2)], rotate=0.1, center=(1,5))\n",
    "pos = nx.bipartite_layout(graph_p, nodes=rnodes)\n",
    "pos2 = nx.bipartite_layout(graph_p2, nodes=rgenes)\n",
    "\n",
    "#subax1 = plt.subplot(121)\n",
    "nx.draw(graph_p, pos, node_color='c', edge_color=p_weights, width=5.0, edge_cmap=plt.cm.Blues, with_labels=True)\n",
    "\n",
    "#subax2 = plt.subplot(122)\n",
    "#nx.draw(graph_p2, pos2, node_color='c', edge_color=p_weights, width=5.0, edge_cmap=plt.cm.Blues, with_labels=True)\n",
    "plt.figure(figsize=(3,2))\n",
    "plt.show()"
   ]
  },
  {
   "cell_type": "code",
   "execution_count": null,
   "id": "cee7116b",
   "metadata": {},
   "outputs": [],
   "source": []
  },
  {
   "cell_type": "code",
   "execution_count": null,
   "id": "dff7dfde",
   "metadata": {},
   "outputs": [],
   "source": []
  }
 ],
 "metadata": {
  "kernelspec": {
   "display_name": "Python 3 (ipykernel)",
   "language": "python",
   "name": "python3"
  },
  "language_info": {
   "codemirror_mode": {
    "name": "ipython",
    "version": 3
   },
   "file_extension": ".py",
   "mimetype": "text/x-python",
   "name": "python",
   "nbconvert_exporter": "python",
   "pygments_lexer": "ipython3",
   "version": "3.8.10"
  }
 },
 "nbformat": 4,
 "nbformat_minor": 5
}
