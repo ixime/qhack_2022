{
 "cells": [
  {
   "cell_type": "markdown",
   "id": "cccbf22e-4122-4fbd-824e-3855b92d78d3",
   "metadata": {},
   "source": [
    "## 3rd variant\n",
    "### Dynamic Bayesian Network Structure Learning with quantum circuit structure learning.\n",
    "This is a toy example with dummy generated training data of 4 variables, that means 8 vertices (4 for t and 4 for t+1).    \n",
    "n_qubits=2 * ceil(log2(2 * nnodes)) -> for nnodes = 4, n_qubits = 6    \n",
    "where first three digits correspond to vertice where the edge begins and three las digits correspond to vertice qhere edge ends i.e. 010101 corresponds to: vertice_2 ---> vertice_5  \n",
    "\n",
    "It was tested with one generated test dataset at the end of the notebook.\n"
   ]
  },
  {
   "cell_type": "code",
   "execution_count": 1,
   "id": "4fe290df-09b7-4a29-bd7e-34fa55c76265",
   "metadata": {},
   "outputs": [],
   "source": [
    "import pandas as pd\n",
    "from torch.utils.data import Dataset\n",
    "import torch\n",
    "import torchvision\n",
    "from torch import nn\n",
    "from pennylane import numpy as np\n",
    "import pennylane as qml\n",
    "import random\n",
    "import networkx as nx\n",
    "from matplotlib import pyplot as plt"
   ]
  },
  {
   "cell_type": "code",
   "execution_count": 2,
   "id": "923fe197-fa4d-413f-a6c5-7be771c4c453",
   "metadata": {},
   "outputs": [],
   "source": [
    "scale = np.frompyfunc(lambda x, min, max: (x-min)/(max - min), 3, 1)\n",
    "\n",
    "def get_edges(n=4):\n",
    "    num_edges = random.randint(n, n+3)\n",
    "    e1 = [(random.randint(0, n-1),random.randint(0, (n*2)-1)) for f in range(num_edges//2)]\n",
    "    e2 = [(random.randint(0, (n*2)-1),random.randint(n, (n*2)-1)) for f in range(num_edges//2)]\n",
    "    return e1 + e2\n",
    "\n",
    "def get_t0(edges, weights, n=4):\n",
    "    t0 = np.zeros(n) + 0.01\n",
    "    edges0 = [edge for i in range(n) for edge in edges if edge[0] == i and edge[1] < n]\n",
    "    if len(edges0) > 0:\n",
    "        t0[edges0[0][0]] = random.random()\n",
    "        for edge in edges0:\n",
    "            t0[edge[1]] += weights[edge[0]] + weights[edge[1]] * t0[edge[0]]\n",
    "    return t0\n",
    "        \n",
    "def get_t1(edges, weights, t0, n=4):\n",
    "    t1 = np.zeros(n) + 0.01\n",
    "    edges1 = [edge for edge in edges if edge[1] >= n]\n",
    "    for edge in edges1:\n",
    "        if edge[0] < n:\n",
    "            t1[edge[1]-n] += weights[edge[0]] + weights[edge[1]-n] * t0[edge[0]]\n",
    "        else:\n",
    "            t1[edge[1]-n] += weights[edge[0]-n] + weights[edge[1]-n] * t1[edge[0]-n]\n",
    "    return t1"
   ]
  },
  {
   "cell_type": "code",
   "execution_count": 3,
   "id": "5bb17627-1079-48af-9fc5-82f64d00c542",
   "metadata": {},
   "outputs": [],
   "source": [
    "# generate training dataset\n",
    "exper = 1000\n",
    "nnodes = 4\n",
    "n_qubits = 6\n",
    "arr_list = []\n",
    "edges_list = []\n",
    "for f in range(exper):\n",
    "    weights = [random.randint(1, 10)/10 for f in range(nnodes)]\n",
    "    edges = get_edges(n = nnodes)\n",
    "    t0 = get_t0(edges, weights, n = nnodes)\n",
    "    t1 = get_t1(edges, weights, t0, n = nnodes)\n",
    "    arr_list.append(scale(np.stack([t0,t1]),np.min(np.stack([t0,t1])), np.max(np.stack([t0,t1]))).astype(float))\n",
    "    edges_list.append(edges)\n",
    "arr = np.concatenate(arr_list, axis=1)"
   ]
  },
  {
   "cell_type": "code",
   "execution_count": 4,
   "id": "9021ae7a-b9de-488c-b527-066da15313fb",
   "metadata": {},
   "outputs": [
    {
     "data": {
      "text/html": [
       "<div>\n",
       "<style scoped>\n",
       "    .dataframe tbody tr th:only-of-type {\n",
       "        vertical-align: middle;\n",
       "    }\n",
       "\n",
       "    .dataframe tbody tr th {\n",
       "        vertical-align: top;\n",
       "    }\n",
       "\n",
       "    .dataframe thead th {\n",
       "        text-align: right;\n",
       "    }\n",
       "</style>\n",
       "<table border=\"1\" class=\"dataframe\">\n",
       "  <thead>\n",
       "    <tr style=\"text-align: right;\">\n",
       "      <th></th>\n",
       "      <th>t01</th>\n",
       "    </tr>\n",
       "  </thead>\n",
       "  <tbody>\n",
       "    <tr>\n",
       "      <th>0</th>\n",
       "      <td>[[0.0, 0.4918107303650108, 0.0, 0.015870439893...</td>\n",
       "    </tr>\n",
       "    <tr>\n",
       "      <th>1</th>\n",
       "      <td>[[0.6530668410487892, 0.0, 0.0, 0.0], [0.10017...</td>\n",
       "    </tr>\n",
       "    <tr>\n",
       "      <th>2</th>\n",
       "      <td>[[0.0, 0.0, 0.11451677576859155, 0.0], [1.0, 0...</td>\n",
       "    </tr>\n",
       "    <tr>\n",
       "      <th>3</th>\n",
       "      <td>[[0.4408631196555192, 0.0, 0.09567690178056464...</td>\n",
       "    </tr>\n",
       "    <tr>\n",
       "      <th>4</th>\n",
       "      <td>[[0.09718385475435809, 0.0, 0.0, 1.0], [0.7419...</td>\n",
       "    </tr>\n",
       "    <tr>\n",
       "      <th>...</th>\n",
       "      <td>...</td>\n",
       "    </tr>\n",
       "    <tr>\n",
       "      <th>995</th>\n",
       "      <td>[[0.0, 0.8347924466586949, 0.0, 0.0], [0.0, 0....</td>\n",
       "    </tr>\n",
       "    <tr>\n",
       "      <th>996</th>\n",
       "      <td>[[0.0, 0.0, 1.0, 0.0], [0.478387121911663, 0.4...</td>\n",
       "    </tr>\n",
       "    <tr>\n",
       "      <th>997</th>\n",
       "      <td>[[0.44014684789500685, 0.5933711821820098, 0.5...</td>\n",
       "    </tr>\n",
       "    <tr>\n",
       "      <th>998</th>\n",
       "      <td>[[0.0, 0.4609473269513282, 0.11420056457962102...</td>\n",
       "    </tr>\n",
       "    <tr>\n",
       "      <th>999</th>\n",
       "      <td>[[0.0, 0.0, 0.0, 1.0], [0.2226727513364205, 0....</td>\n",
       "    </tr>\n",
       "  </tbody>\n",
       "</table>\n",
       "<p>1000 rows × 1 columns</p>\n",
       "</div>"
      ],
      "text/plain": [
       "                                                   t01\n",
       "0    [[0.0, 0.4918107303650108, 0.0, 0.015870439893...\n",
       "1    [[0.6530668410487892, 0.0, 0.0, 0.0], [0.10017...\n",
       "2    [[0.0, 0.0, 0.11451677576859155, 0.0], [1.0, 0...\n",
       "3    [[0.4408631196555192, 0.0, 0.09567690178056464...\n",
       "4    [[0.09718385475435809, 0.0, 0.0, 1.0], [0.7419...\n",
       "..                                                 ...\n",
       "995  [[0.0, 0.8347924466586949, 0.0, 0.0], [0.0, 0....\n",
       "996  [[0.0, 0.0, 1.0, 0.0], [0.478387121911663, 0.4...\n",
       "997  [[0.44014684789500685, 0.5933711821820098, 0.5...\n",
       "998  [[0.0, 0.4609473269513282, 0.11420056457962102...\n",
       "999  [[0.0, 0.0, 0.0, 1.0], [0.2226727513364205, 0....\n",
       "\n",
       "[1000 rows x 1 columns]"
      ]
     },
     "execution_count": 4,
     "metadata": {},
     "output_type": "execute_result"
    }
   ],
   "source": [
    "dsa = pd.DataFrame({'t01':arr_list})\n",
    "dsa"
   ]
  },
  {
   "cell_type": "code",
   "execution_count": 5,
   "id": "9f69ccae-043f-4ac4-a38f-6023a33f4810",
   "metadata": {},
   "outputs": [],
   "source": [
    "#int(\"110100010\",2) = 418\n",
    "edges_bin_list = [[np.binary_repr(ed[0], width=n_qubits//2) + np.binary_repr(ed[1], width=n_qubits//2)  for ed in edges] for edges in edges_list]\n",
    "ya_list = [[int(edge,2) for edge in edges] for edges in edges_bin_list]"
   ]
  },
  {
   "cell_type": "code",
   "execution_count": 6,
   "id": "b360df17-7ea7-4bb7-873c-4a3e0ed2d112",
   "metadata": {},
   "outputs": [],
   "source": [
    "dsa['y'] = ya_list"
   ]
  },
  {
   "cell_type": "code",
   "execution_count": 7,
   "id": "e0b4c30b-0265-482e-a99f-cf3356654431",
   "metadata": {},
   "outputs": [
    {
     "data": {
      "text/html": [
       "<div>\n",
       "<style scoped>\n",
       "    .dataframe tbody tr th:only-of-type {\n",
       "        vertical-align: middle;\n",
       "    }\n",
       "\n",
       "    .dataframe tbody tr th {\n",
       "        vertical-align: top;\n",
       "    }\n",
       "\n",
       "    .dataframe thead th {\n",
       "        text-align: right;\n",
       "    }\n",
       "</style>\n",
       "<table border=\"1\" class=\"dataframe\">\n",
       "  <thead>\n",
       "    <tr style=\"text-align: right;\">\n",
       "      <th></th>\n",
       "      <th>t01</th>\n",
       "      <th>y</th>\n",
       "    </tr>\n",
       "  </thead>\n",
       "  <tbody>\n",
       "    <tr>\n",
       "      <th>0</th>\n",
       "      <td>[[0.0, 0.4918107303650108, 0.0, 0.015870439893...</td>\n",
       "      <td>[14, 25, 60, 28]</td>\n",
       "    </tr>\n",
       "    <tr>\n",
       "      <th>1</th>\n",
       "      <td>[[0.6530668410487892, 0.0, 0.0, 0.0], [0.10017...</td>\n",
       "      <td>[0, 29, 5, 28]</td>\n",
       "    </tr>\n",
       "    <tr>\n",
       "      <th>2</th>\n",
       "      <td>[[0.0, 0.0, 0.11451677576859155, 0.0], [1.0, 0...</td>\n",
       "      <td>[4, 18, 5, 7, 60, 60]</td>\n",
       "    </tr>\n",
       "    <tr>\n",
       "      <th>3</th>\n",
       "      <td>[[0.4408631196555192, 0.0, 0.09567690178056464...</td>\n",
       "      <td>[16, 24, 19, 6, 22, 22]</td>\n",
       "    </tr>\n",
       "    <tr>\n",
       "      <th>4</th>\n",
       "      <td>[[0.09718385475435809, 0.0, 0.0, 1.0], [0.7419...</td>\n",
       "      <td>[3, 11, 7, 36]</td>\n",
       "    </tr>\n",
       "    <tr>\n",
       "      <th>...</th>\n",
       "      <td>...</td>\n",
       "      <td>...</td>\n",
       "    </tr>\n",
       "    <tr>\n",
       "      <th>995</th>\n",
       "      <td>[[0.0, 0.8347924466586949, 0.0, 0.0], [0.0, 0....</td>\n",
       "      <td>[23, 9, 38, 39]</td>\n",
       "    </tr>\n",
       "    <tr>\n",
       "      <th>996</th>\n",
       "      <td>[[0.0, 0.0, 1.0, 0.0], [0.478387121911663, 0.4...</td>\n",
       "      <td>[18, 26, 37, 60]</td>\n",
       "    </tr>\n",
       "    <tr>\n",
       "      <th>997</th>\n",
       "      <td>[[0.44014684789500685, 0.5933711821820098, 0.5...</td>\n",
       "      <td>[1, 3, 2, 22, 53, 15]</td>\n",
       "    </tr>\n",
       "    <tr>\n",
       "      <th>998</th>\n",
       "      <td>[[0.0, 0.4609473269513282, 0.11420056457962102...</td>\n",
       "      <td>[13, 17, 22, 21, 15, 38]</td>\n",
       "    </tr>\n",
       "    <tr>\n",
       "      <th>999</th>\n",
       "      <td>[[0.0, 0.0, 0.0, 1.0], [0.2226727513364205, 0....</td>\n",
       "      <td>[27, 6, 13, 12]</td>\n",
       "    </tr>\n",
       "  </tbody>\n",
       "</table>\n",
       "<p>1000 rows × 2 columns</p>\n",
       "</div>"
      ],
      "text/plain": [
       "                                                   t01  \\\n",
       "0    [[0.0, 0.4918107303650108, 0.0, 0.015870439893...   \n",
       "1    [[0.6530668410487892, 0.0, 0.0, 0.0], [0.10017...   \n",
       "2    [[0.0, 0.0, 0.11451677576859155, 0.0], [1.0, 0...   \n",
       "3    [[0.4408631196555192, 0.0, 0.09567690178056464...   \n",
       "4    [[0.09718385475435809, 0.0, 0.0, 1.0], [0.7419...   \n",
       "..                                                 ...   \n",
       "995  [[0.0, 0.8347924466586949, 0.0, 0.0], [0.0, 0....   \n",
       "996  [[0.0, 0.0, 1.0, 0.0], [0.478387121911663, 0.4...   \n",
       "997  [[0.44014684789500685, 0.5933711821820098, 0.5...   \n",
       "998  [[0.0, 0.4609473269513282, 0.11420056457962102...   \n",
       "999  [[0.0, 0.0, 0.0, 1.0], [0.2226727513364205, 0....   \n",
       "\n",
       "                            y  \n",
       "0            [14, 25, 60, 28]  \n",
       "1              [0, 29, 5, 28]  \n",
       "2       [4, 18, 5, 7, 60, 60]  \n",
       "3     [16, 24, 19, 6, 22, 22]  \n",
       "4              [3, 11, 7, 36]  \n",
       "..                        ...  \n",
       "995           [23, 9, 38, 39]  \n",
       "996          [18, 26, 37, 60]  \n",
       "997     [1, 3, 2, 22, 53, 15]  \n",
       "998  [13, 17, 22, 21, 15, 38]  \n",
       "999           [27, 6, 13, 12]  \n",
       "\n",
       "[1000 rows x 2 columns]"
      ]
     },
     "execution_count": 7,
     "metadata": {},
     "output_type": "execute_result"
    }
   ],
   "source": [
    "dsa"
   ]
  },
  {
   "cell_type": "code",
   "execution_count": 8,
   "id": "a67e4d0e-752d-49a6-8e24-b4f4cf7fc80b",
   "metadata": {},
   "outputs": [],
   "source": [
    "dev = qml.device(\"default.qubit\", wires=n_qubits)\n",
    "\n",
    "def RGen(param, generator, wires):\n",
    "    if generator == \"X\":\n",
    "        qml.RX(param, wires=wires)\n",
    "    elif generator == \"Y\":\n",
    "        qml.RY(param, wires=wires)\n",
    "    elif generator == \"Z\":\n",
    "        qml.RZ(param, wires=wires)\n",
    "\n",
    "\n",
    "def ansatz_rsel(params, generators, wires):\n",
    "    for i in range(wires):\n",
    "        RGen(params[i], generators[i], wires=i)\n",
    "    for i in range(wires-1):\n",
    "        qml.CNOT(wires=[i,i+1])\n",
    "    qml.CNOT(wires=[wires-1,0])\n",
    "\n",
    "@qml.qnode(dev)\n",
    "def qnode(inputs, weights, generators):\n",
    "    for i in range(nnodes):\n",
    "        qml.Rot(inputs[0,i], inputs[1,i], inputs[1,i]-inputs[0,i], wires=i)\n",
    "    for j in range(n_layers):\n",
    "        ansatz_rsel(weights[j*n_qubits:(j+1)*n_qubits], generators[j*n_qubits:(j+1)*n_qubits], n_qubits)\n",
    "    return qml.probs(wires=range(n_qubits))"
   ]
  },
  {
   "cell_type": "code",
   "execution_count": 9,
   "id": "324a469a-0f74-4cb3-9f93-90097b00e0b9",
   "metadata": {},
   "outputs": [],
   "source": [
    "def cost_rsel(params, generators, inputs, y):\n",
    "    probs = qnode(inputs, params, generators)\n",
    "    return np.mean((probs - np.array(y, requires_grad=False))**2)"
   ]
  },
  {
   "cell_type": "code",
   "execution_count": 10,
   "id": "fad857c9-b9cd-42d4-8e80-0774d4537884",
   "metadata": {},
   "outputs": [],
   "source": [
    "def error(predictions, y):\n",
    "    error = np.sum(abs(y.detach().numpy() - predictions))/len(y[0].detach().numpy())\n",
    "    return error"
   ]
  },
  {
   "cell_type": "code",
   "execution_count": 11,
   "id": "49a02e91-2354-4a58-bc98-aa253e92edff",
   "metadata": {},
   "outputs": [],
   "source": [
    "def get_ranks(outputs, y, weighted = False):\n",
    "    rp = np.flip(np.argsort(outputs))\n",
    "    if weighted:\n",
    "        a = [np.argwhere(rp == x)[0][0]*outputs[x]*len(np.nonzero(y.detach().numpy())[1]) for x in np.nonzero(y.detach().numpy())[1]]\n",
    "    else:\n",
    "        a = [np.argwhere(rp == x)[0][0] for x in np.nonzero(y.detach().numpy())[1]]\n",
    "    return a\n",
    "\n",
    "def score(outputs, y, weighted = False):\n",
    "    ly = len(np.nonzero(y.detach().numpy())[1])\n",
    "    lo = len(y[0].detach().numpy())\n",
    "    ranks = get_ranks(outputs, y, weighted)\n",
    "    sr = sum(ranks)\n",
    "    sy = sum(range(ly))\n",
    "    sw = sum(range(lo-ly,lo))\n",
    "    return 1 - (sr - sy)/(sw - sy) "
   ]
  },
  {
   "cell_type": "code",
   "execution_count": 12,
   "id": "906717f6-a32a-44ec-92a8-01624d9e6100",
   "metadata": {},
   "outputs": [],
   "source": [
    "class CustomDataset(Dataset):\n",
    "    def __init__(self, ds, n, q, transform=None):\n",
    "        self.ds_full = ds\n",
    "        self.n = n\n",
    "        self.q = q\n",
    "        self.x_csv = self.ds_full[[\"t01\"]]\n",
    "        self.y_csv = self.ds_full[[\"y\"]]\n",
    "        self.transform = transform\n",
    "\n",
    "    def __len__(self):\n",
    "        return len(self.x_csv)\n",
    "\n",
    "    def __getitem__(self, idx):\n",
    "        x = np.array(self.x_csv.iloc[idx].tolist())\n",
    "        y = np.zeros(2**self.q)\n",
    "        for i in self.y_csv.iloc[idx].tolist():\n",
    "            #011000 24\n",
    "            y[i] = 1/len(self.y_csv.iloc[idx].tolist()[0])\n",
    "        if self.transform:\n",
    "            x = self.transform(x)\n",
    "            y = self.transform(y)\n",
    "        return x, y"
   ]
  },
  {
   "cell_type": "code",
   "execution_count": 13,
   "id": "9df1b87f-5810-47c4-8dc7-b995c6837287",
   "metadata": {},
   "outputs": [],
   "source": [
    "batch_size = 1\n",
    "transform = torchvision.transforms.Lambda(lambda y: torch.from_numpy(y).float())\n",
    "\n",
    "train_dataset = CustomDataset(dsa, nnodes, n_qubits, transform)\n",
    "\n",
    "train_loader = torch.utils.data.DataLoader(\n",
    "    train_dataset, batch_size=batch_size, shuffle=True, pin_memory=True\n",
    ")\n",
    "\n",
    "test_loader = torch.utils.data.DataLoader(\n",
    "    train_dataset, batch_size=batch_size, shuffle=False\n",
    ")"
   ]
  },
  {
   "cell_type": "code",
   "execution_count": 14,
   "id": "ce10c7f0-b357-412b-98aa-dc40d6b929e1",
   "metadata": {},
   "outputs": [],
   "source": [
    "opt = qml.optimize.RotoselectOptimizer()\n",
    "epochs=1\n",
    "n_layers = 2\n",
    "costs_rsel = []\n",
    "rng = np.random.default_rng(seed=432852)\n",
    "params_rsel = rng.random(size=n_layers * n_qubits, requires_grad=False) - 0.5\n",
    "generators = np.random.choice([\"X\", \"Y\", \"Z\"], n_layers * n_qubits, requires_grad=False)\n",
    "n_steps = 30"
   ]
  },
  {
   "cell_type": "code",
   "execution_count": 15,
   "id": "141233ea-b228-49d7-a273-4de6a3362261",
   "metadata": {},
   "outputs": [
    {
     "name": "stderr",
     "output_type": "stream",
     "text": [
      "/home/common_user/.local/lib/python3.8/site-packages/pennylane/math/multi_dispatch.py:65: UserWarning: Contains tensors of types {'torch', 'autograd'}; dispatch will prioritize TensorFlow and PyTorch over autograd. Consider replacing Autograd with vanilla NumPy.\n",
      "  warnings.warn(\n"
     ]
    },
    {
     "name": "stdout",
     "output_type": "stream",
     "text": [
      "epoch : 1/1, loss = 0.009943, error = 0.029505, score = 0.511247, weighted_score = 1.031049\n",
      "CPU times: user 21min 43s, sys: 1.2 s, total: 21min 44s\n",
      "Wall time: 20min 20s\n"
     ]
    }
   ],
   "source": [
    "%%time\n",
    "cost_rotosel = []\n",
    "for epoch in range(epochs):\n",
    "    loss = 0\n",
    "    err = 0\n",
    "    metr = 0\n",
    "    wmetr = 0\n",
    "    for batch_features, y_batch in train_loader:\n",
    "        cost_rotosel.append(cost_rsel(params_rsel, generators, batch_features[0][0], y_batch[0]))\n",
    "        kwargs = {'inputs': np.array(batch_features[0][0]), 'y': np.array(y_batch[0])}\n",
    "        params_rsel, generators = opt.step(cost_rsel, params_rsel, generators, **kwargs)\n",
    "        outputs = qnode(batch_features[0][0], params_rsel, generators)\n",
    "        loss += cost_rotosel[-1]\n",
    "    \n",
    "        err += error(outputs, y_batch)\n",
    "\n",
    "        metr += score(outputs, y_batch, False)\n",
    "\n",
    "        wmetr += score(outputs, y_batch, True)\n",
    "\n",
    "    loss = loss / len(train_loader)\n",
    "\n",
    "    \n",
    "    err = err / len(train_loader)\n",
    "    \n",
    "    metr = metr / len(train_loader)\n",
    "\n",
    "    wmetr = wmetr / len(train_loader)\n",
    "\n",
    "    print(\"epoch : {}/{}, loss = {:.6f}, error = {:.6f}, score = {:.6f}, weighted_score = {:.6f}\".format(epoch + 1, \n",
    "                                                                                                        epochs, \n",
    "                                                                                                        loss, \n",
    "                                                                                                        err, \n",
    "                                                                                                        metr,\n",
    "                                                                                                        wmetr))"
   ]
  },
  {
   "cell_type": "code",
   "execution_count": null,
   "id": "77f3550d-79da-4790-8fab-fa5f0edec9d1",
   "metadata": {},
   "outputs": [],
   "source": []
  },
  {
   "cell_type": "code",
   "execution_count": 20,
   "id": "1aabb253-a843-4dee-94f8-2a507b6dd620",
   "metadata": {},
   "outputs": [
    {
     "data": {
      "text/plain": [
       "tensor([9.99125339e-01, 0.00000000e+00, 0.00000000e+00, 0.00000000e+00,\n",
       "        0.00000000e+00, 2.24900614e-12, 0.00000000e+00, 0.00000000e+00,\n",
       "        0.00000000e+00, 0.00000000e+00, 2.24900614e-12, 0.00000000e+00,\n",
       "        0.00000000e+00, 0.00000000e+00, 0.00000000e+00, 5.05958931e-08,\n",
       "        5.62101633e-09, 0.00000000e+00, 0.00000000e+00, 0.00000000e+00,\n",
       "        0.00000000e+00, 3.99756715e-04, 0.00000000e+00, 0.00000000e+00,\n",
       "        0.00000000e+00, 0.00000000e+00, 2.02437544e-11, 0.00000000e+00,\n",
       "        0.00000000e+00, 0.00000000e+00, 0.00000000e+00, 5.62101633e-09,\n",
       "        8.99587504e-08, 0.00000000e+00, 0.00000000e+00, 0.00000000e+00,\n",
       "        0.00000000e+00, 1.26491835e-12, 0.00000000e+00, 0.00000000e+00,\n",
       "        0.00000000e+00, 0.00000000e+00, 2.49785487e-05, 0.00000000e+00,\n",
       "        0.00000000e+00, 0.00000000e+00, 0.00000000e+00, 8.99587504e-08,\n",
       "        5.06102273e-16, 0.00000000e+00, 0.00000000e+00, 0.00000000e+00,\n",
       "        0.00000000e+00, 2.24836916e-04, 0.00000000e+00, 0.00000000e+00,\n",
       "        0.00000000e+00, 0.00000000e+00, 2.24836916e-04, 0.00000000e+00,\n",
       "        0.00000000e+00, 0.00000000e+00, 0.00000000e+00, 9.99408400e-09], requires_grad=True)"
      ]
     },
     "execution_count": 20,
     "metadata": {},
     "output_type": "execute_result"
    }
   ],
   "source": [
    "outputs"
   ]
  },
  {
   "cell_type": "code",
   "execution_count": 22,
   "id": "a33b18cb-f0d5-48f2-96de-ebf509ddd6ef",
   "metadata": {},
   "outputs": [
    {
     "data": {
      "text/plain": [
       "tensor([ 0, 21, 53, 58, 42, 47, 32, 15, 63, 31, 16, 26, 10,  5, 37, 48,\n",
       "         2, 61, 24, 23, 22, 60, 20, 19, 18, 17,  1, 14,  3, 13, 25, 11,\n",
       "         9,  8,  7,  6,  4, 12, 54, 55, 41, 52, 51, 50, 49, 56, 46, 45,\n",
       "        44, 43, 57, 40, 28, 39, 38, 36, 35, 34, 33, 59, 62, 30, 29, 27], requires_grad=True)"
      ]
     },
     "execution_count": 22,
     "metadata": {},
     "output_type": "execute_result"
    }
   ],
   "source": [
    "np.flip(np.argsort(outputs))"
   ]
  },
  {
   "cell_type": "markdown",
   "id": "411b7216-7b70-4329-9831-01e910e77c73",
   "metadata": {},
   "source": [
    "## testing"
   ]
  },
  {
   "cell_type": "code",
   "execution_count": 16,
   "id": "a938399f-fdc2-447e-8916-a5037346b78a",
   "metadata": {},
   "outputs": [],
   "source": [
    "# generate Testing dataset\n",
    "exper = 12\n",
    "nnodes = 4\n",
    "n_qubits = 6\n",
    "arr_list = []\n",
    "edges_list = []\n",
    "edges = get_edges(n = nnodes)\n",
    "for f in range(exper):\n",
    "    weights = [random.randint(1, 10)/10 for f in range(nnodes)]\n",
    "    t0 = get_t0(edges, weights, n = nnodes)\n",
    "    t1 = get_t1(edges, weights, t0, n = nnodes)\n",
    "    arr_list.append(scale(np.stack([t0,t1]),np.min(np.stack([t0,t1])), np.max(np.stack([t0,t1]))).astype(float))\n",
    "    edges_list.append(edges)\n",
    "arr = np.concatenate(arr_list, axis=1)"
   ]
  },
  {
   "cell_type": "code",
   "execution_count": 17,
   "id": "2e7ad63f-bb7d-492b-92e8-ec22d374e719",
   "metadata": {},
   "outputs": [
    {
     "data": {
      "text/html": [
       "<div>\n",
       "<style scoped>\n",
       "    .dataframe tbody tr th:only-of-type {\n",
       "        vertical-align: middle;\n",
       "    }\n",
       "\n",
       "    .dataframe tbody tr th {\n",
       "        vertical-align: top;\n",
       "    }\n",
       "\n",
       "    .dataframe thead th {\n",
       "        text-align: right;\n",
       "    }\n",
       "</style>\n",
       "<table border=\"1\" class=\"dataframe\">\n",
       "  <thead>\n",
       "    <tr style=\"text-align: right;\">\n",
       "      <th></th>\n",
       "      <th>t01</th>\n",
       "    </tr>\n",
       "  </thead>\n",
       "  <tbody>\n",
       "    <tr>\n",
       "      <th>0</th>\n",
       "      <td>[[0.3373524868969766, 0.0, 0.06058042583869873...</td>\n",
       "    </tr>\n",
       "    <tr>\n",
       "      <th>1</th>\n",
       "      <td>[[0.2633147670576943, 0.0, 0.04550961372786775...</td>\n",
       "    </tr>\n",
       "    <tr>\n",
       "      <th>2</th>\n",
       "      <td>[[0.1617743199544939, 3.315339345270591e-05, 0...</td>\n",
       "    </tr>\n",
       "    <tr>\n",
       "      <th>3</th>\n",
       "      <td>[[0.1850549905919513, 0.0, 0.02662294835370891...</td>\n",
       "    </tr>\n",
       "    <tr>\n",
       "      <th>4</th>\n",
       "      <td>[[0.5817171226679637, 0.0, 0.3328668371291173,...</td>\n",
       "    </tr>\n",
       "    <tr>\n",
       "      <th>5</th>\n",
       "      <td>[[0.26948429186978673, 0.0, 0.0369542053619910...</td>\n",
       "    </tr>\n",
       "    <tr>\n",
       "      <th>6</th>\n",
       "      <td>[[0.24962488173950093, 0.0, 0.2069949581558156...</td>\n",
       "    </tr>\n",
       "    <tr>\n",
       "      <th>7</th>\n",
       "      <td>[[0.6699320676382194, 0.0, 0.14497896547298772...</td>\n",
       "    </tr>\n",
       "    <tr>\n",
       "      <th>8</th>\n",
       "      <td>[[0.1394210495131069, 0.0, 0.10686103468614898...</td>\n",
       "    </tr>\n",
       "    <tr>\n",
       "      <th>9</th>\n",
       "      <td>[[0.10548149444892313, 0.0, 0.0925739356318571...</td>\n",
       "    </tr>\n",
       "    <tr>\n",
       "      <th>10</th>\n",
       "      <td>[[0.20585534032558284, 0.0, 0.0797520383174646...</td>\n",
       "    </tr>\n",
       "    <tr>\n",
       "      <th>11</th>\n",
       "      <td>[[0.6764656675160026, 0.0, 0.39005314380609984...</td>\n",
       "    </tr>\n",
       "  </tbody>\n",
       "</table>\n",
       "</div>"
      ],
      "text/plain": [
       "                                                  t01\n",
       "0   [[0.3373524868969766, 0.0, 0.06058042583869873...\n",
       "1   [[0.2633147670576943, 0.0, 0.04550961372786775...\n",
       "2   [[0.1617743199544939, 3.315339345270591e-05, 0...\n",
       "3   [[0.1850549905919513, 0.0, 0.02662294835370891...\n",
       "4   [[0.5817171226679637, 0.0, 0.3328668371291173,...\n",
       "5   [[0.26948429186978673, 0.0, 0.0369542053619910...\n",
       "6   [[0.24962488173950093, 0.0, 0.2069949581558156...\n",
       "7   [[0.6699320676382194, 0.0, 0.14497896547298772...\n",
       "8   [[0.1394210495131069, 0.0, 0.10686103468614898...\n",
       "9   [[0.10548149444892313, 0.0, 0.0925739356318571...\n",
       "10  [[0.20585534032558284, 0.0, 0.0797520383174646...\n",
       "11  [[0.6764656675160026, 0.0, 0.39005314380609984..."
      ]
     },
     "execution_count": 17,
     "metadata": {},
     "output_type": "execute_result"
    }
   ],
   "source": [
    "dstest = pd.DataFrame({'t01':arr_list})\n",
    "dstest"
   ]
  },
  {
   "cell_type": "code",
   "execution_count": 18,
   "id": "bceff5e2-8a83-44e5-95ec-7b86ce57a00c",
   "metadata": {},
   "outputs": [],
   "source": [
    "#int(\"110100010\",2) = 418\n",
    "edges_bin_list = [[np.binary_repr(ed[0], width=n_qubits//2) + np.binary_repr(ed[1], width=n_qubits//2)  for ed in edges] for edges in edges_list]\n",
    "ya_list = [[int(edge,2) for edge in edges] for edges in edges_bin_list]"
   ]
  },
  {
   "cell_type": "code",
   "execution_count": 19,
   "id": "c91f1ba7-da22-439b-9f2b-99e8c2bac692",
   "metadata": {},
   "outputs": [
    {
     "data": {
      "text/html": [
       "<div>\n",
       "<style scoped>\n",
       "    .dataframe tbody tr th:only-of-type {\n",
       "        vertical-align: middle;\n",
       "    }\n",
       "\n",
       "    .dataframe tbody tr th {\n",
       "        vertical-align: top;\n",
       "    }\n",
       "\n",
       "    .dataframe thead th {\n",
       "        text-align: right;\n",
       "    }\n",
       "</style>\n",
       "<table border=\"1\" class=\"dataframe\">\n",
       "  <thead>\n",
       "    <tr style=\"text-align: right;\">\n",
       "      <th></th>\n",
       "      <th>t01</th>\n",
       "      <th>y</th>\n",
       "    </tr>\n",
       "  </thead>\n",
       "  <tbody>\n",
       "    <tr>\n",
       "      <th>0</th>\n",
       "      <td>[[0.3373524868969766, 0.0, 0.06058042583869873...</td>\n",
       "      <td>[21, 16, 23, 60, 7, 63]</td>\n",
       "    </tr>\n",
       "    <tr>\n",
       "      <th>1</th>\n",
       "      <td>[[0.2633147670576943, 0.0, 0.04550961372786775...</td>\n",
       "      <td>[21, 16, 23, 60, 7, 63]</td>\n",
       "    </tr>\n",
       "    <tr>\n",
       "      <th>2</th>\n",
       "      <td>[[0.1617743199544939, 3.315339345270591e-05, 0...</td>\n",
       "      <td>[21, 16, 23, 60, 7, 63]</td>\n",
       "    </tr>\n",
       "    <tr>\n",
       "      <th>3</th>\n",
       "      <td>[[0.1850549905919513, 0.0, 0.02662294835370891...</td>\n",
       "      <td>[21, 16, 23, 60, 7, 63]</td>\n",
       "    </tr>\n",
       "    <tr>\n",
       "      <th>4</th>\n",
       "      <td>[[0.5817171226679637, 0.0, 0.3328668371291173,...</td>\n",
       "      <td>[21, 16, 23, 60, 7, 63]</td>\n",
       "    </tr>\n",
       "    <tr>\n",
       "      <th>5</th>\n",
       "      <td>[[0.26948429186978673, 0.0, 0.0369542053619910...</td>\n",
       "      <td>[21, 16, 23, 60, 7, 63]</td>\n",
       "    </tr>\n",
       "    <tr>\n",
       "      <th>6</th>\n",
       "      <td>[[0.24962488173950093, 0.0, 0.2069949581558156...</td>\n",
       "      <td>[21, 16, 23, 60, 7, 63]</td>\n",
       "    </tr>\n",
       "    <tr>\n",
       "      <th>7</th>\n",
       "      <td>[[0.6699320676382194, 0.0, 0.14497896547298772...</td>\n",
       "      <td>[21, 16, 23, 60, 7, 63]</td>\n",
       "    </tr>\n",
       "    <tr>\n",
       "      <th>8</th>\n",
       "      <td>[[0.1394210495131069, 0.0, 0.10686103468614898...</td>\n",
       "      <td>[21, 16, 23, 60, 7, 63]</td>\n",
       "    </tr>\n",
       "    <tr>\n",
       "      <th>9</th>\n",
       "      <td>[[0.10548149444892313, 0.0, 0.0925739356318571...</td>\n",
       "      <td>[21, 16, 23, 60, 7, 63]</td>\n",
       "    </tr>\n",
       "    <tr>\n",
       "      <th>10</th>\n",
       "      <td>[[0.20585534032558284, 0.0, 0.0797520383174646...</td>\n",
       "      <td>[21, 16, 23, 60, 7, 63]</td>\n",
       "    </tr>\n",
       "    <tr>\n",
       "      <th>11</th>\n",
       "      <td>[[0.6764656675160026, 0.0, 0.39005314380609984...</td>\n",
       "      <td>[21, 16, 23, 60, 7, 63]</td>\n",
       "    </tr>\n",
       "  </tbody>\n",
       "</table>\n",
       "</div>"
      ],
      "text/plain": [
       "                                                  t01                        y\n",
       "0   [[0.3373524868969766, 0.0, 0.06058042583869873...  [21, 16, 23, 60, 7, 63]\n",
       "1   [[0.2633147670576943, 0.0, 0.04550961372786775...  [21, 16, 23, 60, 7, 63]\n",
       "2   [[0.1617743199544939, 3.315339345270591e-05, 0...  [21, 16, 23, 60, 7, 63]\n",
       "3   [[0.1850549905919513, 0.0, 0.02662294835370891...  [21, 16, 23, 60, 7, 63]\n",
       "4   [[0.5817171226679637, 0.0, 0.3328668371291173,...  [21, 16, 23, 60, 7, 63]\n",
       "5   [[0.26948429186978673, 0.0, 0.0369542053619910...  [21, 16, 23, 60, 7, 63]\n",
       "6   [[0.24962488173950093, 0.0, 0.2069949581558156...  [21, 16, 23, 60, 7, 63]\n",
       "7   [[0.6699320676382194, 0.0, 0.14497896547298772...  [21, 16, 23, 60, 7, 63]\n",
       "8   [[0.1394210495131069, 0.0, 0.10686103468614898...  [21, 16, 23, 60, 7, 63]\n",
       "9   [[0.10548149444892313, 0.0, 0.0925739356318571...  [21, 16, 23, 60, 7, 63]\n",
       "10  [[0.20585534032558284, 0.0, 0.0797520383174646...  [21, 16, 23, 60, 7, 63]\n",
       "11  [[0.6764656675160026, 0.0, 0.39005314380609984...  [21, 16, 23, 60, 7, 63]"
      ]
     },
     "execution_count": 19,
     "metadata": {},
     "output_type": "execute_result"
    }
   ],
   "source": [
    "dstest['y'] = ya_list\n",
    "dstest"
   ]
  },
  {
   "cell_type": "code",
   "execution_count": 20,
   "id": "d984da6b-1ea6-4c4a-8a0c-afa9f1a36cc0",
   "metadata": {},
   "outputs": [],
   "source": [
    "batch_size = 1\n",
    "transform = torchvision.transforms.Lambda(lambda y: torch.from_numpy(y).float())\n",
    "\n",
    "test_dataset = CustomDataset(dstest, nnodes, n_qubits, transform)\n",
    "\n",
    "test_loader = torch.utils.data.DataLoader(\n",
    "    test_dataset, batch_size=batch_size, shuffle=False, pin_memory=True\n",
    ")\n"
   ]
  },
  {
   "cell_type": "code",
   "execution_count": 21,
   "id": "8a6c183a-4090-4511-a257-f98beadccaa7",
   "metadata": {},
   "outputs": [
    {
     "data": {
      "text/plain": [
       "[tensor([ 0, 58, 31, 42, 35, 37, 53, 16, 25, 29, 15, 39, 60,  9,  6, 22,\n",
       "          2, 51, 55, 62, 44, 56, 40, 13,  4, 18, 33, 20, 27, 11, 46, 49,\n",
       "          1, 17, 19,  7, 14,  3, 12,  5,  8, 10, 30, 21, 43, 61, 57, 54,\n",
       "         52, 50, 48, 47, 45, 41, 23, 38, 36, 34, 32, 59, 28, 26, 24, 63], requires_grad=True),\n",
       " tensor([ 0, 58, 31, 35, 53, 37, 42, 25, 15, 29, 16, 39, 60, 22,  6,  9,\n",
       "          2, 44, 62, 51, 40, 56, 55,  4, 18, 13, 33, 11, 27, 20, 49, 46,\n",
       "          1, 17, 19,  3, 14, 12,  5,  8,  7, 10, 30, 21, 43, 61, 57, 54,\n",
       "         52, 50, 48, 47, 45, 41, 23, 38, 36, 34, 32, 59, 28, 26, 24, 63], requires_grad=True),\n",
       " tensor([ 0, 58, 31, 35, 53, 37, 25, 15, 42, 29, 16, 39, 60, 22,  6,  2,\n",
       "         44,  9, 62, 40, 56, 51,  4, 18, 55, 13, 33, 11, 27, 49, 20, 46,\n",
       "         21, 47, 10, 54, 32, 48, 12, 26, 63,  8,  5, 50, 41,  3, 19, 23,\n",
       "         57, 28, 43, 61, 45, 38, 17,  7, 34, 24, 52, 30, 14, 36,  1, 59], requires_grad=True),\n",
       " tensor([ 0, 58, 31, 35, 53, 37, 42, 25, 15, 29, 16, 39, 60, 22,  6,  2,\n",
       "          9, 44, 62, 40, 56, 51, 55,  4, 18, 13, 33, 11, 27, 20, 49, 46,\n",
       "          1, 17, 19,  3, 14, 12,  5,  8,  7, 10, 30, 21, 43, 61, 57, 54,\n",
       "         52, 50, 48, 47, 45, 41, 23, 38, 36, 34, 32, 59, 28, 26, 24, 63], requires_grad=True),\n",
       " tensor([ 0, 58, 42, 31, 35, 53, 16, 37, 25, 15, 29,  9, 60, 39, 22, 51,\n",
       "          6, 55,  2, 44, 62, 40, 13, 56,  4, 18, 20, 33, 11, 46, 27, 49,\n",
       "          1, 17, 19,  5, 14, 12, 10,  8,  7,  3, 59, 21, 61, 57, 54, 52,\n",
       "         50, 48, 47, 45, 43, 41, 23, 38, 36, 34, 32, 30, 28, 26, 24, 63], requires_grad=True),\n",
       " tensor([ 0, 58, 31, 35, 53, 42, 37, 25, 29, 15, 16, 39, 60, 22,  9,  6,\n",
       "          2, 62, 44, 51, 40, 55, 56,  4, 18, 13, 33, 11, 20, 27, 49, 46,\n",
       "          1, 17, 19,  3, 14, 12,  5,  8,  7, 10, 30, 21, 43, 61, 57, 54,\n",
       "         52, 50, 48, 47, 45, 41, 23, 38, 36, 34, 32, 59, 28, 26, 24, 63], requires_grad=True),\n",
       " tensor([ 0, 58, 31, 35, 53, 37, 42, 25, 29, 15, 16, 39, 60, 22,  6,  9,\n",
       "          2, 62, 44, 40, 51, 56, 55,  4, 18, 13, 33, 11, 27, 20, 49, 46,\n",
       "          1, 17, 19,  3, 14, 12,  5,  8,  7, 10, 30, 21, 43, 61, 57, 54,\n",
       "         52, 50, 48, 47, 45, 41, 23, 38, 36, 34, 32, 59, 28, 26, 24, 63], requires_grad=True),\n",
       " tensor([ 0, 58, 42, 31, 16, 35, 37, 25, 29,  9, 39, 60, 53, 51, 55,  6,\n",
       "         15,  2, 13, 62, 56,  4, 22, 20, 44, 33, 40, 46, 27, 18, 11, 49,\n",
       "         12,  8,  7, 14, 10,  5,  3, 17,  1, 19, 59, 21, 61, 57, 54, 52,\n",
       "         50, 48, 47, 45, 43, 41, 23, 38, 36, 34, 32, 30, 28, 26, 24, 63], requires_grad=True),\n",
       " tensor([ 0, 58, 31, 35, 37, 53, 25, 29, 42, 15, 39, 60, 16,  6, 22,  2,\n",
       "         62,  9, 44, 56, 40,  4, 51, 55, 18, 33, 13, 27, 11, 20, 49, 46,\n",
       "         17,  1, 19,  3, 14,  7, 12,  5,  8, 10, 30, 21, 43, 61, 57, 54,\n",
       "         52, 50, 48, 47, 45, 41, 23, 38, 36, 34, 32, 59, 28, 26, 24, 63], requires_grad=True),\n",
       " tensor([ 0, 58, 31, 35, 53, 37, 25, 15, 29, 42, 39, 60, 16, 22,  6,  2,\n",
       "         44, 62, 40, 56,  9,  4, 18, 51, 55, 33, 13, 11, 27, 49, 20, 46,\n",
       "          1, 17, 19,  3, 14, 12,  5,  8,  7, 10, 30, 21, 43, 61, 57, 54,\n",
       "         52, 50, 48, 47, 45, 41, 23, 38, 36, 34, 32, 59, 28, 26, 24, 63], requires_grad=True),\n",
       " tensor([ 0, 58, 31, 35, 53, 37, 42, 25, 29, 15, 16, 39, 60, 22,  6,  2,\n",
       "          9, 62, 44, 40, 56, 51, 55,  4, 18, 13, 33, 11, 27, 20, 49, 46,\n",
       "          1, 17, 19,  3, 14, 12,  5,  8,  7, 10, 30, 21, 43, 61, 57, 54,\n",
       "         52, 50, 48, 47, 45, 41, 23, 38, 36, 34, 32, 59, 28, 26, 24, 63], requires_grad=True),\n",
       " tensor([ 0, 58, 42, 31, 16, 35, 37, 25, 53, 29,  9, 15, 60, 39, 51, 55,\n",
       "          6,  2, 22, 13, 62, 56, 44,  4, 40, 20, 18, 33, 46, 27, 11, 49,\n",
       "         14,  8,  5,  3,  7, 17,  1, 12, 19, 10, 59, 21, 61, 57, 54, 52,\n",
       "         50, 48, 47, 45, 43, 41, 23, 38, 36, 34, 32, 30, 28, 26, 24, 63], requires_grad=True)]"
      ]
     },
     "execution_count": 21,
     "metadata": {},
     "output_type": "execute_result"
    }
   ],
   "source": [
    "experiments = []\n",
    "outputs_list = []\n",
    "for batch_features, _ in test_loader:\n",
    "    outputs = qnode(batch_features[0][0], params_rsel, generators)\n",
    "    outputs_list.append(outputs)\n",
    "    experiments.append(np.flip(np.argsort(outputs)))\n",
    "experiments"
   ]
  },
  {
   "cell_type": "code",
   "execution_count": 22,
   "id": "a7b2c649-00c5-4ee2-8d62-4d6ba84e2850",
   "metadata": {},
   "outputs": [],
   "source": [
    "ol = outputs_list"
   ]
  },
  {
   "cell_type": "code",
   "execution_count": 23,
   "id": "22f0a719-37c2-4b8e-b33d-72468cb20ef8",
   "metadata": {},
   "outputs": [],
   "source": [
    "results_list = np.mean(np.array(ol), axis=0)\n",
    "norm_results_list = [float(f) for f in scale(results_list, np.min(results_list), np.max(results_list)).astype(float)]\n",
    "results = [int(f) for f in np.flip(np.argsort(results_list))]"
   ]
  },
  {
   "cell_type": "code",
   "execution_count": 24,
   "id": "dd626380-9449-4f91-9bc0-af35f34381fd",
   "metadata": {},
   "outputs": [
    {
     "data": {
      "text/plain": [
       "(tensor(7.9493692, requires_grad=True),\n",
       " tensor(9.49482953e-17, requires_grad=True))"
      ]
     },
     "execution_count": 24,
     "metadata": {},
     "output_type": "execute_result"
    }
   ],
   "source": [
    "np.max(sum(outputs_list)),np.min(sum(outputs_list))"
   ]
  },
  {
   "cell_type": "code",
   "execution_count": 25,
   "id": "98488884-a6c6-457b-93fa-2993899fabec",
   "metadata": {},
   "outputs": [],
   "source": [
    "results_bin = [np.binary_repr(f, width=n_qubits) for f in results]"
   ]
  },
  {
   "cell_type": "code",
   "execution_count": 26,
   "id": "a7569df7-db96-4c7f-b10f-653bf4746042",
   "metadata": {},
   "outputs": [],
   "source": [
    "results_weights = [norm_results_list[results[i]] for i in range(len(results))]"
   ]
  },
  {
   "cell_type": "code",
   "execution_count": 27,
   "id": "f91a4683-99fe-4a5d-9ea1-89e4a46572f6",
   "metadata": {},
   "outputs": [
    {
     "data": {
      "text/plain": [
       "([0, 58, 31, 42, 35, 53, 37, 16, 25, 29, 15, 39], [21, 16, 23, 60, 7, 63])"
      ]
     },
     "execution_count": 27,
     "metadata": {},
     "output_type": "execute_result"
    }
   ],
   "source": [
    "results[:12], ya_list[0]"
   ]
  },
  {
   "cell_type": "code",
   "execution_count": 28,
   "id": "2dd4478b-fbda-40c7-8f93-c8d0fe5dea50",
   "metadata": {},
   "outputs": [
    {
     "data": {
      "text/plain": [
       "['000000',\n",
       " '111010',\n",
       " '011111',\n",
       " '101010',\n",
       " '100011',\n",
       " '110101',\n",
       " '100101',\n",
       " '010000',\n",
       " '011001',\n",
       " '011101',\n",
       " '001111',\n",
       " '100111']"
      ]
     },
     "execution_count": 28,
     "metadata": {},
     "output_type": "execute_result"
    }
   ],
   "source": [
    "results_bin[:12]"
   ]
  },
  {
   "cell_type": "code",
   "execution_count": 33,
   "id": "f6152d3c-a910-4aa6-bec5-00944feb1a21",
   "metadata": {},
   "outputs": [
    {
     "data": {
      "text/plain": [
       "24"
      ]
     },
     "execution_count": 33,
     "metadata": {},
     "output_type": "execute_result"
    }
   ],
   "source": [
    "#number of parameters\n",
    "sum([np.prod(params_rsel.shape), np.prod(generators.shape)])"
   ]
  },
  {
   "cell_type": "code",
   "execution_count": 30,
   "id": "006bad13-5e75-4958-95f6-227060b8e769",
   "metadata": {},
   "outputs": [],
   "source": [
    "def get_edges_array(n_qubits,y):\n",
    "    arr = [np.binary_repr(f, width=n_qubits) for f in y]\n",
    "    return [(int(f[:n_qubits//2],2), int(f[n_qubits//2:],2)) for f in arr]"
   ]
  },
  {
   "cell_type": "code",
   "execution_count": 31,
   "id": "9cb649c9-67aa-44a2-aff7-15abc6a85d4f",
   "metadata": {},
   "outputs": [],
   "source": [
    "y_edges = get_edges_array(n_qubits,ya_list[0]) \n",
    "p_edges = get_edges_array(n_qubits,results[:12]) \n",
    "p_weights = results_weights[:12]"
   ]
  },
  {
   "cell_type": "code",
   "execution_count": 32,
   "id": "ac7e7ab4-9687-491d-916b-b10807c6c795",
   "metadata": {},
   "outputs": [
    {
     "data": {
      "image/png": "[encoded data removed]",
      "text/plain": [
       "<Figure size 432x288 with 2 Axes>"
      ]
     },
     "metadata": {},
     "output_type": "display_data"
    }
   ],
   "source": [
    "graph_y = None\n",
    "graph_p = None\n",
    "\n",
    "graph_y = nx.DiGraph()\n",
    "graph_p = nx.DiGraph()\n",
    "\n",
    "graph_y.add_nodes_from(range(nnodes*2))\n",
    "graph_p.add_nodes_from(range(nnodes*2))\n",
    "\n",
    "graph_y.add_edges_from(y_edges)\n",
    "graph_p.add_edges_from(p_edges)\n",
    "\n",
    "mapping = {0: \"a0\", 1: \"b0\", 2: \"c0\", 3: \"d0\", 4: \"a1\", 5: \"b1\", 6: \"c1\", 7: \"d1\"}\n",
    "\n",
    "graph_y = nx.relabel_nodes(graph_y, mapping, copy=False)\n",
    "graph_p = nx.relabel_nodes(graph_p, mapping, copy=False)\n",
    "\n",
    "#pos = nx.shell_layout(graph_y, nlist=[range(nnodes),range(nnodes,nnodes*2)], rotate=0.1, center=(1,5))\n",
    "pos = nx.bipartite_layout(graph_y, nodes=['a0','b0','c0','d0'])\n",
    "\n",
    "subax1 = plt.subplot(121)\n",
    "nx.draw(graph_y, pos, node_color='c', edge_color='k', width=5.0, edge_cmap=plt.cm.Blues, with_labels=True)\n",
    "\n",
    "subax2 = plt.subplot(122)\n",
    "nx.draw(graph_p, pos, node_color='c', edge_color=p_weights, width=5.0, edge_cmap=plt.cm.Blues, with_labels=True)\n",
    "plt.show()"
   ]
  },
  {
   "cell_type": "code",
   "execution_count": null,
   "id": "bb95af9b-f556-4539-9848-278ee37b5741",
   "metadata": {},
   "outputs": [],
   "source": []
  }
 ],
 "metadata": {
  "kernelspec": {
   "display_name": "Python 3 (ipykernel)",
   "language": "python",
   "name": "python3"
  },
  "language_info": {
   "codemirror_mode": {
    "name": "ipython",
    "version": 3
   },
   "file_extension": ".py",
   "mimetype": "text/x-python",
   "name": "python",
   "nbconvert_exporter": "python",
   "pygments_lexer": "ipython3",
   "version": "3.8.10"
  }
 },
 "nbformat": 4,
 "nbformat_minor": 5
}
