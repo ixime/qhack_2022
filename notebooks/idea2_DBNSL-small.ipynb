{
 "cells": [
  {
   "cell_type": "markdown",
   "id": "a54b3130",
   "metadata": {},
   "source": [
    "## 2nd variant\n",
    "### Dynamic Bayesian Network Structure Learning with variational circuit.\n",
    "This is an example with real test data and dummy generated training data of 24 variables, that means 48 vertices (24 for t and 24 for t+1).    \n",
    "n_qubits=2 * ceil(log2(2 * nnodes)) -> for nnodes = 24, n_qubits = 12    \n",
    "where first six digits correspond to vertice where the edge begins and six last digits correspond to vertice where edge ends i.e. 000010000101 corresponds to: vertice_2 ---> vertice_5  \n",
    "\n",
    "It was tested with two sets of test data at the end of the notebook. The last test is with real data\n"
   ]
  },
  {
   "cell_type": "code",
   "execution_count": 1,
   "id": "56b2e009",
   "metadata": {},
   "outputs": [],
   "source": [
    "import pandas as pd\n",
    "from torch.utils.data import Dataset\n",
    "import torch\n",
    "import torchvision\n",
    "from torch import nn\n",
    "import numpy as np\n",
    "import pennylane as qml\n",
    "import random\n",
    "import networkx as nx\n",
    "from matplotlib import pyplot as plt"
   ]
  },
  {
   "cell_type": "code",
   "execution_count": 2,
   "id": "b30c74f4",
   "metadata": {},
   "outputs": [],
   "source": [
    "path = \"small_elu.csv\""
   ]
  },
  {
   "cell_type": "code",
   "execution_count": 52,
   "id": "09aca4b3",
   "metadata": {},
   "outputs": [
    {
     "data": {
      "text/html": [
       "<div>\n",
       "<style scoped>\n",
       "    .dataframe tbody tr th:only-of-type {\n",
       "        vertical-align: middle;\n",
       "    }\n",
       "\n",
       "    .dataframe tbody tr th {\n",
       "        vertical-align: top;\n",
       "    }\n",
       "\n",
       "    .dataframe thead th {\n",
       "        text-align: right;\n",
       "    }\n",
       "</style>\n",
       "<table border=\"1\" class=\"dataframe\">\n",
       "  <thead>\n",
       "    <tr style=\"text-align: right;\">\n",
       "      <th></th>\n",
       "      <th>NAME</th>\n",
       "      <th>T</th>\n",
       "      <th>GENE</th>\n",
       "      <th>t0</th>\n",
       "      <th>t1</th>\n",
       "    </tr>\n",
       "  </thead>\n",
       "  <tbody>\n",
       "    <tr>\n",
       "      <th>0</th>\n",
       "      <td>YAL013W</td>\n",
       "      <td>0</td>\n",
       "      <td>DEP1</td>\n",
       "      <td>0.00</td>\n",
       "      <td>-0.23</td>\n",
       "    </tr>\n",
       "    <tr>\n",
       "      <th>1</th>\n",
       "      <td>YMR039C</td>\n",
       "      <td>0</td>\n",
       "      <td>SUB1</td>\n",
       "      <td>-0.10</td>\n",
       "      <td>-0.35</td>\n",
       "    </tr>\n",
       "    <tr>\n",
       "      <th>2</th>\n",
       "      <td>YDR207C</td>\n",
       "      <td>0</td>\n",
       "      <td>UME6</td>\n",
       "      <td>0.01</td>\n",
       "      <td>-0.19</td>\n",
       "    </tr>\n",
       "    <tr>\n",
       "      <th>3</th>\n",
       "      <td>YLR295C</td>\n",
       "      <td>0</td>\n",
       "      <td>ATP14</td>\n",
       "      <td>0.10</td>\n",
       "      <td>-0.05</td>\n",
       "    </tr>\n",
       "    <tr>\n",
       "      <th>4</th>\n",
       "      <td>YDR310C</td>\n",
       "      <td>0</td>\n",
       "      <td>SUM1</td>\n",
       "      <td>-0.09</td>\n",
       "      <td>-0.03</td>\n",
       "    </tr>\n",
       "    <tr>\n",
       "      <th>...</th>\n",
       "      <td>...</td>\n",
       "      <td>...</td>\n",
       "      <td>...</td>\n",
       "      <td>...</td>\n",
       "      <td>...</td>\n",
       "    </tr>\n",
       "    <tr>\n",
       "      <th>211</th>\n",
       "      <td>YLR229C</td>\n",
       "      <td>8</td>\n",
       "      <td>CDC42</td>\n",
       "      <td>0.33</td>\n",
       "      <td>0.04</td>\n",
       "    </tr>\n",
       "    <tr>\n",
       "      <th>212</th>\n",
       "      <td>YLR295C</td>\n",
       "      <td>8</td>\n",
       "      <td>ATP14</td>\n",
       "      <td>0.10</td>\n",
       "      <td>-0.10</td>\n",
       "    </tr>\n",
       "    <tr>\n",
       "      <th>213</th>\n",
       "      <td>YMR039C</td>\n",
       "      <td>8</td>\n",
       "      <td>SUB1</td>\n",
       "      <td>0.33</td>\n",
       "      <td>0.12</td>\n",
       "    </tr>\n",
       "    <tr>\n",
       "      <th>214</th>\n",
       "      <td>YGL167C</td>\n",
       "      <td>8</td>\n",
       "      <td>PMR1</td>\n",
       "      <td>-0.19</td>\n",
       "      <td>-0.13</td>\n",
       "    </tr>\n",
       "    <tr>\n",
       "      <th>215</th>\n",
       "      <td>YPL031C</td>\n",
       "      <td>8</td>\n",
       "      <td>PHO85</td>\n",
       "      <td>0.13</td>\n",
       "      <td>0.04</td>\n",
       "    </tr>\n",
       "  </tbody>\n",
       "</table>\n",
       "<p>216 rows × 5 columns</p>\n",
       "</div>"
      ],
      "text/plain": [
       "        NAME  T   GENE    t0    t1\n",
       "0    YAL013W  0   DEP1  0.00 -0.23\n",
       "1    YMR039C  0   SUB1 -0.10 -0.35\n",
       "2    YDR207C  0   UME6  0.01 -0.19\n",
       "3    YLR295C  0  ATP14  0.10 -0.05\n",
       "4    YDR310C  0   SUM1 -0.09 -0.03\n",
       "..       ... ..    ...   ...   ...\n",
       "211  YLR229C  8  CDC42  0.33  0.04\n",
       "212  YLR295C  8  ATP14  0.10 -0.10\n",
       "213  YMR039C  8   SUB1  0.33  0.12\n",
       "214  YGL167C  8   PMR1 -0.19 -0.13\n",
       "215  YPL031C  8  PHO85  0.13  0.04\n",
       "\n",
       "[216 rows x 5 columns]"
      ]
     },
     "execution_count": 52,
     "metadata": {},
     "output_type": "execute_result"
    }
   ],
   "source": [
    "ds = pd.read_csv(path)\n",
    "ds"
   ]
  },
  {
   "cell_type": "code",
   "execution_count": 53,
   "id": "3bcd14ea",
   "metadata": {},
   "outputs": [],
   "source": [
    "nnodes = 24\n",
    "ds = ds.sort_values(by=['T', 'NAME'])\n",
    "t01_list = [ds[['t0','t1']].iloc[f*nnodes:(f+1)*nnodes].values.T for f in range(len(ds)//nnodes)]\n",
    "dst = pd.DataFrame({'T':range(len(ds)//nnodes), 't01':t01_list})\n",
    "dst['y'] = [range(4) for i in range(9)]\n",
    "\n",
    "nodes_names = {f:ds[['NAME']].iloc[0:nnodes].values[f][0] for f in range(nnodes)}\n",
    "nodes_genes = {f:ds[['GENE']].iloc[0:nnodes].values[f][0] for f in range(nnodes)}"
   ]
  },
  {
   "cell_type": "code",
   "execution_count": 5,
   "id": "da7b4306",
   "metadata": {},
   "outputs": [],
   "source": [
    "scale = np.frompyfunc(lambda x, min, max: (x-min)/(max - min), 3, 1)\n",
    "\n",
    "def get_edges(n=4):\n",
    "    num_edges = random.randint(n, n+3)\n",
    "    e1 = [(random.randint(0, n-1),random.randint(0, (n*2)-1)) for f in range(num_edges//2)]\n",
    "    e2 = [(random.randint(0, (n*2)-1),random.randint(n, (n*2)-1)) for f in range(num_edges//2)]\n",
    "    return e1 + e2\n",
    "\n",
    "def get_t0(edges, weights, n=4):\n",
    "    t0 = np.zeros(n) + 0.01\n",
    "    edges0 = [edge for i in range(n) for edge in edges if edge[0] == i and edge[1] < n]\n",
    "    if len(edges0) > 0:\n",
    "        t0[edges0[0][0]] = random.random()\n",
    "        for edge in edges0:\n",
    "            t0[edge[1]] += weights[edge[0]] + weights[edge[1]] * t0[edge[0]]\n",
    "    return t0\n",
    "        \n",
    "def get_t1(edges, weights, t0, n=4):\n",
    "    t1 = np.zeros(n) + 0.01\n",
    "    edges1 = [edge for edge in edges if edge[1] >= n]\n",
    "    for edge in edges1:\n",
    "        if edge[0] < n:\n",
    "            t1[edge[1]-n] += weights[edge[0]] + weights[edge[1]-n] * t0[edge[0]]\n",
    "        else:\n",
    "            t1[edge[1]-n] += weights[edge[0]-n] + weights[edge[1]-n] * t1[edge[0]-n]\n",
    "    return t1"
   ]
  },
  {
   "cell_type": "code",
   "execution_count": 6,
   "id": "f652f3a3",
   "metadata": {},
   "outputs": [],
   "source": [
    "# generate training dataset\n",
    "exper = 1000\n",
    "n_qubits = 12\n",
    "arr_list = []\n",
    "edges_list = []\n",
    "for f in range(exper):\n",
    "    weights = [random.randint(1, 10)/10 for f in range(nnodes)]\n",
    "    edges = get_edges(n = nnodes)\n",
    "    t0 = get_t0(edges, weights, n = nnodes)\n",
    "    t1 = get_t1(edges, weights, t0, n = nnodes)\n",
    "    arr_list.append(scale(np.stack([t0,t1]),np.min(np.stack([t0,t1])), np.max(np.stack([t0,t1]))).astype(float))\n",
    "    edges_list.append(edges)\n",
    "arr = np.concatenate(arr_list, axis=1)"
   ]
  },
  {
   "cell_type": "code",
   "execution_count": 7,
   "id": "d9650851",
   "metadata": {},
   "outputs": [
    {
     "data": {
      "text/html": [
       "<div>\n",
       "<style scoped>\n",
       "    .dataframe tbody tr th:only-of-type {\n",
       "        vertical-align: middle;\n",
       "    }\n",
       "\n",
       "    .dataframe tbody tr th {\n",
       "        vertical-align: top;\n",
       "    }\n",
       "\n",
       "    .dataframe thead th {\n",
       "        text-align: right;\n",
       "    }\n",
       "</style>\n",
       "<table border=\"1\" class=\"dataframe\">\n",
       "  <thead>\n",
       "    <tr style=\"text-align: right;\">\n",
       "      <th></th>\n",
       "      <th>t01</th>\n",
       "    </tr>\n",
       "  </thead>\n",
       "  <tbody>\n",
       "    <tr>\n",
       "      <th>0</th>\n",
       "      <td>[[0.0, 0.05989010989010989, 0.5595454016449204...</td>\n",
       "    </tr>\n",
       "    <tr>\n",
       "      <th>1</th>\n",
       "      <td>[[0.0, 0.559995272183502, 0.06366803927779537,...</td>\n",
       "    </tr>\n",
       "    <tr>\n",
       "      <th>2</th>\n",
       "      <td>[[0.05656439467200353, 0.0, 0.0, 0.0, 0.0, 0.0...</td>\n",
       "    </tr>\n",
       "    <tr>\n",
       "      <th>3</th>\n",
       "      <td>[[0.4247951416512446, 1.0, 0.0, 0.0, 0.0, 0.0,...</td>\n",
       "    </tr>\n",
       "    <tr>\n",
       "      <th>4</th>\n",
       "      <td>[[0.0, 0.6715510392213431, 0.0, 0.572445438796...</td>\n",
       "    </tr>\n",
       "    <tr>\n",
       "      <th>...</th>\n",
       "      <td>...</td>\n",
       "    </tr>\n",
       "    <tr>\n",
       "      <th>995</th>\n",
       "      <td>[[0.18623565741609405, 0.0, 0.0, 0.0, 0.0, 0.0...</td>\n",
       "    </tr>\n",
       "    <tr>\n",
       "      <th>996</th>\n",
       "      <td>[[0.1850538263714272, 0.0, 0.0, 0.195457911376...</td>\n",
       "    </tr>\n",
       "    <tr>\n",
       "      <th>997</th>\n",
       "      <td>[[0.08538137011986872, 0.0, 0.0, 0.24203479001...</td>\n",
       "    </tr>\n",
       "    <tr>\n",
       "      <th>998</th>\n",
       "      <td>[[0.0, 0.0, 0.0, 0.6100992239112778, 0.3781482...</td>\n",
       "    </tr>\n",
       "    <tr>\n",
       "      <th>999</th>\n",
       "      <td>[[0.2120563520565665, 0.0, 0.0, 0.0, 0.0, 0.0,...</td>\n",
       "    </tr>\n",
       "  </tbody>\n",
       "</table>\n",
       "<p>1000 rows × 1 columns</p>\n",
       "</div>"
      ],
      "text/plain": [
       "                                                   t01\n",
       "0    [[0.0, 0.05989010989010989, 0.5595454016449204...\n",
       "1    [[0.0, 0.559995272183502, 0.06366803927779537,...\n",
       "2    [[0.05656439467200353, 0.0, 0.0, 0.0, 0.0, 0.0...\n",
       "3    [[0.4247951416512446, 1.0, 0.0, 0.0, 0.0, 0.0,...\n",
       "4    [[0.0, 0.6715510392213431, 0.0, 0.572445438796...\n",
       "..                                                 ...\n",
       "995  [[0.18623565741609405, 0.0, 0.0, 0.0, 0.0, 0.0...\n",
       "996  [[0.1850538263714272, 0.0, 0.0, 0.195457911376...\n",
       "997  [[0.08538137011986872, 0.0, 0.0, 0.24203479001...\n",
       "998  [[0.0, 0.0, 0.0, 0.6100992239112778, 0.3781482...\n",
       "999  [[0.2120563520565665, 0.0, 0.0, 0.0, 0.0, 0.0,...\n",
       "\n",
       "[1000 rows x 1 columns]"
      ]
     },
     "execution_count": 7,
     "metadata": {},
     "output_type": "execute_result"
    }
   ],
   "source": [
    "dsa = pd.DataFrame({'t01':arr_list})\n",
    "dsa"
   ]
  },
  {
   "cell_type": "code",
   "execution_count": 8,
   "id": "21e894f4",
   "metadata": {},
   "outputs": [],
   "source": [
    "#int(\"110100010\",2) = 418\n",
    "edges_bin_list = [[np.binary_repr(ed[0], width=n_qubits//2) + np.binary_repr(ed[1], width=n_qubits//2)  for ed in edges] for edges in edges_list]\n",
    "ya_list = [[int(edge,2) for edge in edges] for edges in edges_bin_list]"
   ]
  },
  {
   "cell_type": "code",
   "execution_count": 9,
   "id": "857c1e69",
   "metadata": {},
   "outputs": [],
   "source": [
    "dsa['y'] = ya_list"
   ]
  },
  {
   "cell_type": "code",
   "execution_count": 10,
   "id": "18841ef8",
   "metadata": {},
   "outputs": [
    {
     "data": {
      "text/html": [
       "<div>\n",
       "<style scoped>\n",
       "    .dataframe tbody tr th:only-of-type {\n",
       "        vertical-align: middle;\n",
       "    }\n",
       "\n",
       "    .dataframe tbody tr th {\n",
       "        vertical-align: top;\n",
       "    }\n",
       "\n",
       "    .dataframe thead th {\n",
       "        text-align: right;\n",
       "    }\n",
       "</style>\n",
       "<table border=\"1\" class=\"dataframe\">\n",
       "  <thead>\n",
       "    <tr style=\"text-align: right;\">\n",
       "      <th></th>\n",
       "      <th>t01</th>\n",
       "      <th>y</th>\n",
       "    </tr>\n",
       "  </thead>\n",
       "  <tbody>\n",
       "    <tr>\n",
       "      <th>0</th>\n",
       "      <td>[[0.0, 0.05989010989010989, 0.5595454016449204...</td>\n",
       "      <td>[609, 1179, 386, 1064, 1418, 870, 586, 1473, 4...</td>\n",
       "    </tr>\n",
       "    <tr>\n",
       "      <th>1</th>\n",
       "      <td>[[0.0, 0.559995272183502, 0.06366803927779537,...</td>\n",
       "      <td>[769, 1358, 1346, 231, 133, 532, 473, 871, 24,...</td>\n",
       "    </tr>\n",
       "    <tr>\n",
       "      <th>2</th>\n",
       "      <td>[[0.05656439467200353, 0.0, 0.0, 0.0, 0.0, 0.0...</td>\n",
       "      <td>[919, 924, 1255, 1063, 679, 294, 874, 224, 132...</td>\n",
       "    </tr>\n",
       "    <tr>\n",
       "      <th>3</th>\n",
       "      <td>[[0.4247951416512446, 1.0, 0.0, 0.0, 0.0, 0.0,...</td>\n",
       "      <td>[1280, 775, 838, 1357, 839, 65, 1186, 1316, 54...</td>\n",
       "    </tr>\n",
       "    <tr>\n",
       "      <th>4</th>\n",
       "      <td>[[0.0, 0.6715510392213431, 0.0, 0.572445438796...</td>\n",
       "      <td>[900, 1093, 79, 1098, 1131, 1236, 1347, 712, 9...</td>\n",
       "    </tr>\n",
       "    <tr>\n",
       "      <th>...</th>\n",
       "      <td>...</td>\n",
       "      <td>...</td>\n",
       "    </tr>\n",
       "    <tr>\n",
       "      <th>995</th>\n",
       "      <td>[[0.18623565741609405, 0.0, 0.0, 0.0, 0.0, 0.0...</td>\n",
       "      <td>[19, 1515, 1280, 544, 585, 774, 405, 742, 815,...</td>\n",
       "    </tr>\n",
       "    <tr>\n",
       "      <th>996</th>\n",
       "      <td>[[0.1850538263714272, 0.0, 0.0, 0.195457911376...</td>\n",
       "      <td>[405, 842, 210, 422, 927, 1101, 424, 1031, 512...</td>\n",
       "    </tr>\n",
       "    <tr>\n",
       "      <th>997</th>\n",
       "      <td>[[0.08538137011986872, 0.0, 0.0, 0.24203479001...</td>\n",
       "      <td>[1479, 207, 339, 203, 31, 1095, 173, 1052, 471...</td>\n",
       "    </tr>\n",
       "    <tr>\n",
       "      <th>998</th>\n",
       "      <td>[[0.0, 0.0, 0.0, 0.6100992239112778, 0.3781482...</td>\n",
       "      <td>[749, 464, 259, 657, 1231, 869, 1383, 596, 152...</td>\n",
       "    </tr>\n",
       "    <tr>\n",
       "      <th>999</th>\n",
       "      <td>[[0.2120563520565665, 0.0, 0.0, 0.0, 0.0, 0.0,...</td>\n",
       "      <td>[1371, 482, 966, 15, 871, 1294, 927, 288, 592,...</td>\n",
       "    </tr>\n",
       "  </tbody>\n",
       "</table>\n",
       "<p>1000 rows × 2 columns</p>\n",
       "</div>"
      ],
      "text/plain": [
       "                                                   t01  \\\n",
       "0    [[0.0, 0.05989010989010989, 0.5595454016449204...   \n",
       "1    [[0.0, 0.559995272183502, 0.06366803927779537,...   \n",
       "2    [[0.05656439467200353, 0.0, 0.0, 0.0, 0.0, 0.0...   \n",
       "3    [[0.4247951416512446, 1.0, 0.0, 0.0, 0.0, 0.0,...   \n",
       "4    [[0.0, 0.6715510392213431, 0.0, 0.572445438796...   \n",
       "..                                                 ...   \n",
       "995  [[0.18623565741609405, 0.0, 0.0, 0.0, 0.0, 0.0...   \n",
       "996  [[0.1850538263714272, 0.0, 0.0, 0.195457911376...   \n",
       "997  [[0.08538137011986872, 0.0, 0.0, 0.24203479001...   \n",
       "998  [[0.0, 0.0, 0.0, 0.6100992239112778, 0.3781482...   \n",
       "999  [[0.2120563520565665, 0.0, 0.0, 0.0, 0.0, 0.0,...   \n",
       "\n",
       "                                                     y  \n",
       "0    [609, 1179, 386, 1064, 1418, 870, 586, 1473, 4...  \n",
       "1    [769, 1358, 1346, 231, 133, 532, 473, 871, 24,...  \n",
       "2    [919, 924, 1255, 1063, 679, 294, 874, 224, 132...  \n",
       "3    [1280, 775, 838, 1357, 839, 65, 1186, 1316, 54...  \n",
       "4    [900, 1093, 79, 1098, 1131, 1236, 1347, 712, 9...  \n",
       "..                                                 ...  \n",
       "995  [19, 1515, 1280, 544, 585, 774, 405, 742, 815,...  \n",
       "996  [405, 842, 210, 422, 927, 1101, 424, 1031, 512...  \n",
       "997  [1479, 207, 339, 203, 31, 1095, 173, 1052, 471...  \n",
       "998  [749, 464, 259, 657, 1231, 869, 1383, 596, 152...  \n",
       "999  [1371, 482, 966, 15, 871, 1294, 927, 288, 592,...  \n",
       "\n",
       "[1000 rows x 2 columns]"
      ]
     },
     "execution_count": 10,
     "metadata": {},
     "output_type": "execute_result"
    }
   ],
   "source": [
    "dsa"
   ]
  },
  {
   "cell_type": "code",
   "execution_count": 11,
   "id": "66ad5dc9",
   "metadata": {},
   "outputs": [],
   "source": [
    "dev = qml.device(\"default.qubit\", wires=n_qubits)\n",
    "\n",
    "@qml.qnode(dev)\n",
    "def qnode(inputs, eweights, weights):\n",
    "    for i in range(nnodes):\n",
    "        qml.Rot(inputs[i], inputs[i+nnodes], inputs[i+nnodes]-inputs[i], wires=i%n_qubits)\n",
    "    for W in weights:\n",
    "            for i in range(n_qubits):\n",
    "                qml.Rot(W[i, 0], W[i, 1], W[i, 2], wires=i)\n",
    "\n",
    "    qml.BasicEntanglerLayers(eweights, wires=range(n_qubits))\n",
    "    return qml.probs(wires=range(n_qubits))"
   ]
  },
  {
   "cell_type": "code",
   "execution_count": 12,
   "id": "a985c6d3",
   "metadata": {},
   "outputs": [],
   "source": [
    "n_layers = 1\n",
    "weight_shapes = {\"weights\": (n_layers, n_qubits, 3), \"eweights\": (n_layers, n_qubits)}"
   ]
  },
  {
   "cell_type": "code",
   "execution_count": 13,
   "id": "6203fade",
   "metadata": {},
   "outputs": [],
   "source": [
    "qlayer = qml.qnn.TorchLayer(qnode, weight_shapes)"
   ]
  },
  {
   "cell_type": "code",
   "execution_count": 14,
   "id": "4fdddb03",
   "metadata": {},
   "outputs": [],
   "source": [
    "layers = [qlayer]\n",
    "model = torch.nn.Sequential(*layers)"
   ]
  },
  {
   "cell_type": "code",
   "execution_count": 15,
   "id": "9f56ea46",
   "metadata": {},
   "outputs": [],
   "source": [
    "#optimizer = torch.optim.SGD(model.parameters(), lr=0.2)\n",
    "#criterion = torch.nn.L1Loss()\n",
    "optimizer = torch.optim.Adam(model.parameters(), lr=1e-3)\n",
    "criterion = nn.MSELoss()"
   ]
  },
  {
   "cell_type": "code",
   "execution_count": 16,
   "id": "a3505f18",
   "metadata": {},
   "outputs": [],
   "source": [
    "def error(predictions, y):\n",
    "    error = np.sum(abs(y.detach().numpy() - predictions.detach().numpy()))/len(y[0].detach().numpy())\n",
    "    return error"
   ]
  },
  {
   "cell_type": "code",
   "execution_count": 17,
   "id": "dcd15a1a",
   "metadata": {},
   "outputs": [],
   "source": [
    "def get_ranks(outputs, y, weighted = False):\n",
    "    rp = np.flip(np.argsort(outputs.detach().numpy()))\n",
    "    if weighted:\n",
    "        a = [np.argwhere(rp == x)[0][1]*outputs.detach().numpy()[0][x]*len(np.nonzero(y.detach().numpy())[1]) for x in np.nonzero(y.detach().numpy())[1]]\n",
    "    else:\n",
    "        a = [np.argwhere(rp == x)[0][1] for x in np.nonzero(y.detach().numpy())[1]]\n",
    "    return a\n",
    "\n",
    "def score(outputs, y, weighted = False):\n",
    "    ly = len(np.nonzero(y.detach().numpy())[1])\n",
    "    lo = len(y[0].detach().numpy())\n",
    "    ranks = get_ranks(outputs, y, weighted)\n",
    "    sr = sum(ranks)\n",
    "    sy = sum(range(ly))\n",
    "    sw = sum(range(lo-ly,lo))\n",
    "    return 1 - (sr - sy)/(sw - sy) "
   ]
  },
  {
   "cell_type": "code",
   "execution_count": 18,
   "id": "c3a4e50d",
   "metadata": {},
   "outputs": [],
   "source": [
    "class CustomDataset(Dataset):\n",
    "    def __init__(self, ds, n, q, transform=None):\n",
    "        self.ds_full = ds\n",
    "        self.n = n\n",
    "        self.q = q\n",
    "        self.x_csv = self.ds_full[[\"t01\"]]\n",
    "        self.y_csv = self.ds_full[[\"y\"]]\n",
    "        self.transform = transform\n",
    "\n",
    "    def __len__(self):\n",
    "        return len(self.x_csv)\n",
    "\n",
    "    def __getitem__(self, idx):\n",
    "        x = np.array(self.x_csv.iloc[idx].tolist())\n",
    "        y = np.zeros(2**self.q)\n",
    "        for i in self.y_csv.iloc[idx].tolist():\n",
    "            #011000 24\n",
    "            y[i] = 1/len(self.y_csv.iloc[idx].tolist()[0])\n",
    "        if self.transform:\n",
    "            x = self.transform(x)\n",
    "            y = self.transform(y)\n",
    "        return x, y"
   ]
  },
  {
   "cell_type": "code",
   "execution_count": 19,
   "id": "e5e1945f",
   "metadata": {},
   "outputs": [],
   "source": [
    "batch_size = 1\n",
    "transform = torchvision.transforms.Lambda(lambda y: torch.from_numpy(y).float())\n",
    "\n",
    "train_dataset = CustomDataset(dsa, nnodes, n_qubits, transform)\n",
    "\n",
    "train_loader = torch.utils.data.DataLoader(\n",
    "    train_dataset, batch_size=batch_size, shuffle=True, pin_memory=True\n",
    ")\n",
    "\n",
    "test_loader = torch.utils.data.DataLoader(\n",
    "    train_dataset, batch_size=batch_size, shuffle=False\n",
    ")"
   ]
  },
  {
   "cell_type": "code",
   "execution_count": 20,
   "id": "a0954a24",
   "metadata": {},
   "outputs": [
    {
     "name": "stdout",
     "output_type": "stream",
     "text": [
      "epoch : 1/100, loss = 0.000010, error = 0.000484, score = 0.492969, weighted_score = 1.001565\n",
      "epoch : 2/100, loss = 0.000010, error = 0.000483, score = 0.595785, weighted_score = 1.001229\n",
      "epoch : 3/100, loss = 0.000010, error = 0.000482, score = 0.633246, weighted_score = 1.001214\n",
      "epoch : 4/100, loss = 0.000010, error = 0.000482, score = 0.648265, weighted_score = 1.001187\n",
      "epoch : 5/100, loss = 0.000010, error = 0.000482, score = 0.656808, weighted_score = 1.001169\n",
      "epoch : 6/100, loss = 0.000010, error = 0.000482, score = 0.661433, weighted_score = 1.001157\n",
      "epoch : 7/100, loss = 0.000010, error = 0.000482, score = 0.663216, weighted_score = 1.001156\n",
      "epoch : 8/100, loss = 0.000010, error = 0.000482, score = 0.663681, weighted_score = 1.001155\n",
      "epoch : 9/100, loss = 0.000010, error = 0.000482, score = 0.663329, weighted_score = 1.001155\n"
     ]
    },
    {
     "ename": "KeyboardInterrupt",
     "evalue": "",
     "output_type": "error",
     "traceback": [
      "\u001b[0;31m---------------------------------------------------------------------------\u001b[0m",
      "\u001b[0;31mKeyboardInterrupt\u001b[0m                         Traceback (most recent call last)",
      "\u001b[0;32m<timed exec>\u001b[0m in \u001b[0;36m<module>\u001b[0;34m\u001b[0m\n",
      "\u001b[0;31mKeyboardInterrupt\u001b[0m: "
     ]
    }
   ],
   "source": [
    "%%time\n",
    "epochs = 100\n",
    "input_size=nnodes*2\n",
    "for epoch in range(epochs):\n",
    "    loss = 0\n",
    "    err = 0\n",
    "    metr = 0\n",
    "    wmetr = 0\n",
    "    for batch_features, y_batch in train_loader:\n",
    "        batch_features = batch_features.view(-1, input_size)\n",
    "        \n",
    "        optimizer.zero_grad()\n",
    "        \n",
    "        outputs = model(batch_features)\n",
    "        \n",
    "        train_loss = criterion(outputs, y_batch)\n",
    "        \n",
    "        train_loss.backward()\n",
    "        \n",
    "        optimizer.step()\n",
    "        \n",
    "        loss += train_loss.item()\n",
    "\n",
    "        err += error(outputs, y_batch)\n",
    "\n",
    "        metr += score(outputs, y_batch, False)\n",
    "\n",
    "        wmetr += score(outputs, y_batch, True)\n",
    "\n",
    "    loss = loss / len(train_loader)\n",
    " \n",
    "    err = err / len(train_loader)\n",
    "    \n",
    "    metr = metr / len(train_loader)\n",
    "\n",
    "    wmetr = wmetr / len(train_loader)\n",
    "    \n",
    "    print(\"epoch : {}/{}, loss = {:.6f}, error = {:.6f}, score = {:.6f}, weighted_score = {:.6f}\".format(epoch + 1, \n",
    "                                                                                                        epochs, \n",
    "                                                                                                        loss, \n",
    "                                                                                                        err, \n",
    "                                                                                                        metr,\n",
    "                                                                                                        wmetr))"
   ]
  },
  {
   "cell_type": "code",
   "execution_count": null,
   "id": "9112bb2a",
   "metadata": {},
   "outputs": [],
   "source": []
  },
  {
   "cell_type": "markdown",
   "id": "6051ec31",
   "metadata": {},
   "source": [
    "## testing with generated data"
   ]
  },
  {
   "cell_type": "code",
   "execution_count": 21,
   "id": "f862b1d5",
   "metadata": {},
   "outputs": [],
   "source": [
    "# generate Testing dataset\n",
    "exper = 12\n",
    "num_res = 12\n",
    "arr_list = []\n",
    "edges_list = []\n",
    "edges = get_edges(n = nnodes)\n",
    "for f in range(exper):\n",
    "    weights = [random.randint(1, 10)/10 for f in range(nnodes)]\n",
    "    t0 = get_t0(edges, weights, n = nnodes)\n",
    "    t1 = get_t1(edges, weights, t0, n = nnodes)\n",
    "    arr_list.append(scale(np.stack([t0,t1]),np.min(np.stack([t0,t1])), np.max(np.stack([t0,t1]))).astype(float))\n",
    "    edges_list.append(edges)\n",
    "arr = np.concatenate(arr_list, axis=1)"
   ]
  },
  {
   "cell_type": "code",
   "execution_count": 22,
   "id": "bd69810c",
   "metadata": {},
   "outputs": [
    {
     "data": {
      "text/html": [
       "<div>\n",
       "<style scoped>\n",
       "    .dataframe tbody tr th:only-of-type {\n",
       "        vertical-align: middle;\n",
       "    }\n",
       "\n",
       "    .dataframe tbody tr th {\n",
       "        vertical-align: top;\n",
       "    }\n",
       "\n",
       "    .dataframe thead th {\n",
       "        text-align: right;\n",
       "    }\n",
       "</style>\n",
       "<table border=\"1\" class=\"dataframe\">\n",
       "  <thead>\n",
       "    <tr style=\"text-align: right;\">\n",
       "      <th></th>\n",
       "      <th>t01</th>\n",
       "    </tr>\n",
       "  </thead>\n",
       "  <tbody>\n",
       "    <tr>\n",
       "      <th>0</th>\n",
       "      <td>[[0.0, 0.0, 0.0, 1.0, 0.061658856404901645, 0....</td>\n",
       "    </tr>\n",
       "    <tr>\n",
       "      <th>1</th>\n",
       "      <td>[[0.0, 0.0, 0.0, 0.7191293999759371, 0.2110384...</td>\n",
       "    </tr>\n",
       "    <tr>\n",
       "      <th>2</th>\n",
       "      <td>[[0.0, 0.0, 0.0, 1.0, 0.21723308474595002, 0.6...</td>\n",
       "    </tr>\n",
       "    <tr>\n",
       "      <th>3</th>\n",
       "      <td>[[0.0, 0.0, 0.0, 0.8060233283665332, 0.1416091...</td>\n",
       "    </tr>\n",
       "    <tr>\n",
       "      <th>4</th>\n",
       "      <td>[[0.0, 0.0, 0.0, 1.0, 0.1947811808075237, 0.47...</td>\n",
       "    </tr>\n",
       "    <tr>\n",
       "      <th>5</th>\n",
       "      <td>[[0.0, 0.0, 0.0, 0.5068819452549133, 0.3601728...</td>\n",
       "    </tr>\n",
       "    <tr>\n",
       "      <th>6</th>\n",
       "      <td>[[0.0, 0.0, 0.0, 0.45597689646117207, 0.051503...</td>\n",
       "    </tr>\n",
       "    <tr>\n",
       "      <th>7</th>\n",
       "      <td>[[0.0, 0.0, 0.0, 0.7771647954551206, 0.6652649...</td>\n",
       "    </tr>\n",
       "    <tr>\n",
       "      <th>8</th>\n",
       "      <td>[[0.0, 0.0, 0.0, 0.9763577283225074, 0.4076792...</td>\n",
       "    </tr>\n",
       "    <tr>\n",
       "      <th>9</th>\n",
       "      <td>[[0.0, 0.0, 0.0, 0.3385805305115054, 0.2743633...</td>\n",
       "    </tr>\n",
       "    <tr>\n",
       "      <th>10</th>\n",
       "      <td>[[0.0, 0.0, 0.0, 1.0, 0.23192275975579435, 0.3...</td>\n",
       "    </tr>\n",
       "    <tr>\n",
       "      <th>11</th>\n",
       "      <td>[[0.0, 0.0, 0.0, 1.0, 0.11228732120668296, 0.5...</td>\n",
       "    </tr>\n",
       "  </tbody>\n",
       "</table>\n",
       "</div>"
      ],
      "text/plain": [
       "                                                  t01\n",
       "0   [[0.0, 0.0, 0.0, 1.0, 0.061658856404901645, 0....\n",
       "1   [[0.0, 0.0, 0.0, 0.7191293999759371, 0.2110384...\n",
       "2   [[0.0, 0.0, 0.0, 1.0, 0.21723308474595002, 0.6...\n",
       "3   [[0.0, 0.0, 0.0, 0.8060233283665332, 0.1416091...\n",
       "4   [[0.0, 0.0, 0.0, 1.0, 0.1947811808075237, 0.47...\n",
       "5   [[0.0, 0.0, 0.0, 0.5068819452549133, 0.3601728...\n",
       "6   [[0.0, 0.0, 0.0, 0.45597689646117207, 0.051503...\n",
       "7   [[0.0, 0.0, 0.0, 0.7771647954551206, 0.6652649...\n",
       "8   [[0.0, 0.0, 0.0, 0.9763577283225074, 0.4076792...\n",
       "9   [[0.0, 0.0, 0.0, 0.3385805305115054, 0.2743633...\n",
       "10  [[0.0, 0.0, 0.0, 1.0, 0.23192275975579435, 0.3...\n",
       "11  [[0.0, 0.0, 0.0, 1.0, 0.11228732120668296, 0.5..."
      ]
     },
     "execution_count": 22,
     "metadata": {},
     "output_type": "execute_result"
    }
   ],
   "source": [
    "dstest = pd.DataFrame({'t01':arr_list})\n",
    "dstest"
   ]
  },
  {
   "cell_type": "code",
   "execution_count": 23,
   "id": "cc4ecf01",
   "metadata": {},
   "outputs": [],
   "source": [
    "#int(\"110100010\",2) = 418\n",
    "edges_bin_list = [[np.binary_repr(ed[0], width=n_qubits//2) + np.binary_repr(ed[1], width=n_qubits//2)  for ed in edges] for edges in edges_list]\n",
    "ya_list = [[int(edge,2) for edge in edges] for edges in edges_bin_list]"
   ]
  },
  {
   "cell_type": "code",
   "execution_count": 24,
   "id": "3e49caa3",
   "metadata": {},
   "outputs": [
    {
     "data": {
      "text/html": [
       "<div>\n",
       "<style scoped>\n",
       "    .dataframe tbody tr th:only-of-type {\n",
       "        vertical-align: middle;\n",
       "    }\n",
       "\n",
       "    .dataframe tbody tr th {\n",
       "        vertical-align: top;\n",
       "    }\n",
       "\n",
       "    .dataframe thead th {\n",
       "        text-align: right;\n",
       "    }\n",
       "</style>\n",
       "<table border=\"1\" class=\"dataframe\">\n",
       "  <thead>\n",
       "    <tr style=\"text-align: right;\">\n",
       "      <th></th>\n",
       "      <th>t01</th>\n",
       "      <th>y</th>\n",
       "    </tr>\n",
       "  </thead>\n",
       "  <tbody>\n",
       "    <tr>\n",
       "      <th>0</th>\n",
       "      <td>[[0.0, 0.0, 0.0, 1.0, 0.061658856404901645, 0....</td>\n",
       "      <td>[259, 1305, 749, 1161, 261, 1196, 603, 656, 55...</td>\n",
       "    </tr>\n",
       "    <tr>\n",
       "      <th>1</th>\n",
       "      <td>[[0.0, 0.0, 0.0, 0.7191293999759371, 0.2110384...</td>\n",
       "      <td>[259, 1305, 749, 1161, 261, 1196, 603, 656, 55...</td>\n",
       "    </tr>\n",
       "    <tr>\n",
       "      <th>2</th>\n",
       "      <td>[[0.0, 0.0, 0.0, 1.0, 0.21723308474595002, 0.6...</td>\n",
       "      <td>[259, 1305, 749, 1161, 261, 1196, 603, 656, 55...</td>\n",
       "    </tr>\n",
       "    <tr>\n",
       "      <th>3</th>\n",
       "      <td>[[0.0, 0.0, 0.0, 0.8060233283665332, 0.1416091...</td>\n",
       "      <td>[259, 1305, 749, 1161, 261, 1196, 603, 656, 55...</td>\n",
       "    </tr>\n",
       "    <tr>\n",
       "      <th>4</th>\n",
       "      <td>[[0.0, 0.0, 0.0, 1.0, 0.1947811808075237, 0.47...</td>\n",
       "      <td>[259, 1305, 749, 1161, 261, 1196, 603, 656, 55...</td>\n",
       "    </tr>\n",
       "    <tr>\n",
       "      <th>5</th>\n",
       "      <td>[[0.0, 0.0, 0.0, 0.5068819452549133, 0.3601728...</td>\n",
       "      <td>[259, 1305, 749, 1161, 261, 1196, 603, 656, 55...</td>\n",
       "    </tr>\n",
       "    <tr>\n",
       "      <th>6</th>\n",
       "      <td>[[0.0, 0.0, 0.0, 0.45597689646117207, 0.051503...</td>\n",
       "      <td>[259, 1305, 749, 1161, 261, 1196, 603, 656, 55...</td>\n",
       "    </tr>\n",
       "    <tr>\n",
       "      <th>7</th>\n",
       "      <td>[[0.0, 0.0, 0.0, 0.7771647954551206, 0.6652649...</td>\n",
       "      <td>[259, 1305, 749, 1161, 261, 1196, 603, 656, 55...</td>\n",
       "    </tr>\n",
       "    <tr>\n",
       "      <th>8</th>\n",
       "      <td>[[0.0, 0.0, 0.0, 0.9763577283225074, 0.4076792...</td>\n",
       "      <td>[259, 1305, 749, 1161, 261, 1196, 603, 656, 55...</td>\n",
       "    </tr>\n",
       "    <tr>\n",
       "      <th>9</th>\n",
       "      <td>[[0.0, 0.0, 0.0, 0.3385805305115054, 0.2743633...</td>\n",
       "      <td>[259, 1305, 749, 1161, 261, 1196, 603, 656, 55...</td>\n",
       "    </tr>\n",
       "    <tr>\n",
       "      <th>10</th>\n",
       "      <td>[[0.0, 0.0, 0.0, 1.0, 0.23192275975579435, 0.3...</td>\n",
       "      <td>[259, 1305, 749, 1161, 261, 1196, 603, 656, 55...</td>\n",
       "    </tr>\n",
       "    <tr>\n",
       "      <th>11</th>\n",
       "      <td>[[0.0, 0.0, 0.0, 1.0, 0.11228732120668296, 0.5...</td>\n",
       "      <td>[259, 1305, 749, 1161, 261, 1196, 603, 656, 55...</td>\n",
       "    </tr>\n",
       "  </tbody>\n",
       "</table>\n",
       "</div>"
      ],
      "text/plain": [
       "                                                  t01  \\\n",
       "0   [[0.0, 0.0, 0.0, 1.0, 0.061658856404901645, 0....   \n",
       "1   [[0.0, 0.0, 0.0, 0.7191293999759371, 0.2110384...   \n",
       "2   [[0.0, 0.0, 0.0, 1.0, 0.21723308474595002, 0.6...   \n",
       "3   [[0.0, 0.0, 0.0, 0.8060233283665332, 0.1416091...   \n",
       "4   [[0.0, 0.0, 0.0, 1.0, 0.1947811808075237, 0.47...   \n",
       "5   [[0.0, 0.0, 0.0, 0.5068819452549133, 0.3601728...   \n",
       "6   [[0.0, 0.0, 0.0, 0.45597689646117207, 0.051503...   \n",
       "7   [[0.0, 0.0, 0.0, 0.7771647954551206, 0.6652649...   \n",
       "8   [[0.0, 0.0, 0.0, 0.9763577283225074, 0.4076792...   \n",
       "9   [[0.0, 0.0, 0.0, 0.3385805305115054, 0.2743633...   \n",
       "10  [[0.0, 0.0, 0.0, 1.0, 0.23192275975579435, 0.3...   \n",
       "11  [[0.0, 0.0, 0.0, 1.0, 0.11228732120668296, 0.5...   \n",
       "\n",
       "                                                    y  \n",
       "0   [259, 1305, 749, 1161, 261, 1196, 603, 656, 55...  \n",
       "1   [259, 1305, 749, 1161, 261, 1196, 603, 656, 55...  \n",
       "2   [259, 1305, 749, 1161, 261, 1196, 603, 656, 55...  \n",
       "3   [259, 1305, 749, 1161, 261, 1196, 603, 656, 55...  \n",
       "4   [259, 1305, 749, 1161, 261, 1196, 603, 656, 55...  \n",
       "5   [259, 1305, 749, 1161, 261, 1196, 603, 656, 55...  \n",
       "6   [259, 1305, 749, 1161, 261, 1196, 603, 656, 55...  \n",
       "7   [259, 1305, 749, 1161, 261, 1196, 603, 656, 55...  \n",
       "8   [259, 1305, 749, 1161, 261, 1196, 603, 656, 55...  \n",
       "9   [259, 1305, 749, 1161, 261, 1196, 603, 656, 55...  \n",
       "10  [259, 1305, 749, 1161, 261, 1196, 603, 656, 55...  \n",
       "11  [259, 1305, 749, 1161, 261, 1196, 603, 656, 55...  "
      ]
     },
     "execution_count": 24,
     "metadata": {},
     "output_type": "execute_result"
    }
   ],
   "source": [
    "dstest['y'] = ya_list\n",
    "dstest"
   ]
  },
  {
   "cell_type": "code",
   "execution_count": 25,
   "id": "e848f174",
   "metadata": {},
   "outputs": [],
   "source": [
    "batch_size = 1\n",
    "transform = torchvision.transforms.Lambda(lambda y: torch.from_numpy(y).float())\n",
    "\n",
    "test_dataset = CustomDataset(dstest, nnodes, n_qubits, transform)\n",
    "\n",
    "test_loader = torch.utils.data.DataLoader(\n",
    "    test_dataset, batch_size=batch_size, shuffle=False, pin_memory=True\n",
    ")\n"
   ]
  },
  {
   "cell_type": "code",
   "execution_count": 26,
   "id": "9497092b",
   "metadata": {},
   "outputs": [],
   "source": [
    "experiments = []\n",
    "outputs_list = []\n",
    "for batch_features, _ in test_loader:\n",
    "    batch_features = batch_features.view(-1, input_size)\n",
    "    batch_features\n",
    "    outputs = model(batch_features)\n",
    "    outputs_list.append(outputs)\n",
    "    experiments.append(np.flip(np.argsort(outputs.detach().numpy())))"
   ]
  },
  {
   "cell_type": "code",
   "execution_count": 27,
   "id": "877ef0cf",
   "metadata": {},
   "outputs": [],
   "source": [
    "ol = [o.detach().numpy() for o in outputs_list]"
   ]
  },
  {
   "cell_type": "code",
   "execution_count": 28,
   "id": "8b42e511",
   "metadata": {},
   "outputs": [],
   "source": [
    "results_list = np.mean(np.array(ol), axis=0)\n",
    "norm_results_list = scale(results_list, np.min(results_list), np.max(results_list)).astype(float)\n",
    "results = np.flip(np.argsort(results_list))"
   ]
  },
  {
   "cell_type": "code",
   "execution_count": 29,
   "id": "f3a1d9a9",
   "metadata": {},
   "outputs": [
    {
     "data": {
      "text/plain": [
       "(0.01751163, 0.00025128605)"
      ]
     },
     "execution_count": 29,
     "metadata": {},
     "output_type": "execute_result"
    }
   ],
   "source": [
    "np.max(sum(outputs_list).detach().numpy()),np.min(sum(outputs_list).detach().numpy())"
   ]
  },
  {
   "cell_type": "code",
   "execution_count": 30,
   "id": "1237355b",
   "metadata": {},
   "outputs": [],
   "source": [
    "results_bin = [np.binary_repr(f, width=n_qubits) for f in results.tolist()[0]]"
   ]
  },
  {
   "cell_type": "code",
   "execution_count": 31,
   "id": "885538bc",
   "metadata": {},
   "outputs": [],
   "source": [
    "results_weights = [norm_results_list[0][results[0][i]] for i in range(len(results[0]))]"
   ]
  },
  {
   "cell_type": "code",
   "execution_count": 32,
   "id": "dd1b4211",
   "metadata": {},
   "outputs": [
    {
     "data": {
      "text/plain": [
       "([1263, 2832, 3856, 3304, 239, 791, 3308, 787, 3310, 785, 1815, 2280],\n",
       " [259,\n",
       "  1305,\n",
       "  749,\n",
       "  1161,\n",
       "  261,\n",
       "  1196,\n",
       "  603,\n",
       "  656,\n",
       "  550,\n",
       "  1298,\n",
       "  1283,\n",
       "  1038,\n",
       "  39,\n",
       "  1965,\n",
       "  1319,\n",
       "  683,\n",
       "  2528,\n",
       "  744,\n",
       "  1309,\n",
       "  1454,\n",
       "  2027,\n",
       "  988,\n",
       "  674,\n",
       "  2522])"
      ]
     },
     "execution_count": 32,
     "metadata": {},
     "output_type": "execute_result"
    }
   ],
   "source": [
    "results.tolist()[0][:num_res], ya_list[0]"
   ]
  },
  {
   "cell_type": "code",
   "execution_count": 33,
   "id": "e2f0ab32",
   "metadata": {},
   "outputs": [
    {
     "data": {
      "text/plain": [
       "['010011101111',\n",
       " '101100010000',\n",
       " '111100010000',\n",
       " '110011101000',\n",
       " '000011101111',\n",
       " '001100010111',\n",
       " '110011101100',\n",
       " '001100010011',\n",
       " '110011101110',\n",
       " '001100010001',\n",
       " '011100010111',\n",
       " '100011101000']"
      ]
     },
     "execution_count": 33,
     "metadata": {},
     "output_type": "execute_result"
    }
   ],
   "source": [
    "results_bin[:num_res]"
   ]
  },
  {
   "cell_type": "code",
   "execution_count": 34,
   "id": "b49885df",
   "metadata": {},
   "outputs": [
    {
     "data": {
      "text/plain": [
       "48"
      ]
     },
     "execution_count": 34,
     "metadata": {},
     "output_type": "execute_result"
    }
   ],
   "source": [
    "#number of parameters\n",
    "sum([np.prod(v) for _, v in weight_shapes.items()])"
   ]
  },
  {
   "cell_type": "code",
   "execution_count": 35,
   "id": "0080b70e",
   "metadata": {},
   "outputs": [],
   "source": [
    "def get_edges_array(n_qubits,y):\n",
    "    arr = [np.binary_repr(f, width=n_qubits) for f in y]\n",
    "    return [(int(f[:n_qubits//2],2), int(f[n_qubits//2:],2)) for f in arr]"
   ]
  },
  {
   "cell_type": "code",
   "execution_count": 36,
   "id": "2926fe4c",
   "metadata": {},
   "outputs": [],
   "source": [
    "y_edges = get_edges_array(n_qubits,ya_list[0]) \n",
    "p_edges = get_edges_array(n_qubits,results.tolist()[0][:num_res]) \n",
    "p_weights = results_weights[:num_res]"
   ]
  },
  {
   "cell_type": "code",
   "execution_count": 37,
   "id": "9959fb3e",
   "metadata": {},
   "outputs": [
    {
     "ename": "NetworkXError",
     "evalue": "Node 60 has no position.",
     "output_type": "error",
     "traceback": [
      "\u001b[0;31m---------------------------------------------------------------------------\u001b[0m",
      "\u001b[0;31mKeyError\u001b[0m                                  Traceback (most recent call last)",
      "\u001b[0;32m~/anaconda3/envs/Braket/lib/python3.7/site-packages/networkx/drawing/nx_pylab.py\u001b[0m in \u001b[0;36mdraw_networkx_nodes\u001b[0;34m(G, pos, nodelist, node_size, node_color, node_shape, alpha, cmap, vmin, vmax, ax, linewidths, edgecolors, label, **kwds)\u001b[0m\n\u001b[1;32m    396\u001b[0m     \u001b[0;32mtry\u001b[0m\u001b[0;34m:\u001b[0m\u001b[0;34m\u001b[0m\u001b[0;34m\u001b[0m\u001b[0m\n\u001b[0;32m--> 397\u001b[0;31m         \u001b[0mxy\u001b[0m \u001b[0;34m=\u001b[0m \u001b[0mnp\u001b[0m\u001b[0;34m.\u001b[0m\u001b[0masarray\u001b[0m\u001b[0;34m(\u001b[0m\u001b[0;34m[\u001b[0m\u001b[0mpos\u001b[0m\u001b[0;34m[\u001b[0m\u001b[0mv\u001b[0m\u001b[0;34m]\u001b[0m \u001b[0;32mfor\u001b[0m \u001b[0mv\u001b[0m \u001b[0;32min\u001b[0m \u001b[0mnodelist\u001b[0m\u001b[0;34m]\u001b[0m\u001b[0;34m)\u001b[0m\u001b[0;34m\u001b[0m\u001b[0;34m\u001b[0m\u001b[0m\n\u001b[0m\u001b[1;32m    398\u001b[0m     \u001b[0;32mexcept\u001b[0m \u001b[0mKeyError\u001b[0m \u001b[0;32mas\u001b[0m \u001b[0me\u001b[0m\u001b[0;34m:\u001b[0m\u001b[0;34m\u001b[0m\u001b[0;34m\u001b[0m\u001b[0m\n",
      "\u001b[0;32m~/anaconda3/envs/Braket/lib/python3.7/site-packages/networkx/drawing/nx_pylab.py\u001b[0m in \u001b[0;36m<listcomp>\u001b[0;34m(.0)\u001b[0m\n\u001b[1;32m    396\u001b[0m     \u001b[0;32mtry\u001b[0m\u001b[0;34m:\u001b[0m\u001b[0;34m\u001b[0m\u001b[0;34m\u001b[0m\u001b[0m\n\u001b[0;32m--> 397\u001b[0;31m         \u001b[0mxy\u001b[0m \u001b[0;34m=\u001b[0m \u001b[0mnp\u001b[0m\u001b[0;34m.\u001b[0m\u001b[0masarray\u001b[0m\u001b[0;34m(\u001b[0m\u001b[0;34m[\u001b[0m\u001b[0mpos\u001b[0m\u001b[0;34m[\u001b[0m\u001b[0mv\u001b[0m\u001b[0;34m]\u001b[0m \u001b[0;32mfor\u001b[0m \u001b[0mv\u001b[0m \u001b[0;32min\u001b[0m \u001b[0mnodelist\u001b[0m\u001b[0;34m]\u001b[0m\u001b[0;34m)\u001b[0m\u001b[0;34m\u001b[0m\u001b[0;34m\u001b[0m\u001b[0m\n\u001b[0m\u001b[1;32m    398\u001b[0m     \u001b[0;32mexcept\u001b[0m \u001b[0mKeyError\u001b[0m \u001b[0;32mas\u001b[0m \u001b[0me\u001b[0m\u001b[0;34m:\u001b[0m\u001b[0;34m\u001b[0m\u001b[0;34m\u001b[0m\u001b[0m\n",
      "\u001b[0;31mKeyError\u001b[0m: 60",
      "\nDuring handling of the above exception, another exception occurred:\n",
      "\u001b[0;31mNetworkXError\u001b[0m                             Traceback (most recent call last)",
      "\u001b[0;32m<ipython-input-37-49f6c26f3648>\u001b[0m in \u001b[0;36m<module>\u001b[0;34m\u001b[0m\n\u001b[1;32m     27\u001b[0m \u001b[0;34m\u001b[0m\u001b[0m\n\u001b[1;32m     28\u001b[0m \u001b[0msubax2\u001b[0m \u001b[0;34m=\u001b[0m \u001b[0mplt\u001b[0m\u001b[0;34m.\u001b[0m\u001b[0msubplot\u001b[0m\u001b[0;34m(\u001b[0m\u001b[0;36m122\u001b[0m\u001b[0;34m)\u001b[0m\u001b[0;34m\u001b[0m\u001b[0;34m\u001b[0m\u001b[0m\n\u001b[0;32m---> 29\u001b[0;31m \u001b[0mnx\u001b[0m\u001b[0;34m.\u001b[0m\u001b[0mdraw\u001b[0m\u001b[0;34m(\u001b[0m\u001b[0mgraph_p\u001b[0m\u001b[0;34m,\u001b[0m \u001b[0mpos\u001b[0m\u001b[0;34m,\u001b[0m \u001b[0mnode_color\u001b[0m\u001b[0;34m=\u001b[0m\u001b[0;34m'c'\u001b[0m\u001b[0;34m,\u001b[0m \u001b[0medge_color\u001b[0m\u001b[0;34m=\u001b[0m\u001b[0mp_weights\u001b[0m\u001b[0;34m,\u001b[0m \u001b[0mwidth\u001b[0m\u001b[0;34m=\u001b[0m\u001b[0;36m5.0\u001b[0m\u001b[0;34m,\u001b[0m \u001b[0medge_cmap\u001b[0m\u001b[0;34m=\u001b[0m\u001b[0mplt\u001b[0m\u001b[0;34m.\u001b[0m\u001b[0mcm\u001b[0m\u001b[0;34m.\u001b[0m\u001b[0mBlues\u001b[0m\u001b[0;34m,\u001b[0m \u001b[0mwith_labels\u001b[0m\u001b[0;34m=\u001b[0m\u001b[0;32mTrue\u001b[0m\u001b[0;34m)\u001b[0m\u001b[0;34m\u001b[0m\u001b[0;34m\u001b[0m\u001b[0m\n\u001b[0m\u001b[1;32m     30\u001b[0m \u001b[0mplt\u001b[0m\u001b[0;34m.\u001b[0m\u001b[0mshow\u001b[0m\u001b[0;34m(\u001b[0m\u001b[0;34m)\u001b[0m\u001b[0;34m\u001b[0m\u001b[0;34m\u001b[0m\u001b[0m\n",
      "\u001b[0;32m~/anaconda3/envs/Braket/lib/python3.7/site-packages/networkx/drawing/nx_pylab.py\u001b[0m in \u001b[0;36mdraw\u001b[0;34m(G, pos, ax, **kwds)\u001b[0m\n\u001b[1;32m    123\u001b[0m         \u001b[0mkwds\u001b[0m\u001b[0;34m[\u001b[0m\u001b[0;34m'with_labels'\u001b[0m\u001b[0;34m]\u001b[0m \u001b[0;34m=\u001b[0m \u001b[0;34m'labels'\u001b[0m \u001b[0;32min\u001b[0m \u001b[0mkwds\u001b[0m\u001b[0;34m\u001b[0m\u001b[0;34m\u001b[0m\u001b[0m\n\u001b[1;32m    124\u001b[0m \u001b[0;34m\u001b[0m\u001b[0m\n\u001b[0;32m--> 125\u001b[0;31m     \u001b[0mdraw_networkx\u001b[0m\u001b[0;34m(\u001b[0m\u001b[0mG\u001b[0m\u001b[0;34m,\u001b[0m \u001b[0mpos\u001b[0m\u001b[0;34m=\u001b[0m\u001b[0mpos\u001b[0m\u001b[0;34m,\u001b[0m \u001b[0max\u001b[0m\u001b[0;34m=\u001b[0m\u001b[0max\u001b[0m\u001b[0;34m,\u001b[0m \u001b[0;34m**\u001b[0m\u001b[0mkwds\u001b[0m\u001b[0;34m)\u001b[0m\u001b[0;34m\u001b[0m\u001b[0;34m\u001b[0m\u001b[0m\n\u001b[0m\u001b[1;32m    126\u001b[0m     \u001b[0max\u001b[0m\u001b[0;34m.\u001b[0m\u001b[0mset_axis_off\u001b[0m\u001b[0;34m(\u001b[0m\u001b[0;34m)\u001b[0m\u001b[0;34m\u001b[0m\u001b[0;34m\u001b[0m\u001b[0m\n\u001b[1;32m    127\u001b[0m     \u001b[0mplt\u001b[0m\u001b[0;34m.\u001b[0m\u001b[0mdraw_if_interactive\u001b[0m\u001b[0;34m(\u001b[0m\u001b[0;34m)\u001b[0m\u001b[0;34m\u001b[0m\u001b[0;34m\u001b[0m\u001b[0m\n",
      "\u001b[0;32m~/anaconda3/envs/Braket/lib/python3.7/site-packages/networkx/drawing/nx_pylab.py\u001b[0m in \u001b[0;36mdraw_networkx\u001b[0;34m(G, pos, arrows, with_labels, **kwds)\u001b[0m\n\u001b[1;32m    272\u001b[0m         \u001b[0mpos\u001b[0m \u001b[0;34m=\u001b[0m \u001b[0mnx\u001b[0m\u001b[0;34m.\u001b[0m\u001b[0mdrawing\u001b[0m\u001b[0;34m.\u001b[0m\u001b[0mspring_layout\u001b[0m\u001b[0;34m(\u001b[0m\u001b[0mG\u001b[0m\u001b[0;34m)\u001b[0m  \u001b[0;31m# default to spring layout\u001b[0m\u001b[0;34m\u001b[0m\u001b[0;34m\u001b[0m\u001b[0m\n\u001b[1;32m    273\u001b[0m \u001b[0;34m\u001b[0m\u001b[0m\n\u001b[0;32m--> 274\u001b[0;31m     \u001b[0mnode_collection\u001b[0m \u001b[0;34m=\u001b[0m \u001b[0mdraw_networkx_nodes\u001b[0m\u001b[0;34m(\u001b[0m\u001b[0mG\u001b[0m\u001b[0;34m,\u001b[0m \u001b[0mpos\u001b[0m\u001b[0;34m,\u001b[0m \u001b[0;34m**\u001b[0m\u001b[0mkwds\u001b[0m\u001b[0;34m)\u001b[0m\u001b[0;34m\u001b[0m\u001b[0;34m\u001b[0m\u001b[0m\n\u001b[0m\u001b[1;32m    275\u001b[0m     \u001b[0medge_collection\u001b[0m \u001b[0;34m=\u001b[0m \u001b[0mdraw_networkx_edges\u001b[0m\u001b[0;34m(\u001b[0m\u001b[0mG\u001b[0m\u001b[0;34m,\u001b[0m \u001b[0mpos\u001b[0m\u001b[0;34m,\u001b[0m \u001b[0marrows\u001b[0m\u001b[0;34m=\u001b[0m\u001b[0marrows\u001b[0m\u001b[0;34m,\u001b[0m \u001b[0;34m**\u001b[0m\u001b[0mkwds\u001b[0m\u001b[0;34m)\u001b[0m\u001b[0;34m\u001b[0m\u001b[0;34m\u001b[0m\u001b[0m\n\u001b[1;32m    276\u001b[0m     \u001b[0;32mif\u001b[0m \u001b[0mwith_labels\u001b[0m\u001b[0;34m:\u001b[0m\u001b[0;34m\u001b[0m\u001b[0;34m\u001b[0m\u001b[0m\n",
      "\u001b[0;32m~/anaconda3/envs/Braket/lib/python3.7/site-packages/networkx/drawing/nx_pylab.py\u001b[0m in \u001b[0;36mdraw_networkx_nodes\u001b[0;34m(G, pos, nodelist, node_size, node_color, node_shape, alpha, cmap, vmin, vmax, ax, linewidths, edgecolors, label, **kwds)\u001b[0m\n\u001b[1;32m    397\u001b[0m         \u001b[0mxy\u001b[0m \u001b[0;34m=\u001b[0m \u001b[0mnp\u001b[0m\u001b[0;34m.\u001b[0m\u001b[0masarray\u001b[0m\u001b[0;34m(\u001b[0m\u001b[0;34m[\u001b[0m\u001b[0mpos\u001b[0m\u001b[0;34m[\u001b[0m\u001b[0mv\u001b[0m\u001b[0;34m]\u001b[0m \u001b[0;32mfor\u001b[0m \u001b[0mv\u001b[0m \u001b[0;32min\u001b[0m \u001b[0mnodelist\u001b[0m\u001b[0;34m]\u001b[0m\u001b[0;34m)\u001b[0m\u001b[0;34m\u001b[0m\u001b[0;34m\u001b[0m\u001b[0m\n\u001b[1;32m    398\u001b[0m     \u001b[0;32mexcept\u001b[0m \u001b[0mKeyError\u001b[0m \u001b[0;32mas\u001b[0m \u001b[0me\u001b[0m\u001b[0;34m:\u001b[0m\u001b[0;34m\u001b[0m\u001b[0;34m\u001b[0m\u001b[0m\n\u001b[0;32m--> 399\u001b[0;31m         \u001b[0;32mraise\u001b[0m \u001b[0mnx\u001b[0m\u001b[0;34m.\u001b[0m\u001b[0mNetworkXError\u001b[0m\u001b[0;34m(\u001b[0m\u001b[0;34m'Node %s has no position.'\u001b[0m \u001b[0;34m%\u001b[0m \u001b[0me\u001b[0m\u001b[0;34m)\u001b[0m\u001b[0;34m\u001b[0m\u001b[0;34m\u001b[0m\u001b[0m\n\u001b[0m\u001b[1;32m    400\u001b[0m     \u001b[0;32mexcept\u001b[0m \u001b[0mValueError\u001b[0m\u001b[0;34m:\u001b[0m\u001b[0;34m\u001b[0m\u001b[0;34m\u001b[0m\u001b[0m\n\u001b[1;32m    401\u001b[0m         \u001b[0;32mraise\u001b[0m \u001b[0mnx\u001b[0m\u001b[0;34m.\u001b[0m\u001b[0mNetworkXError\u001b[0m\u001b[0;34m(\u001b[0m\u001b[0;34m'Bad value in node positions.'\u001b[0m\u001b[0;34m)\u001b[0m\u001b[0;34m\u001b[0m\u001b[0;34m\u001b[0m\u001b[0m\n",
      "\u001b[0;31mNetworkXError\u001b[0m: Node 60 has no position."
     ]
    }
   ],
   "source": [
    "graph_y = None\n",
    "graph_p = None\n",
    "\n",
    "graph_y = nx.DiGraph()\n",
    "graph_p = nx.DiGraph()\n",
    "\n",
    "graph_y.add_nodes_from(range(nnodes*2))\n",
    "graph_p.add_nodes_from(range(nnodes*2))\n",
    "\n",
    "graph_y.add_edges_from(y_edges)\n",
    "graph_p.add_edges_from(p_edges)\n",
    "\n",
    "nodes_names = {f:'n' + str(f) for f in range(nnodes)}\n",
    "rnodes = [v + '_t0' for _, v in nodes_names.items()]\n",
    "\n",
    "nodes_names.update({k:v + '_t0' for k, v in nodes_names.items()})\n",
    "nodes_names.update({k + len(nodes_names):v[:-1] + '1' for k, v in nodes_names.items()})\n",
    "\n",
    "graph_y = nx.relabel_nodes(graph_y, nodes_names, copy=False)\n",
    "graph_p = nx.relabel_nodes(graph_p, nodes_names, copy=False)\n",
    "\n",
    "#pos = nx.shell_layout(graph_y, nlist=[range(nnodes),range(nnodes,nnodes*2)], rotate=0.1, center=(1,5))\n",
    "pos = nx.bipartite_layout(graph_y, nodes=rnodes)\n",
    "\n",
    "subax1 = plt.subplot(121)\n",
    "nx.draw(graph_y, pos, node_color='c', edge_color='k', width=5.0, edge_cmap=plt.cm.Blues, with_labels=True)\n",
    "\n",
    "subax2 = plt.subplot(122)\n",
    "nx.draw(graph_p, pos, node_color='c', edge_color=p_weights, width=5.0, edge_cmap=plt.cm.Blues, with_labels=True)\n",
    "plt.show()"
   ]
  },
  {
   "cell_type": "markdown",
   "id": "56e08884",
   "metadata": {},
   "source": [
    "## testing with real data"
   ]
  },
  {
   "cell_type": "code",
   "execution_count": 39,
   "id": "52c44f1f",
   "metadata": {},
   "outputs": [],
   "source": [
    "batch_size = 1\n",
    "transform = torchvision.transforms.Lambda(lambda y: torch.from_numpy(y).float())\n",
    "\n",
    "test_dataset = CustomDataset(dst, nnodes, n_qubits, transform)\n",
    "\n",
    "test_loader = torch.utils.data.DataLoader(\n",
    "    test_dataset, batch_size=batch_size, shuffle=False, pin_memory=True\n",
    ")"
   ]
  },
  {
   "cell_type": "code",
   "execution_count": 40,
   "id": "62e31bd6",
   "metadata": {},
   "outputs": [],
   "source": [
    "experiments = []\n",
    "outputs_list = []\n",
    "for batch_features, _ in test_loader:\n",
    "    batch_features = batch_features.view(-1, input_size)\n",
    "    batch_features\n",
    "    outputs = model(batch_features)\n",
    "    outputs_list.append(outputs)\n",
    "    experiments.append(np.flip(np.argsort(outputs.detach().numpy())))"
   ]
  },
  {
   "cell_type": "code",
   "execution_count": 41,
   "id": "1a8adbba",
   "metadata": {},
   "outputs": [],
   "source": [
    "ol = [o.detach().numpy() for o in outputs_list]"
   ]
  },
  {
   "cell_type": "code",
   "execution_count": 42,
   "id": "b26ab0f1",
   "metadata": {},
   "outputs": [],
   "source": [
    "results_list = np.mean(np.array(ol), axis=0)\n",
    "norm_results_list = scale(results_list, np.min(results_list), np.max(results_list)).astype(float)\n",
    "results = np.flip(np.argsort(results_list))"
   ]
  },
  {
   "cell_type": "code",
   "execution_count": 43,
   "id": "7556de67",
   "metadata": {},
   "outputs": [
    {
     "data": {
      "text/plain": [
       "(0.013003382, 0.00016736763)"
      ]
     },
     "execution_count": 43,
     "metadata": {},
     "output_type": "execute_result"
    }
   ],
   "source": [
    "np.max(sum(outputs_list).detach().numpy()),np.min(sum(outputs_list).detach().numpy())"
   ]
  },
  {
   "cell_type": "code",
   "execution_count": 44,
   "id": "5aef740d",
   "metadata": {},
   "outputs": [],
   "source": [
    "results_bin = [np.binary_repr(f, width=n_qubits) for f in results.tolist()[0]]"
   ]
  },
  {
   "cell_type": "code",
   "execution_count": 45,
   "id": "f90ee0b1",
   "metadata": {},
   "outputs": [],
   "source": [
    "results_weights = [norm_results_list[0][results[0][i]] for i in range(len(results[0]))]"
   ]
  },
  {
   "cell_type": "code",
   "execution_count": 46,
   "id": "2b546df7",
   "metadata": {},
   "outputs": [
    {
     "data": {
      "text/plain": [
       "[1636, 1427, 1327, 3484, 1435, 3476, 3500, 3707, 3536, 3408, 3564, 1491]"
      ]
     },
     "execution_count": 46,
     "metadata": {},
     "output_type": "execute_result"
    }
   ],
   "source": [
    "results.tolist()[0][:num_res]"
   ]
  },
  {
   "cell_type": "code",
   "execution_count": 47,
   "id": "0b5ee2c7",
   "metadata": {},
   "outputs": [
    {
     "data": {
      "text/plain": [
       "['011001100100',\n",
       " '010110010011',\n",
       " '010100101111',\n",
       " '110110011100',\n",
       " '010110011011',\n",
       " '110110010100',\n",
       " '110110101100',\n",
       " '111001111011',\n",
       " '110111010000',\n",
       " '110101010000',\n",
       " '110111101100',\n",
       " '010111010011']"
      ]
     },
     "execution_count": 47,
     "metadata": {},
     "output_type": "execute_result"
    }
   ],
   "source": [
    "results_bin[:num_res]"
   ]
  },
  {
   "cell_type": "code",
   "execution_count": 48,
   "id": "2d1aa899",
   "metadata": {},
   "outputs": [],
   "source": [
    "p_edges = get_edges_array(n_qubits,results.tolist()[0][:num_res]) \n",
    "p_weights = results_weights[:num_res]"
   ]
  },
  {
   "cell_type": "code",
   "execution_count": 54,
   "id": "a29684f1",
   "metadata": {},
   "outputs": [
    {
     "data": {
      "image/png": "[encoded data removed]",
      "text/plain": [
       "<Figure size 640x480 with 1 Axes>"
      ]
     },
     "metadata": {},
     "output_type": "display_data"
    },
    {
     "data": {
      "text/plain": [
       "<Figure size 300x200 with 0 Axes>"
      ]
     },
     "metadata": {},
     "output_type": "display_data"
    }
   ],
   "source": [
    "graph_p = None\n",
    "graph_p2 = None\n",
    "\n",
    "graph_p = nx.DiGraph()\n",
    "graph_p2 = nx.DiGraph()\n",
    "\n",
    "graph_p.add_nodes_from(range(nnodes*2))\n",
    "graph_p2.add_nodes_from(range(nnodes*2))\n",
    "\n",
    "graph_p.add_edges_from(p_edges)\n",
    "graph_p2.add_edges_from(p_edges)\n",
    "\n",
    "rnodes = [v + '_t0' for _, v in nodes_names.items()]\n",
    "rgenes = [v + '_t0' for _, v in nodes_genes.items()]\n",
    "\n",
    "nodes_names.update({k:v + '_t0' for k, v in nodes_names.items()})\n",
    "nodes_names.update({k + len(nodes_names):v[:-1] + '1' for k, v in nodes_names.items()})\n",
    "\n",
    "nodes_genes.update({k:v + '_t0' for k, v in nodes_genes.items()})\n",
    "nodes_genes.update({k + len(nodes_genes):v[:-1] + '1' for k, v in nodes_genes.items()})\n",
    "\n",
    "graph_p = nx.relabel_nodes(graph_p, nodes_names, copy=False)\n",
    "graph_p2 = nx.relabel_nodes(graph_p2, nodes_genes, copy=False)\n",
    "\n",
    "#pos = nx.shell_layout(graph_y, nlist=[range(nnodes),range(nnodes,nnodes*2)], rotate=0.1, center=(1,5))\n",
    "pos = nx.bipartite_layout(graph_p, nodes=rnodes)\n",
    "pos2 = nx.bipartite_layout(graph_p2, nodes=rgenes)\n",
    "\n",
    "#subax1 = plt.subplot(121)\n",
    "nx.draw(graph_p, pos, node_color='c', edge_color=p_weights, width=5.0, edge_cmap=plt.cm.Blues, with_labels=True)\n",
    "\n",
    "#subax2 = plt.subplot(122)\n",
    "#nx.draw(graph_p2, pos2, node_color='c', edge_color=p_weights, width=5.0, edge_cmap=plt.cm.Blues, with_labels=True)\n",
    "plt.figure(figsize=(3,2))\n",
    "plt.show()"
   ]
  },
  {
   "cell_type": "code",
   "execution_count": 55,
   "id": "ae234b73",
   "metadata": {},
   "outputs": [
    {
     "data": {
      "image/png": "[encoded data removed]",
      "text/plain": [
       "<Figure size 640x480 with 1 Axes>"
      ]
     },
     "metadata": {},
     "output_type": "display_data"
    },
    {
     "data": {
      "text/plain": [
       "<Figure size 300x200 with 0 Axes>"
      ]
     },
     "metadata": {},
     "output_type": "display_data"
    }
   ],
   "source": [
    "nx.draw(graph_p2, pos2, node_color='c', edge_color=p_weights, width=5.0, edge_cmap=plt.cm.Blues, with_labels=True)\n",
    "plt.figure(figsize=(3,2))\n",
    "plt.show()"
   ]
  },
  {
   "cell_type": "code",
   "execution_count": null,
   "id": "d637ad99",
   "metadata": {},
   "outputs": [],
   "source": []
  }
 ],
 "metadata": {
  "kernelspec": {
   "display_name": "Python 3 (ipykernel)",
   "language": "python",
   "name": "python3"
  },
  "language_info": {
   "codemirror_mode": {
    "name": "ipython",
    "version": 3
   },
   "file_extension": ".py",
   "mimetype": "text/x-python",
   "name": "python",
   "nbconvert_exporter": "python",
   "pygments_lexer": "ipython3",
   "version": "3.8.10"
  }
 },
 "nbformat": 4,
 "nbformat_minor": 5
}
