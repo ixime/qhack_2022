{
 "cells": [
  {
   "cell_type": "markdown",
   "id": "cccbf22e-4122-4fbd-824e-3855b92d78d3",
   "metadata": {},
   "source": [
    "## 2nd variant\n",
    "### Dynamic Bayesian Network Structure Learning with variational circuit.\n",
    "This is a toy example with dummy generated training data of 4 variables, that means 8 vertices (4 for t and 4 for t+1).    \n",
    "n_qubits=2 * ceil(log2(2 * nnodes)) -> for nnodes = 4, n_qubits = 6    \n",
    "where first three digits correspond to vertice where the edge begins and three las digits correspond to vertice qhere edge ends i.e. 010101 corresponds to: vertice_2 ---> vertice_5  \n",
    "\n",
    "It was tested with one generated test dataset at the end of the notebook.\n"
   ]
  },
  {
   "cell_type": "code",
   "execution_count": 1,
   "id": "4fe290df-09b7-4a29-bd7e-34fa55c76265",
   "metadata": {},
   "outputs": [],
   "source": [
    "import pandas as pd\n",
    "from torch.utils.data import Dataset\n",
    "import torch\n",
    "import torchvision\n",
    "from torch import nn\n",
    "import numpy as np\n",
    "import pennylane as qml\n",
    "import random\n",
    "import networkx as nx\n",
    "from matplotlib import pyplot as plt"
   ]
  },
  {
   "cell_type": "code",
   "execution_count": 2,
   "id": "923fe197-fa4d-413f-a6c5-7be771c4c453",
   "metadata": {},
   "outputs": [],
   "source": [
    "scale = np.frompyfunc(lambda x, min, max: (x-min)/(max - min), 3, 1)\n",
    "\n",
    "def get_edges(n=4):\n",
    "    num_edges = random.randint(n, n+3)\n",
    "    e1 = [(random.randint(0, n-1),random.randint(0, (n*2)-1)) for f in range(num_edges//2)]\n",
    "    e2 = [(random.randint(0, (n*2)-1),random.randint(n, (n*2)-1)) for f in range(num_edges//2)]\n",
    "    return e1 + e2\n",
    "\n",
    "def get_t0(edges, weights, n=4):\n",
    "    t0 = np.zeros(n) + 0.01\n",
    "    edges0 = [edge for i in range(n) for edge in edges if edge[0] == i and edge[1] < n]\n",
    "    if len(edges0) > 0:\n",
    "        t0[edges0[0][0]] = random.random()\n",
    "        for edge in edges0:\n",
    "            t0[edge[1]] += weights[edge[0]] + weights[edge[1]] * t0[edge[0]]\n",
    "    return t0\n",
    "        \n",
    "def get_t1(edges, weights, t0, n=4):\n",
    "    t1 = np.zeros(n) + 0.01\n",
    "    edges1 = [edge for edge in edges if edge[1] >= n]\n",
    "    for edge in edges1:\n",
    "        if edge[0] < n:\n",
    "            t1[edge[1]-n] += weights[edge[0]] + weights[edge[1]-n] * t0[edge[0]]\n",
    "        else:\n",
    "            t1[edge[1]-n] += weights[edge[0]-n] + weights[edge[1]-n] * t1[edge[0]-n]\n",
    "    return t1"
   ]
  },
  {
   "cell_type": "code",
   "execution_count": 3,
   "id": "5bb17627-1079-48af-9fc5-82f64d00c542",
   "metadata": {},
   "outputs": [],
   "source": [
    "# generate training dataset\n",
    "exper = 1000\n",
    "nnodes = 4\n",
    "n_qubits = 6\n",
    "arr_list = []\n",
    "edges_list = []\n",
    "for f in range(exper):\n",
    "    weights = [random.randint(1, 10)/10 for f in range(nnodes)]\n",
    "    edges = get_edges(n = nnodes)\n",
    "    t0 = get_t0(edges, weights, n = nnodes)\n",
    "    t1 = get_t1(edges, weights, t0, n = nnodes)\n",
    "    arr_list.append(scale(np.stack([t0,t1]),np.min(np.stack([t0,t1])), np.max(np.stack([t0,t1]))).astype(float))\n",
    "    edges_list.append(edges)\n",
    "arr = np.concatenate(arr_list, axis=1)"
   ]
  },
  {
   "cell_type": "code",
   "execution_count": 4,
   "id": "9021ae7a-b9de-488c-b527-066da15313fb",
   "metadata": {},
   "outputs": [
    {
     "data": {
      "text/html": [
       "<div>\n",
       "<style scoped>\n",
       "    .dataframe tbody tr th:only-of-type {\n",
       "        vertical-align: middle;\n",
       "    }\n",
       "\n",
       "    .dataframe tbody tr th {\n",
       "        vertical-align: top;\n",
       "    }\n",
       "\n",
       "    .dataframe thead th {\n",
       "        text-align: right;\n",
       "    }\n",
       "</style>\n",
       "<table border=\"1\" class=\"dataframe\">\n",
       "  <thead>\n",
       "    <tr style=\"text-align: right;\">\n",
       "      <th></th>\n",
       "      <th>t01</th>\n",
       "    </tr>\n",
       "  </thead>\n",
       "  <tbody>\n",
       "    <tr>\n",
       "      <th>0</th>\n",
       "      <td>[[1.0, 0.10815739617127962, 0.0, 0.10762460111...</td>\n",
       "    </tr>\n",
       "    <tr>\n",
       "      <th>1</th>\n",
       "      <td>[[0.0, 0.0, 0.0, 0.0], [0.21318760509248136, 0...</td>\n",
       "    </tr>\n",
       "    <tr>\n",
       "      <th>2</th>\n",
       "      <td>[[0.0, 1.0, 0.4968878512945915, 0.0], [0.06249...</td>\n",
       "    </tr>\n",
       "    <tr>\n",
       "      <th>3</th>\n",
       "      <td>[[0.0, 0.734252167983871, 0.0, 0.8811055760476...</td>\n",
       "    </tr>\n",
       "    <tr>\n",
       "      <th>4</th>\n",
       "      <td>[[0.00024188586619010416, 0.41354077492107477,...</td>\n",
       "    </tr>\n",
       "    <tr>\n",
       "      <th>...</th>\n",
       "      <td>...</td>\n",
       "    </tr>\n",
       "    <tr>\n",
       "      <th>995</th>\n",
       "      <td>[[0.003031628189743507, 1.0, 0.0, 0.0030316281...</td>\n",
       "    </tr>\n",
       "    <tr>\n",
       "      <th>996</th>\n",
       "      <td>[[1.0, 0.0, 0.0, 0.0], [0.0, 0.635826196253570...</td>\n",
       "    </tr>\n",
       "    <tr>\n",
       "      <th>997</th>\n",
       "      <td>[[0.0, 0.4021234004798884, 0.3966557967338652,...</td>\n",
       "    </tr>\n",
       "    <tr>\n",
       "      <th>998</th>\n",
       "      <td>[[1.0, 0.8784337664181758, 0.0, 0.618359722823...</td>\n",
       "    </tr>\n",
       "    <tr>\n",
       "      <th>999</th>\n",
       "      <td>[[0.5959979206475626, 0.0, 0.0, 0.0], [0.0, 0....</td>\n",
       "    </tr>\n",
       "  </tbody>\n",
       "</table>\n",
       "<p>1000 rows × 1 columns</p>\n",
       "</div>"
      ],
      "text/plain": [
       "                                                   t01\n",
       "0    [[1.0, 0.10815739617127962, 0.0, 0.10762460111...\n",
       "1    [[0.0, 0.0, 0.0, 0.0], [0.21318760509248136, 0...\n",
       "2    [[0.0, 1.0, 0.4968878512945915, 0.0], [0.06249...\n",
       "3    [[0.0, 0.734252167983871, 0.0, 0.8811055760476...\n",
       "4    [[0.00024188586619010416, 0.41354077492107477,...\n",
       "..                                                 ...\n",
       "995  [[0.003031628189743507, 1.0, 0.0, 0.0030316281...\n",
       "996  [[1.0, 0.0, 0.0, 0.0], [0.0, 0.635826196253570...\n",
       "997  [[0.0, 0.4021234004798884, 0.3966557967338652,...\n",
       "998  [[1.0, 0.8784337664181758, 0.0, 0.618359722823...\n",
       "999  [[0.5959979206475626, 0.0, 0.0, 0.0], [0.0, 0....\n",
       "\n",
       "[1000 rows x 1 columns]"
      ]
     },
     "execution_count": 4,
     "metadata": {},
     "output_type": "execute_result"
    }
   ],
   "source": [
    "dsa = pd.DataFrame({'t01':arr_list})\n",
    "dsa"
   ]
  },
  {
   "cell_type": "code",
   "execution_count": 5,
   "id": "9f69ccae-043f-4ac4-a38f-6023a33f4810",
   "metadata": {},
   "outputs": [],
   "source": [
    "#int(\"110100010\",2) = 418\n",
    "edges_bin_list = [[np.binary_repr(ed[0], width=n_qubits//2) + np.binary_repr(ed[1], width=n_qubits//2)  for ed in edges] for edges in edges_list]\n",
    "ya_list = [[int(edge,2) for edge in edges] for edges in edges_bin_list]"
   ]
  },
  {
   "cell_type": "code",
   "execution_count": 6,
   "id": "b360df17-7ea7-4bb7-873c-4a3e0ed2d112",
   "metadata": {},
   "outputs": [],
   "source": [
    "dsa['y'] = ya_list"
   ]
  },
  {
   "cell_type": "code",
   "execution_count": 7,
   "id": "e0b4c30b-0265-482e-a99f-cf3356654431",
   "metadata": {},
   "outputs": [
    {
     "data": {
      "text/html": [
       "<div>\n",
       "<style scoped>\n",
       "    .dataframe tbody tr th:only-of-type {\n",
       "        vertical-align: middle;\n",
       "    }\n",
       "\n",
       "    .dataframe tbody tr th {\n",
       "        vertical-align: top;\n",
       "    }\n",
       "\n",
       "    .dataframe thead th {\n",
       "        text-align: right;\n",
       "    }\n",
       "</style>\n",
       "<table border=\"1\" class=\"dataframe\">\n",
       "  <thead>\n",
       "    <tr style=\"text-align: right;\">\n",
       "      <th></th>\n",
       "      <th>t01</th>\n",
       "      <th>y</th>\n",
       "    </tr>\n",
       "  </thead>\n",
       "  <tbody>\n",
       "    <tr>\n",
       "      <th>0</th>\n",
       "      <td>[[1.0, 0.10815739617127962, 0.0, 0.10762460111...</td>\n",
       "      <td>[0, 25, 27, 54, 21, 38]</td>\n",
       "    </tr>\n",
       "    <tr>\n",
       "      <th>1</th>\n",
       "      <td>[[0.0, 0.0, 0.0, 0.0], [0.21318760509248136, 0...</td>\n",
       "      <td>[31, 12, 6, 54, 39, 14]</td>\n",
       "    </tr>\n",
       "    <tr>\n",
       "      <th>2</th>\n",
       "      <td>[[0.0, 1.0, 0.4968878512945915, 0.0], [0.06249...</td>\n",
       "      <td>[9, 26, 62, 36]</td>\n",
       "    </tr>\n",
       "    <tr>\n",
       "      <th>3</th>\n",
       "      <td>[[0.0, 0.734252167983871, 0.0, 0.8811055760476...</td>\n",
       "      <td>[4, 27, 25, 28, 55, 37]</td>\n",
       "    </tr>\n",
       "    <tr>\n",
       "      <th>4</th>\n",
       "      <td>[[0.00024188586619010416, 0.41354077492107477,...</td>\n",
       "      <td>[3, 1, 29, 4, 47, 36]</td>\n",
       "    </tr>\n",
       "    <tr>\n",
       "      <th>...</th>\n",
       "      <td>...</td>\n",
       "      <td>...</td>\n",
       "    </tr>\n",
       "    <tr>\n",
       "      <th>995</th>\n",
       "      <td>[[0.003031628189743507, 1.0, 0.0, 0.0030316281...</td>\n",
       "      <td>[17, 20, 21, 54]</td>\n",
       "    </tr>\n",
       "    <tr>\n",
       "      <th>996</th>\n",
       "      <td>[[1.0, 0.0, 0.0, 0.0], [0.0, 0.635826196253570...</td>\n",
       "      <td>[31, 0, 61, 55]</td>\n",
       "    </tr>\n",
       "    <tr>\n",
       "      <th>997</th>\n",
       "      <td>[[0.0, 0.4021234004798884, 0.3966557967338652,...</td>\n",
       "      <td>[26, 29, 25, 53, 63, 29]</td>\n",
       "    </tr>\n",
       "    <tr>\n",
       "      <th>998</th>\n",
       "      <td>[[1.0, 0.8784337664181758, 0.0, 0.618359722823...</td>\n",
       "      <td>[25, 3, 6, 29]</td>\n",
       "    </tr>\n",
       "    <tr>\n",
       "      <th>999</th>\n",
       "      <td>[[0.5959979206475626, 0.0, 0.0, 0.0], [0.0, 0....</td>\n",
       "      <td>[0, 22, 31, 39]</td>\n",
       "    </tr>\n",
       "  </tbody>\n",
       "</table>\n",
       "<p>1000 rows × 2 columns</p>\n",
       "</div>"
      ],
      "text/plain": [
       "                                                   t01  \\\n",
       "0    [[1.0, 0.10815739617127962, 0.0, 0.10762460111...   \n",
       "1    [[0.0, 0.0, 0.0, 0.0], [0.21318760509248136, 0...   \n",
       "2    [[0.0, 1.0, 0.4968878512945915, 0.0], [0.06249...   \n",
       "3    [[0.0, 0.734252167983871, 0.0, 0.8811055760476...   \n",
       "4    [[0.00024188586619010416, 0.41354077492107477,...   \n",
       "..                                                 ...   \n",
       "995  [[0.003031628189743507, 1.0, 0.0, 0.0030316281...   \n",
       "996  [[1.0, 0.0, 0.0, 0.0], [0.0, 0.635826196253570...   \n",
       "997  [[0.0, 0.4021234004798884, 0.3966557967338652,...   \n",
       "998  [[1.0, 0.8784337664181758, 0.0, 0.618359722823...   \n",
       "999  [[0.5959979206475626, 0.0, 0.0, 0.0], [0.0, 0....   \n",
       "\n",
       "                            y  \n",
       "0     [0, 25, 27, 54, 21, 38]  \n",
       "1     [31, 12, 6, 54, 39, 14]  \n",
       "2             [9, 26, 62, 36]  \n",
       "3     [4, 27, 25, 28, 55, 37]  \n",
       "4       [3, 1, 29, 4, 47, 36]  \n",
       "..                        ...  \n",
       "995          [17, 20, 21, 54]  \n",
       "996           [31, 0, 61, 55]  \n",
       "997  [26, 29, 25, 53, 63, 29]  \n",
       "998            [25, 3, 6, 29]  \n",
       "999           [0, 22, 31, 39]  \n",
       "\n",
       "[1000 rows x 2 columns]"
      ]
     },
     "execution_count": 7,
     "metadata": {},
     "output_type": "execute_result"
    }
   ],
   "source": [
    "dsa"
   ]
  },
  {
   "cell_type": "code",
   "execution_count": 8,
   "id": "a67e4d0e-752d-49a6-8e24-b4f4cf7fc80b",
   "metadata": {},
   "outputs": [],
   "source": [
    "dev = qml.device(\"default.qubit\", wires=n_qubits)\n",
    "\n",
    "@qml.qnode(dev)\n",
    "def qnode(inputs, eweights, weights):\n",
    "    for i in range(nnodes):\n",
    "        qml.Rot(inputs[i], inputs[i+4], inputs[i+4]-inputs[i], wires=i)\n",
    "    for W in weights:\n",
    "            for i in range(n_qubits):\n",
    "                qml.Rot(W[i, 0], W[i, 1], W[i, 2], wires=i)\n",
    "\n",
    "    qml.BasicEntanglerLayers(eweights, wires=range(n_qubits))\n",
    "    return qml.probs(wires=range(n_qubits))"
   ]
  },
  {
   "cell_type": "code",
   "execution_count": 9,
   "id": "2f47ff02-25ec-4042-9a94-14950166c1f8",
   "metadata": {},
   "outputs": [],
   "source": [
    "n_layers = 4\n",
    "weight_shapes = {\"weights\": (n_layers, n_qubits, 3), \"eweights\": (n_layers, n_qubits)}"
   ]
  },
  {
   "cell_type": "code",
   "execution_count": 10,
   "id": "d7886989-ead6-4015-ba01-5576b2515222",
   "metadata": {},
   "outputs": [],
   "source": [
    "qlayer = qml.qnn.TorchLayer(qnode, weight_shapes)"
   ]
  },
  {
   "cell_type": "code",
   "execution_count": 11,
   "id": "39e79761-2b08-44b8-acd8-d2fa01c60c8a",
   "metadata": {},
   "outputs": [],
   "source": [
    "layers = [qlayer]\n",
    "model = torch.nn.Sequential(*layers)"
   ]
  },
  {
   "cell_type": "code",
   "execution_count": 12,
   "id": "d7828ffc-5fa7-4650-8c9e-fced606562ed",
   "metadata": {},
   "outputs": [],
   "source": [
    "#optimizer = torch.optim.SGD(model.parameters(), lr=0.2)\n",
    "#criterion = torch.nn.L1Loss()\n",
    "optimizer = torch.optim.Adam(model.parameters(), lr=1e-3)\n",
    "criterion = nn.MSELoss()"
   ]
  },
  {
   "cell_type": "code",
   "execution_count": 13,
   "id": "b897373b-af55-460d-8df7-e2d6c66a964b",
   "metadata": {},
   "outputs": [],
   "source": [
    "def error(predictions, y):\n",
    "    error = np.sum(abs(y.detach().numpy() - predictions.detach().numpy()))/len(y[0].detach().numpy())\n",
    "    return error"
   ]
  },
  {
   "cell_type": "code",
   "execution_count": 14,
   "id": "bd0a587a-fa63-453e-bde9-207c3d3d9ac1",
   "metadata": {},
   "outputs": [],
   "source": [
    "def get_ranks(outputs, y, weighted = False):\n",
    "    rp = np.flip(np.argsort(outputs.detach().numpy()))\n",
    "    if weighted:\n",
    "        a = [np.argwhere(rp == x)[0][1]*outputs.detach().numpy()[0][x]*len(np.nonzero(y.detach().numpy())[1]) for x in np.nonzero(y.detach().numpy())[1]]\n",
    "    else:\n",
    "        a = [np.argwhere(rp == x)[0][1] for x in np.nonzero(y.detach().numpy())[1]]\n",
    "    return a\n",
    "\n",
    "def score(outputs, y, weighted = False):\n",
    "    ly = len(np.nonzero(y.detach().numpy())[1])\n",
    "    lo = len(y[0].detach().numpy())\n",
    "    ranks = get_ranks(outputs, y, weighted)\n",
    "    sr = sum(ranks)\n",
    "    sy = sum(range(ly))\n",
    "    sw = sum(range(lo-ly,lo))\n",
    "    return 1 - (sr - sy)/(sw - sy) "
   ]
  },
  {
   "cell_type": "code",
   "execution_count": 15,
   "id": "906717f6-a32a-44ec-92a8-01624d9e6100",
   "metadata": {},
   "outputs": [],
   "source": [
    "class CustomDataset(Dataset):\n",
    "    def __init__(self, ds, n, q, transform=None):\n",
    "        self.ds_full = ds\n",
    "        self.n = n\n",
    "        self.q = q\n",
    "        self.x_csv = self.ds_full[[\"t01\"]]\n",
    "        self.y_csv = self.ds_full[[\"y\"]]\n",
    "        self.transform = transform\n",
    "\n",
    "    def __len__(self):\n",
    "        return len(self.x_csv)\n",
    "\n",
    "    def __getitem__(self, idx):\n",
    "        x = np.array(self.x_csv.iloc[idx].tolist())\n",
    "        y = np.zeros(2**self.q)\n",
    "        for i in self.y_csv.iloc[idx].tolist():\n",
    "            #011000 24\n",
    "            y[i] = 1/len(self.y_csv.iloc[idx].tolist()[0])\n",
    "        if self.transform:\n",
    "            x = self.transform(x)\n",
    "            y = self.transform(y)\n",
    "        return x, y"
   ]
  },
  {
   "cell_type": "code",
   "execution_count": 16,
   "id": "9df1b87f-5810-47c4-8dc7-b995c6837287",
   "metadata": {},
   "outputs": [],
   "source": [
    "batch_size = 1\n",
    "transform = torchvision.transforms.Lambda(lambda y: torch.from_numpy(y).float())\n",
    "\n",
    "train_dataset = CustomDataset(dsa, nnodes, n_qubits, transform)\n",
    "\n",
    "train_loader = torch.utils.data.DataLoader(\n",
    "    train_dataset, batch_size=batch_size, shuffle=True, pin_memory=True\n",
    ")\n",
    "\n",
    "test_loader = torch.utils.data.DataLoader(\n",
    "    train_dataset, batch_size=batch_size, shuffle=False\n",
    ")"
   ]
  },
  {
   "cell_type": "code",
   "execution_count": 17,
   "id": "95e2a8df-9c23-4e08-8be1-c0105524d4f4",
   "metadata": {},
   "outputs": [
    {
     "name": "stdout",
     "output_type": "stream",
     "text": [
      "epoch : 1/1, loss = 0.002997, error = 0.028235, score = 0.508920, weighted_score = 1.007256\n",
      "CPU times: user 2min 29s, sys: 138 ms, total: 2min 29s\n",
      "Wall time: 1min 2s\n"
     ]
    }
   ],
   "source": [
    "%%time\n",
    "epochs=1\n",
    "input_size=nnodes*2\n",
    "for epoch in range(epochs):\n",
    "    loss = 0\n",
    "    err = 0\n",
    "    metr = 0\n",
    "    wmetr = 0\n",
    "    for batch_features, y_batch in train_loader:\n",
    "        batch_features = batch_features.view(-1, input_size)\n",
    "        \n",
    "        optimizer.zero_grad()\n",
    "        \n",
    "        outputs = model(batch_features)\n",
    "        \n",
    "        train_loss = criterion(outputs, y_batch)\n",
    "        \n",
    "        train_loss.backward()\n",
    "        \n",
    "        optimizer.step()\n",
    "        \n",
    "        loss += train_loss.item()\n",
    "\n",
    "        err += error(outputs, y_batch)\n",
    "\n",
    "        metr += score(outputs, y_batch, False)\n",
    "\n",
    "        wmetr += score(outputs, y_batch, True)\n",
    "\n",
    "    loss = loss / len(train_loader)\n",
    "  \n",
    "    err = err / len(train_loader)\n",
    "\n",
    "    metr = metr / len(train_loader)\n",
    "\n",
    "    wmetr = wmetr / len(train_loader)\n",
    "\n",
    "    print(\"epoch : {}/{}, loss = {:.6f}, error = {:.6f}, score = {:.6f}, weighted_score = {:.6f}\".format(epoch + 1, \n",
    "                                                                                                        epochs, \n",
    "                                                                                                        loss, \n",
    "                                                                                                        err, \n",
    "                                                                                                        metr,\n",
    "                                                                                                        wmetr))"
   ]
  },
  {
   "cell_type": "code",
   "execution_count": null,
   "id": "1aabb253-a843-4dee-94f8-2a507b6dd620",
   "metadata": {},
   "outputs": [],
   "source": []
  },
  {
   "cell_type": "markdown",
   "id": "411b7216-7b70-4329-9831-01e910e77c73",
   "metadata": {},
   "source": [
    "## testing"
   ]
  },
  {
   "cell_type": "code",
   "execution_count": 18,
   "id": "a938399f-fdc2-447e-8916-a5037346b78a",
   "metadata": {},
   "outputs": [],
   "source": [
    "# generate Testing dataset\n",
    "exper = 12\n",
    "nnodes = 4\n",
    "n_qubits = 6\n",
    "arr_list = []\n",
    "edges_list = []\n",
    "edges = get_edges(n = nnodes)\n",
    "for f in range(exper):\n",
    "    weights = [random.randint(1, 10)/10 for f in range(nnodes)]\n",
    "    t0 = get_t0(edges, weights, n = nnodes)\n",
    "    t1 = get_t1(edges, weights, t0, n = nnodes)\n",
    "    arr_list.append(scale(np.stack([t0,t1]),np.min(np.stack([t0,t1])), np.max(np.stack([t0,t1]))).astype(float))\n",
    "    edges_list.append(edges)\n",
    "arr = np.concatenate(arr_list, axis=1)"
   ]
  },
  {
   "cell_type": "code",
   "execution_count": 19,
   "id": "ab8429d2-741c-44d4-b8fb-4427cada1b63",
   "metadata": {},
   "outputs": [
    {
     "data": {
      "text/html": [
       "<div>\n",
       "<style scoped>\n",
       "    .dataframe tbody tr th:only-of-type {\n",
       "        vertical-align: middle;\n",
       "    }\n",
       "\n",
       "    .dataframe tbody tr th {\n",
       "        vertical-align: top;\n",
       "    }\n",
       "\n",
       "    .dataframe thead th {\n",
       "        text-align: right;\n",
       "    }\n",
       "</style>\n",
       "<table border=\"1\" class=\"dataframe\">\n",
       "  <thead>\n",
       "    <tr style=\"text-align: right;\">\n",
       "      <th></th>\n",
       "      <th>t01</th>\n",
       "    </tr>\n",
       "  </thead>\n",
       "  <tbody>\n",
       "    <tr>\n",
       "      <th>0</th>\n",
       "      <td>[[0.0, 0.0, 0.3217841381451144, 0.188698024287...</td>\n",
       "    </tr>\n",
       "    <tr>\n",
       "      <th>1</th>\n",
       "      <td>[[0.0, 0.0, 0.4406003591603121, 0.220173947582...</td>\n",
       "    </tr>\n",
       "    <tr>\n",
       "      <th>2</th>\n",
       "      <td>[[0.0, 0.0, 0.6392276582629572, 1.0], [0.11731...</td>\n",
       "    </tr>\n",
       "    <tr>\n",
       "      <th>3</th>\n",
       "      <td>[[0.0, 0.0, 0.20700859565711535, 0.16419321735...</td>\n",
       "    </tr>\n",
       "    <tr>\n",
       "      <th>4</th>\n",
       "      <td>[[0.0, 0.0, 0.4966137971787487, 0.000876075920...</td>\n",
       "    </tr>\n",
       "    <tr>\n",
       "      <th>5</th>\n",
       "      <td>[[0.0, 0.0, 0.43423773434648233, 0.24634554676...</td>\n",
       "    </tr>\n",
       "    <tr>\n",
       "      <th>6</th>\n",
       "      <td>[[0.0, 0.0, 0.4617112370491814, 0.262227786090...</td>\n",
       "    </tr>\n",
       "    <tr>\n",
       "      <th>7</th>\n",
       "      <td>[[0.0, 0.0, 0.5128833159506635, 0.161049037941...</td>\n",
       "    </tr>\n",
       "    <tr>\n",
       "      <th>8</th>\n",
       "      <td>[[0.0, 0.0, 0.7488450447640698, 0.489989976891...</td>\n",
       "    </tr>\n",
       "    <tr>\n",
       "      <th>9</th>\n",
       "      <td>[[0.0, 0.0, 0.43835751346493346, 0.39714437268...</td>\n",
       "    </tr>\n",
       "    <tr>\n",
       "      <th>10</th>\n",
       "      <td>[[0.0, 0.0, 0.3158843665151409, 0.070500384558...</td>\n",
       "    </tr>\n",
       "    <tr>\n",
       "      <th>11</th>\n",
       "      <td>[[0.0, 0.0, 0.2896122572879595, 0.059866871350...</td>\n",
       "    </tr>\n",
       "  </tbody>\n",
       "</table>\n",
       "</div>"
      ],
      "text/plain": [
       "                                                  t01\n",
       "0   [[0.0, 0.0, 0.3217841381451144, 0.188698024287...\n",
       "1   [[0.0, 0.0, 0.4406003591603121, 0.220173947582...\n",
       "2   [[0.0, 0.0, 0.6392276582629572, 1.0], [0.11731...\n",
       "3   [[0.0, 0.0, 0.20700859565711535, 0.16419321735...\n",
       "4   [[0.0, 0.0, 0.4966137971787487, 0.000876075920...\n",
       "5   [[0.0, 0.0, 0.43423773434648233, 0.24634554676...\n",
       "6   [[0.0, 0.0, 0.4617112370491814, 0.262227786090...\n",
       "7   [[0.0, 0.0, 0.5128833159506635, 0.161049037941...\n",
       "8   [[0.0, 0.0, 0.7488450447640698, 0.489989976891...\n",
       "9   [[0.0, 0.0, 0.43835751346493346, 0.39714437268...\n",
       "10  [[0.0, 0.0, 0.3158843665151409, 0.070500384558...\n",
       "11  [[0.0, 0.0, 0.2896122572879595, 0.059866871350..."
      ]
     },
     "execution_count": 19,
     "metadata": {},
     "output_type": "execute_result"
    }
   ],
   "source": [
    "dstest = pd.DataFrame({'t01':arr_list})\n",
    "dstest"
   ]
  },
  {
   "cell_type": "code",
   "execution_count": 20,
   "id": "97ed3b05-3599-4f75-8dd9-10c0352cda8d",
   "metadata": {},
   "outputs": [],
   "source": [
    "#int(\"110100010\",2) = 418\n",
    "edges_bin_list = [[np.binary_repr(ed[0], width=n_qubits//2) + np.binary_repr(ed[1], width=n_qubits//2)  for ed in edges] for edges in edges_list]\n",
    "ya_list = [[int(edge,2) for edge in edges] for edges in edges_bin_list]"
   ]
  },
  {
   "cell_type": "code",
   "execution_count": 21,
   "id": "53a80c5f-75c2-4f3d-94f3-f1bf92f9d951",
   "metadata": {},
   "outputs": [
    {
     "data": {
      "text/html": [
       "<div>\n",
       "<style scoped>\n",
       "    .dataframe tbody tr th:only-of-type {\n",
       "        vertical-align: middle;\n",
       "    }\n",
       "\n",
       "    .dataframe tbody tr th {\n",
       "        vertical-align: top;\n",
       "    }\n",
       "\n",
       "    .dataframe thead th {\n",
       "        text-align: right;\n",
       "    }\n",
       "</style>\n",
       "<table border=\"1\" class=\"dataframe\">\n",
       "  <thead>\n",
       "    <tr style=\"text-align: right;\">\n",
       "      <th></th>\n",
       "      <th>t01</th>\n",
       "      <th>y</th>\n",
       "    </tr>\n",
       "  </thead>\n",
       "  <tbody>\n",
       "    <tr>\n",
       "      <th>0</th>\n",
       "      <td>[[0.0, 0.0, 0.3217841381451144, 0.188698024287...</td>\n",
       "      <td>[26, 12, 30, 45, 22, 29]</td>\n",
       "    </tr>\n",
       "    <tr>\n",
       "      <th>1</th>\n",
       "      <td>[[0.0, 0.0, 0.4406003591603121, 0.220173947582...</td>\n",
       "      <td>[26, 12, 30, 45, 22, 29]</td>\n",
       "    </tr>\n",
       "    <tr>\n",
       "      <th>2</th>\n",
       "      <td>[[0.0, 0.0, 0.6392276582629572, 1.0], [0.11731...</td>\n",
       "      <td>[26, 12, 30, 45, 22, 29]</td>\n",
       "    </tr>\n",
       "    <tr>\n",
       "      <th>3</th>\n",
       "      <td>[[0.0, 0.0, 0.20700859565711535, 0.16419321735...</td>\n",
       "      <td>[26, 12, 30, 45, 22, 29]</td>\n",
       "    </tr>\n",
       "    <tr>\n",
       "      <th>4</th>\n",
       "      <td>[[0.0, 0.0, 0.4966137971787487, 0.000876075920...</td>\n",
       "      <td>[26, 12, 30, 45, 22, 29]</td>\n",
       "    </tr>\n",
       "    <tr>\n",
       "      <th>5</th>\n",
       "      <td>[[0.0, 0.0, 0.43423773434648233, 0.24634554676...</td>\n",
       "      <td>[26, 12, 30, 45, 22, 29]</td>\n",
       "    </tr>\n",
       "    <tr>\n",
       "      <th>6</th>\n",
       "      <td>[[0.0, 0.0, 0.4617112370491814, 0.262227786090...</td>\n",
       "      <td>[26, 12, 30, 45, 22, 29]</td>\n",
       "    </tr>\n",
       "    <tr>\n",
       "      <th>7</th>\n",
       "      <td>[[0.0, 0.0, 0.5128833159506635, 0.161049037941...</td>\n",
       "      <td>[26, 12, 30, 45, 22, 29]</td>\n",
       "    </tr>\n",
       "    <tr>\n",
       "      <th>8</th>\n",
       "      <td>[[0.0, 0.0, 0.7488450447640698, 0.489989976891...</td>\n",
       "      <td>[26, 12, 30, 45, 22, 29]</td>\n",
       "    </tr>\n",
       "    <tr>\n",
       "      <th>9</th>\n",
       "      <td>[[0.0, 0.0, 0.43835751346493346, 0.39714437268...</td>\n",
       "      <td>[26, 12, 30, 45, 22, 29]</td>\n",
       "    </tr>\n",
       "    <tr>\n",
       "      <th>10</th>\n",
       "      <td>[[0.0, 0.0, 0.3158843665151409, 0.070500384558...</td>\n",
       "      <td>[26, 12, 30, 45, 22, 29]</td>\n",
       "    </tr>\n",
       "    <tr>\n",
       "      <th>11</th>\n",
       "      <td>[[0.0, 0.0, 0.2896122572879595, 0.059866871350...</td>\n",
       "      <td>[26, 12, 30, 45, 22, 29]</td>\n",
       "    </tr>\n",
       "  </tbody>\n",
       "</table>\n",
       "</div>"
      ],
      "text/plain": [
       "                                                  t01  \\\n",
       "0   [[0.0, 0.0, 0.3217841381451144, 0.188698024287...   \n",
       "1   [[0.0, 0.0, 0.4406003591603121, 0.220173947582...   \n",
       "2   [[0.0, 0.0, 0.6392276582629572, 1.0], [0.11731...   \n",
       "3   [[0.0, 0.0, 0.20700859565711535, 0.16419321735...   \n",
       "4   [[0.0, 0.0, 0.4966137971787487, 0.000876075920...   \n",
       "5   [[0.0, 0.0, 0.43423773434648233, 0.24634554676...   \n",
       "6   [[0.0, 0.0, 0.4617112370491814, 0.262227786090...   \n",
       "7   [[0.0, 0.0, 0.5128833159506635, 0.161049037941...   \n",
       "8   [[0.0, 0.0, 0.7488450447640698, 0.489989976891...   \n",
       "9   [[0.0, 0.0, 0.43835751346493346, 0.39714437268...   \n",
       "10  [[0.0, 0.0, 0.3158843665151409, 0.070500384558...   \n",
       "11  [[0.0, 0.0, 0.2896122572879595, 0.059866871350...   \n",
       "\n",
       "                           y  \n",
       "0   [26, 12, 30, 45, 22, 29]  \n",
       "1   [26, 12, 30, 45, 22, 29]  \n",
       "2   [26, 12, 30, 45, 22, 29]  \n",
       "3   [26, 12, 30, 45, 22, 29]  \n",
       "4   [26, 12, 30, 45, 22, 29]  \n",
       "5   [26, 12, 30, 45, 22, 29]  \n",
       "6   [26, 12, 30, 45, 22, 29]  \n",
       "7   [26, 12, 30, 45, 22, 29]  \n",
       "8   [26, 12, 30, 45, 22, 29]  \n",
       "9   [26, 12, 30, 45, 22, 29]  \n",
       "10  [26, 12, 30, 45, 22, 29]  \n",
       "11  [26, 12, 30, 45, 22, 29]  "
      ]
     },
     "execution_count": 21,
     "metadata": {},
     "output_type": "execute_result"
    }
   ],
   "source": [
    "dstest['y'] = ya_list\n",
    "dstest"
   ]
  },
  {
   "cell_type": "code",
   "execution_count": 22,
   "id": "6a5892ff-9716-4a59-b834-1957b8a6d5be",
   "metadata": {},
   "outputs": [],
   "source": [
    "batch_size = 1\n",
    "transform = torchvision.transforms.Lambda(lambda y: torch.from_numpy(y).float())\n",
    "\n",
    "test_dataset = CustomDataset(dstest, nnodes, n_qubits, transform)\n",
    "\n",
    "test_loader = torch.utils.data.DataLoader(\n",
    "    test_dataset, batch_size=batch_size, shuffle=False, pin_memory=True\n",
    ")\n"
   ]
  },
  {
   "cell_type": "code",
   "execution_count": 23,
   "id": "20b0c580-ff7e-4b44-8d5a-3724663479e9",
   "metadata": {},
   "outputs": [
    {
     "data": {
      "text/plain": [
       "[array([[30, 37,  1, 58, 45, 22,  9, 50, 32, 14, 27, 61,  6, 53, 42, 17,\n",
       "         35,  0, 59, 24, 48, 25,  3, 52, 11, 55, 34, 20, 56, 15, 12, 39,\n",
       "         47, 46, 49, 16, 28, 43, 21, 13, 10, 54,  4, 63, 19, 40, 44, 31,\n",
       "         23, 36,  7, 38, 60,  8, 51, 62, 29,  5, 57,  2, 26, 33, 41, 18]]),\n",
       " array([[30, 37,  9, 50,  1, 14, 32, 22, 58, 45, 61, 42, 35, 53,  6, 17,\n",
       "         27, 24, 52, 25, 15, 13, 34,  0, 59,  4, 54,  3, 20, 55, 63, 16,\n",
       "         19, 48, 47, 43, 40, 56, 12, 11,  7, 60, 49, 39, 31, 10, 28, 36,\n",
       "         46, 21, 26, 44, 23, 33,  8, 51, 38, 62, 29,  5, 41, 57,  2, 18]]),\n",
       " array([[30, 14, 37, 35, 53, 24,  4,  9, 19, 32, 63, 40, 50, 27,  1, 52,\n",
       "         58, 45, 25, 22, 15, 61, 34,  6, 48, 42, 17, 20, 13, 47, 11,  3,\n",
       "         16, 39, 54, 56, 43, 55, 62, 28, 12,  7,  5,  0, 60, 31, 59, 41,\n",
       "         36, 46, 18, 21,  8, 51, 49, 26, 10, 33, 57, 23, 44,  2, 38, 29]]),\n",
       " array([[48,  3, 20, 14, 56, 11, 47, 30, 53, 32, 37, 39, 27, 45, 28,  9,\n",
       "         22, 58, 46, 19, 40, 50, 21,  1, 25,  4, 63, 55, 13, 35, 34,  0,\n",
       "         54, 12, 24, 59, 31, 36,  6, 61, 62,  5, 26, 16, 42, 17, 43, 49,\n",
       "         52, 57,  2, 33,  8, 10, 51, 15, 38, 41, 23, 18, 44, 29,  7, 60]]),\n",
       " array([[30, 37, 14,  9, 53, 45, 50, 22,  1, 58, 32, 27, 35,  3, 20, 24,\n",
       "         25, 47, 56, 48,  4, 34, 63, 19, 40,  6, 61, 11, 52,  0, 46, 55,\n",
       "         59, 39, 21, 15, 42, 17, 12, 28, 13, 31, 16, 43, 54, 36,  8, 57,\n",
       "         49,  2, 51, 62,  7, 10,  5, 60, 23, 44, 26, 38, 33, 41, 29, 18]]),\n",
       " array([[30, 35, 42, 61, 24, 37, 17,  6, 14,  9, 32, 53, 50, 27,  1, 22,\n",
       "         45, 58, 13, 52, 16, 54, 15, 43,  7, 19,  4, 25, 60, 40, 63,  0,\n",
       "         59, 34, 55, 20,  3, 26, 47, 49, 48, 56, 31, 12, 33, 10, 62, 36,\n",
       "         11, 39,  5, 38, 41, 28,  8, 44, 23, 29, 51, 46, 18, 21, 57,  2]]),\n",
       " array([[30, 37,  9,  1, 58, 22, 45, 50, 14, 32, 53, 61, 27,  6, 42, 17,\n",
       "         35, 24, 25, 52, 34,  0, 15, 59,  3, 20, 55, 48,  4, 56, 13, 47,\n",
       "         63, 12, 11, 19, 16, 54, 40, 43, 39, 46, 28, 21, 49,  7, 31, 60,\n",
       "         10, 44, 23, 36,  8, 51, 26, 38, 62, 33, 57, 29,  5,  2, 41, 18]]),\n",
       " array([[30, 37, 14, 53,  9, 32, 45, 50,  1, 22, 58, 27, 20, 35,  3, 25,\n",
       "          4, 24, 47, 48, 63, 56, 19, 40, 34, 11, 39,  6, 61, 52, 55, 46,\n",
       "         15,  0, 12, 28, 42, 21, 17, 59, 13, 54, 16, 31, 43, 36, 62, 57,\n",
       "          2,  8,  5,  7, 51, 49, 60, 23, 44, 10, 26, 41, 33, 18, 38, 29]]),\n",
       " array([[30, 37, 14,  9, 53, 50, 35,  1, 24, 58, 32, 22, 45,  4, 27, 63,\n",
       "         25, 19, 61, 40,  6, 52, 34, 42, 17, 15, 20, 48,  3, 47, 56, 55,\n",
       "         16, 11,  0, 43, 59, 39, 12, 13, 54, 28,  7, 46, 60, 21, 31, 62,\n",
       "         36,  8,  5, 51, 23, 44, 41, 49, 57, 18, 10,  2, 26, 33, 38, 29]]),\n",
       " array([[30, 37, 35, 42,  9, 61, 24, 14, 17,  6, 50, 32, 53,  1, 22, 45,\n",
       "         27, 58, 52, 13, 15, 54, 16, 25,  4, 43, 19,  0, 63, 59,  7, 40,\n",
       "         34, 60, 20,  3, 55, 47, 48, 56, 49, 12, 11, 31, 10, 26, 36, 33,\n",
       "         39, 62, 28, 38,  8, 46, 44, 23,  5, 21, 51, 29, 41, 18, 57,  2]]),\n",
       " array([[30, 37,  1, 58, 45, 22,  9, 50, 61, 32,  6, 42, 27, 14, 17, 53,\n",
       "         35,  0, 59, 24, 52, 48, 25, 15, 11,  3, 55, 49, 34, 13, 20, 56,\n",
       "         10, 12, 16, 39, 43, 54, 47, 28, 46, 21, 44, 23, 38, 31,  4, 63,\n",
       "          7, 36, 19, 60, 29, 40,  8, 51, 26, 62,  5, 33, 57,  2, 41, 18]]),\n",
       " array([[30, 37,  1, 22, 45, 58,  9, 50, 61, 42,  6, 32, 17, 14, 27, 35,\n",
       "         53, 24,  0, 59, 52, 15, 13, 48, 49, 25,  3, 11, 54, 55, 10, 34,\n",
       "         20, 56, 16, 43, 12, 47, 39, 28, 38, 46,  7, 31, 44, 21,  4, 23,\n",
       "         60, 29, 63, 36, 19, 40, 26,  8, 51, 33, 62,  5, 57,  2, 41, 18]])]"
      ]
     },
     "execution_count": 23,
     "metadata": {},
     "output_type": "execute_result"
    }
   ],
   "source": [
    "experiments = []\n",
    "outputs_list = []\n",
    "for batch_features, _ in test_loader:\n",
    "    batch_features = batch_features.view(-1, input_size)\n",
    "    batch_features\n",
    "    outputs = model(batch_features)\n",
    "    outputs_list.append(outputs)\n",
    "    experiments.append(np.flip(np.argsort(outputs.detach().numpy())))\n",
    "experiments"
   ]
  },
  {
   "cell_type": "code",
   "execution_count": 24,
   "id": "d670a754-4b25-41a9-8f88-99c5c94e21b8",
   "metadata": {},
   "outputs": [],
   "source": [
    "ol = [o.detach().numpy() for o in outputs_list]"
   ]
  },
  {
   "cell_type": "code",
   "execution_count": 25,
   "id": "b4a27d1f-4e4b-4061-bc53-344c85e104b0",
   "metadata": {},
   "outputs": [],
   "source": [
    "results_list = np.mean(np.array(ol), axis=0)\n",
    "norm_results_list = scale(results_list, np.min(results_list), np.max(results_list)).astype(float)\n",
    "results = np.flip(np.argsort(results_list))"
   ]
  },
  {
   "cell_type": "code",
   "execution_count": 26,
   "id": "9cde1b89-a920-4ce6-b74d-01ca1595ea4c",
   "metadata": {},
   "outputs": [
    {
     "data": {
      "text/plain": [
       "(0.4127039, 0.04483268)"
      ]
     },
     "execution_count": 26,
     "metadata": {},
     "output_type": "execute_result"
    }
   ],
   "source": [
    "np.max(sum(outputs_list).detach().numpy()),np.min(sum(outputs_list).detach().numpy())"
   ]
  },
  {
   "cell_type": "code",
   "execution_count": 27,
   "id": "46d23129-b16f-49fb-b2fa-d8344ed159eb",
   "metadata": {},
   "outputs": [],
   "source": [
    "results_bin = [np.binary_repr(f, width=n_qubits) for f in results.tolist()[0]]"
   ]
  },
  {
   "cell_type": "code",
   "execution_count": 28,
   "id": "bf3a910c-2d71-4f11-ae5f-9961b8eb26f3",
   "metadata": {},
   "outputs": [],
   "source": [
    "results_weights = [norm_results_list[0][results[0][i]] for i in range(len(results[0]))]"
   ]
  },
  {
   "cell_type": "code",
   "execution_count": 29,
   "id": "cf6cc8c8-7a0a-4f3e-8345-2e84fe59f859",
   "metadata": {},
   "outputs": [
    {
     "data": {
      "text/plain": [
       "([30, 37, 9, 14, 1, 50, 45, 53, 22, 58, 32, 35], [26, 12, 30, 45, 22, 29])"
      ]
     },
     "execution_count": 29,
     "metadata": {},
     "output_type": "execute_result"
    }
   ],
   "source": [
    "results.tolist()[0][:12], ya_list[0]"
   ]
  },
  {
   "cell_type": "code",
   "execution_count": 30,
   "id": "e4b37f36-0ea3-4df6-a48c-9bd0149643b0",
   "metadata": {},
   "outputs": [
    {
     "data": {
      "text/plain": [
       "['011110',\n",
       " '100101',\n",
       " '001001',\n",
       " '001110',\n",
       " '000001',\n",
       " '110010',\n",
       " '101101',\n",
       " '110101',\n",
       " '010110',\n",
       " '111010',\n",
       " '100000',\n",
       " '100011']"
      ]
     },
     "execution_count": 30,
     "metadata": {},
     "output_type": "execute_result"
    }
   ],
   "source": [
    "results_bin[:12]"
   ]
  },
  {
   "cell_type": "code",
   "execution_count": 35,
   "id": "42846384-4a9b-4269-a1bf-4d25946d0def",
   "metadata": {},
   "outputs": [
    {
     "data": {
      "text/plain": [
       "96"
      ]
     },
     "execution_count": 35,
     "metadata": {},
     "output_type": "execute_result"
    }
   ],
   "source": [
    "#number of parameters\n",
    "sum([np.prod(v) for _, v in weight_shapes.items()])"
   ]
  },
  {
   "cell_type": "code",
   "execution_count": 31,
   "id": "499e719d-ab21-41cb-9931-1bb83638671a",
   "metadata": {},
   "outputs": [],
   "source": [
    "def get_edges_array(n_qubits,y):\n",
    "    arr = [np.binary_repr(f, width=n_qubits) for f in y]\n",
    "    return [(int(f[:n_qubits//2],2), int(f[n_qubits//2:],2)) for f in arr]"
   ]
  },
  {
   "cell_type": "code",
   "execution_count": 32,
   "id": "f12c4dee-08f2-485f-bba3-18b720e796f1",
   "metadata": {},
   "outputs": [],
   "source": [
    "y_edges = get_edges_array(n_qubits,ya_list[0]) \n",
    "p_edges = get_edges_array(n_qubits,results.tolist()[0][:12]) \n",
    "p_weights = results_weights[:12]"
   ]
  },
  {
   "cell_type": "code",
   "execution_count": 33,
   "id": "c639ccd4-f43f-41cc-ad05-de6fe33feb5e",
   "metadata": {},
   "outputs": [
    {
     "data": {
      "image/png": "[encoded data removed]",
      "text/plain": [
       "<Figure size 432x288 with 2 Axes>"
      ]
     },
     "metadata": {},
     "output_type": "display_data"
    }
   ],
   "source": [
    "graph_y = None\n",
    "graph_p = None\n",
    "\n",
    "graph_y = nx.DiGraph()\n",
    "graph_p = nx.DiGraph()\n",
    "\n",
    "graph_y.add_nodes_from(range(nnodes*2))\n",
    "graph_p.add_nodes_from(range(nnodes*2))\n",
    "\n",
    "graph_y.add_edges_from(y_edges)\n",
    "graph_p.add_edges_from(p_edges)\n",
    "\n",
    "mapping = {0: \"a0\", 1: \"b0\", 2: \"c0\", 3: \"d0\", 4: \"a1\", 5: \"b1\", 6: \"c1\", 7: \"d1\"}\n",
    "\n",
    "graph_y = nx.relabel_nodes(graph_y, mapping, copy=False)\n",
    "graph_p = nx.relabel_nodes(graph_p, mapping, copy=False)\n",
    "\n",
    "#pos = nx.shell_layout(graph_y, nlist=[range(nnodes),range(nnodes,nnodes*2)], rotate=0.1, center=(1,5))\n",
    "pos = nx.bipartite_layout(graph_y, nodes=['a0','b0','c0','d0'])\n",
    "\n",
    "subax1 = plt.subplot(121)\n",
    "nx.draw(graph_y, pos, node_color='c', edge_color='k', width=5.0, edge_cmap=plt.cm.Blues, with_labels=True)\n",
    "\n",
    "subax2 = plt.subplot(122)\n",
    "nx.draw(graph_p, pos, node_color='c', edge_color=p_weights, width=5.0, edge_cmap=plt.cm.Blues, with_labels=True)\n",
    "plt.show()"
   ]
  },
  {
   "cell_type": "code",
   "execution_count": null,
   "id": "2c68d93e-e344-4e5d-9018-c992e3938059",
   "metadata": {},
   "outputs": [],
   "source": []
  },
  {
   "cell_type": "code",
   "execution_count": null,
   "id": "4ad20f4a-9d33-4982-928a-ced12cfa1d43",
   "metadata": {},
   "outputs": [],
   "source": []
  }
 ],
 "metadata": {
  "kernelspec": {
   "display_name": "Python 3 (ipykernel)",
   "language": "python",
   "name": "python3"
  },
  "language_info": {
   "codemirror_mode": {
    "name": "ipython",
    "version": 3
   },
   "file_extension": ".py",
   "mimetype": "text/x-python",
   "name": "python",
   "nbconvert_exporter": "python",
   "pygments_lexer": "ipython3",
   "version": "3.8.10"
  }
 },
 "nbformat": 4,
 "nbformat_minor": 5
}
